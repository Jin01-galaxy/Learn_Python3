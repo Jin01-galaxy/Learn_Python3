{
  "nbformat": 4,
  "nbformat_minor": 0,
  "metadata": {
    "colab": {
      "name": "macM1_python.ipynb",
      "provenance": [],
      "authorship_tag": "ABX9TyNqXNpt3iZoBuqMs7t44DLm",
      "include_colab_link": true
    },
    "kernelspec": {
      "name": "python3",
      "display_name": "Python 3"
    }
  },
  "cells": [
    {
      "cell_type": "markdown",
      "metadata": {
        "id": "view-in-github",
        "colab_type": "text"
      },
      "source": [
        "<a href=\"https://colab.research.google.com/github/Jin01-galaxy/Learn_Python3/blob/master/macM1_python.ipynb\" target=\"_parent\"><img src=\"https://colab.research.google.com/assets/colab-badge.svg\" alt=\"Open In Colab\"/></a>"
      ]
    },
    {
      "cell_type": "code",
      "metadata": {
        "id": "xWv5VivRTzTJ"
      },
      "source": [
        "class Person():\n",
        "  def __init__(self, name):\n",
        "    self.name = name "
      ],
      "execution_count": 1,
      "outputs": []
    },
    {
      "cell_type": "code",
      "metadata": {
        "id": "Ppoza8p0ZM21"
      },
      "source": [
        "class MDPerson(Person):\n",
        "  def __init__(self, name):\n",
        "    self.name = 'Doctor: ' + name"
      ],
      "execution_count": 6,
      "outputs": []
    },
    {
      "cell_type": "code",
      "metadata": {
        "colab": {
          "base_uri": "https://localhost:8080/"
        },
        "id": "_Pe0Z6rkZlpM",
        "outputId": "ebca53fd-f049-4971-e5ae-6f054ead0baa"
      },
      "source": [
        "person = Person('Emet')\n",
        "doctor = MDPerson('PyDoctor')\n",
        "print(person.name)\n",
        "print(doctor.name)"
      ],
      "execution_count": 24,
      "outputs": [
        {
          "output_type": "stream",
          "text": [
            "Emet\n",
            "Doctor: PyDoctor\n"
          ],
          "name": "stdout"
        }
      ]
    },
    {
      "cell_type": "code",
      "metadata": {
        "id": "2C70zG9gZzq5"
      },
      "source": [
        "class Car():\n",
        "  def exclaim(self):\n",
        "    print(\"I'm a Car\")\n",
        "class Delorean(Car):\n",
        "  def exclaim(self):\n",
        "    print(\"I'm the Time machine car!\")\n",
        "  def need_a_push(self):\n",
        "    print('Time Travel')"
      ],
      "execution_count": 20,
      "outputs": []
    },
    {
      "cell_type": "code",
      "metadata": {
        "id": "bf4cVTNvgX9G"
      },
      "source": [
        "car = Car()\n",
        "time_machine = Delorean()"
      ],
      "execution_count": 21,
      "outputs": []
    },
    {
      "cell_type": "code",
      "metadata": {
        "colab": {
          "base_uri": "https://localhost:8080/"
        },
        "id": "2cAhW1E1gmLG",
        "outputId": "8dfb8434-0a52-42e2-af08-d377699c6665"
      },
      "source": [
        "time_machine.need_a_push()\n",
        "time_machine.exclaim()"
      ],
      "execution_count": 22,
      "outputs": [
        {
          "output_type": "stream",
          "text": [
            "Time Travel\n",
            "I'm the Time machine car!\n"
          ],
          "name": "stdout"
        }
      ]
    },
    {
      "cell_type": "code",
      "metadata": {
        "colab": {
          "base_uri": "https://localhost:8080/"
        },
        "id": "Kl_2hCbig6hj",
        "outputId": "2c23600f-da1f-4677-d2fe-d7c6c30a03aa"
      },
      "source": [
        "car.exclaim()"
      ],
      "execution_count": 23,
      "outputs": [
        {
          "output_type": "stream",
          "text": [
            "I'm a Car\n"
          ],
          "name": "stdout"
        }
      ]
    },
    {
      "cell_type": "code",
      "metadata": {
        "id": "lEmWhrQHhcL4"
      },
      "source": [
        "class EmailPerson(Person):\n",
        "  def __init__(self, name, email):\n",
        "    super().__init__(name)\n",
        "    self.email = email"
      ],
      "execution_count": 27,
      "outputs": []
    },
    {
      "cell_type": "code",
      "metadata": {
        "id": "XuCLxuhTynnS"
      },
      "source": [
        "Jeniffer = EmailPerson('Jeniffer Atkins', 'jeniffer@hillvalley.com')"
      ],
      "execution_count": 28,
      "outputs": []
    },
    {
      "cell_type": "code",
      "metadata": {
        "colab": {
          "base_uri": "https://localhost:8080/",
          "height": 35
        },
        "id": "e5HLkEpzzhH9",
        "outputId": "4c191650-417d-4976-918a-42a1e82b5815"
      },
      "source": [
        "Jeniffer.email"
      ],
      "execution_count": 31,
      "outputs": [
        {
          "output_type": "execute_result",
          "data": {
            "application/vnd.google.colaboratory.intrinsic+json": {
              "type": "string"
            },
            "text/plain": [
              "'jeniffer@hillvalley.com'"
            ]
          },
          "metadata": {
            "tags": []
          },
          "execution_count": 31
        }
      ]
    },
    {
      "cell_type": "markdown",
      "metadata": {
        "id": "lajS7wjn2ktb"
      },
      "source": [
        "**6.8** "
      ]
    },
    {
      "cell_type": "code",
      "metadata": {
        "id": "48BMHCInzs3K"
      },
      "source": [
        "class Duck():\n",
        "  def __init__(self, input_name):\n",
        "    self.hidden_name = input_name\n",
        "  def get_name(self):\n",
        "    print('inside the getter')\n",
        "    return self.hidden_name\n",
        "  def set_name(self, input_name):\n",
        "    print('inside the setter')\n",
        "    self.hidden_name = input_name\n",
        "  name = property(get_name,  set_name)"
      ],
      "execution_count": 33,
      "outputs": []
    },
    {
      "cell_type": "code",
      "metadata": {
        "colab": {
          "base_uri": "https://localhost:8080/",
          "height": 52
        },
        "id": "uNzQ9yBi4Ila",
        "outputId": "45063df0-3e69-419f-bc8e-8e031ae3d055"
      },
      "source": [
        "fowl = Duck('Howard')\n",
        "fowl.name"
      ],
      "execution_count": 34,
      "outputs": [
        {
          "output_type": "stream",
          "text": [
            "inside the getter\n"
          ],
          "name": "stdout"
        },
        {
          "output_type": "execute_result",
          "data": {
            "application/vnd.google.colaboratory.intrinsic+json": {
              "type": "string"
            },
            "text/plain": [
              "'Howard'"
            ]
          },
          "metadata": {
            "tags": []
          },
          "execution_count": 34
        }
      ]
    },
    {
      "cell_type": "code",
      "metadata": {
        "colab": {
          "base_uri": "https://localhost:8080/"
        },
        "id": "cn81Nyl05Ech",
        "outputId": "4382b3f4-7f62-4474-aef1-9b0cda40f4bb"
      },
      "source": [
        "fowl.name = 'Daffy'"
      ],
      "execution_count": 35,
      "outputs": [
        {
          "output_type": "stream",
          "text": [
            "inside the setter\n"
          ],
          "name": "stdout"
        }
      ]
    },
    {
      "cell_type": "code",
      "metadata": {
        "colab": {
          "base_uri": "https://localhost:8080/",
          "height": 52
        },
        "id": "RmLUFI0B6BQb",
        "outputId": "287bbc5a-3dda-4746-bfcc-f47c627f75d0"
      },
      "source": [
        "fowl.name"
      ],
      "execution_count": 36,
      "outputs": [
        {
          "output_type": "stream",
          "text": [
            "inside the getter\n"
          ],
          "name": "stdout"
        },
        {
          "output_type": "execute_result",
          "data": {
            "application/vnd.google.colaboratory.intrinsic+json": {
              "type": "string"
            },
            "text/plain": [
              "'Daffy'"
            ]
          },
          "metadata": {
            "tags": []
          },
          "execution_count": 36
        }
      ]
    },
    {
      "cell_type": "markdown",
      "metadata": {
        "id": "4cWAM8RVGzZZ"
      },
      "source": [
        "デコレータ"
      ]
    },
    {
      "cell_type": "code",
      "metadata": {
        "id": "C3g3PVAv6OoO"
      },
      "source": [
        "class Duck():\n",
        "  def __init__(self, input_name):\n",
        "    self.hidden_name = input_name\n",
        "  @property\n",
        "  def name(self):\n",
        "    print('inside the getter')\n",
        "    return self.hidden_name\n",
        "  @name.setter\n",
        "  def name(self, input_name):\n",
        "    print('inside the setter')\n",
        "    self.hidden_name = input_name"
      ],
      "execution_count": 37,
      "outputs": []
    },
    {
      "cell_type": "code",
      "metadata": {
        "colab": {
          "base_uri": "https://localhost:8080/",
          "height": 52
        },
        "id": "AvxuHum5HS_f",
        "outputId": "5f476de6-970b-4b20-da80-3902e8971b28"
      },
      "source": [
        "fowl = Duck('Howard')\n",
        "fowl.name"
      ],
      "execution_count": 38,
      "outputs": [
        {
          "output_type": "stream",
          "text": [
            "inside the getter\n"
          ],
          "name": "stdout"
        },
        {
          "output_type": "execute_result",
          "data": {
            "application/vnd.google.colaboratory.intrinsic+json": {
              "type": "string"
            },
            "text/plain": [
              "'Howard'"
            ]
          },
          "metadata": {
            "tags": []
          },
          "execution_count": 38
        }
      ]
    },
    {
      "cell_type": "code",
      "metadata": {
        "colab": {
          "base_uri": "https://localhost:8080/"
        },
        "id": "2VYt27QjHYn-",
        "outputId": "742911da-09d3-4c06-d6c7-aafeef3ab5cc"
      },
      "source": [
        "fowl.name = 'Ronaldo'"
      ],
      "execution_count": 39,
      "outputs": [
        {
          "output_type": "stream",
          "text": [
            "inside the setter\n"
          ],
          "name": "stdout"
        }
      ]
    },
    {
      "cell_type": "code",
      "metadata": {
        "colab": {
          "base_uri": "https://localhost:8080/",
          "height": 52
        },
        "id": "TBsqNaPtHekm",
        "outputId": "97385efb-ace3-4c83-e842-1e8f192656a9"
      },
      "source": [
        "fowl.name"
      ],
      "execution_count": 40,
      "outputs": [
        {
          "output_type": "stream",
          "text": [
            "inside the getter\n"
          ],
          "name": "stdout"
        },
        {
          "output_type": "execute_result",
          "data": {
            "application/vnd.google.colaboratory.intrinsic+json": {
              "type": "string"
            },
            "text/plain": [
              "'Ronaldo'"
            ]
          },
          "metadata": {
            "tags": []
          },
          "execution_count": 40
        }
      ]
    },
    {
      "cell_type": "code",
      "metadata": {
        "id": "8CwJRfgDHhd7"
      },
      "source": [
        ""
      ],
      "execution_count": null,
      "outputs": []
    }
  ]
}