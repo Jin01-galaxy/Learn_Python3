{
  "nbformat": 4,
  "nbformat_minor": 0,
  "metadata": {
    "colab": {
      "name": "macM1_python.ipynb",
      "provenance": [],
      "authorship_tag": "ABX9TyPR3EE1KA3zqwreLKO5Y0ys",
      "include_colab_link": true
    },
    "kernelspec": {
      "name": "python3",
      "display_name": "Python 3"
    }
  },
  "cells": [
    {
      "cell_type": "markdown",
      "metadata": {
        "id": "view-in-github",
        "colab_type": "text"
      },
      "source": [
        "<a href=\"https://colab.research.google.com/github/Jin01-galaxy/Learn_Python3/blob/master/macM1_python.ipynb\" target=\"_parent\"><img src=\"https://colab.research.google.com/assets/colab-badge.svg\" alt=\"Open In Colab\"/></a>"
      ]
    },
    {
      "cell_type": "code",
      "metadata": {
        "id": "xWv5VivRTzTJ"
      },
      "source": [
        "class Person():\n",
        "  def __init__(self, name):\n",
        "    self.name = name "
      ],
      "execution_count": 1,
      "outputs": []
    },
    {
      "cell_type": "code",
      "metadata": {
        "id": "Ppoza8p0ZM21"
      },
      "source": [
        "class MDPerson(Person):\n",
        "  def __init__(self, name):\n",
        "    self.name = 'Doctor: ' + name"
      ],
      "execution_count": 6,
      "outputs": []
    },
    {
      "cell_type": "code",
      "metadata": {
        "colab": {
          "base_uri": "https://localhost:8080/"
        },
        "id": "_Pe0Z6rkZlpM",
        "outputId": "88312db4-87df-46d3-b8cd-661b47416585"
      },
      "source": [
        "person = Person('Git')\n",
        "doctor = MDPerson('PyDoctor')\n",
        "print(person.name)\n",
        "print(doctor.name)"
      ],
      "execution_count": 7,
      "outputs": [
        {
          "output_type": "stream",
          "text": [
            "Git\n",
            "Doctor: PyDoctor\n"
          ],
          "name": "stdout"
        }
      ]
    },
    {
      "cell_type": "code",
      "metadata": {
        "id": "2C70zG9gZzq5"
      },
      "source": [
        ""
      ],
      "execution_count": null,
      "outputs": []
    }
  ]
}