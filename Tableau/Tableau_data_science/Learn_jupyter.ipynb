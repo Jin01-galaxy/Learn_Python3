{
 "cells": [
  {
   "cell_type": "markdown",
   "metadata": {},
   "source": [
    "# **Jupyter Lab**の使い方"
   ]
  },
  {
   "cell_type": "markdown",
   "metadata": {},
   "source": [
    "### Python 基本 「四則計算」　＋　ー　×　÷"
   ]
  },
  {
   "cell_type": "code",
   "execution_count": 13,
   "metadata": {},
   "outputs": [],
   "source": [
    "a = 1"
   ]
  },
  {
   "cell_type": "code",
   "execution_count": null,
   "metadata": {},
   "outputs": [],
   "source": []
  },
  {
   "cell_type": "markdown",
   "metadata": {},
   "source": [
    "%： 余りを求める"
   ]
  },
  {
   "cell_type": "code",
   "execution_count": 10,
   "metadata": {},
   "outputs": [],
   "source": [
    "a = '10%3 + 3'"
   ]
  },
  {
   "cell_type": "code",
   "execution_count": 11,
   "metadata": {},
   "outputs": [
    {
     "name": "stdout",
     "output_type": "stream",
     "text": [
      "10%3 + 3\n"
     ]
    }
   ],
   "source": [
    "print(a)"
   ]
  },
  {
   "cell_type": "code",
   "execution_count": 12,
   "metadata": {},
   "outputs": [
    {
     "data": {
      "text/plain": [
       "str"
      ]
     },
     "execution_count": 12,
     "metadata": {},
     "output_type": "execute_result"
    }
   ],
   "source": [
    "type(a)"
   ]
  },
  {
   "cell_type": "markdown",
   "metadata": {},
   "source": [
    "### リスト："
   ]
  },
  {
   "cell_type": "code",
   "execution_count": 13,
   "metadata": {},
   "outputs": [
    {
     "data": {
      "text/plain": [
       "[1, 2, 3]"
      ]
     },
     "execution_count": 13,
     "metadata": {},
     "output_type": "execute_result"
    }
   ],
   "source": [
    "c = [1,2,3]\n",
    "c"
   ]
  },
  {
   "cell_type": "code",
   "execution_count": 14,
   "metadata": {},
   "outputs": [
    {
     "data": {
      "text/plain": [
       "list"
      ]
     },
     "execution_count": 14,
     "metadata": {},
     "output_type": "execute_result"
    }
   ],
   "source": [
    "type(c)"
   ]
  },
  {
   "cell_type": "markdown",
   "metadata": {},
   "source": [
    "### 辞書： キーと値をペアする"
   ]
  },
  {
   "cell_type": "code",
   "execution_count": 15,
   "metadata": {},
   "outputs": [
    {
     "data": {
      "text/plain": [
       "{'Python': '3', 'Swift': 'Xcode'}"
      ]
     },
     "execution_count": 15,
     "metadata": {},
     "output_type": "execute_result"
    }
   ],
   "source": [
    "d = {'Python':'3','Swift':'Xcode'}\n",
    "d"
   ]
  },
  {
   "cell_type": "code",
   "execution_count": 20,
   "metadata": {},
   "outputs": [
    {
     "data": {
      "text/plain": [
       "dict"
      ]
     },
     "execution_count": 20,
     "metadata": {},
     "output_type": "execute_result"
    }
   ],
   "source": [
    "type(d)"
   ]
  },
  {
   "cell_type": "code",
   "execution_count": 37,
   "metadata": {},
   "outputs": [
    {
     "name": "stdout",
     "output_type": "stream",
     "text": [
      "Not Found\n"
     ]
    }
   ],
   "source": [
    "dict = {1:'Python',2:'Swift',3:'Dart'}\n",
    "print(dict.get(0, 'Not Found'))"
   ]
  },
  {
   "cell_type": "code",
   "execution_count": 33,
   "metadata": {},
   "outputs": [
    {
     "data": {
      "text/plain": [
       "{1: 'Python', 2: 'Swift', 3: 'Dart', 4: 'C#'}"
      ]
     },
     "execution_count": 33,
     "metadata": {},
     "output_type": "execute_result"
    }
   ],
   "source": [
    "dict[4] = 'C#'\n",
    "dict"
   ]
  },
  {
   "cell_type": "code",
   "execution_count": 34,
   "metadata": {},
   "outputs": [
    {
     "data": {
      "text/plain": [
       "{1: 'Python', 2: 'Swift', 4: 'C#'}"
      ]
     },
     "execution_count": 34,
     "metadata": {},
     "output_type": "execute_result"
    }
   ],
   "source": [
    "del dict[3]\n",
    "dict"
   ]
  },
  {
   "cell_type": "code",
   "execution_count": 36,
   "metadata": {},
   "outputs": [
    {
     "data": {
      "text/plain": [
       "{}"
      ]
     },
     "execution_count": 36,
     "metadata": {},
     "output_type": "execute_result"
    }
   ],
   "source": [
    "dict.clear()\n",
    "dict"
   ]
  },
  {
   "cell_type": "markdown",
   "metadata": {},
   "source": [
    "### キーや値を取り出す keys, values, items"
   ]
  },
  {
   "cell_type": "code",
   "execution_count": 41,
   "metadata": {},
   "outputs": [
    {
     "name": "stdout",
     "output_type": "stream",
     "text": [
      "(1, 'Python')\n",
      "(2, 'Swift')\n",
      "(3, 'Dart')\n"
     ]
    }
   ],
   "source": [
    "for x in dict.items():\n",
    "    print(x)"
   ]
  },
  {
   "cell_type": "code",
   "execution_count": 42,
   "metadata": {},
   "outputs": [
    {
     "data": {
      "text/plain": [
       "[['001', 'Hero', 'Mario', 'Mario.Bros'],\n",
       " ['002', 'Heroine', 'Sams', 'Metroid'],\n",
       " ['003', 'Kight', 'Link', 'Zelda']]"
      ]
     },
     "execution_count": 42,
     "metadata": {},
     "output_type": "execute_result"
    }
   ],
   "source": [
    "data = [\n",
    "    ['001','Hero','Mario','Mario.Bros'],\n",
    "    ['002','Heroine','Sams','Metroid'],\n",
    "    ['003','Kight','Link','Zelda']\n",
    "]\n",
    "data"
   ]
  },
  {
   "cell_type": "code",
   "execution_count": 49,
   "metadata": {},
   "outputs": [],
   "source": [
    "member_information = {}\n",
    "for record in data:\n",
    "    key = record[0]\n",
    "    info = record[1:]\n",
    "    member_information[key] = info"
   ]
  },
  {
   "cell_type": "code",
   "execution_count": 44,
   "metadata": {},
   "outputs": [
    {
     "name": "stdout",
     "output_type": "stream",
     "text": [
      "001 ['Hero', 'Mario', 'Mario.Bros']\n",
      "002 ['Heroine', 'Sams', 'Metroid']\n",
      "003 ['Kight', 'Link', 'Zelda']\n"
     ]
    }
   ],
   "source": [
    "for key,info in member_information.items():\n",
    "    print(key, info)"
   ]
  },
  {
   "cell_type": "code",
   "execution_count": 50,
   "metadata": {},
   "outputs": [
    {
     "data": {
      "text/plain": [
       "{'001': ['Hero', 'Mario', 'Mario.Bros'],\n",
       " '002': ['Heroine', 'Sams', 'Metroid'],\n",
       " '003': ['Kight', 'Link', 'Zelda']}"
      ]
     },
     "execution_count": 50,
     "metadata": {},
     "output_type": "execute_result"
    }
   ],
   "source": [
    "member_information"
   ]
  },
  {
   "cell_type": "markdown",
   "metadata": {},
   "source": [
    "***"
   ]
  },
  {
   "cell_type": "markdown",
   "metadata": {},
   "source": [
    "## **Pandas** のインポート"
   ]
  },
  {
   "cell_type": "code",
   "execution_count": 14,
   "metadata": {},
   "outputs": [],
   "source": [
    "import pandas as pd\n",
    "import numpy as np"
   ]
  },
  {
   "cell_type": "code",
   "execution_count": 2,
   "metadata": {},
   "outputs": [
    {
     "data": {
      "text/plain": [
       "0    1\n",
       "1    2\n",
       "2    3\n",
       "dtype: int64"
      ]
     },
     "execution_count": 2,
     "metadata": {},
     "output_type": "execute_result"
    }
   ],
   "source": [
    "pd.Series([1,2,3])"
   ]
  },
  {
   "cell_type": "code",
   "execution_count": 33,
   "metadata": {},
   "outputs": [
    {
     "data": {
      "text/html": [
       "<div>\n",
       "<style scoped>\n",
       "    .dataframe tbody tr th:only-of-type {\n",
       "        vertical-align: middle;\n",
       "    }\n",
       "\n",
       "    .dataframe tbody tr th {\n",
       "        vertical-align: top;\n",
       "    }\n",
       "\n",
       "    .dataframe thead th {\n",
       "        text-align: right;\n",
       "    }\n",
       "</style>\n",
       "<table border=\"1\" class=\"dataframe\">\n",
       "  <thead>\n",
       "    <tr style=\"text-align: right;\">\n",
       "      <th></th>\n",
       "      <th>0</th>\n",
       "      <th>1</th>\n",
       "      <th>2</th>\n",
       "    </tr>\n",
       "  </thead>\n",
       "  <tbody>\n",
       "    <tr>\n",
       "      <th>0</th>\n",
       "      <td>1</td>\n",
       "      <td>2</td>\n",
       "      <td>3</td>\n",
       "    </tr>\n",
       "    <tr>\n",
       "      <th>1</th>\n",
       "      <td>4</td>\n",
       "      <td>5</td>\n",
       "      <td>6</td>\n",
       "    </tr>\n",
       "    <tr>\n",
       "      <th>2</th>\n",
       "      <td>7</td>\n",
       "      <td>8</td>\n",
       "      <td>9</td>\n",
       "    </tr>\n",
       "  </tbody>\n",
       "</table>\n",
       "</div>"
      ],
      "text/plain": [
       "   0  1  2\n",
       "0  1  2  3\n",
       "1  4  5  6\n",
       "2  7  8  9"
      ]
     },
     "execution_count": 33,
     "metadata": {},
     "output_type": "execute_result"
    }
   ],
   "source": [
    "df = pd.DataFrame([[1,2,3],[4,5,6],[7,8,9]])\n",
    "df"
   ]
  },
  {
   "cell_type": "code",
   "execution_count": 38,
   "metadata": {},
   "outputs": [
    {
     "name": "stdout",
     "output_type": "stream",
     "text": [
      "{'Python': '3', 'Swift': 'Xcode'}\n"
     ]
    }
   ],
   "source": [
    "print(d)"
   ]
  },
  {
   "cell_type": "markdown",
   "metadata": {},
   "source": [
    ">引用されたテキスト"
   ]
  },
  {
   "cell_type": "markdown",
   "metadata": {},
   "source": [
    "ソースコードの記述\n",
    "```Python\n",
    "def main():\n",
    "    pass\n",
    "```"
   ]
  },
  {
   "cell_type": "code",
   "execution_count": 128,
   "metadata": {},
   "outputs": [
    {
     "output_type": "execute_result",
     "data": {
      "text/plain": [
       "      Name    日付  スコア\n",
       "0  Ronaldo  12/1   84\n",
       "1    Neuer   6/1   37"
      ],
      "text/html": "<div>\n<style scoped>\n    .dataframe tbody tr th:only-of-type {\n        vertical-align: middle;\n    }\n\n    .dataframe tbody tr th {\n        vertical-align: top;\n    }\n\n    .dataframe thead th {\n        text-align: right;\n    }\n</style>\n<table border=\"1\" class=\"dataframe\">\n  <thead>\n    <tr style=\"text-align: right;\">\n      <th></th>\n      <th>Name</th>\n      <th>日付</th>\n      <th>スコア</th>\n    </tr>\n  </thead>\n  <tbody>\n    <tr>\n      <th>0</th>\n      <td>Ronaldo</td>\n      <td>12/1</td>\n      <td>84</td>\n    </tr>\n    <tr>\n      <th>1</th>\n      <td>Neuer</td>\n      <td>6/1</td>\n      <td>37</td>\n    </tr>\n  </tbody>\n</table>\n</div>"
     },
     "metadata": {},
     "execution_count": 128
    }
   ],
   "source": [
    "df = pd.DataFrame(data=[['Ronaldo','12/1',84],['Neuer','6/1',37]],columns=['Name','日付','スコア'])\n",
    "df"
   ]
  },
  {
   "cell_type": "code",
   "execution_count": 9,
   "metadata": {},
   "outputs": [
    {
     "output_type": "execute_result",
     "data": {
      "text/plain": [
       "0    12/1\n",
       "Name: 日付, dtype: object"
      ]
     },
     "metadata": {},
     "execution_count": 9
    }
   ],
   "source": [
    "df['日付'][:1]"
   ]
  },
  {
   "cell_type": "code",
   "execution_count": 29,
   "metadata": {},
   "outputs": [
    {
     "output_type": "execute_result",
     "data": {
      "text/plain": [
       "         A     B Python3  Total\n",
       "0  Ronaldo  12/1      90     22\n",
       "1    Neuer   6/1      50     66"
      ],
      "text/html": "<div>\n<style scoped>\n    .dataframe tbody tr th:only-of-type {\n        vertical-align: middle;\n    }\n\n    .dataframe tbody tr th {\n        vertical-align: top;\n    }\n\n    .dataframe thead th {\n        text-align: right;\n    }\n</style>\n<table border=\"1\" class=\"dataframe\">\n  <thead>\n    <tr style=\"text-align: right;\">\n      <th></th>\n      <th>A</th>\n      <th>B</th>\n      <th>Python3</th>\n      <th>Total</th>\n    </tr>\n  </thead>\n  <tbody>\n    <tr>\n      <th>0</th>\n      <td>Ronaldo</td>\n      <td>12/1</td>\n      <td>90</td>\n      <td>22</td>\n    </tr>\n    <tr>\n      <th>1</th>\n      <td>Neuer</td>\n      <td>6/1</td>\n      <td>50</td>\n      <td>66</td>\n    </tr>\n  </tbody>\n</table>\n</div>"
     },
     "metadata": {},
     "execution_count": 29
    }
   ],
   "source": [
    "df['Total'] = [np.random.randint(0,100) for i in range(2)]\n",
    "df"
   ]
  },
  {
   "cell_type": "code",
   "execution_count": 25,
   "metadata": {},
   "outputs": [
    {
     "output_type": "execute_result",
     "data": {
      "text/plain": [
       "        名前    日付 スコア\n",
       "0  Ronaldo  12/1  90\n",
       "1    Neuer   6/1  50"
      ],
      "text/html": "<div>\n<style scoped>\n    .dataframe tbody tr th:only-of-type {\n        vertical-align: middle;\n    }\n\n    .dataframe tbody tr th {\n        vertical-align: top;\n    }\n\n    .dataframe thead th {\n        text-align: right;\n    }\n</style>\n<table border=\"1\" class=\"dataframe\">\n  <thead>\n    <tr style=\"text-align: right;\">\n      <th></th>\n      <th>名前</th>\n      <th>日付</th>\n      <th>スコア</th>\n    </tr>\n  </thead>\n  <tbody>\n    <tr>\n      <th>0</th>\n      <td>Ronaldo</td>\n      <td>12/1</td>\n      <td>90</td>\n    </tr>\n    <tr>\n      <th>1</th>\n      <td>Neuer</td>\n      <td>6/1</td>\n      <td>50</td>\n    </tr>\n  </tbody>\n</table>\n</div>"
     },
     "metadata": {},
     "execution_count": 25
    }
   ],
   "source": [
    "del df['Total']\n",
    "df"
   ]
  },
  {
   "cell_type": "code",
   "execution_count": 26,
   "metadata": {},
   "outputs": [
    {
     "output_type": "execute_result",
     "data": {
      "text/plain": [
       "         A     B Python3\n",
       "0  Ronaldo  12/1      90\n",
       "1    Neuer   6/1      50"
      ],
      "text/html": "<div>\n<style scoped>\n    .dataframe tbody tr th:only-of-type {\n        vertical-align: middle;\n    }\n\n    .dataframe tbody tr th {\n        vertical-align: top;\n    }\n\n    .dataframe thead th {\n        text-align: right;\n    }\n</style>\n<table border=\"1\" class=\"dataframe\">\n  <thead>\n    <tr style=\"text-align: right;\">\n      <th></th>\n      <th>A</th>\n      <th>B</th>\n      <th>Python3</th>\n    </tr>\n  </thead>\n  <tbody>\n    <tr>\n      <th>0</th>\n      <td>Ronaldo</td>\n      <td>12/1</td>\n      <td>90</td>\n    </tr>\n    <tr>\n      <th>1</th>\n      <td>Neuer</td>\n      <td>6/1</td>\n      <td>50</td>\n    </tr>\n  </tbody>\n</table>\n</div>"
     },
     "metadata": {},
     "execution_count": 26
    }
   ],
   "source": [
    "df.columns = ['A','B','Python3']\n",
    "df"
   ]
  },
  {
   "cell_type": "code",
   "execution_count": 138,
   "metadata": {},
   "outputs": [
    {
     "output_type": "execute_result",
     "data": {
      "text/plain": [
       "      Name     日付  スコア\n",
       "0  Ronaldo   12/1   84\n",
       "1    Neuer    6/1   37\n",
       "2  Beckham  12/22   91"
      ],
      "text/html": "<div>\n<style scoped>\n    .dataframe tbody tr th:only-of-type {\n        vertical-align: middle;\n    }\n\n    .dataframe tbody tr th {\n        vertical-align: top;\n    }\n\n    .dataframe thead th {\n        text-align: right;\n    }\n</style>\n<table border=\"1\" class=\"dataframe\">\n  <thead>\n    <tr style=\"text-align: right;\">\n      <th></th>\n      <th>Name</th>\n      <th>日付</th>\n      <th>スコア</th>\n    </tr>\n  </thead>\n  <tbody>\n    <tr>\n      <th>0</th>\n      <td>Ronaldo</td>\n      <td>12/1</td>\n      <td>84</td>\n    </tr>\n    <tr>\n      <th>1</th>\n      <td>Neuer</td>\n      <td>6/1</td>\n      <td>37</td>\n    </tr>\n    <tr>\n      <th>2</th>\n      <td>Beckham</td>\n      <td>12/22</td>\n      <td>91</td>\n    </tr>\n  </tbody>\n</table>\n</div>"
     },
     "metadata": {},
     "execution_count": 138
    }
   ],
   "source": [
    "new_data = [('Beckham','12/22',91)]\n",
    "new_df = pd.DataFrame(data=new_data,columns=['Name','日付','スコア'])\n",
    "df2 = df.append(new_df, ignore_index=True)\n",
    "df2"
   ]
  },
  {
   "cell_type": "code",
   "execution_count": 86,
   "metadata": {},
   "outputs": [
    {
     "output_type": "execute_result",
     "data": {
      "text/plain": [
       "         名前     日付  スコア\n",
       "0   Ronaldo   12/1   84\n",
       "1     Neuer    6/1   37\n",
       "2   Beckham  12/22   91\n",
       "4  terminal    5/2   87"
      ],
      "text/html": "<div>\n<style scoped>\n    .dataframe tbody tr th:only-of-type {\n        vertical-align: middle;\n    }\n\n    .dataframe tbody tr th {\n        vertical-align: top;\n    }\n\n    .dataframe thead th {\n        text-align: right;\n    }\n</style>\n<table border=\"1\" class=\"dataframe\">\n  <thead>\n    <tr style=\"text-align: right;\">\n      <th></th>\n      <th>名前</th>\n      <th>日付</th>\n      <th>スコア</th>\n    </tr>\n  </thead>\n  <tbody>\n    <tr>\n      <th>0</th>\n      <td>Ronaldo</td>\n      <td>12/1</td>\n      <td>84</td>\n    </tr>\n    <tr>\n      <th>1</th>\n      <td>Neuer</td>\n      <td>6/1</td>\n      <td>37</td>\n    </tr>\n    <tr>\n      <th>2</th>\n      <td>Beckham</td>\n      <td>12/22</td>\n      <td>91</td>\n    </tr>\n    <tr>\n      <th>4</th>\n      <td>terminal</td>\n      <td>5/2</td>\n      <td>87</td>\n    </tr>\n  </tbody>\n</table>\n</div>"
     },
     "metadata": {},
     "execution_count": 86
    }
   ],
   "source": [
    "(rows,cols) = df2.shape\n",
    "# rows\n",
    "cols\n",
    "df2.loc[rows] = ['terminal','5/2',87]\n",
    "df2\n"
   ]
  },
  {
   "cell_type": "code",
   "execution_count": 84,
   "metadata": {},
   "outputs": [
    {
     "output_type": "execute_result",
     "data": {
      "text/plain": [
       "        名前     日付  スコア\n",
       "0  Ronaldo   12/1   84\n",
       "1    Neuer    6/1   37\n",
       "2  Beckham  12/22   91\n",
       "4       F1    6/6   24"
      ],
      "text/html": "<div>\n<style scoped>\n    .dataframe tbody tr th:only-of-type {\n        vertical-align: middle;\n    }\n\n    .dataframe tbody tr th {\n        vertical-align: top;\n    }\n\n    .dataframe thead th {\n        text-align: right;\n    }\n</style>\n<table border=\"1\" class=\"dataframe\">\n  <thead>\n    <tr style=\"text-align: right;\">\n      <th></th>\n      <th>名前</th>\n      <th>日付</th>\n      <th>スコア</th>\n    </tr>\n  </thead>\n  <tbody>\n    <tr>\n      <th>0</th>\n      <td>Ronaldo</td>\n      <td>12/1</td>\n      <td>84</td>\n    </tr>\n    <tr>\n      <th>1</th>\n      <td>Neuer</td>\n      <td>6/1</td>\n      <td>37</td>\n    </tr>\n    <tr>\n      <th>2</th>\n      <td>Beckham</td>\n      <td>12/22</td>\n      <td>91</td>\n    </tr>\n    <tr>\n      <th>4</th>\n      <td>F1</td>\n      <td>6/6</td>\n      <td>24</td>\n    </tr>\n  </tbody>\n</table>\n</div>"
     },
     "metadata": {},
     "execution_count": 84
    }
   ],
   "source": [
    "df2.loc[4] = ['F1','6/6',24]\n",
    "df2"
   ]
  },
  {
   "cell_type": "code",
   "execution_count": 59,
   "metadata": {},
   "outputs": [
    {
     "output_type": "execute_result",
     "data": {
      "text/plain": [
       "         名前     日付 スコア\n",
       "2   Beckham  12/22  91\n",
       "3  terminal    5/2  87\n",
       "4        F1    6/6  24"
      ],
      "text/html": "<div>\n<style scoped>\n    .dataframe tbody tr th:only-of-type {\n        vertical-align: middle;\n    }\n\n    .dataframe tbody tr th {\n        vertical-align: top;\n    }\n\n    .dataframe thead th {\n        text-align: right;\n    }\n</style>\n<table border=\"1\" class=\"dataframe\">\n  <thead>\n    <tr style=\"text-align: right;\">\n      <th></th>\n      <th>名前</th>\n      <th>日付</th>\n      <th>スコア</th>\n    </tr>\n  </thead>\n  <tbody>\n    <tr>\n      <th>2</th>\n      <td>Beckham</td>\n      <td>12/22</td>\n      <td>91</td>\n    </tr>\n    <tr>\n      <th>3</th>\n      <td>terminal</td>\n      <td>5/2</td>\n      <td>87</td>\n    </tr>\n    <tr>\n      <th>4</th>\n      <td>F1</td>\n      <td>6/6</td>\n      <td>24</td>\n    </tr>\n  </tbody>\n</table>\n</div>"
     },
     "metadata": {},
     "execution_count": 59
    }
   ],
   "source": [
    "df2.tail(3)"
   ]
  },
  {
   "cell_type": "code",
   "execution_count": 65,
   "metadata": {},
   "outputs": [
    {
     "output_type": "execute_result",
     "data": {
      "text/plain": [
       "         名前     日付 スコア\n",
       "2   Beckham  12/22  91\n",
       "3  terminal    5/2  87\n",
       "4        F1    6/6  24"
      ],
      "text/html": "<div>\n<style scoped>\n    .dataframe tbody tr th:only-of-type {\n        vertical-align: middle;\n    }\n\n    .dataframe tbody tr th {\n        vertical-align: top;\n    }\n\n    .dataframe thead th {\n        text-align: right;\n    }\n</style>\n<table border=\"1\" class=\"dataframe\">\n  <thead>\n    <tr style=\"text-align: right;\">\n      <th></th>\n      <th>名前</th>\n      <th>日付</th>\n      <th>スコア</th>\n    </tr>\n  </thead>\n  <tbody>\n    <tr>\n      <th>2</th>\n      <td>Beckham</td>\n      <td>12/22</td>\n      <td>91</td>\n    </tr>\n    <tr>\n      <th>3</th>\n      <td>terminal</td>\n      <td>5/2</td>\n      <td>87</td>\n    </tr>\n    <tr>\n      <th>4</th>\n      <td>F1</td>\n      <td>6/6</td>\n      <td>24</td>\n    </tr>\n  </tbody>\n</table>\n</div>"
     },
     "metadata": {},
     "execution_count": 65
    }
   ],
   "source": [
    "df2.iloc[2:5]"
   ]
  },
  {
   "cell_type": "code",
   "execution_count": 70,
   "metadata": {},
   "outputs": [
    {
     "output_type": "execute_result",
     "data": {
      "text/plain": [
       "           0      1        2         3    4\n",
       "名前   Ronaldo  Neuer  Beckham  terminal   F1\n",
       "日付      12/1    6/1    12/22       5/2  6/6\n",
       "スコア       90     50       91        87   24"
      ],
      "text/html": "<div>\n<style scoped>\n    .dataframe tbody tr th:only-of-type {\n        vertical-align: middle;\n    }\n\n    .dataframe tbody tr th {\n        vertical-align: top;\n    }\n\n    .dataframe thead th {\n        text-align: right;\n    }\n</style>\n<table border=\"1\" class=\"dataframe\">\n  <thead>\n    <tr style=\"text-align: right;\">\n      <th></th>\n      <th>0</th>\n      <th>1</th>\n      <th>2</th>\n      <th>3</th>\n      <th>4</th>\n    </tr>\n  </thead>\n  <tbody>\n    <tr>\n      <th>名前</th>\n      <td>Ronaldo</td>\n      <td>Neuer</td>\n      <td>Beckham</td>\n      <td>terminal</td>\n      <td>F1</td>\n    </tr>\n    <tr>\n      <th>日付</th>\n      <td>12/1</td>\n      <td>6/1</td>\n      <td>12/22</td>\n      <td>5/2</td>\n      <td>6/6</td>\n    </tr>\n    <tr>\n      <th>スコア</th>\n      <td>90</td>\n      <td>50</td>\n      <td>91</td>\n      <td>87</td>\n      <td>24</td>\n    </tr>\n  </tbody>\n</table>\n</div>"
     },
     "metadata": {},
     "execution_count": 70
    }
   ],
   "source": [
    "df2.T.iloc[0:3]"
   ]
  },
  {
   "cell_type": "code",
   "execution_count": 72,
   "metadata": {},
   "outputs": [
    {
     "output_type": "stream",
     "name": "stdout",
     "text": [
      "['Ronaldo' 'Neuer' 'Beckham' 'terminal' 'F1']\n"
     ]
    }
   ],
   "source": [
    "print(df2['名前'].unique())"
   ]
  },
  {
   "cell_type": "code",
   "execution_count": null,
   "metadata": {},
   "outputs": [],
   "source": []
  },
  {
   "cell_type": "code",
   "execution_count": null,
   "metadata": {},
   "outputs": [],
   "source": []
  },
  {
   "cell_type": "markdown",
   "metadata": {},
   "source": [
    "一番上の見出しを別にするには"
   ]
  },
  {
   "cell_type": "code",
   "execution_count": 65,
   "metadata": {},
   "outputs": [
    {
     "name": "stdout",
     "output_type": "stream",
     "text": [
      "['Python', 'Python', 'Python', 'Python', 'Python', 'Swift', 'Swift', 'Swift', 'Swift', 'Swift', 'C#', 'C#', 'C#', 'C#', 'C#'] ['データ', 'アプリ', 'グラフ', '画像', '自動化', 'データ', 'アプリ', 'グラフ', '画像', '自動化', 'データ', 'アプリ', 'グラフ', '画像', '自動化'] [52, 80, 20, 51, 89, 48, 83, 60, 78, 45, 79, 56, 46, 11, 77]\n"
     ]
    }
   ],
   "source": [
    "arr1 = ['Python'] * 5 + ['Swift'] * 5 + ['C#'] * 5\n",
    "arr2 = ['データ','アプリ','グラフ','画像','自動化']*3\n",
    "arr3 = [np.random.randint(0,100) for i in range(15)]\n",
    "print(arr1,arr2,arr3)"
   ]
  },
  {
   "cell_type": "code",
   "execution_count": 66,
   "metadata": {},
   "outputs": [
    {
     "data": {
      "text/plain": [
       "[('Python', 'データ', 52),\n",
       " ('Python', 'アプリ', 80),\n",
       " ('Python', 'グラフ', 20),\n",
       " ('Python', '画像', 51),\n",
       " ('Python', '自動化', 89),\n",
       " ('Swift', 'データ', 48),\n",
       " ('Swift', 'アプリ', 83),\n",
       " ('Swift', 'グラフ', 60),\n",
       " ('Swift', '画像', 78),\n",
       " ('Swift', '自動化', 45),\n",
       " ('C#', 'データ', 79),\n",
       " ('C#', 'アプリ', 56),\n",
       " ('C#', 'グラフ', 46),\n",
       " ('C#', '画像', 11),\n",
       " ('C#', '自動化', 77)]"
      ]
     },
     "execution_count": 66,
     "metadata": {},
     "output_type": "execute_result"
    }
   ],
   "source": [
    "data = list(zip(arr1,arr2,arr3))\n",
    "data"
   ]
  },
  {
   "cell_type": "code",
   "execution_count": 85,
   "metadata": {},
   "outputs": [
    {
     "data": {
      "text/html": [
       "<div>\n",
       "<style scoped>\n",
       "    .dataframe tbody tr th:only-of-type {\n",
       "        vertical-align: middle;\n",
       "    }\n",
       "\n",
       "    .dataframe tbody tr th {\n",
       "        vertical-align: top;\n",
       "    }\n",
       "\n",
       "    .dataframe thead th {\n",
       "        text-align: right;\n",
       "    }\n",
       "</style>\n",
       "<table border=\"1\" class=\"dataframe\">\n",
       "  <thead>\n",
       "    <tr style=\"text-align: right;\">\n",
       "      <th></th>\n",
       "      <th>Language</th>\n",
       "      <th>category</th>\n",
       "      <th>Values</th>\n",
       "    </tr>\n",
       "  </thead>\n",
       "  <tbody>\n",
       "    <tr>\n",
       "      <th>0</th>\n",
       "      <td>Python</td>\n",
       "      <td>データ</td>\n",
       "      <td>52</td>\n",
       "    </tr>\n",
       "    <tr>\n",
       "      <th>1</th>\n",
       "      <td>Python</td>\n",
       "      <td>アプリ</td>\n",
       "      <td>80</td>\n",
       "    </tr>\n",
       "    <tr>\n",
       "      <th>2</th>\n",
       "      <td>Python</td>\n",
       "      <td>グラフ</td>\n",
       "      <td>20</td>\n",
       "    </tr>\n",
       "    <tr>\n",
       "      <th>3</th>\n",
       "      <td>Python</td>\n",
       "      <td>画像</td>\n",
       "      <td>51</td>\n",
       "    </tr>\n",
       "    <tr>\n",
       "      <th>4</th>\n",
       "      <td>Python</td>\n",
       "      <td>自動化</td>\n",
       "      <td>89</td>\n",
       "    </tr>\n",
       "  </tbody>\n",
       "</table>\n",
       "</div>"
      ],
      "text/plain": [
       "  Language category  Values\n",
       "0   Python      データ      52\n",
       "1   Python      アプリ      80\n",
       "2   Python      グラフ      20\n",
       "3   Python       画像      51\n",
       "4   Python      自動化      89"
      ]
     },
     "execution_count": 85,
     "metadata": {},
     "output_type": "execute_result"
    }
   ],
   "source": [
    "df = pd.DataFrame(data=data, columns=['Language','category','Values'])\n",
    "#df.info()\n",
    "df[:5]\n",
    "#print(df[:5])"
   ]
  },
  {
   "cell_type": "code",
   "execution_count": 87,
   "metadata": {},
   "outputs": [
    {
     "data": {
      "text/plain": [
       "0    52\n",
       "1    80\n",
       "2    20\n",
       "3    51\n",
       "4    89\n",
       "5    48\n",
       "6    83\n",
       "7    60\n",
       "8    78\n",
       "9    45\n",
       "Name: Values, dtype: int64"
      ]
     },
     "execution_count": 87,
     "metadata": {},
     "output_type": "execute_result"
    }
   ],
   "source": [
    "df['Values'][:10]"
   ]
  },
  {
   "cell_type": "markdown",
   "metadata": {},
   "source": [
    "Zip関数"
   ]
  },
  {
   "cell_type": "code",
   "execution_count": 1,
   "metadata": {},
   "outputs": [
    {
     "data": {
      "text/plain": [
       "{1: 'Apple', 2: 'Orange', 3: 'Kiwi'}"
      ]
     },
     "execution_count": 1,
     "metadata": {},
     "output_type": "execute_result"
    }
   ],
   "source": [
    "list1 = [1,2,3]\n",
    "list2 = ['Apple', 'Orange', 'Kiwi']\n",
    "dict(zip(list1,list2))"
   ]
  },
  {
   "cell_type": "code",
   "execution_count": null,
   "metadata": {},
   "outputs": [],
   "source": []
  },
  {
   "cell_type": "markdown",
   "metadata": {},
   "source": [
    "### ファイルのアップロード　ひだりメニューの⬆︎から"
   ]
  },
  {
   "cell_type": "code",
   "execution_count": 12,
   "metadata": {},
   "outputs": [],
   "source": [
    "df1 = pd.read_csv('covid19_y.csv')"
   ]
  },
  {
   "cell_type": "code",
   "execution_count": 13,
   "metadata": {},
   "outputs": [
    {
     "output_type": "execute_result",
     "data": {
      "text/plain": [
       "   No  全国地方自治体コード 都道府県名 市区町村名         公表日 患者_年代 患者_状態  患者_退院済フラグ\n",
       "0   1      141003  神奈川県   横浜市  2020-02-18   60代    退院        1.0\n",
       "1   2      141003  神奈川県   横浜市  2020-02-20   60代    退院        1.0\n",
       "2   3      141003  神奈川県   横浜市  2020-02-21   30代    退院        1.0\n",
       "3   4      141003  神奈川県   横浜市  2020-02-28   50代    退院        1.0\n",
       "4   5      141003  神奈川県   横浜市  2020-03-03   20代    退院        1.0"
      ],
      "text/html": "<div>\n<style scoped>\n    .dataframe tbody tr th:only-of-type {\n        vertical-align: middle;\n    }\n\n    .dataframe tbody tr th {\n        vertical-align: top;\n    }\n\n    .dataframe thead th {\n        text-align: right;\n    }\n</style>\n<table border=\"1\" class=\"dataframe\">\n  <thead>\n    <tr style=\"text-align: right;\">\n      <th></th>\n      <th>No</th>\n      <th>全国地方自治体コード</th>\n      <th>都道府県名</th>\n      <th>市区町村名</th>\n      <th>公表日</th>\n      <th>患者_年代</th>\n      <th>患者_状態</th>\n      <th>患者_退院済フラグ</th>\n    </tr>\n  </thead>\n  <tbody>\n    <tr>\n      <th>0</th>\n      <td>1</td>\n      <td>141003</td>\n      <td>神奈川県</td>\n      <td>横浜市</td>\n      <td>2020-02-18</td>\n      <td>60代</td>\n      <td>退院</td>\n      <td>1.0</td>\n    </tr>\n    <tr>\n      <th>1</th>\n      <td>2</td>\n      <td>141003</td>\n      <td>神奈川県</td>\n      <td>横浜市</td>\n      <td>2020-02-20</td>\n      <td>60代</td>\n      <td>退院</td>\n      <td>1.0</td>\n    </tr>\n    <tr>\n      <th>2</th>\n      <td>3</td>\n      <td>141003</td>\n      <td>神奈川県</td>\n      <td>横浜市</td>\n      <td>2020-02-21</td>\n      <td>30代</td>\n      <td>退院</td>\n      <td>1.0</td>\n    </tr>\n    <tr>\n      <th>3</th>\n      <td>4</td>\n      <td>141003</td>\n      <td>神奈川県</td>\n      <td>横浜市</td>\n      <td>2020-02-28</td>\n      <td>50代</td>\n      <td>退院</td>\n      <td>1.0</td>\n    </tr>\n    <tr>\n      <th>4</th>\n      <td>5</td>\n      <td>141003</td>\n      <td>神奈川県</td>\n      <td>横浜市</td>\n      <td>2020-03-03</td>\n      <td>20代</td>\n      <td>退院</td>\n      <td>1.0</td>\n    </tr>\n  </tbody>\n</table>\n</div>"
     },
     "metadata": {},
     "execution_count": 13
    }
   ],
   "source": [
    "df1.head()"
   ]
  },
  {
   "cell_type": "code",
   "execution_count": 21,
   "metadata": {},
   "outputs": [
    {
     "data": {
      "text/html": [
       "<div>\n",
       "<style scoped>\n",
       "    .dataframe tbody tr th:only-of-type {\n",
       "        vertical-align: middle;\n",
       "    }\n",
       "\n",
       "    .dataframe tbody tr th {\n",
       "        vertical-align: top;\n",
       "    }\n",
       "\n",
       "    .dataframe thead th {\n",
       "        text-align: right;\n",
       "    }\n",
       "</style>\n",
       "<table border=\"1\" class=\"dataframe\">\n",
       "  <thead>\n",
       "    <tr style=\"text-align: right;\">\n",
       "      <th></th>\n",
       "      <th>No</th>\n",
       "      <th>全国地方自治体コード</th>\n",
       "      <th>都道府県名</th>\n",
       "      <th>市区町村名</th>\n",
       "      <th>公表日</th>\n",
       "      <th>患者_年代</th>\n",
       "      <th>患者_状態</th>\n",
       "      <th>患者_退院済フラグ</th>\n",
       "    </tr>\n",
       "  </thead>\n",
       "  <tbody>\n",
       "    <tr>\n",
       "      <th>5911</th>\n",
       "      <td>5930</td>\n",
       "      <td>141003</td>\n",
       "      <td>神奈川県</td>\n",
       "      <td>横浜市</td>\n",
       "      <td>2020-11-30</td>\n",
       "      <td>50代</td>\n",
       "      <td>軽症</td>\n",
       "      <td>NaN</td>\n",
       "    </tr>\n",
       "    <tr>\n",
       "      <th>5912</th>\n",
       "      <td>5931</td>\n",
       "      <td>141003</td>\n",
       "      <td>神奈川県</td>\n",
       "      <td>横浜市</td>\n",
       "      <td>2020-11-30</td>\n",
       "      <td>40代</td>\n",
       "      <td>軽症</td>\n",
       "      <td>NaN</td>\n",
       "    </tr>\n",
       "    <tr>\n",
       "      <th>5913</th>\n",
       "      <td>5932</td>\n",
       "      <td>141003</td>\n",
       "      <td>神奈川県</td>\n",
       "      <td>横浜市</td>\n",
       "      <td>2020-11-30</td>\n",
       "      <td>40代</td>\n",
       "      <td>軽症</td>\n",
       "      <td>NaN</td>\n",
       "    </tr>\n",
       "    <tr>\n",
       "      <th>5914</th>\n",
       "      <td>5933</td>\n",
       "      <td>141003</td>\n",
       "      <td>神奈川県</td>\n",
       "      <td>横浜市</td>\n",
       "      <td>2020-11-30</td>\n",
       "      <td>20代</td>\n",
       "      <td>無症状</td>\n",
       "      <td>NaN</td>\n",
       "    </tr>\n",
       "    <tr>\n",
       "      <th>5915</th>\n",
       "      <td>5934</td>\n",
       "      <td>141003</td>\n",
       "      <td>神奈川県</td>\n",
       "      <td>横浜市</td>\n",
       "      <td>2020-11-30</td>\n",
       "      <td>20代</td>\n",
       "      <td>無症状</td>\n",
       "      <td>NaN</td>\n",
       "    </tr>\n",
       "  </tbody>\n",
       "</table>\n",
       "</div>"
      ],
      "text/plain": [
       "        No  全国地方自治体コード 都道府県名 市区町村名         公表日 患者_年代 患者_状態  患者_退院済フラグ\n",
       "5911  5930      141003  神奈川県   横浜市  2020-11-30   50代    軽症        NaN\n",
       "5912  5931      141003  神奈川県   横浜市  2020-11-30   40代    軽症        NaN\n",
       "5913  5932      141003  神奈川県   横浜市  2020-11-30   40代    軽症        NaN\n",
       "5914  5933      141003  神奈川県   横浜市  2020-11-30   20代   無症状        NaN\n",
       "5915  5934      141003  神奈川県   横浜市  2020-11-30   20代   無症状        NaN"
      ]
     },
     "execution_count": 21,
     "metadata": {},
     "output_type": "execute_result"
    }
   ],
   "source": [
    "df1.tail()"
   ]
  },
  {
   "cell_type": "code",
   "execution_count": 22,
   "metadata": {},
   "outputs": [
    {
     "data": {
      "text/html": [
       "<div>\n",
       "<style scoped>\n",
       "    .dataframe tbody tr th:only-of-type {\n",
       "        vertical-align: middle;\n",
       "    }\n",
       "\n",
       "    .dataframe tbody tr th {\n",
       "        vertical-align: top;\n",
       "    }\n",
       "\n",
       "    .dataframe thead th {\n",
       "        text-align: right;\n",
       "    }\n",
       "</style>\n",
       "<table border=\"1\" class=\"dataframe\">\n",
       "  <thead>\n",
       "    <tr style=\"text-align: right;\">\n",
       "      <th></th>\n",
       "      <th>No</th>\n",
       "      <th>公表日</th>\n",
       "      <th>患者_年代</th>\n",
       "    </tr>\n",
       "  </thead>\n",
       "  <tbody>\n",
       "    <tr>\n",
       "      <th>0</th>\n",
       "      <td>1</td>\n",
       "      <td>2020-02-18</td>\n",
       "      <td>60代</td>\n",
       "    </tr>\n",
       "    <tr>\n",
       "      <th>1</th>\n",
       "      <td>2</td>\n",
       "      <td>2020-02-20</td>\n",
       "      <td>60代</td>\n",
       "    </tr>\n",
       "    <tr>\n",
       "      <th>2</th>\n",
       "      <td>3</td>\n",
       "      <td>2020-02-21</td>\n",
       "      <td>30代</td>\n",
       "    </tr>\n",
       "    <tr>\n",
       "      <th>3</th>\n",
       "      <td>4</td>\n",
       "      <td>2020-02-28</td>\n",
       "      <td>50代</td>\n",
       "    </tr>\n",
       "    <tr>\n",
       "      <th>4</th>\n",
       "      <td>5</td>\n",
       "      <td>2020-03-03</td>\n",
       "      <td>20代</td>\n",
       "    </tr>\n",
       "  </tbody>\n",
       "</table>\n",
       "</div>"
      ],
      "text/plain": [
       "   No         公表日 患者_年代\n",
       "0   1  2020-02-18   60代\n",
       "1   2  2020-02-20   60代\n",
       "2   3  2020-02-21   30代\n",
       "3   4  2020-02-28   50代\n",
       "4   5  2020-03-03   20代"
      ]
     },
     "execution_count": 22,
     "metadata": {},
     "output_type": "execute_result"
    }
   ],
   "source": [
    "df1[['No','公表日','患者_年代']].head()"
   ]
  },
  {
   "source": [
    "# うまくいかない例"
   ],
   "cell_type": "markdown",
   "metadata": {}
  },
  {
   "cell_type": "code",
   "execution_count": 23,
   "metadata": {},
   "outputs": [
    {
     "output_type": "error",
     "ename": "TypeError",
     "evalue": "'>' not supported between instances of 'str' and 'int'",
     "traceback": [
      "\u001b[0;31m---------------------------------------------------------------------------\u001b[0m",
      "\u001b[0;31mTypeError\u001b[0m                                 Traceback (most recent call last)",
      "\u001b[0;32m<ipython-input-23-8f77760b4a38>\u001b[0m in \u001b[0;36m<module>\u001b[0;34m\u001b[0m\n\u001b[0;32m----> 1\u001b[0;31m \u001b[0mdf1\u001b[0m\u001b[0;34m[\u001b[0m\u001b[0mdf1\u001b[0m\u001b[0;34m[\u001b[0m\u001b[0;34m'患者_年代'\u001b[0m\u001b[0;34m]\u001b[0m\u001b[0;34m>\u001b[0m\u001b[0;36m50\u001b[0m\u001b[0;34m]\u001b[0m\u001b[0;34m.\u001b[0m\u001b[0mhead\u001b[0m\u001b[0;34m(\u001b[0m\u001b[0;36m10\u001b[0m\u001b[0;34m)\u001b[0m\u001b[0;34m\u001b[0m\u001b[0;34m\u001b[0m\u001b[0m\n\u001b[0m",
      "\u001b[0;32m/usr/local/var/pyenv/versions/3.8.2/lib/python3.8/site-packages/pandas/core/ops/common.py\u001b[0m in \u001b[0;36mnew_method\u001b[0;34m(self, other)\u001b[0m\n\u001b[1;32m     62\u001b[0m         \u001b[0mother\u001b[0m \u001b[0;34m=\u001b[0m \u001b[0mitem_from_zerodim\u001b[0m\u001b[0;34m(\u001b[0m\u001b[0mother\u001b[0m\u001b[0;34m)\u001b[0m\u001b[0;34m\u001b[0m\u001b[0;34m\u001b[0m\u001b[0m\n\u001b[1;32m     63\u001b[0m \u001b[0;34m\u001b[0m\u001b[0m\n\u001b[0;32m---> 64\u001b[0;31m         \u001b[0;32mreturn\u001b[0m \u001b[0mmethod\u001b[0m\u001b[0;34m(\u001b[0m\u001b[0mself\u001b[0m\u001b[0;34m,\u001b[0m \u001b[0mother\u001b[0m\u001b[0;34m)\u001b[0m\u001b[0;34m\u001b[0m\u001b[0;34m\u001b[0m\u001b[0m\n\u001b[0m\u001b[1;32m     65\u001b[0m \u001b[0;34m\u001b[0m\u001b[0m\n\u001b[1;32m     66\u001b[0m     \u001b[0;32mreturn\u001b[0m \u001b[0mnew_method\u001b[0m\u001b[0;34m\u001b[0m\u001b[0;34m\u001b[0m\u001b[0m\n",
      "\u001b[0;32m/usr/local/var/pyenv/versions/3.8.2/lib/python3.8/site-packages/pandas/core/ops/__init__.py\u001b[0m in \u001b[0;36mwrapper\u001b[0;34m(self, other)\u001b[0m\n\u001b[1;32m    527\u001b[0m         \u001b[0mrvalues\u001b[0m \u001b[0;34m=\u001b[0m \u001b[0mextract_array\u001b[0m\u001b[0;34m(\u001b[0m\u001b[0mother\u001b[0m\u001b[0;34m,\u001b[0m \u001b[0mextract_numpy\u001b[0m\u001b[0;34m=\u001b[0m\u001b[0;32mTrue\u001b[0m\u001b[0;34m)\u001b[0m\u001b[0;34m\u001b[0m\u001b[0;34m\u001b[0m\u001b[0m\n\u001b[1;32m    528\u001b[0m \u001b[0;34m\u001b[0m\u001b[0m\n\u001b[0;32m--> 529\u001b[0;31m         \u001b[0mres_values\u001b[0m \u001b[0;34m=\u001b[0m \u001b[0mcomparison_op\u001b[0m\u001b[0;34m(\u001b[0m\u001b[0mlvalues\u001b[0m\u001b[0;34m,\u001b[0m \u001b[0mrvalues\u001b[0m\u001b[0;34m,\u001b[0m \u001b[0mop\u001b[0m\u001b[0;34m)\u001b[0m\u001b[0;34m\u001b[0m\u001b[0;34m\u001b[0m\u001b[0m\n\u001b[0m\u001b[1;32m    530\u001b[0m \u001b[0;34m\u001b[0m\u001b[0m\n\u001b[1;32m    531\u001b[0m         \u001b[0;32mreturn\u001b[0m \u001b[0m_construct_result\u001b[0m\u001b[0;34m(\u001b[0m\u001b[0mself\u001b[0m\u001b[0;34m,\u001b[0m \u001b[0mres_values\u001b[0m\u001b[0;34m,\u001b[0m \u001b[0mindex\u001b[0m\u001b[0;34m=\u001b[0m\u001b[0mself\u001b[0m\u001b[0;34m.\u001b[0m\u001b[0mindex\u001b[0m\u001b[0;34m,\u001b[0m \u001b[0mname\u001b[0m\u001b[0;34m=\u001b[0m\u001b[0mres_name\u001b[0m\u001b[0;34m)\u001b[0m\u001b[0;34m\u001b[0m\u001b[0;34m\u001b[0m\u001b[0m\n",
      "\u001b[0;32m/usr/local/var/pyenv/versions/3.8.2/lib/python3.8/site-packages/pandas/core/ops/array_ops.py\u001b[0m in \u001b[0;36mcomparison_op\u001b[0;34m(left, right, op)\u001b[0m\n\u001b[1;32m    245\u001b[0m \u001b[0;34m\u001b[0m\u001b[0m\n\u001b[1;32m    246\u001b[0m     \u001b[0;32melif\u001b[0m \u001b[0mis_object_dtype\u001b[0m\u001b[0;34m(\u001b[0m\u001b[0mlvalues\u001b[0m\u001b[0;34m.\u001b[0m\u001b[0mdtype\u001b[0m\u001b[0;34m)\u001b[0m\u001b[0;34m:\u001b[0m\u001b[0;34m\u001b[0m\u001b[0;34m\u001b[0m\u001b[0m\n\u001b[0;32m--> 247\u001b[0;31m         \u001b[0mres_values\u001b[0m \u001b[0;34m=\u001b[0m \u001b[0mcomp_method_OBJECT_ARRAY\u001b[0m\u001b[0;34m(\u001b[0m\u001b[0mop\u001b[0m\u001b[0;34m,\u001b[0m \u001b[0mlvalues\u001b[0m\u001b[0;34m,\u001b[0m \u001b[0mrvalues\u001b[0m\u001b[0;34m)\u001b[0m\u001b[0;34m\u001b[0m\u001b[0;34m\u001b[0m\u001b[0m\n\u001b[0m\u001b[1;32m    248\u001b[0m \u001b[0;34m\u001b[0m\u001b[0m\n\u001b[1;32m    249\u001b[0m     \u001b[0;32melse\u001b[0m\u001b[0;34m:\u001b[0m\u001b[0;34m\u001b[0m\u001b[0;34m\u001b[0m\u001b[0m\n",
      "\u001b[0;32m/usr/local/var/pyenv/versions/3.8.2/lib/python3.8/site-packages/pandas/core/ops/array_ops.py\u001b[0m in \u001b[0;36mcomp_method_OBJECT_ARRAY\u001b[0;34m(op, x, y)\u001b[0m\n\u001b[1;32m     55\u001b[0m         \u001b[0mresult\u001b[0m \u001b[0;34m=\u001b[0m \u001b[0mlibops\u001b[0m\u001b[0;34m.\u001b[0m\u001b[0mvec_compare\u001b[0m\u001b[0;34m(\u001b[0m\u001b[0mx\u001b[0m\u001b[0;34m.\u001b[0m\u001b[0mravel\u001b[0m\u001b[0;34m(\u001b[0m\u001b[0;34m)\u001b[0m\u001b[0;34m,\u001b[0m \u001b[0my\u001b[0m\u001b[0;34m,\u001b[0m \u001b[0mop\u001b[0m\u001b[0;34m)\u001b[0m\u001b[0;34m\u001b[0m\u001b[0;34m\u001b[0m\u001b[0m\n\u001b[1;32m     56\u001b[0m     \u001b[0;32melse\u001b[0m\u001b[0;34m:\u001b[0m\u001b[0;34m\u001b[0m\u001b[0;34m\u001b[0m\u001b[0m\n\u001b[0;32m---> 57\u001b[0;31m         \u001b[0mresult\u001b[0m \u001b[0;34m=\u001b[0m \u001b[0mlibops\u001b[0m\u001b[0;34m.\u001b[0m\u001b[0mscalar_compare\u001b[0m\u001b[0;34m(\u001b[0m\u001b[0mx\u001b[0m\u001b[0;34m.\u001b[0m\u001b[0mravel\u001b[0m\u001b[0;34m(\u001b[0m\u001b[0;34m)\u001b[0m\u001b[0;34m,\u001b[0m \u001b[0my\u001b[0m\u001b[0;34m,\u001b[0m \u001b[0mop\u001b[0m\u001b[0;34m)\u001b[0m\u001b[0;34m\u001b[0m\u001b[0;34m\u001b[0m\u001b[0m\n\u001b[0m\u001b[1;32m     58\u001b[0m     \u001b[0;32mreturn\u001b[0m \u001b[0mresult\u001b[0m\u001b[0;34m.\u001b[0m\u001b[0mreshape\u001b[0m\u001b[0;34m(\u001b[0m\u001b[0mx\u001b[0m\u001b[0;34m.\u001b[0m\u001b[0mshape\u001b[0m\u001b[0;34m)\u001b[0m\u001b[0;34m\u001b[0m\u001b[0;34m\u001b[0m\u001b[0m\n\u001b[1;32m     59\u001b[0m \u001b[0;34m\u001b[0m\u001b[0m\n",
      "\u001b[0;32mpandas/_libs/ops.pyx\u001b[0m in \u001b[0;36mpandas._libs.ops.scalar_compare\u001b[0;34m()\u001b[0m\n",
      "\u001b[0;31mTypeError\u001b[0m: '>' not supported between instances of 'str' and 'int'"
     ]
    }
   ],
   "source": [
    "df1[df1['患者_年代']>50].head(10)"
   ]
  },
  {
   "cell_type": "code",
   "execution_count": 7,
   "metadata": {},
   "outputs": [
    {
     "output_type": "execute_result",
     "data": {
      "text/plain": [
       "   No  全国地方自治体コード 都道府県名\n",
       "0   1      141003  神奈川県\n",
       "1   2      141003  神奈川県\n",
       "2   3      141003  神奈川県\n",
       "3   4      141003  神奈川県\n",
       "4   5      141003  神奈川県"
      ],
      "text/html": "<div>\n<style scoped>\n    .dataframe tbody tr th:only-of-type {\n        vertical-align: middle;\n    }\n\n    .dataframe tbody tr th {\n        vertical-align: top;\n    }\n\n    .dataframe thead th {\n        text-align: right;\n    }\n</style>\n<table border=\"1\" class=\"dataframe\">\n  <thead>\n    <tr style=\"text-align: right;\">\n      <th></th>\n      <th>No</th>\n      <th>全国地方自治体コード</th>\n      <th>都道府県名</th>\n    </tr>\n  </thead>\n  <tbody>\n    <tr>\n      <th>0</th>\n      <td>1</td>\n      <td>141003</td>\n      <td>神奈川県</td>\n    </tr>\n    <tr>\n      <th>1</th>\n      <td>2</td>\n      <td>141003</td>\n      <td>神奈川県</td>\n    </tr>\n    <tr>\n      <th>2</th>\n      <td>3</td>\n      <td>141003</td>\n      <td>神奈川県</td>\n    </tr>\n    <tr>\n      <th>3</th>\n      <td>4</td>\n      <td>141003</td>\n      <td>神奈川県</td>\n    </tr>\n    <tr>\n      <th>4</th>\n      <td>5</td>\n      <td>141003</td>\n      <td>神奈川県</td>\n    </tr>\n  </tbody>\n</table>\n</div>"
     },
     "metadata": {},
     "execution_count": 7
    }
   ],
   "source": [
    "# df.iloc[行,列]\n",
    "df1.iloc[:,0:3].head()"
   ]
  },
  {
   "cell_type": "code",
   "execution_count": 2,
   "metadata": {},
   "outputs": [],
   "source": [
    "df2 = pd.read_csv('revised_covid19.csv')"
   ]
  },
  {
   "cell_type": "code",
   "execution_count": 5,
   "metadata": {},
   "outputs": [
    {
     "output_type": "execute_result",
     "data": {
      "text/plain": [
       "        No  全国地方自治体コード 都道府県名 市区町村名         公表日  患者_年代 患者_状態  患者_退院済フラグ\n",
       "0        1      141003  神奈川県   横浜市  2020/02/18   60.0    退院        1.0\n",
       "1        2      141003  神奈川県   横浜市  2020/02/20   60.0    退院        1.0\n",
       "5        6      141003  神奈川県   横浜市  2020/03/05   60.0    退院        1.0\n",
       "6        7      141003  神奈川県   横浜市  2020/03/05   70.0    退院        1.0\n",
       "7        8      141003  神奈川県   横浜市  2020/03/11   70.0    退院        1.0\n",
       "...    ...         ...   ...   ...         ...    ...   ...        ...\n",
       "1242  1243      141003  神奈川県   横浜市  2020/08/07   60.0    退院        1.0\n",
       "1244  1245      141003  神奈川県   横浜市  2020/08/07   60.0    退院        1.0\n",
       "1253  1254      141003  神奈川県   横浜市  2020/08/07   80.0    退院        1.0\n",
       "1272  1273      141003  神奈川県   横浜市  2020/08/08   70.0    退院        1.0\n",
       "1275  1276      141003  神奈川県   横浜市  2020/08/08   70.0    退院        1.0\n",
       "\n",
       "[300 rows x 8 columns]"
      ],
      "text/html": "<div>\n<style scoped>\n    .dataframe tbody tr th:only-of-type {\n        vertical-align: middle;\n    }\n\n    .dataframe tbody tr th {\n        vertical-align: top;\n    }\n\n    .dataframe thead th {\n        text-align: right;\n    }\n</style>\n<table border=\"1\" class=\"dataframe\">\n  <thead>\n    <tr style=\"text-align: right;\">\n      <th></th>\n      <th>No</th>\n      <th>全国地方自治体コード</th>\n      <th>都道府県名</th>\n      <th>市区町村名</th>\n      <th>公表日</th>\n      <th>患者_年代</th>\n      <th>患者_状態</th>\n      <th>患者_退院済フラグ</th>\n    </tr>\n  </thead>\n  <tbody>\n    <tr>\n      <th>0</th>\n      <td>1</td>\n      <td>141003</td>\n      <td>神奈川県</td>\n      <td>横浜市</td>\n      <td>2020/02/18</td>\n      <td>60.0</td>\n      <td>退院</td>\n      <td>1.0</td>\n    </tr>\n    <tr>\n      <th>1</th>\n      <td>2</td>\n      <td>141003</td>\n      <td>神奈川県</td>\n      <td>横浜市</td>\n      <td>2020/02/20</td>\n      <td>60.0</td>\n      <td>退院</td>\n      <td>1.0</td>\n    </tr>\n    <tr>\n      <th>5</th>\n      <td>6</td>\n      <td>141003</td>\n      <td>神奈川県</td>\n      <td>横浜市</td>\n      <td>2020/03/05</td>\n      <td>60.0</td>\n      <td>退院</td>\n      <td>1.0</td>\n    </tr>\n    <tr>\n      <th>6</th>\n      <td>7</td>\n      <td>141003</td>\n      <td>神奈川県</td>\n      <td>横浜市</td>\n      <td>2020/03/05</td>\n      <td>70.0</td>\n      <td>退院</td>\n      <td>1.0</td>\n    </tr>\n    <tr>\n      <th>7</th>\n      <td>8</td>\n      <td>141003</td>\n      <td>神奈川県</td>\n      <td>横浜市</td>\n      <td>2020/03/11</td>\n      <td>70.0</td>\n      <td>退院</td>\n      <td>1.0</td>\n    </tr>\n    <tr>\n      <th>...</th>\n      <td>...</td>\n      <td>...</td>\n      <td>...</td>\n      <td>...</td>\n      <td>...</td>\n      <td>...</td>\n      <td>...</td>\n      <td>...</td>\n    </tr>\n    <tr>\n      <th>1242</th>\n      <td>1243</td>\n      <td>141003</td>\n      <td>神奈川県</td>\n      <td>横浜市</td>\n      <td>2020/08/07</td>\n      <td>60.0</td>\n      <td>退院</td>\n      <td>1.0</td>\n    </tr>\n    <tr>\n      <th>1244</th>\n      <td>1245</td>\n      <td>141003</td>\n      <td>神奈川県</td>\n      <td>横浜市</td>\n      <td>2020/08/07</td>\n      <td>60.0</td>\n      <td>退院</td>\n      <td>1.0</td>\n    </tr>\n    <tr>\n      <th>1253</th>\n      <td>1254</td>\n      <td>141003</td>\n      <td>神奈川県</td>\n      <td>横浜市</td>\n      <td>2020/08/07</td>\n      <td>80.0</td>\n      <td>退院</td>\n      <td>1.0</td>\n    </tr>\n    <tr>\n      <th>1272</th>\n      <td>1273</td>\n      <td>141003</td>\n      <td>神奈川県</td>\n      <td>横浜市</td>\n      <td>2020/08/08</td>\n      <td>70.0</td>\n      <td>退院</td>\n      <td>1.0</td>\n    </tr>\n    <tr>\n      <th>1275</th>\n      <td>1276</td>\n      <td>141003</td>\n      <td>神奈川県</td>\n      <td>横浜市</td>\n      <td>2020/08/08</td>\n      <td>70.0</td>\n      <td>退院</td>\n      <td>1.0</td>\n    </tr>\n  </tbody>\n</table>\n<p>300 rows × 8 columns</p>\n</div>"
     },
     "metadata": {},
     "execution_count": 5
    }
   ],
   "source": [
    "df2[df2['患者_年代']>50].head(300)"
   ]
  },
  {
   "cell_type": "code",
   "execution_count": 8,
   "metadata": {},
   "outputs": [
    {
     "output_type": "execute_result",
     "data": {
      "text/plain": [
       "        No  全国地方自治体コード 都道府県名 市区町村名         公表日  患者_年代 患者_状態  患者_退院済フラグ\n",
       "43      44      141003  神奈川県   横浜市  2020/04/03    2.0    退院        1.0\n",
       "44      45      141003  神奈川県   横浜市  2020/04/03    2.0    退院        1.0\n",
       "2126  2129      141003  神奈川県   横浜市  2020/09/02    5.0    退院        1.0\n",
       "2465  2468      141003  神奈川県   横浜市  2020/09/09    5.0    退院        1.0\n",
       "2464  2467      141003  神奈川県   横浜市  2020/09/09    5.0    退院        1.0\n",
       "1235  1236      141003  神奈川県   横浜市  2020/08/07    5.0    退院        1.0\n",
       "2463  2466      141003  神奈川県   横浜市  2020/09/09    5.0    退院        1.0\n",
       "2462  2465      141003  神奈川県   横浜市  2020/09/09    5.0    退院        1.0\n",
       "2461  2464      141003  神奈川県   横浜市  2020/09/09    5.0    退院        1.0\n",
       "2460  2463      141003  神奈川県   横浜市  2020/09/09    5.0    退院        1.0\n",
       "5276  5291      141003  神奈川県   横浜市  2020/11/22    5.0    軽症        NaN\n",
       "2459  2462      141003  神奈川県   横浜市  2020/09/09    5.0    退院        1.0\n",
       "2458  2461      141003  神奈川県   横浜市  2020/09/09    5.0    退院        1.0\n",
       "1733  1734      141003  神奈川県   横浜市  2020/08/21    5.0    退院        1.0\n",
       "2457  2460      141003  神奈川県   横浜市  2020/09/09    5.0    退院        1.0\n",
       "2456  2459      141003  神奈川県   横浜市  2020/09/09    5.0    退院        1.0\n",
       "5262  5277      141003  神奈川県   横浜市  2020/11/22    5.0    軽症        NaN\n",
       "2455  2458      141003  神奈川県   横浜市  2020/09/09    5.0    退院        1.0\n",
       "2454  2457      141003  神奈川県   横浜市  2020/09/09    5.0    退院        1.0\n",
       "2453  2456      141003  神奈川県   横浜市  2020/09/09    5.0    退院        1.0\n",
       "2452  2455      141003  神奈川県   横浜市  2020/09/09    5.0    退院        1.0\n",
       "2451  2454      141003  神奈川県   横浜市  2020/09/09    5.0    退院        1.0\n",
       "2450  2453      141003  神奈川県   横浜市  2020/09/09    5.0    退院        1.0\n",
       "1760  1761      141003  神奈川県   横浜市  2020/08/22    5.0    退院        1.0\n",
       "1761  1762      141003  神奈川県   横浜市  2020/08/22    5.0    退院        1.0\n",
       "2449  2452      141003  神奈川県   横浜市  2020/09/09    5.0    退院        1.0\n",
       "2435  2438      141003  神奈川県   横浜市  2020/09/09    5.0    退院        1.0\n",
       "2433  2436      141003  神奈川県   横浜市  2020/09/09    5.0    退院        1.0\n",
       "4042  4055      141003  神奈川県   横浜市  2020/11/04    5.0    退院        1.0\n",
       "2426  2429      141003  神奈川県   横浜市  2020/09/09    5.0    退院        1.0"
      ],
      "text/html": "<div>\n<style scoped>\n    .dataframe tbody tr th:only-of-type {\n        vertical-align: middle;\n    }\n\n    .dataframe tbody tr th {\n        vertical-align: top;\n    }\n\n    .dataframe thead th {\n        text-align: right;\n    }\n</style>\n<table border=\"1\" class=\"dataframe\">\n  <thead>\n    <tr style=\"text-align: right;\">\n      <th></th>\n      <th>No</th>\n      <th>全国地方自治体コード</th>\n      <th>都道府県名</th>\n      <th>市区町村名</th>\n      <th>公表日</th>\n      <th>患者_年代</th>\n      <th>患者_状態</th>\n      <th>患者_退院済フラグ</th>\n    </tr>\n  </thead>\n  <tbody>\n    <tr>\n      <th>43</th>\n      <td>44</td>\n      <td>141003</td>\n      <td>神奈川県</td>\n      <td>横浜市</td>\n      <td>2020/04/03</td>\n      <td>2.0</td>\n      <td>退院</td>\n      <td>1.0</td>\n    </tr>\n    <tr>\n      <th>44</th>\n      <td>45</td>\n      <td>141003</td>\n      <td>神奈川県</td>\n      <td>横浜市</td>\n      <td>2020/04/03</td>\n      <td>2.0</td>\n      <td>退院</td>\n      <td>1.0</td>\n    </tr>\n    <tr>\n      <th>2126</th>\n      <td>2129</td>\n      <td>141003</td>\n      <td>神奈川県</td>\n      <td>横浜市</td>\n      <td>2020/09/02</td>\n      <td>5.0</td>\n      <td>退院</td>\n      <td>1.0</td>\n    </tr>\n    <tr>\n      <th>2465</th>\n      <td>2468</td>\n      <td>141003</td>\n      <td>神奈川県</td>\n      <td>横浜市</td>\n      <td>2020/09/09</td>\n      <td>5.0</td>\n      <td>退院</td>\n      <td>1.0</td>\n    </tr>\n    <tr>\n      <th>2464</th>\n      <td>2467</td>\n      <td>141003</td>\n      <td>神奈川県</td>\n      <td>横浜市</td>\n      <td>2020/09/09</td>\n      <td>5.0</td>\n      <td>退院</td>\n      <td>1.0</td>\n    </tr>\n    <tr>\n      <th>1235</th>\n      <td>1236</td>\n      <td>141003</td>\n      <td>神奈川県</td>\n      <td>横浜市</td>\n      <td>2020/08/07</td>\n      <td>5.0</td>\n      <td>退院</td>\n      <td>1.0</td>\n    </tr>\n    <tr>\n      <th>2463</th>\n      <td>2466</td>\n      <td>141003</td>\n      <td>神奈川県</td>\n      <td>横浜市</td>\n      <td>2020/09/09</td>\n      <td>5.0</td>\n      <td>退院</td>\n      <td>1.0</td>\n    </tr>\n    <tr>\n      <th>2462</th>\n      <td>2465</td>\n      <td>141003</td>\n      <td>神奈川県</td>\n      <td>横浜市</td>\n      <td>2020/09/09</td>\n      <td>5.0</td>\n      <td>退院</td>\n      <td>1.0</td>\n    </tr>\n    <tr>\n      <th>2461</th>\n      <td>2464</td>\n      <td>141003</td>\n      <td>神奈川県</td>\n      <td>横浜市</td>\n      <td>2020/09/09</td>\n      <td>5.0</td>\n      <td>退院</td>\n      <td>1.0</td>\n    </tr>\n    <tr>\n      <th>2460</th>\n      <td>2463</td>\n      <td>141003</td>\n      <td>神奈川県</td>\n      <td>横浜市</td>\n      <td>2020/09/09</td>\n      <td>5.0</td>\n      <td>退院</td>\n      <td>1.0</td>\n    </tr>\n    <tr>\n      <th>5276</th>\n      <td>5291</td>\n      <td>141003</td>\n      <td>神奈川県</td>\n      <td>横浜市</td>\n      <td>2020/11/22</td>\n      <td>5.0</td>\n      <td>軽症</td>\n      <td>NaN</td>\n    </tr>\n    <tr>\n      <th>2459</th>\n      <td>2462</td>\n      <td>141003</td>\n      <td>神奈川県</td>\n      <td>横浜市</td>\n      <td>2020/09/09</td>\n      <td>5.0</td>\n      <td>退院</td>\n      <td>1.0</td>\n    </tr>\n    <tr>\n      <th>2458</th>\n      <td>2461</td>\n      <td>141003</td>\n      <td>神奈川県</td>\n      <td>横浜市</td>\n      <td>2020/09/09</td>\n      <td>5.0</td>\n      <td>退院</td>\n      <td>1.0</td>\n    </tr>\n    <tr>\n      <th>1733</th>\n      <td>1734</td>\n      <td>141003</td>\n      <td>神奈川県</td>\n      <td>横浜市</td>\n      <td>2020/08/21</td>\n      <td>5.0</td>\n      <td>退院</td>\n      <td>1.0</td>\n    </tr>\n    <tr>\n      <th>2457</th>\n      <td>2460</td>\n      <td>141003</td>\n      <td>神奈川県</td>\n      <td>横浜市</td>\n      <td>2020/09/09</td>\n      <td>5.0</td>\n      <td>退院</td>\n      <td>1.0</td>\n    </tr>\n    <tr>\n      <th>2456</th>\n      <td>2459</td>\n      <td>141003</td>\n      <td>神奈川県</td>\n      <td>横浜市</td>\n      <td>2020/09/09</td>\n      <td>5.0</td>\n      <td>退院</td>\n      <td>1.0</td>\n    </tr>\n    <tr>\n      <th>5262</th>\n      <td>5277</td>\n      <td>141003</td>\n      <td>神奈川県</td>\n      <td>横浜市</td>\n      <td>2020/11/22</td>\n      <td>5.0</td>\n      <td>軽症</td>\n      <td>NaN</td>\n    </tr>\n    <tr>\n      <th>2455</th>\n      <td>2458</td>\n      <td>141003</td>\n      <td>神奈川県</td>\n      <td>横浜市</td>\n      <td>2020/09/09</td>\n      <td>5.0</td>\n      <td>退院</td>\n      <td>1.0</td>\n    </tr>\n    <tr>\n      <th>2454</th>\n      <td>2457</td>\n      <td>141003</td>\n      <td>神奈川県</td>\n      <td>横浜市</td>\n      <td>2020/09/09</td>\n      <td>5.0</td>\n      <td>退院</td>\n      <td>1.0</td>\n    </tr>\n    <tr>\n      <th>2453</th>\n      <td>2456</td>\n      <td>141003</td>\n      <td>神奈川県</td>\n      <td>横浜市</td>\n      <td>2020/09/09</td>\n      <td>5.0</td>\n      <td>退院</td>\n      <td>1.0</td>\n    </tr>\n    <tr>\n      <th>2452</th>\n      <td>2455</td>\n      <td>141003</td>\n      <td>神奈川県</td>\n      <td>横浜市</td>\n      <td>2020/09/09</td>\n      <td>5.0</td>\n      <td>退院</td>\n      <td>1.0</td>\n    </tr>\n    <tr>\n      <th>2451</th>\n      <td>2454</td>\n      <td>141003</td>\n      <td>神奈川県</td>\n      <td>横浜市</td>\n      <td>2020/09/09</td>\n      <td>5.0</td>\n      <td>退院</td>\n      <td>1.0</td>\n    </tr>\n    <tr>\n      <th>2450</th>\n      <td>2453</td>\n      <td>141003</td>\n      <td>神奈川県</td>\n      <td>横浜市</td>\n      <td>2020/09/09</td>\n      <td>5.0</td>\n      <td>退院</td>\n      <td>1.0</td>\n    </tr>\n    <tr>\n      <th>1760</th>\n      <td>1761</td>\n      <td>141003</td>\n      <td>神奈川県</td>\n      <td>横浜市</td>\n      <td>2020/08/22</td>\n      <td>5.0</td>\n      <td>退院</td>\n      <td>1.0</td>\n    </tr>\n    <tr>\n      <th>1761</th>\n      <td>1762</td>\n      <td>141003</td>\n      <td>神奈川県</td>\n      <td>横浜市</td>\n      <td>2020/08/22</td>\n      <td>5.0</td>\n      <td>退院</td>\n      <td>1.0</td>\n    </tr>\n    <tr>\n      <th>2449</th>\n      <td>2452</td>\n      <td>141003</td>\n      <td>神奈川県</td>\n      <td>横浜市</td>\n      <td>2020/09/09</td>\n      <td>5.0</td>\n      <td>退院</td>\n      <td>1.0</td>\n    </tr>\n    <tr>\n      <th>2435</th>\n      <td>2438</td>\n      <td>141003</td>\n      <td>神奈川県</td>\n      <td>横浜市</td>\n      <td>2020/09/09</td>\n      <td>5.0</td>\n      <td>退院</td>\n      <td>1.0</td>\n    </tr>\n    <tr>\n      <th>2433</th>\n      <td>2436</td>\n      <td>141003</td>\n      <td>神奈川県</td>\n      <td>横浜市</td>\n      <td>2020/09/09</td>\n      <td>5.0</td>\n      <td>退院</td>\n      <td>1.0</td>\n    </tr>\n    <tr>\n      <th>4042</th>\n      <td>4055</td>\n      <td>141003</td>\n      <td>神奈川県</td>\n      <td>横浜市</td>\n      <td>2020/11/04</td>\n      <td>5.0</td>\n      <td>退院</td>\n      <td>1.0</td>\n    </tr>\n    <tr>\n      <th>2426</th>\n      <td>2429</td>\n      <td>141003</td>\n      <td>神奈川県</td>\n      <td>横浜市</td>\n      <td>2020/09/09</td>\n      <td>5.0</td>\n      <td>退院</td>\n      <td>1.0</td>\n    </tr>\n  </tbody>\n</table>\n</div>"
     },
     "metadata": {},
     "execution_count": 8
    }
   ],
   "source": [
    "df2.sort_values(by='患者_年代').head(30)"
   ]
  },
  {
   "cell_type": "code",
   "execution_count": null,
   "metadata": {},
   "outputs": [],
   "source": []
  },
  {
   "cell_type": "markdown",
   "metadata": {},
   "source": [
    "### Numpy の基本"
   ]
  },
  {
   "cell_type": "markdown",
   "metadata": {},
   "source": [
    "import numpy as np"
   ]
  },
  {
   "cell_type": "code",
   "execution_count": 35,
   "metadata": {},
   "outputs": [
    {
     "data": {
      "text/plain": [
       "array([1, 2, 3])"
      ]
     },
     "execution_count": 35,
     "metadata": {},
     "output_type": "execute_result"
    }
   ],
   "source": [
    "x = np.array([1,2,3])\n",
    "x"
   ]
  },
  {
   "cell_type": "code",
   "execution_count": 36,
   "metadata": {},
   "outputs": [
    {
     "data": {
      "text/plain": [
       "(3,)"
      ]
     },
     "execution_count": 36,
     "metadata": {},
     "output_type": "execute_result"
    }
   ],
   "source": [
    "x.shape"
   ]
  },
  {
   "cell_type": "code",
   "execution_count": 37,
   "metadata": {},
   "outputs": [
    {
     "data": {
      "text/plain": [
       "1"
      ]
     },
     "execution_count": 37,
     "metadata": {},
     "output_type": "execute_result"
    }
   ],
   "source": [
    "x.ndim"
   ]
  },
  {
   "cell_type": "code",
   "execution_count": 38,
   "metadata": {},
   "outputs": [],
   "source": [
    "y = np.array([\n",
    "    [1,2,3],\n",
    "    [4,5,6],\n",
    "    [7,8,9]\n",
    "])"
   ]
  },
  {
   "cell_type": "code",
   "execution_count": 40,
   "metadata": {},
   "outputs": [
    {
     "data": {
      "text/plain": [
       "2"
      ]
     },
     "execution_count": 40,
     "metadata": {},
     "output_type": "execute_result"
    }
   ],
   "source": [
    "y.ndim"
   ]
  },
  {
   "cell_type": "code",
   "execution_count": 42,
   "metadata": {},
   "outputs": [
    {
     "data": {
      "text/plain": [
       "array([[0., 0., 0.],\n",
       "       [0., 0., 0.],\n",
       "       [0., 0., 0.]])"
      ]
     },
     "execution_count": 42,
     "metadata": {},
     "output_type": "execute_result"
    }
   ],
   "source": [
    "np.zeros([3,3])"
   ]
  },
  {
   "cell_type": "code",
   "execution_count": 43,
   "metadata": {},
   "outputs": [
    {
     "data": {
      "text/plain": [
       "5.0"
      ]
     },
     "execution_count": 43,
     "metadata": {},
     "output_type": "execute_result"
    }
   ],
   "source": [
    "y.mean()"
   ]
  },
  {
   "cell_type": "markdown",
   "metadata": {},
   "source": [
    "リンクの表示１: https://developers.line.biz/ja/ "
   ]
  },
  {
   "cell_type": "markdown",
   "metadata": {},
   "source": [
    "リンクの表示２ [Link](https://developers.line.biz/ja/)"
   ]
  },
  {
   "cell_type": "markdown",
   "metadata": {},
   "source": [
    "[Google][1]/[Line][2]\n",
    "\n",
    "[1]: https://www.google.com/?hl=ja \"Google\"\n",
    "[2]: https://developers.line.biz/ja/ \"Line\""
   ]
  },
  {
   "cell_type": "markdown",
   "metadata": {},
   "source": [
    "1. k\n",
    "2. l\n",
    "1. l"
   ]
  },
  {
   "cell_type": "markdown",
   "metadata": {},
   "source": [
    "$$\n",
    "\\int_a^b f(x) dx \\\\\n",
    "\\iiint_D dx \\\\\n",
    "$$"
   ]
  },
  {
   "cell_type": "markdown",
   "metadata": {},
   "source": []
  },
  {
   "cell_type": "code",
   "execution_count": 3,
   "metadata": {},
   "outputs": [],
   "source": [
    "import numpy as np"
   ]
  },
  {
   "cell_type": "code",
   "execution_count": 10,
   "metadata": {},
   "outputs": [
    {
     "name": "stdout",
     "output_type": "stream",
     "text": [
      "[10 20 30]\n"
     ]
    }
   ],
   "source": [
    "arr = np.array([10,20,30])\n",
    "print(arr)"
   ]
  },
  {
   "cell_type": "code",
   "execution_count": 13,
   "metadata": {},
   "outputs": [
    {
     "name": "stdout",
     "output_type": "stream",
     "text": [
      "[ 0 20 40 60 80] [  0.  25.  50.  75. 100.]\n"
     ]
    }
   ],
   "source": [
    "arr1 = np.arange(0,100,20)\n",
    "arr2 = np.linspace(0,100,5)\n",
    "print(arr1,arr2)"
   ]
  },
  {
   "cell_type": "code",
   "execution_count": 52,
   "metadata": {},
   "outputs": [
    {
     "name": "stdout",
     "output_type": "stream",
     "text": [
      "[10 20 30]\n",
      "[20 30 40]\n",
      "[0 0 0]\n"
     ]
    }
   ],
   "source": [
    "print(arr)\n",
    "print(arr + 10)\n",
    "print(arr % 2)"
   ]
  },
  {
   "cell_type": "markdown",
   "metadata": {},
   "source": [
    "## ListとNumpy array(ベクトル)の違い"
   ]
  },
  {
   "cell_type": "code",
   "execution_count": 53,
   "metadata": {},
   "outputs": [
    {
     "name": "stdout",
     "output_type": "stream",
     "text": [
      "[1, 2, 3, 4, 5, 6, 7, 8]\n"
     ]
    }
   ],
   "source": [
    "list1 = [1,2,3,4]\n",
    "list2 = [5,6,7,8]\n",
    "print(list1 + list2)"
   ]
  },
  {
   "cell_type": "code",
   "execution_count": 54,
   "metadata": {},
   "outputs": [
    {
     "name": "stdout",
     "output_type": "stream",
     "text": [
      "[ 6  8 10 12]\n"
     ]
    }
   ],
   "source": [
    "arr1 = np.array([1,2,3,4])\n",
    "arr2 = np.array([5,6,7,8])\n",
    "print(arr1 + arr2)"
   ]
  },
  {
   "cell_type": "markdown",
   "metadata": {},
   "source": [
    "#### 単位行列の作成"
   ]
  },
  {
   "cell_type": "code",
   "execution_count": 56,
   "metadata": {},
   "outputs": [
    {
     "data": {
      "text/plain": [
       "array([[1., 0., 0.],\n",
       "       [0., 1., 0.],\n",
       "       [0., 0., 1.]])"
      ]
     },
     "execution_count": 56,
     "metadata": {},
     "output_type": "execute_result"
    }
   ],
   "source": [
    "arr3 = np.identity(3)\n",
    "arr3"
   ]
  },
  {
   "cell_type": "code",
   "execution_count": 57,
   "metadata": {},
   "outputs": [
    {
     "data": {
      "text/plain": [
       "array([[0., 0., 1., 0., 0., 0., 0.],\n",
       "       [0., 0., 0., 1., 0., 0., 0.],\n",
       "       [0., 0., 0., 0., 1., 0., 0.],\n",
       "       [0., 0., 0., 0., 0., 1., 0.],\n",
       "       [0., 0., 0., 0., 0., 0., 1.]])"
      ]
     },
     "execution_count": 57,
     "metadata": {},
     "output_type": "execute_result"
    }
   ],
   "source": [
    "arr4 = np.eye(5,7,2)\n",
    "arr4"
   ]
  },
  {
   "cell_type": "markdown",
   "metadata": {},
   "source": [
    "ベクトルから行列への変換"
   ]
  },
  {
   "cell_type": "code",
   "execution_count": 58,
   "metadata": {},
   "outputs": [
    {
     "name": "stdout",
     "output_type": "stream",
     "text": [
      "[1 2 3 4 5 6 7 8 9]\n",
      "[[1 2 3]\n",
      " [4 5 6]\n",
      " [7 8 9]]\n"
     ]
    }
   ],
   "source": [
    "arr1 = np.array([1,2,3,4,5,6,7,8,9])\n",
    "arr2 = arr1.reshape((3,3))\n",
    "print(arr1)\n",
    "print(arr2)"
   ]
  },
  {
   "cell_type": "markdown",
   "metadata": {},
   "source": [
    "行列からベクトルへ"
   ]
  },
  {
   "cell_type": "code",
   "execution_count": 5,
   "metadata": {},
   "outputs": [
    {
     "name": "stdout",
     "output_type": "stream",
     "text": [
      "[[1 0 0 0]\n",
      " [0 2 0 0]\n",
      " [0 0 3 0]\n",
      " [0 0 0 5]]\n",
      "[1 0 0 0 0 2 0 0 0 0 3 0 0 0 0 5]\n"
     ]
    }
   ],
   "source": [
    "arr1 = np.diag([1,2,3,5])\n",
    "arr2 = np.ravel(arr1)\n",
    "print(arr1)\n",
    "print(arr2)"
   ]
  },
  {
   "cell_type": "markdown",
   "metadata": {},
   "source": [
    "転置について"
   ]
  },
  {
   "cell_type": "code",
   "execution_count": 4,
   "metadata": {},
   "outputs": [
    {
     "name": "stdout",
     "output_type": "stream",
     "text": [
      "[[ 1  2  3]\n",
      " [ 5  8 13]\n",
      " [21 34 55]]\n",
      "[[ 1  5 21]\n",
      " [ 2  8 34]\n",
      " [ 3 13 55]]\n"
     ]
    }
   ],
   "source": [
    "arr1 = np.array([1,2,3,5,8,13,21,34,55])\n",
    "arr2 = arr1.reshape((3,3))\n",
    "print(arr2)\n",
    "print(arr2.T)"
   ]
  },
  {
   "cell_type": "markdown",
   "metadata": {},
   "source": [
    "ベクトルの結合"
   ]
  },
  {
   "cell_type": "code",
   "execution_count": 9,
   "metadata": {},
   "outputs": [
    {
     "name": "stdout",
     "output_type": "stream",
     "text": [
      "[ 6 10 16]\n",
      "[ 1  2  3  5  8 13]\n"
     ]
    }
   ],
   "source": [
    "arr1 = np.array([1,2,3])\n",
    "arr2 = np.array([5,8,13])\n",
    "arr3 = arr1 + arr2\n",
    "print(arr3)\n",
    "arr4 = np.ravel([arr1,arr2])\n",
    "print(arr4)"
   ]
  },
  {
   "cell_type": "markdown",
   "metadata": {},
   "source": [
    "# Matplotlib"
   ]
  },
  {
   "cell_type": "code",
   "execution_count": 7,
   "metadata": {},
   "outputs": [],
   "source": [
    "import numpy as np\n",
    "import matplotlib.pyplot as plt\n",
    "from matplotlib.image import imread"
   ]
  },
  {
   "cell_type": "code",
   "execution_count": 2,
   "metadata": {},
   "outputs": [
    {
     "data": {
      "image/png": "[encoded data removed]",
      "image/svg+xml": [
       "<?xml version=\"1.0\" encoding=\"utf-8\" standalone=\"no\"?>\n",
       "<!DOCTYPE svg PUBLIC \"-//W3C//DTD SVG 1.1//EN\"\n",
       "  \"http://www.w3.org/Graphics/SVG/1.1/DTD/svg11.dtd\">\n",
       "<!-- Created with matplotlib (https://matplotlib.org/) -->\n",
       "<svg height=\"248.230625pt\" version=\"1.1\" viewBox=\"0 0 384.520312 248.230625\" width=\"384.520312pt\" xmlns=\"http://www.w3.org/2000/svg\" xmlns:xlink=\"http://www.w3.org/1999/xlink\">\n",
       " <defs>\n",
       "  <style type=\"text/css\">\n",
       "*{stroke-linecap:butt;stroke-linejoin:round;}\n",
       "  </style>\n",
       " </defs>\n",
       " <g id=\"figure_1\">\n",
       "  <g id=\"patch_1\">\n",
       "   <path d=\"M 0 248.230625 \n",
       "L 384.520312 248.230625 \n",
       "L 384.520312 0 \n",
       "L 0 0 \n",
       "z\n",
       "\" style=\"fill:none;\"/>\n",
       "  </g>\n",
       "  <g id=\"axes_1\">\n",
       "   <g id=\"patch_2\">\n",
       "    <path d=\"M 42.520313 224.64 \n",
       "L 377.320312 224.64 \n",
       "L 377.320312 7.2 \n",
       "L 42.520313 7.2 \n",
       "z\n",
       "\" style=\"fill:#ffffff;\"/>\n",
       "   </g>\n",
       "   <g id=\"matplotlib.axis_1\">\n",
       "    <g id=\"xtick_1\">\n",
       "     <g id=\"line2d_1\">\n",
       "      <defs>\n",
       "       <path d=\"M 0 0 \n",
       "L 0 3.5 \n",
       "\" id=\"mfaebbac113\" style=\"stroke:#000000;stroke-width:0.8;\"/>\n",
       "      </defs>\n",
       "      <g>\n",
       "       <use style=\"stroke:#000000;stroke-width:0.8;\" x=\"57.738494\" xlink:href=\"#mfaebbac113\" y=\"224.64\"/>\n",
       "      </g>\n",
       "     </g>\n",
       "     <g id=\"text_1\">\n",
       "      <!-- 0 -->\n",
       "      <defs>\n",
       "       <path d=\"M 31.84375 73.828125 \n",
       "Q 45.015625 73.828125 52.09375 61.625 \n",
       "Q 57.71875 51.953125 57.71875 36.625 \n",
       "Q 57.71875 21.4375 52.09375 11.578125 \n",
       "Q 45.125 -0.484375 31.5 -0.484375 \n",
       "Q 17.921875 -0.484375 10.9375 11.578125 \n",
       "Q 5.328125 21.4375 5.328125 36.71875 \n",
       "Q 5.328125 58.015625 15.625 67.71875 \n",
       "Q 22.171875 73.828125 31.84375 73.828125 \n",
       "z\n",
       "M 31.5 66.65625 \n",
       "Q 23.6875 66.65625 19.1875 58.734375 \n",
       "Q 14.59375 50.734375 14.59375 36.625 \n",
       "Q 14.59375 22.75 19.09375 14.796875 \n",
       "Q 23.640625 6.984375 31.5 6.984375 \n",
       "Q 40.921875 6.984375 45.453125 18.015625 \n",
       "Q 48.4375 25.34375 48.4375 37.109375 \n",
       "Q 48.4375 50.875 43.84375 58.734375 \n",
       "Q 39.203125 66.65625 31.5 66.65625 \n",
       "z\n",
       "\" id=\"IPAexGothic-48\"/>\n",
       "      </defs>\n",
       "      <g transform=\"translate(54.589276 239.130625)scale(0.1 -0.1)\">\n",
       "       <use xlink:href=\"#IPAexGothic-48\"/>\n",
       "      </g>\n",
       "     </g>\n",
       "    </g>\n",
       "    <g id=\"xtick_2\">\n",
       "     <g id=\"line2d_2\">\n",
       "      <g>\n",
       "       <use style=\"stroke:#000000;stroke-width:0.8;\" x=\"109.325551\" xlink:href=\"#mfaebbac113\" y=\"224.64\"/>\n",
       "      </g>\n",
       "     </g>\n",
       "     <g id=\"text_2\">\n",
       "      <!-- 1 -->\n",
       "      <defs>\n",
       "       <path d=\"M 38.484375 0.984375 \n",
       "L 29.6875 0.984375 \n",
       "L 29.6875 64.109375 \n",
       "Q 21.4375 61.28125 12.3125 59.328125 \n",
       "L 10.6875 66.109375 \n",
       "Q 23.734375 69.390625 32.90625 73.921875 \n",
       "L 38.484375 73.921875 \n",
       "z\n",
       "\" id=\"IPAexGothic-49\"/>\n",
       "      </defs>\n",
       "      <g transform=\"translate(106.176333 239.130625)scale(0.1 -0.1)\">\n",
       "       <use xlink:href=\"#IPAexGothic-49\"/>\n",
       "      </g>\n",
       "     </g>\n",
       "    </g>\n",
       "    <g id=\"xtick_3\">\n",
       "     <g id=\"line2d_3\">\n",
       "      <g>\n",
       "       <use style=\"stroke:#000000;stroke-width:0.8;\" x=\"160.912608\" xlink:href=\"#mfaebbac113\" y=\"224.64\"/>\n",
       "      </g>\n",
       "     </g>\n",
       "     <g id=\"text_3\">\n",
       "      <!-- 2 -->\n",
       "      <defs>\n",
       "       <path d=\"M 57.171875 0.984375 \n",
       "L 6.984375 0.984375 \n",
       "L 6.984375 9.28125 \n",
       "Q 12.890625 23.046875 29.59375 34.421875 \n",
       "L 32.375 36.28125 \n",
       "Q 40.921875 42.140625 43.609375 45.40625 \n",
       "Q 46.6875 49.265625 46.6875 53.8125 \n",
       "Q 46.6875 58.9375 43.0625 62.546875 \n",
       "Q 39.0625 66.546875 32.5625 66.546875 \n",
       "Q 19.53125 66.546875 15.484375 52 \n",
       "L 7.765625 54.78125 \n",
       "Q 13.328125 73.828125 33.0625 73.828125 \n",
       "Q 43.84375 73.828125 50.25 67.4375 \n",
       "Q 55.859375 61.671875 55.859375 53.515625 \n",
       "Q 55.859375 47.46875 52.25 42.53125 \n",
       "Q 48.921875 37.75 36.96875 30.28125 \n",
       "L 34.859375 29 \n",
       "Q 19.625 19.578125 15.28125 8.890625 \n",
       "L 57.171875 8.890625 \n",
       "z\n",
       "\" id=\"IPAexGothic-50\"/>\n",
       "      </defs>\n",
       "      <g transform=\"translate(157.76339 239.130625)scale(0.1 -0.1)\">\n",
       "       <use xlink:href=\"#IPAexGothic-50\"/>\n",
       "      </g>\n",
       "     </g>\n",
       "    </g>\n",
       "    <g id=\"xtick_4\">\n",
       "     <g id=\"line2d_4\">\n",
       "      <g>\n",
       "       <use style=\"stroke:#000000;stroke-width:0.8;\" x=\"212.499665\" xlink:href=\"#mfaebbac113\" y=\"224.64\"/>\n",
       "      </g>\n",
       "     </g>\n",
       "     <g id=\"text_4\">\n",
       "      <!-- 3 -->\n",
       "      <defs>\n",
       "       <path d=\"M 37.203125 37.796875 \n",
       "Q 54.78125 34.625 54.78125 19.96875 \n",
       "Q 54.78125 11.1875 48.875 5.5625 \n",
       "Q 42.328125 -0.484375 30.375 -0.484375 \n",
       "Q 12.453125 -0.484375 4.5 13.765625 \n",
       "L 11.8125 17.671875 \n",
       "Q 17.328125 6.890625 30.28125 6.890625 \n",
       "Q 37.890625 6.890625 42.09375 10.796875 \n",
       "Q 46.09375 14.5 46.09375 20.171875 \n",
       "Q 46.09375 26.859375 40.09375 30.90625 \n",
       "Q 34.625 34.578125 25.6875 34.578125 \n",
       "L 21.296875 34.578125 \n",
       "L 21.296875 41.703125 \n",
       "L 25.875 41.703125 \n",
       "Q 34.859375 41.703125 39.59375 45.125 \n",
       "Q 44.671875 48.734375 44.671875 54.828125 \n",
       "Q 44.671875 61.46875 38.96875 64.65625 \n",
       "Q 35.296875 66.84375 30.171875 66.84375 \n",
       "Q 19.34375 66.84375 14.109375 55.90625 \n",
       "L 6.78125 59.421875 \n",
       "Q 14.015625 73.828125 30.28125 73.828125 \n",
       "Q 40.578125 73.828125 46.96875 68.65625 \n",
       "Q 53.375 63.578125 53.375 55.21875 \n",
       "Q 53.375 47.3125 47.171875 42.28125 \n",
       "Q 43.171875 39.0625 37.203125 38.1875 \n",
       "z\n",
       "\" id=\"IPAexGothic-51\"/>\n",
       "      </defs>\n",
       "      <g transform=\"translate(209.350447 239.130625)scale(0.1 -0.1)\">\n",
       "       <use xlink:href=\"#IPAexGothic-51\"/>\n",
       "      </g>\n",
       "     </g>\n",
       "    </g>\n",
       "    <g id=\"xtick_5\">\n",
       "     <g id=\"line2d_5\">\n",
       "      <g>\n",
       "       <use style=\"stroke:#000000;stroke-width:0.8;\" x=\"264.086722\" xlink:href=\"#mfaebbac113\" y=\"224.64\"/>\n",
       "      </g>\n",
       "     </g>\n",
       "     <g id=\"text_5\">\n",
       "      <!-- 4 -->\n",
       "      <defs>\n",
       "       <path d=\"M 59.578125 18.109375 \n",
       "L 47.796875 18.109375 \n",
       "L 47.796875 0.984375 \n",
       "L 39.796875 0.984375 \n",
       "L 39.796875 18.109375 \n",
       "L 3.078125 18.109375 \n",
       "L 3.078125 26.125 \n",
       "L 38.375 73.09375 \n",
       "L 47.796875 73.09375 \n",
       "L 47.796875 25.53125 \n",
       "L 59.578125 25.53125 \n",
       "z\n",
       "M 40.28125 64.203125 \n",
       "L 39.984375 64.203125 \n",
       "Q 35.59375 57.125 31.296875 51.3125 \n",
       "L 11.859375 25.53125 \n",
       "L 39.796875 25.53125 \n",
       "L 39.796875 49.125 \n",
       "Q 39.796875 54.390625 40.28125 64.203125 \n",
       "z\n",
       "\" id=\"IPAexGothic-52\"/>\n",
       "      </defs>\n",
       "      <g transform=\"translate(260.937504 239.130625)scale(0.1 -0.1)\">\n",
       "       <use xlink:href=\"#IPAexGothic-52\"/>\n",
       "      </g>\n",
       "     </g>\n",
       "    </g>\n",
       "    <g id=\"xtick_6\">\n",
       "     <g id=\"line2d_6\">\n",
       "      <g>\n",
       "       <use style=\"stroke:#000000;stroke-width:0.8;\" x=\"315.673779\" xlink:href=\"#mfaebbac113\" y=\"224.64\"/>\n",
       "      </g>\n",
       "     </g>\n",
       "     <g id=\"text_6\">\n",
       "      <!-- 5 -->\n",
       "      <defs>\n",
       "       <path d=\"M 18.40625 40.671875 \n",
       "Q 25.53125 46.296875 33.9375 46.296875 \n",
       "Q 44 46.296875 50.640625 39.5 \n",
       "Q 56.84375 33.015625 56.84375 23.390625 \n",
       "Q 56.84375 14.65625 51.515625 8.015625 \n",
       "Q 44.828125 -0.484375 31.734375 -0.484375 \n",
       "Q 14.984375 -0.484375 7.328125 12.25 \n",
       "L 14.65625 16.0625 \n",
       "Q 20.453125 6.78125 31.453125 6.78125 \n",
       "Q 38.53125 6.78125 43.265625 11.1875 \n",
       "Q 48.140625 15.828125 48.140625 23.484375 \n",
       "Q 48.140625 30.71875 43.84375 35.015625 \n",
       "Q 39.359375 39.5 32.125 39.5 \n",
       "Q 21.96875 39.5 16.75 31.6875 \n",
       "L 9.234375 32.671875 \n",
       "L 13.8125 72.40625 \n",
       "L 53.21875 72.40625 \n",
       "L 53.21875 64.890625 \n",
       "L 20.953125 64.890625 \n",
       "L 17.71875 40.671875 \n",
       "z\n",
       "\" id=\"IPAexGothic-53\"/>\n",
       "      </defs>\n",
       "      <g transform=\"translate(312.524561 239.130625)scale(0.1 -0.1)\">\n",
       "       <use xlink:href=\"#IPAexGothic-53\"/>\n",
       "      </g>\n",
       "     </g>\n",
       "    </g>\n",
       "    <g id=\"xtick_7\">\n",
       "     <g id=\"line2d_7\">\n",
       "      <g>\n",
       "       <use style=\"stroke:#000000;stroke-width:0.8;\" x=\"367.260836\" xlink:href=\"#mfaebbac113\" y=\"224.64\"/>\n",
       "      </g>\n",
       "     </g>\n",
       "     <g id=\"text_7\">\n",
       "      <!-- 6 -->\n",
       "      <defs>\n",
       "       <path d=\"M 16.5 36.375 \n",
       "Q 23.578125 46.578125 34.90625 46.578125 \n",
       "Q 45.40625 46.578125 51.8125 39.265625 \n",
       "Q 57.421875 32.90625 57.421875 23.78125 \n",
       "Q 57.421875 13.8125 51.125 6.78125 \n",
       "Q 44.578125 -0.484375 34.03125 -0.484375 \n",
       "Q 21.484375 -0.484375 14.40625 9.078125 \n",
       "Q 7.515625 18.40625 7.515625 34.8125 \n",
       "Q 7.515625 53.515625 15.828125 64.203125 \n",
       "Q 23.34375 73.828125 35.5 73.828125 \n",
       "Q 49.859375 73.828125 56.390625 62.890625 \n",
       "L 49.21875 58.984375 \n",
       "Q 45.21875 66.65625 35.9375 66.65625 \n",
       "Q 17.484375 66.65625 16.109375 36.375 \n",
       "z\n",
       "M 33.453125 39.796875 \n",
       "Q 26.3125 39.796875 21.625 34.46875 \n",
       "Q 17.4375 29.6875 17.4375 24.078125 \n",
       "Q 17.4375 18.0625 21.140625 13.1875 \n",
       "Q 26.125 6.6875 33.734375 6.6875 \n",
       "Q 41.703125 6.6875 45.953125 13.1875 \n",
       "Q 48.828125 17.625 48.828125 23.484375 \n",
       "Q 48.828125 30.375 45.015625 34.8125 \n",
       "Q 40.625 39.796875 33.453125 39.796875 \n",
       "z\n",
       "\" id=\"IPAexGothic-54\"/>\n",
       "      </defs>\n",
       "      <g transform=\"translate(364.111618 239.130625)scale(0.1 -0.1)\">\n",
       "       <use xlink:href=\"#IPAexGothic-54\"/>\n",
       "      </g>\n",
       "     </g>\n",
       "    </g>\n",
       "   </g>\n",
       "   <g id=\"matplotlib.axis_2\">\n",
       "    <g id=\"ytick_1\">\n",
       "     <g id=\"line2d_8\">\n",
       "      <defs>\n",
       "       <path d=\"M 0 0 \n",
       "L -3.5 0 \n",
       "\" id=\"m2cf3dde96d\" style=\"stroke:#000000;stroke-width:0.8;\"/>\n",
       "      </defs>\n",
       "      <g>\n",
       "       <use style=\"stroke:#000000;stroke-width:0.8;\" x=\"42.520313\" xlink:href=\"#m2cf3dde96d\" y=\"214.76395\"/>\n",
       "      </g>\n",
       "     </g>\n",
       "     <g id=\"text_8\">\n",
       "      <!-- −1.00 -->\n",
       "      <defs>\n",
       "       <path d=\"M 6.5 34.71875 \n",
       "L 61.28125 34.71875 \n",
       "L 61.28125 29 \n",
       "L 6.5 29 \n",
       "z\n",
       "\" id=\"IPAexGothic-8722\"/>\n",
       "       <path d=\"M 18.5 0.984375 \n",
       "L 7.71875 0.984375 \n",
       "L 7.71875 11.765625 \n",
       "L 18.5 11.765625 \n",
       "z\n",
       "\" id=\"IPAexGothic-46\"/>\n",
       "      </defs>\n",
       "      <g transform=\"translate(7.2 218.509263)scale(0.1 -0.1)\">\n",
       "       <use xlink:href=\"#IPAexGothic-8722\"/>\n",
       "       <use x=\"67.822266\" xlink:href=\"#IPAexGothic-49\"/>\n",
       "       <use x=\"130.810547\" xlink:href=\"#IPAexGothic-46\"/>\n",
       "       <use x=\"157.226562\" xlink:href=\"#IPAexGothic-48\"/>\n",
       "       <use x=\"220.214844\" xlink:href=\"#IPAexGothic-48\"/>\n",
       "      </g>\n",
       "     </g>\n",
       "    </g>\n",
       "    <g id=\"ytick_2\">\n",
       "     <g id=\"line2d_9\">\n",
       "      <g>\n",
       "       <use style=\"stroke:#000000;stroke-width:0.8;\" x=\"42.520313\" xlink:href=\"#m2cf3dde96d\" y=\"190.048642\"/>\n",
       "      </g>\n",
       "     </g>\n",
       "     <g id=\"text_9\">\n",
       "      <!-- −0.75 -->\n",
       "      <defs>\n",
       "       <path d=\"M 56.203125 66.609375 \n",
       "Q 34.96875 32.90625 27.78125 0.984375 \n",
       "L 17.671875 0.984375 \n",
       "Q 24.703125 28.65625 46.09375 64.5 \n",
       "L 6.6875 64.5 \n",
       "L 6.6875 72.40625 \n",
       "L 56.203125 72.40625 \n",
       "z\n",
       "\" id=\"IPAexGothic-55\"/>\n",
       "      </defs>\n",
       "      <g transform=\"translate(7.2 193.793954)scale(0.1 -0.1)\">\n",
       "       <use xlink:href=\"#IPAexGothic-8722\"/>\n",
       "       <use x=\"67.822266\" xlink:href=\"#IPAexGothic-48\"/>\n",
       "       <use x=\"130.810547\" xlink:href=\"#IPAexGothic-46\"/>\n",
       "       <use x=\"157.226562\" xlink:href=\"#IPAexGothic-55\"/>\n",
       "       <use x=\"220.214844\" xlink:href=\"#IPAexGothic-53\"/>\n",
       "      </g>\n",
       "     </g>\n",
       "    </g>\n",
       "    <g id=\"ytick_3\">\n",
       "     <g id=\"line2d_10\">\n",
       "      <g>\n",
       "       <use style=\"stroke:#000000;stroke-width:0.8;\" x=\"42.520313\" xlink:href=\"#m2cf3dde96d\" y=\"165.333333\"/>\n",
       "      </g>\n",
       "     </g>\n",
       "     <g id=\"text_10\">\n",
       "      <!-- −0.50 -->\n",
       "      <g transform=\"translate(7.2 169.078646)scale(0.1 -0.1)\">\n",
       "       <use xlink:href=\"#IPAexGothic-8722\"/>\n",
       "       <use x=\"67.822266\" xlink:href=\"#IPAexGothic-48\"/>\n",
       "       <use x=\"130.810547\" xlink:href=\"#IPAexGothic-46\"/>\n",
       "       <use x=\"157.226562\" xlink:href=\"#IPAexGothic-53\"/>\n",
       "       <use x=\"220.214844\" xlink:href=\"#IPAexGothic-48\"/>\n",
       "      </g>\n",
       "     </g>\n",
       "    </g>\n",
       "    <g id=\"ytick_4\">\n",
       "     <g id=\"line2d_11\">\n",
       "      <g>\n",
       "       <use style=\"stroke:#000000;stroke-width:0.8;\" x=\"42.520313\" xlink:href=\"#m2cf3dde96d\" y=\"140.618025\"/>\n",
       "      </g>\n",
       "     </g>\n",
       "     <g id=\"text_11\">\n",
       "      <!-- −0.25 -->\n",
       "      <g transform=\"translate(7.2 144.363337)scale(0.1 -0.1)\">\n",
       "       <use xlink:href=\"#IPAexGothic-8722\"/>\n",
       "       <use x=\"67.822266\" xlink:href=\"#IPAexGothic-48\"/>\n",
       "       <use x=\"130.810547\" xlink:href=\"#IPAexGothic-46\"/>\n",
       "       <use x=\"157.226562\" xlink:href=\"#IPAexGothic-50\"/>\n",
       "       <use x=\"220.214844\" xlink:href=\"#IPAexGothic-53\"/>\n",
       "      </g>\n",
       "     </g>\n",
       "    </g>\n",
       "    <g id=\"ytick_5\">\n",
       "     <g id=\"line2d_12\">\n",
       "      <g>\n",
       "       <use style=\"stroke:#000000;stroke-width:0.8;\" x=\"42.520313\" xlink:href=\"#m2cf3dde96d\" y=\"115.902716\"/>\n",
       "      </g>\n",
       "     </g>\n",
       "     <g id=\"text_12\">\n",
       "      <!-- 0.00 -->\n",
       "      <g transform=\"translate(13.982813 119.648029)scale(0.1 -0.1)\">\n",
       "       <use xlink:href=\"#IPAexGothic-48\"/>\n",
       "       <use x=\"62.988281\" xlink:href=\"#IPAexGothic-46\"/>\n",
       "       <use x=\"89.404297\" xlink:href=\"#IPAexGothic-48\"/>\n",
       "       <use x=\"152.392578\" xlink:href=\"#IPAexGothic-48\"/>\n",
       "      </g>\n",
       "     </g>\n",
       "    </g>\n",
       "    <g id=\"ytick_6\">\n",
       "     <g id=\"line2d_13\">\n",
       "      <g>\n",
       "       <use style=\"stroke:#000000;stroke-width:0.8;\" x=\"42.520313\" xlink:href=\"#m2cf3dde96d\" y=\"91.187408\"/>\n",
       "      </g>\n",
       "     </g>\n",
       "     <g id=\"text_13\">\n",
       "      <!-- 0.25 -->\n",
       "      <g transform=\"translate(13.982813 94.93272)scale(0.1 -0.1)\">\n",
       "       <use xlink:href=\"#IPAexGothic-48\"/>\n",
       "       <use x=\"62.988281\" xlink:href=\"#IPAexGothic-46\"/>\n",
       "       <use x=\"89.404297\" xlink:href=\"#IPAexGothic-50\"/>\n",
       "       <use x=\"152.392578\" xlink:href=\"#IPAexGothic-53\"/>\n",
       "      </g>\n",
       "     </g>\n",
       "    </g>\n",
       "    <g id=\"ytick_7\">\n",
       "     <g id=\"line2d_14\">\n",
       "      <g>\n",
       "       <use style=\"stroke:#000000;stroke-width:0.8;\" x=\"42.520313\" xlink:href=\"#m2cf3dde96d\" y=\"66.472099\"/>\n",
       "      </g>\n",
       "     </g>\n",
       "     <g id=\"text_14\">\n",
       "      <!-- 0.50 -->\n",
       "      <g transform=\"translate(13.982813 70.217412)scale(0.1 -0.1)\">\n",
       "       <use xlink:href=\"#IPAexGothic-48\"/>\n",
       "       <use x=\"62.988281\" xlink:href=\"#IPAexGothic-46\"/>\n",
       "       <use x=\"89.404297\" xlink:href=\"#IPAexGothic-53\"/>\n",
       "       <use x=\"152.392578\" xlink:href=\"#IPAexGothic-48\"/>\n",
       "      </g>\n",
       "     </g>\n",
       "    </g>\n",
       "    <g id=\"ytick_8\">\n",
       "     <g id=\"line2d_15\">\n",
       "      <g>\n",
       "       <use style=\"stroke:#000000;stroke-width:0.8;\" x=\"42.520313\" xlink:href=\"#m2cf3dde96d\" y=\"41.756791\"/>\n",
       "      </g>\n",
       "     </g>\n",
       "     <g id=\"text_15\">\n",
       "      <!-- 0.75 -->\n",
       "      <g transform=\"translate(13.982813 45.502103)scale(0.1 -0.1)\">\n",
       "       <use xlink:href=\"#IPAexGothic-48\"/>\n",
       "       <use x=\"62.988281\" xlink:href=\"#IPAexGothic-46\"/>\n",
       "       <use x=\"89.404297\" xlink:href=\"#IPAexGothic-55\"/>\n",
       "       <use x=\"152.392578\" xlink:href=\"#IPAexGothic-53\"/>\n",
       "      </g>\n",
       "     </g>\n",
       "    </g>\n",
       "    <g id=\"ytick_9\">\n",
       "     <g id=\"line2d_16\">\n",
       "      <g>\n",
       "       <use style=\"stroke:#000000;stroke-width:0.8;\" x=\"42.520313\" xlink:href=\"#m2cf3dde96d\" y=\"17.041482\"/>\n",
       "      </g>\n",
       "     </g>\n",
       "     <g id=\"text_16\">\n",
       "      <!-- 1.00 -->\n",
       "      <g transform=\"translate(13.982813 20.786795)scale(0.1 -0.1)\">\n",
       "       <use xlink:href=\"#IPAexGothic-49\"/>\n",
       "       <use x=\"62.988281\" xlink:href=\"#IPAexGothic-46\"/>\n",
       "       <use x=\"89.404297\" xlink:href=\"#IPAexGothic-48\"/>\n",
       "       <use x=\"152.392578\" xlink:href=\"#IPAexGothic-48\"/>\n",
       "      </g>\n",
       "     </g>\n",
       "    </g>\n",
       "   </g>\n",
       "   <g id=\"line2d_17\">\n",
       "    <path clip-path=\"url(#p631a58f490)\" d=\"M 57.738494 115.902716 \n",
       "L 62.8972 106.033062 \n",
       "L 68.055906 96.262021 \n",
       "L 73.214611 86.687224 \n",
       "L 78.373317 77.404338 \n",
       "L 83.532023 68.506116 \n",
       "L 88.690729 60.081465 \n",
       "L 93.849434 52.214561 \n",
       "L 99.00814 44.984008 \n",
       "L 104.166846 38.462051 \n",
       "L 109.325551 32.713856 \n",
       "L 114.484257 27.796857 \n",
       "L 119.642963 23.760182 \n",
       "L 124.801668 20.644165 \n",
       "L 129.960374 18.47994 \n",
       "L 135.11908 17.289131 \n",
       "L 140.277786 17.083636 \n",
       "L 145.436491 17.865509 \n",
       "L 150.595197 19.626938 \n",
       "L 155.753903 22.350322 \n",
       "L 160.912608 26.008451 \n",
       "L 166.071314 30.564773 \n",
       "L 171.23002 35.973764 \n",
       "L 176.388725 42.181379 \n",
       "L 181.547431 49.125593 \n",
       "L 186.706137 56.737022 \n",
       "L 191.864843 64.939615 \n",
       "L 197.023548 73.651414 \n",
       "L 202.182254 82.785374 \n",
       "L 207.34096 92.250232 \n",
       "L 212.499665 101.951418 \n",
       "L 217.658371 111.792001 \n",
       "L 222.817077 121.673656 \n",
       "L 227.975782 131.49765 \n",
       "L 233.134488 141.165825 \n",
       "L 238.293194 150.581579 \n",
       "L 243.4519 159.650834 \n",
       "L 248.610605 168.282971 \n",
       "L 253.769311 176.391743 \n",
       "L 258.928017 183.896128 \n",
       "L 264.086722 190.721145 \n",
       "L 269.245428 196.798601 \n",
       "L 274.404134 202.067773 \n",
       "L 279.562839 206.476012 \n",
       "L 284.721545 209.979272 \n",
       "L 289.880251 212.54255 \n",
       "L 295.038957 214.140235 \n",
       "L 300.197662 214.756364 \n",
       "L 305.356368 214.384779 \n",
       "L 310.515074 213.029194 \n",
       "L 315.673779 210.703154 \n",
       "L 320.832485 207.429898 \n",
       "L 325.991191 203.242134 \n",
       "L 331.149896 198.181703 \n",
       "L 336.308602 192.299167 \n",
       "L 341.467308 185.653304 \n",
       "L 346.626014 178.310515 \n",
       "L 351.784719 170.344169 \n",
       "L 356.943425 161.833861 \n",
       "L 362.102131 152.864625 \n",
       "\" style=\"fill:none;stroke:#1f77b4;stroke-linecap:square;stroke-width:1.5;\"/>\n",
       "   </g>\n",
       "   <g id=\"patch_3\">\n",
       "    <path d=\"M 42.520313 224.64 \n",
       "L 42.520313 7.2 \n",
       "\" style=\"fill:none;stroke:#000000;stroke-linecap:square;stroke-linejoin:miter;stroke-width:0.8;\"/>\n",
       "   </g>\n",
       "   <g id=\"patch_4\">\n",
       "    <path d=\"M 377.320312 224.64 \n",
       "L 377.320312 7.2 \n",
       "\" style=\"fill:none;stroke:#000000;stroke-linecap:square;stroke-linejoin:miter;stroke-width:0.8;\"/>\n",
       "   </g>\n",
       "   <g id=\"patch_5\">\n",
       "    <path d=\"M 42.520313 224.64 \n",
       "L 377.320312 224.64 \n",
       "\" style=\"fill:none;stroke:#000000;stroke-linecap:square;stroke-linejoin:miter;stroke-width:0.8;\"/>\n",
       "   </g>\n",
       "   <g id=\"patch_6\">\n",
       "    <path d=\"M 42.520313 7.2 \n",
       "L 377.320312 7.2 \n",
       "\" style=\"fill:none;stroke:#000000;stroke-linecap:square;stroke-linejoin:miter;stroke-width:0.8;\"/>\n",
       "   </g>\n",
       "  </g>\n",
       " </g>\n",
       " <defs>\n",
       "  <clipPath id=\"p631a58f490\">\n",
       "   <rect height=\"217.44\" width=\"334.8\" x=\"42.520313\" y=\"7.2\"/>\n",
       "  </clipPath>\n",
       " </defs>\n",
       "</svg>\n"
      ],
      "text/plain": [
       "<Figure size 432x288 with 1 Axes>"
      ]
     },
     "metadata": {
      "needs_background": "light"
     },
     "output_type": "display_data"
    }
   ],
   "source": [
    "x = np.arange(0, 6, 0.1)\n",
    "y = np.sin(x)\n",
    "plt.plot(x, y)\n",
    "plt.show()"
   ]
  },
  {
   "cell_type": "code",
   "execution_count": 73,
   "metadata": {},
   "outputs": [
    {
     "output_type": "error",
     "ename": "NameError",
     "evalue": "name 'imread' is not defined",
     "traceback": [
      "\u001b[0;31m---------------------------------------------------------------------------\u001b[0m",
      "\u001b[0;31mNameError\u001b[0m                                 Traceback (most recent call last)",
      "\u001b[0;32m<ipython-input-73-4e2b27a62122>\u001b[0m in \u001b[0;36m<module>\u001b[0;34m\u001b[0m\n\u001b[0;32m----> 1\u001b[0;31m \u001b[0mimg\u001b[0m \u001b[0;34m=\u001b[0m \u001b[0mimread\u001b[0m\u001b[0;34m(\u001b[0m\u001b[0;34m'Screen Shot 2020-12-13 at 13.04.40.png'\u001b[0m\u001b[0;34m)\u001b[0m\u001b[0;34m\u001b[0m\u001b[0;34m\u001b[0m\u001b[0m\n\u001b[0m\u001b[1;32m      2\u001b[0m \u001b[0mplt\u001b[0m\u001b[0;34m.\u001b[0m\u001b[0mimshow\u001b[0m\u001b[0;34m(\u001b[0m\u001b[0mimg\u001b[0m\u001b[0;34m)\u001b[0m\u001b[0;34m\u001b[0m\u001b[0;34m\u001b[0m\u001b[0m\n\u001b[1;32m      3\u001b[0m \u001b[0mplt\u001b[0m\u001b[0;34m.\u001b[0m\u001b[0mshow\u001b[0m\u001b[0;34m(\u001b[0m\u001b[0;34m)\u001b[0m\u001b[0;34m\u001b[0m\u001b[0;34m\u001b[0m\u001b[0m\n",
      "\u001b[0;31mNameError\u001b[0m: name 'imread' is not defined"
     ]
    }
   ],
   "source": [
    "img = imread('Screen Shot 2020-12-13 at 13.04.40.png')\n",
    "plt.imshow(img)\n",
    "plt.show()"
   ]
  },
  {
   "cell_type": "code",
   "execution_count": 3,
   "metadata": {},
   "outputs": [],
   "source": [
    "import pandas as pd\n",
    "df = pd.read_csv('housing.csv')"
   ]
  },
  {
   "cell_type": "code",
   "execution_count": 8,
   "metadata": {},
   "outputs": [
    {
     "output_type": "execute_result",
     "data": {
      "text/plain": [
       "          x1    x2     x3  x4     x5     x6    x7      x8  x9  x10   x11  \\\n",
       "0    0.00632  18.0   2.31   0  0.538  6.575  65.2  4.0900   1  296  15.3   \n",
       "1    0.02731   0.0   7.07   0  0.469  6.421  78.9  4.9671   2  242  17.8   \n",
       "2    0.02729   0.0   7.07   0  0.469  7.185  61.1  4.9671   2  242  17.8   \n",
       "3    0.03237   0.0   2.18   0  0.458  6.998  45.8  6.0622   3  222  18.7   \n",
       "4    0.06905   0.0   2.18   0  0.458  7.147  54.2  6.0622   3  222  18.7   \n",
       "..       ...   ...    ...  ..    ...    ...   ...     ...  ..  ...   ...   \n",
       "501  0.06263   0.0  11.93   0  0.573  6.593  69.1  2.4786   1  273  21.0   \n",
       "502  0.04527   0.0  11.93   0  0.573  6.120  76.7  2.2875   1  273  21.0   \n",
       "503  0.06076   0.0  11.93   0  0.573  6.976  91.0  2.1675   1  273  21.0   \n",
       "504  0.10959   0.0  11.93   0  0.573  6.794  89.3  2.3889   1  273  21.0   \n",
       "505  0.04741   0.0  11.93   0  0.573  6.030  80.8  2.5050   1  273  21.0   \n",
       "\n",
       "        x12   x13     t  \n",
       "0    396.90  4.98  24.0  \n",
       "1    396.90  9.14  21.6  \n",
       "2    392.83  4.03  34.7  \n",
       "3    394.63  2.94  33.4  \n",
       "4    396.90  5.33  36.2  \n",
       "..      ...   ...   ...  \n",
       "501  391.99  9.67  22.4  \n",
       "502  396.90  9.08  20.6  \n",
       "503  396.90  5.64  23.9  \n",
       "504  393.45  6.48  22.0  \n",
       "505  396.90  7.88  11.9  \n",
       "\n",
       "[506 rows x 14 columns]"
      ],
      "text/html": "<div>\n<style scoped>\n    .dataframe tbody tr th:only-of-type {\n        vertical-align: middle;\n    }\n\n    .dataframe tbody tr th {\n        vertical-align: top;\n    }\n\n    .dataframe thead th {\n        text-align: right;\n    }\n</style>\n<table border=\"1\" class=\"dataframe\">\n  <thead>\n    <tr style=\"text-align: right;\">\n      <th></th>\n      <th>x1</th>\n      <th>x2</th>\n      <th>x3</th>\n      <th>x4</th>\n      <th>x5</th>\n      <th>x6</th>\n      <th>x7</th>\n      <th>x8</th>\n      <th>x9</th>\n      <th>x10</th>\n      <th>x11</th>\n      <th>x12</th>\n      <th>x13</th>\n      <th>t</th>\n    </tr>\n  </thead>\n  <tbody>\n    <tr>\n      <th>0</th>\n      <td>0.00632</td>\n      <td>18.0</td>\n      <td>2.31</td>\n      <td>0</td>\n      <td>0.538</td>\n      <td>6.575</td>\n      <td>65.2</td>\n      <td>4.0900</td>\n      <td>1</td>\n      <td>296</td>\n      <td>15.3</td>\n      <td>396.90</td>\n      <td>4.98</td>\n      <td>24.0</td>\n    </tr>\n    <tr>\n      <th>1</th>\n      <td>0.02731</td>\n      <td>0.0</td>\n      <td>7.07</td>\n      <td>0</td>\n      <td>0.469</td>\n      <td>6.421</td>\n      <td>78.9</td>\n      <td>4.9671</td>\n      <td>2</td>\n      <td>242</td>\n      <td>17.8</td>\n      <td>396.90</td>\n      <td>9.14</td>\n      <td>21.6</td>\n    </tr>\n    <tr>\n      <th>2</th>\n      <td>0.02729</td>\n      <td>0.0</td>\n      <td>7.07</td>\n      <td>0</td>\n      <td>0.469</td>\n      <td>7.185</td>\n      <td>61.1</td>\n      <td>4.9671</td>\n      <td>2</td>\n      <td>242</td>\n      <td>17.8</td>\n      <td>392.83</td>\n      <td>4.03</td>\n      <td>34.7</td>\n    </tr>\n    <tr>\n      <th>3</th>\n      <td>0.03237</td>\n      <td>0.0</td>\n      <td>2.18</td>\n      <td>0</td>\n      <td>0.458</td>\n      <td>6.998</td>\n      <td>45.8</td>\n      <td>6.0622</td>\n      <td>3</td>\n      <td>222</td>\n      <td>18.7</td>\n      <td>394.63</td>\n      <td>2.94</td>\n      <td>33.4</td>\n    </tr>\n    <tr>\n      <th>4</th>\n      <td>0.06905</td>\n      <td>0.0</td>\n      <td>2.18</td>\n      <td>0</td>\n      <td>0.458</td>\n      <td>7.147</td>\n      <td>54.2</td>\n      <td>6.0622</td>\n      <td>3</td>\n      <td>222</td>\n      <td>18.7</td>\n      <td>396.90</td>\n      <td>5.33</td>\n      <td>36.2</td>\n    </tr>\n    <tr>\n      <th>...</th>\n      <td>...</td>\n      <td>...</td>\n      <td>...</td>\n      <td>...</td>\n      <td>...</td>\n      <td>...</td>\n      <td>...</td>\n      <td>...</td>\n      <td>...</td>\n      <td>...</td>\n      <td>...</td>\n      <td>...</td>\n      <td>...</td>\n      <td>...</td>\n    </tr>\n    <tr>\n      <th>501</th>\n      <td>0.06263</td>\n      <td>0.0</td>\n      <td>11.93</td>\n      <td>0</td>\n      <td>0.573</td>\n      <td>6.593</td>\n      <td>69.1</td>\n      <td>2.4786</td>\n      <td>1</td>\n      <td>273</td>\n      <td>21.0</td>\n      <td>391.99</td>\n      <td>9.67</td>\n      <td>22.4</td>\n    </tr>\n    <tr>\n      <th>502</th>\n      <td>0.04527</td>\n      <td>0.0</td>\n      <td>11.93</td>\n      <td>0</td>\n      <td>0.573</td>\n      <td>6.120</td>\n      <td>76.7</td>\n      <td>2.2875</td>\n      <td>1</td>\n      <td>273</td>\n      <td>21.0</td>\n      <td>396.90</td>\n      <td>9.08</td>\n      <td>20.6</td>\n    </tr>\n    <tr>\n      <th>503</th>\n      <td>0.06076</td>\n      <td>0.0</td>\n      <td>11.93</td>\n      <td>0</td>\n      <td>0.573</td>\n      <td>6.976</td>\n      <td>91.0</td>\n      <td>2.1675</td>\n      <td>1</td>\n      <td>273</td>\n      <td>21.0</td>\n      <td>396.90</td>\n      <td>5.64</td>\n      <td>23.9</td>\n    </tr>\n    <tr>\n      <th>504</th>\n      <td>0.10959</td>\n      <td>0.0</td>\n      <td>11.93</td>\n      <td>0</td>\n      <td>0.573</td>\n      <td>6.794</td>\n      <td>89.3</td>\n      <td>2.3889</td>\n      <td>1</td>\n      <td>273</td>\n      <td>21.0</td>\n      <td>393.45</td>\n      <td>6.48</td>\n      <td>22.0</td>\n    </tr>\n    <tr>\n      <th>505</th>\n      <td>0.04741</td>\n      <td>0.0</td>\n      <td>11.93</td>\n      <td>0</td>\n      <td>0.573</td>\n      <td>6.030</td>\n      <td>80.8</td>\n      <td>2.5050</td>\n      <td>1</td>\n      <td>273</td>\n      <td>21.0</td>\n      <td>396.90</td>\n      <td>7.88</td>\n      <td>11.9</td>\n    </tr>\n  </tbody>\n</table>\n<p>506 rows × 14 columns</p>\n</div>"
     },
     "metadata": {},
     "execution_count": 8
    }
   ],
   "source": [
    "df"
   ]
  },
  {
   "cell_type": "code",
   "execution_count": 9,
   "metadata": {},
   "outputs": [],
   "source": [
    "export_data = df.head(20)"
   ]
  },
  {
   "cell_type": "code",
   "execution_count": 10,
   "metadata": {},
   "outputs": [],
   "source": [
    "export_data.to_csv('export.csv', index=False)"
   ]
  },
  {
   "source": [
    "# DataFrame のデータを活用する"
   ],
   "cell_type": "markdown",
   "metadata": {}
  },
  {
   "cell_type": "code",
   "execution_count": 93,
   "metadata": {},
   "outputs": [
    {
     "output_type": "execute_result",
     "data": {
      "text/plain": [
       "0    A\n",
       "1    B\n",
       "2    C\n",
       "3    D\n",
       "4    E\n",
       "dtype: object"
      ]
     },
     "metadata": {},
     "execution_count": 93
    }
   ],
   "source": [
    "s = pd.Series(list('ABCDE'))\n",
    "s"
   ]
  },
  {
   "cell_type": "code",
   "execution_count": 87,
   "metadata": {},
   "outputs": [
    {
     "output_type": "stream",
     "name": "stdout",
     "text": [
      "0    168\n1     74\n2    182\n4    174\nName: スコア, dtype: int64\n\n"
     ]
    }
   ],
   "source": [
    "print((df2['スコア'] * 2)[:5])\n",
    "print()"
   ]
  },
  {
   "cell_type": "code",
   "execution_count": 141,
   "metadata": {},
   "outputs": [
    {
     "output_type": "execute_result",
     "data": {
      "text/plain": [
       "      Name     日付  スコア\n",
       "0  Ronaldo   12/1   84\n",
       "1    Neuer    6/1   37\n",
       "2  Beckham  12/22   91\n",
       "3   Neimar   3/22   88"
      ],
      "text/html": "<div>\n<style scoped>\n    .dataframe tbody tr th:only-of-type {\n        vertical-align: middle;\n    }\n\n    .dataframe tbody tr th {\n        vertical-align: top;\n    }\n\n    .dataframe thead th {\n        text-align: right;\n    }\n</style>\n<table border=\"1\" class=\"dataframe\">\n  <thead>\n    <tr style=\"text-align: right;\">\n      <th></th>\n      <th>Name</th>\n      <th>日付</th>\n      <th>スコア</th>\n    </tr>\n  </thead>\n  <tbody>\n    <tr>\n      <th>0</th>\n      <td>Ronaldo</td>\n      <td>12/1</td>\n      <td>84</td>\n    </tr>\n    <tr>\n      <th>1</th>\n      <td>Neuer</td>\n      <td>6/1</td>\n      <td>37</td>\n    </tr>\n    <tr>\n      <th>2</th>\n      <td>Beckham</td>\n      <td>12/22</td>\n      <td>91</td>\n    </tr>\n    <tr>\n      <th>3</th>\n      <td>Neimar</td>\n      <td>3/22</td>\n      <td>88</td>\n    </tr>\n  </tbody>\n</table>\n</div>"
     },
     "metadata": {},
     "execution_count": 141
    }
   ],
   "source": [
    "new_data = [('Beckham','12/22',91),('Neimar','3/22',88)]\n",
    "new_df = pd.DataFrame(data=new_data,columns=['Name','日付','スコア'])\n",
    "df2 = df.append(new_df, ignore_index=True)\n",
    "df2"
   ]
  },
  {
   "cell_type": "code",
   "execution_count": 97,
   "metadata": {},
   "outputs": [
    {
     "output_type": "stream",
     "name": "stdout",
     "text": [
      "Total:212\n"
     ]
    }
   ],
   "source": [
    "print('Total:%s' % df2['スコア'].sum())"
   ]
  },
  {
   "cell_type": "code",
   "execution_count": 100,
   "metadata": {},
   "outputs": [
    {
     "output_type": "stream",
     "name": "stdout",
     "text": [
      "Average:70.66666666666667\n"
     ]
    }
   ],
   "source": [
    "print('Average:%s' % df2['スコア'].mean())"
   ]
  },
  {
   "cell_type": "code",
   "execution_count": 101,
   "metadata": {},
   "outputs": [
    {
     "output_type": "stream",
     "name": "stdout",
     "text": [
      "Average:37\n"
     ]
    }
   ],
   "source": [
    "print('Average:%s' % df2['スコア'].min())"
   ]
  },
  {
   "cell_type": "code",
   "execution_count": 102,
   "metadata": {},
   "outputs": [
    {
     "output_type": "execute_result",
     "data": {
      "text/plain": [
       "        名前     日付  スコア\n",
       "2  Beckham  12/22   91\n",
       "0  Ronaldo   12/1   84\n",
       "1    Neuer    6/1   37"
      ],
      "text/html": "<div>\n<style scoped>\n    .dataframe tbody tr th:only-of-type {\n        vertical-align: middle;\n    }\n\n    .dataframe tbody tr th {\n        vertical-align: top;\n    }\n\n    .dataframe thead th {\n        text-align: right;\n    }\n</style>\n<table border=\"1\" class=\"dataframe\">\n  <thead>\n    <tr style=\"text-align: right;\">\n      <th></th>\n      <th>名前</th>\n      <th>日付</th>\n      <th>スコア</th>\n    </tr>\n  </thead>\n  <tbody>\n    <tr>\n      <th>2</th>\n      <td>Beckham</td>\n      <td>12/22</td>\n      <td>91</td>\n    </tr>\n    <tr>\n      <th>0</th>\n      <td>Ronaldo</td>\n      <td>12/1</td>\n      <td>84</td>\n    </tr>\n    <tr>\n      <th>1</th>\n      <td>Neuer</td>\n      <td>6/1</td>\n      <td>37</td>\n    </tr>\n  </tbody>\n</table>\n</div>"
     },
     "metadata": {},
     "execution_count": 102
    }
   ],
   "source": [
    "df2.sort_values(['スコア'],ascending=False)[:3]"
   ]
  },
  {
   "cell_type": "code",
   "execution_count": 142,
   "metadata": {},
   "outputs": [
    {
     "output_type": "execute_result",
     "data": {
      "text/plain": [
       "      Name     日付  スコア        Team\n",
       "0  Ronaldo   12/1   84      Madrid\n",
       "1    Neuer    6/1   37  Barcellona\n",
       "2  Beckham  12/22   91      Madrid\n",
       "3   Neimar   3/22   88  Barcellona"
      ],
      "text/html": "<div>\n<style scoped>\n    .dataframe tbody tr th:only-of-type {\n        vertical-align: middle;\n    }\n\n    .dataframe tbody tr th {\n        vertical-align: top;\n    }\n\n    .dataframe thead th {\n        text-align: right;\n    }\n</style>\n<table border=\"1\" class=\"dataframe\">\n  <thead>\n    <tr style=\"text-align: right;\">\n      <th></th>\n      <th>Name</th>\n      <th>日付</th>\n      <th>スコア</th>\n      <th>Team</th>\n    </tr>\n  </thead>\n  <tbody>\n    <tr>\n      <th>0</th>\n      <td>Ronaldo</td>\n      <td>12/1</td>\n      <td>84</td>\n      <td>Madrid</td>\n    </tr>\n    <tr>\n      <th>1</th>\n      <td>Neuer</td>\n      <td>6/1</td>\n      <td>37</td>\n      <td>Barcellona</td>\n    </tr>\n    <tr>\n      <th>2</th>\n      <td>Beckham</td>\n      <td>12/22</td>\n      <td>91</td>\n      <td>Madrid</td>\n    </tr>\n    <tr>\n      <th>3</th>\n      <td>Neimar</td>\n      <td>3/22</td>\n      <td>88</td>\n      <td>Barcellona</td>\n    </tr>\n  </tbody>\n</table>\n</div>"
     },
     "metadata": {},
     "execution_count": 142
    }
   ],
   "source": [
    "df2['Team'] = ['Madrid','Barcellona','Madrid','Barcellona']\n",
    "df2"
   ]
  },
  {
   "cell_type": "code",
   "execution_count": 143,
   "metadata": {},
   "outputs": [
    {
     "output_type": "execute_result",
     "data": {
      "text/plain": [
       "               Name     日付  スコア\n",
       "Team                           \n",
       "Barcellona   Neimar   3/22   88\n",
       "Madrid      Beckham  12/22   91"
      ],
      "text/html": "<div>\n<style scoped>\n    .dataframe tbody tr th:only-of-type {\n        vertical-align: middle;\n    }\n\n    .dataframe tbody tr th {\n        vertical-align: top;\n    }\n\n    .dataframe thead th {\n        text-align: right;\n    }\n</style>\n<table border=\"1\" class=\"dataframe\">\n  <thead>\n    <tr style=\"text-align: right;\">\n      <th></th>\n      <th>Name</th>\n      <th>日付</th>\n      <th>スコア</th>\n    </tr>\n    <tr>\n      <th>Team</th>\n      <th></th>\n      <th></th>\n      <th></th>\n    </tr>\n  </thead>\n  <tbody>\n    <tr>\n      <th>Barcellona</th>\n      <td>Neimar</td>\n      <td>3/22</td>\n      <td>88</td>\n    </tr>\n    <tr>\n      <th>Madrid</th>\n      <td>Beckham</td>\n      <td>12/22</td>\n      <td>91</td>\n    </tr>\n  </tbody>\n</table>\n</div>"
     },
     "metadata": {},
     "execution_count": 143
    }
   ],
   "source": [
    "srt = df2.sort_values(['スコア',],ascending=False)\n",
    "grp = srt.groupby('Team')\n",
    "grp.first()\n"
   ]
  },
  {
   "cell_type": "code",
   "execution_count": 124,
   "metadata": {},
   "outputs": [
    {
     "output_type": "execute_result",
     "data": {
      "text/plain": [
       "             スコア\n",
       "Team            \n",
       "Barcellona  62.5\n",
       "Madrid      87.5"
      ],
      "text/html": "<div>\n<style scoped>\n    .dataframe tbody tr th:only-of-type {\n        vertical-align: middle;\n    }\n\n    .dataframe tbody tr th {\n        vertical-align: top;\n    }\n\n    .dataframe thead th {\n        text-align: right;\n    }\n</style>\n<table border=\"1\" class=\"dataframe\">\n  <thead>\n    <tr style=\"text-align: right;\">\n      <th></th>\n      <th>スコア</th>\n    </tr>\n    <tr>\n      <th>Team</th>\n      <th></th>\n    </tr>\n  </thead>\n  <tbody>\n    <tr>\n      <th>Barcellona</th>\n      <td>62.5</td>\n    </tr>\n    <tr>\n      <th>Madrid</th>\n      <td>87.5</td>\n    </tr>\n  </tbody>\n</table>\n</div>"
     },
     "metadata": {},
     "execution_count": 124
    }
   ],
   "source": [
    "grp.mean()"
   ]
  },
  {
   "cell_type": "code",
   "execution_count": 147,
   "metadata": {},
   "outputs": [
    {
     "output_type": "execute_result",
     "data": {
      "text/plain": [
       "            スコア\n",
       "Team           \n",
       "Madrid      175\n",
       "Barcellona  125"
      ],
      "text/html": "<div>\n<style scoped>\n    .dataframe tbody tr th:only-of-type {\n        vertical-align: middle;\n    }\n\n    .dataframe tbody tr th {\n        vertical-align: top;\n    }\n\n    .dataframe thead th {\n        text-align: right;\n    }\n</style>\n<table border=\"1\" class=\"dataframe\">\n  <thead>\n    <tr style=\"text-align: right;\">\n      <th></th>\n      <th>スコア</th>\n    </tr>\n    <tr>\n      <th>Team</th>\n      <th></th>\n    </tr>\n  </thead>\n  <tbody>\n    <tr>\n      <th>Madrid</th>\n      <td>175</td>\n    </tr>\n    <tr>\n      <th>Barcellona</th>\n      <td>125</td>\n    </tr>\n  </tbody>\n</table>\n</div>"
     },
     "metadata": {},
     "execution_count": 147
    }
   ],
   "source": [
    "grp2 = srt.groupby('Team')\n",
    "grp2.sum().sort_values(['スコア'],ascending=False)"
   ]
  },
  {
   "cell_type": "code",
   "execution_count": 148,
   "metadata": {},
   "outputs": [
    {
     "output_type": "execute_result",
     "data": {
      "text/plain": [
       "            スコア                     \n",
       "            sum  mean median min max\n",
       "Team                                \n",
       "Barcellona  125  62.5   62.5  37  88\n",
       "Madrid      175  87.5   87.5  84  91"
      ],
      "text/html": "<div>\n<style scoped>\n    .dataframe tbody tr th:only-of-type {\n        vertical-align: middle;\n    }\n\n    .dataframe tbody tr th {\n        vertical-align: top;\n    }\n\n    .dataframe thead tr th {\n        text-align: left;\n    }\n\n    .dataframe thead tr:last-of-type th {\n        text-align: right;\n    }\n</style>\n<table border=\"1\" class=\"dataframe\">\n  <thead>\n    <tr>\n      <th></th>\n      <th colspan=\"5\" halign=\"left\">スコア</th>\n    </tr>\n    <tr>\n      <th></th>\n      <th>sum</th>\n      <th>mean</th>\n      <th>median</th>\n      <th>min</th>\n      <th>max</th>\n    </tr>\n    <tr>\n      <th>Team</th>\n      <th></th>\n      <th></th>\n      <th></th>\n      <th></th>\n      <th></th>\n    </tr>\n  </thead>\n  <tbody>\n    <tr>\n      <th>Barcellona</th>\n      <td>125</td>\n      <td>62.5</td>\n      <td>62.5</td>\n      <td>37</td>\n      <td>88</td>\n    </tr>\n    <tr>\n      <th>Madrid</th>\n      <td>175</td>\n      <td>87.5</td>\n      <td>87.5</td>\n      <td>84</td>\n      <td>91</td>\n    </tr>\n  </tbody>\n</table>\n</div>"
     },
     "metadata": {},
     "execution_count": 148
    }
   ],
   "source": [
    "grp.agg(['sum','mean','median','min','max'])"
   ]
  },
  {
   "cell_type": "code",
   "execution_count": 151,
   "metadata": {},
   "outputs": [
    {
     "output_type": "execute_result",
     "data": {
      "text/plain": [
       "     Name    日付  スコア        Team\n",
       "3  Neimar  3/22   88  Barcellona\n",
       "1   Neuer   6/1   37  Barcellona"
      ],
      "text/html": "<div>\n<style scoped>\n    .dataframe tbody tr th:only-of-type {\n        vertical-align: middle;\n    }\n\n    .dataframe tbody tr th {\n        vertical-align: top;\n    }\n\n    .dataframe thead th {\n        text-align: right;\n    }\n</style>\n<table border=\"1\" class=\"dataframe\">\n  <thead>\n    <tr style=\"text-align: right;\">\n      <th></th>\n      <th>Name</th>\n      <th>日付</th>\n      <th>スコア</th>\n      <th>Team</th>\n    </tr>\n  </thead>\n  <tbody>\n    <tr>\n      <th>3</th>\n      <td>Neimar</td>\n      <td>3/22</td>\n      <td>88</td>\n      <td>Barcellona</td>\n    </tr>\n    <tr>\n      <th>1</th>\n      <td>Neuer</td>\n      <td>6/1</td>\n      <td>37</td>\n      <td>Barcellona</td>\n    </tr>\n  </tbody>\n</table>\n</div>"
     },
     "metadata": {},
     "execution_count": 151
    }
   ],
   "source": [
    "grp2 = srt.groupby('Team')\n",
    "grp2.get_group('Barcellona').sort_values(['スコア'], ascending=False)"
   ]
  },
  {
   "cell_type": "code",
   "execution_count": 153,
   "metadata": {},
   "outputs": [
    {
     "output_type": "execute_result",
     "data": {
      "text/plain": [
       "      Name     日付  スコア        Team\n",
       "0  Ronaldo   12/1   84      Madrid\n",
       "2  Beckham  12/22   91      Madrid\n",
       "3   Neimar   3/22   88  Barcellona"
      ],
      "text/html": "<div>\n<style scoped>\n    .dataframe tbody tr th:only-of-type {\n        vertical-align: middle;\n    }\n\n    .dataframe tbody tr th {\n        vertical-align: top;\n    }\n\n    .dataframe thead th {\n        text-align: right;\n    }\n</style>\n<table border=\"1\" class=\"dataframe\">\n  <thead>\n    <tr style=\"text-align: right;\">\n      <th></th>\n      <th>Name</th>\n      <th>日付</th>\n      <th>スコア</th>\n      <th>Team</th>\n    </tr>\n  </thead>\n  <tbody>\n    <tr>\n      <th>0</th>\n      <td>Ronaldo</td>\n      <td>12/1</td>\n      <td>84</td>\n      <td>Madrid</td>\n    </tr>\n    <tr>\n      <th>2</th>\n      <td>Beckham</td>\n      <td>12/22</td>\n      <td>91</td>\n      <td>Madrid</td>\n    </tr>\n    <tr>\n      <th>3</th>\n      <td>Neimar</td>\n      <td>3/22</td>\n      <td>88</td>\n      <td>Barcellona</td>\n    </tr>\n  </tbody>\n</table>\n</div>"
     },
     "metadata": {},
     "execution_count": 153
    }
   ],
   "source": [
    "df2.query('スコア >= 50')"
   ]
  },
  {
   "cell_type": "code",
   "execution_count": 155,
   "metadata": {},
   "outputs": [
    {
     "output_type": "execute_result",
     "data": {
      "text/plain": [
       "Team     Barcellona  Madrid\n",
       "Name                       \n",
       "Beckham         NaN    91.0\n",
       "Neimar         88.0     NaN\n",
       "Neuer          37.0     NaN\n",
       "Ronaldo         NaN    84.0"
      ],
      "text/html": "<div>\n<style scoped>\n    .dataframe tbody tr th:only-of-type {\n        vertical-align: middle;\n    }\n\n    .dataframe tbody tr th {\n        vertical-align: top;\n    }\n\n    .dataframe thead th {\n        text-align: right;\n    }\n</style>\n<table border=\"1\" class=\"dataframe\">\n  <thead>\n    <tr style=\"text-align: right;\">\n      <th>Team</th>\n      <th>Barcellona</th>\n      <th>Madrid</th>\n    </tr>\n    <tr>\n      <th>Name</th>\n      <th></th>\n      <th></th>\n    </tr>\n  </thead>\n  <tbody>\n    <tr>\n      <th>Beckham</th>\n      <td>NaN</td>\n      <td>91.0</td>\n    </tr>\n    <tr>\n      <th>Neimar</th>\n      <td>88.0</td>\n      <td>NaN</td>\n    </tr>\n    <tr>\n      <th>Neuer</th>\n      <td>37.0</td>\n      <td>NaN</td>\n    </tr>\n    <tr>\n      <th>Ronaldo</th>\n      <td>NaN</td>\n      <td>84.0</td>\n    </tr>\n  </tbody>\n</table>\n</div>"
     },
     "metadata": {},
     "execution_count": 155
    }
   ],
   "source": [
    "df2.pivot_table(values='スコア',index=['Name'],columns=['Team'])"
   ]
  },
  {
   "cell_type": "code",
   "execution_count": null,
   "metadata": {},
   "outputs": [],
   "source": []
  }
 ],
 "metadata": {
  "kernelspec": {
   "display_name": "Python 3.8.2 64-bit ('3.8.2': pyenv)",
   "language": "python",
   "name": "python38264bit382pyenv1b83e28bdf1d4a0cab3b1a48771bab22"
  },
  "language_info": {
   "codemirror_mode": {
    "name": "ipython",
    "version": 3
   },
   "file_extension": ".py",
   "mimetype": "text/x-python",
   "name": "python",
   "nbconvert_exporter": "python",
   "pygments_lexer": "ipython3",
   "version": "3.8.2-final"
  }
 },
 "nbformat": 4,
 "nbformat_minor": 4
}