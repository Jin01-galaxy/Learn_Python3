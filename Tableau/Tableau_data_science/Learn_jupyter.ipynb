{
 "cells": [
  {
   "cell_type": "markdown",
   "metadata": {},
   "source": [
    "# **Jupyter Lab**の使い方"
   ]
  },
  {
   "cell_type": "markdown",
   "metadata": {},
   "source": [
    "### Python 基本 「四則計算」　＋　ー　×　÷"
   ]
  },
  {
   "cell_type": "code",
   "execution_count": 13,
   "metadata": {},
   "outputs": [],
   "source": [
    "a = 1"
   ]
  },
  {
   "cell_type": "code",
   "execution_count": null,
   "metadata": {},
   "outputs": [],
   "source": []
  },
  {
   "cell_type": "markdown",
   "metadata": {},
   "source": [
    "%： 余りを求める"
   ]
  },
  {
   "cell_type": "code",
   "execution_count": 10,
   "metadata": {},
   "outputs": [],
   "source": [
    "a = '10%3 + 3'"
   ]
  },
  {
   "cell_type": "code",
   "execution_count": 11,
   "metadata": {},
   "outputs": [
    {
     "name": "stdout",
     "output_type": "stream",
     "text": [
      "10%3 + 3\n"
     ]
    }
   ],
   "source": [
    "print(a)"
   ]
  },
  {
   "cell_type": "code",
   "execution_count": 12,
   "metadata": {},
   "outputs": [
    {
     "data": {
      "text/plain": [
       "str"
      ]
     },
     "execution_count": 12,
     "metadata": {},
     "output_type": "execute_result"
    }
   ],
   "source": [
    "type(a)"
   ]
  },
  {
   "cell_type": "markdown",
   "metadata": {},
   "source": [
    "### リスト："
   ]
  },
  {
   "cell_type": "code",
   "execution_count": 13,
   "metadata": {},
   "outputs": [
    {
     "data": {
      "text/plain": [
       "[1, 2, 3]"
      ]
     },
     "execution_count": 13,
     "metadata": {},
     "output_type": "execute_result"
    }
   ],
   "source": [
    "c = [1,2,3]\n",
    "c"
   ]
  },
  {
   "cell_type": "code",
   "execution_count": 14,
   "metadata": {},
   "outputs": [
    {
     "data": {
      "text/plain": [
       "list"
      ]
     },
     "execution_count": 14,
     "metadata": {},
     "output_type": "execute_result"
    }
   ],
   "source": [
    "type(c)"
   ]
  },
  {
   "cell_type": "markdown",
   "metadata": {},
   "source": [
    "### 辞書： キーと値をペアする"
   ]
  },
  {
   "cell_type": "code",
   "execution_count": 15,
   "metadata": {},
   "outputs": [
    {
     "data": {
      "text/plain": [
       "{'Python': '3', 'Swift': 'Xcode'}"
      ]
     },
     "execution_count": 15,
     "metadata": {},
     "output_type": "execute_result"
    }
   ],
   "source": [
    "d = {'Python':'3','Swift':'Xcode'}\n",
    "d"
   ]
  },
  {
   "cell_type": "code",
   "execution_count": 20,
   "metadata": {},
   "outputs": [
    {
     "data": {
      "text/plain": [
       "dict"
      ]
     },
     "execution_count": 20,
     "metadata": {},
     "output_type": "execute_result"
    }
   ],
   "source": [
    "type(d)"
   ]
  },
  {
   "cell_type": "code",
   "execution_count": 37,
   "metadata": {},
   "outputs": [
    {
     "name": "stdout",
     "output_type": "stream",
     "text": [
      "Not Found\n"
     ]
    }
   ],
   "source": [
    "dict = {1:'Python',2:'Swift',3:'Dart'}\n",
    "print(dict.get(0, 'Not Found'))"
   ]
  },
  {
   "cell_type": "code",
   "execution_count": 33,
   "metadata": {},
   "outputs": [
    {
     "data": {
      "text/plain": [
       "{1: 'Python', 2: 'Swift', 3: 'Dart', 4: 'C#'}"
      ]
     },
     "execution_count": 33,
     "metadata": {},
     "output_type": "execute_result"
    }
   ],
   "source": [
    "dict[4] = 'C#'\n",
    "dict"
   ]
  },
  {
   "cell_type": "code",
   "execution_count": 34,
   "metadata": {},
   "outputs": [
    {
     "data": {
      "text/plain": [
       "{1: 'Python', 2: 'Swift', 4: 'C#'}"
      ]
     },
     "execution_count": 34,
     "metadata": {},
     "output_type": "execute_result"
    }
   ],
   "source": [
    "del dict[3]\n",
    "dict"
   ]
  },
  {
   "cell_type": "code",
   "execution_count": 36,
   "metadata": {},
   "outputs": [
    {
     "data": {
      "text/plain": [
       "{}"
      ]
     },
     "execution_count": 36,
     "metadata": {},
     "output_type": "execute_result"
    }
   ],
   "source": [
    "dict.clear()\n",
    "dict"
   ]
  },
  {
   "cell_type": "markdown",
   "metadata": {},
   "source": [
    "### キーや値を取り出す keys, values, items"
   ]
  },
  {
   "cell_type": "code",
   "execution_count": 41,
   "metadata": {},
   "outputs": [
    {
     "name": "stdout",
     "output_type": "stream",
     "text": [
      "(1, 'Python')\n",
      "(2, 'Swift')\n",
      "(3, 'Dart')\n"
     ]
    }
   ],
   "source": [
    "for x in dict.items():\n",
    "    print(x)"
   ]
  },
  {
   "cell_type": "code",
   "execution_count": 42,
   "metadata": {},
   "outputs": [
    {
     "data": {
      "text/plain": [
       "[['001', 'Hero', 'Mario', 'Mario.Bros'],\n",
       " ['002', 'Heroine', 'Sams', 'Metroid'],\n",
       " ['003', 'Kight', 'Link', 'Zelda']]"
      ]
     },
     "execution_count": 42,
     "metadata": {},
     "output_type": "execute_result"
    }
   ],
   "source": [
    "data = [\n",
    "    ['001','Hero','Mario','Mario.Bros'],\n",
    "    ['002','Heroine','Sams','Metroid'],\n",
    "    ['003','Kight','Link','Zelda']\n",
    "]\n",
    "data"
   ]
  },
  {
   "cell_type": "code",
   "execution_count": 49,
   "metadata": {},
   "outputs": [],
   "source": [
    "member_information = {}\n",
    "for record in data:\n",
    "    key = record[0]\n",
    "    info = record[1:]\n",
    "    member_information[key] = info"
   ]
  },
  {
   "cell_type": "code",
   "execution_count": 44,
   "metadata": {},
   "outputs": [
    {
     "name": "stdout",
     "output_type": "stream",
     "text": [
      "001 ['Hero', 'Mario', 'Mario.Bros']\n",
      "002 ['Heroine', 'Sams', 'Metroid']\n",
      "003 ['Kight', 'Link', 'Zelda']\n"
     ]
    }
   ],
   "source": [
    "for key,info in member_information.items():\n",
    "    print(key, info)"
   ]
  },
  {
   "cell_type": "code",
   "execution_count": 50,
   "metadata": {},
   "outputs": [
    {
     "data": {
      "text/plain": [
       "{'001': ['Hero', 'Mario', 'Mario.Bros'],\n",
       " '002': ['Heroine', 'Sams', 'Metroid'],\n",
       " '003': ['Kight', 'Link', 'Zelda']}"
      ]
     },
     "execution_count": 50,
     "metadata": {},
     "output_type": "execute_result"
    }
   ],
   "source": [
    "member_information"
   ]
  },
  {
   "cell_type": "markdown",
   "metadata": {},
   "source": [
    "***"
   ]
  },
  {
   "cell_type": "markdown",
   "metadata": {},
   "source": [
    "### **Pandas** のインポート"
   ]
  },
  {
   "cell_type": "code",
   "execution_count": 68,
   "metadata": {},
   "outputs": [],
   "source": [
    "import pandas as pd"
   ]
  },
  {
   "cell_type": "code",
   "execution_count": 2,
   "metadata": {},
   "outputs": [
    {
     "data": {
      "text/plain": [
       "0    1\n",
       "1    2\n",
       "2    3\n",
       "dtype: int64"
      ]
     },
     "execution_count": 2,
     "metadata": {},
     "output_type": "execute_result"
    }
   ],
   "source": [
    "pd.Series([1,2,3])"
   ]
  },
  {
   "cell_type": "code",
   "execution_count": 33,
   "metadata": {},
   "outputs": [
    {
     "data": {
      "text/html": [
       "<div>\n",
       "<style scoped>\n",
       "    .dataframe tbody tr th:only-of-type {\n",
       "        vertical-align: middle;\n",
       "    }\n",
       "\n",
       "    .dataframe tbody tr th {\n",
       "        vertical-align: top;\n",
       "    }\n",
       "\n",
       "    .dataframe thead th {\n",
       "        text-align: right;\n",
       "    }\n",
       "</style>\n",
       "<table border=\"1\" class=\"dataframe\">\n",
       "  <thead>\n",
       "    <tr style=\"text-align: right;\">\n",
       "      <th></th>\n",
       "      <th>0</th>\n",
       "      <th>1</th>\n",
       "      <th>2</th>\n",
       "    </tr>\n",
       "  </thead>\n",
       "  <tbody>\n",
       "    <tr>\n",
       "      <th>0</th>\n",
       "      <td>1</td>\n",
       "      <td>2</td>\n",
       "      <td>3</td>\n",
       "    </tr>\n",
       "    <tr>\n",
       "      <th>1</th>\n",
       "      <td>4</td>\n",
       "      <td>5</td>\n",
       "      <td>6</td>\n",
       "    </tr>\n",
       "    <tr>\n",
       "      <th>2</th>\n",
       "      <td>7</td>\n",
       "      <td>8</td>\n",
       "      <td>9</td>\n",
       "    </tr>\n",
       "  </tbody>\n",
       "</table>\n",
       "</div>"
      ],
      "text/plain": [
       "   0  1  2\n",
       "0  1  2  3\n",
       "1  4  5  6\n",
       "2  7  8  9"
      ]
     },
     "execution_count": 33,
     "metadata": {},
     "output_type": "execute_result"
    }
   ],
   "source": [
    "df = pd.DataFrame([[1,2,3],[4,5,6],[7,8,9]])\n",
    "df"
   ]
  },
  {
   "cell_type": "code",
   "execution_count": 38,
   "metadata": {},
   "outputs": [
    {
     "name": "stdout",
     "output_type": "stream",
     "text": [
      "{'Python': '3', 'Swift': 'Xcode'}\n"
     ]
    }
   ],
   "source": [
    "print(d)"
   ]
  },
  {
   "cell_type": "markdown",
   "metadata": {},
   "source": [
    ">引用されたテキスト"
   ]
  },
  {
   "cell_type": "markdown",
   "metadata": {},
   "source": [
    "ソースコードの記述\n",
    "```Python\n",
    "def main():\n",
    "    pass\n",
    "```"
   ]
  },
  {
   "cell_type": "code",
   "execution_count": 45,
   "metadata": {},
   "outputs": [
    {
     "data": {
      "text/html": [
       "<div>\n",
       "<style scoped>\n",
       "    .dataframe tbody tr th:only-of-type {\n",
       "        vertical-align: middle;\n",
       "    }\n",
       "\n",
       "    .dataframe tbody tr th {\n",
       "        vertical-align: top;\n",
       "    }\n",
       "\n",
       "    .dataframe thead th {\n",
       "        text-align: right;\n",
       "    }\n",
       "</style>\n",
       "<table border=\"1\" class=\"dataframe\">\n",
       "  <thead>\n",
       "    <tr style=\"text-align: right;\">\n",
       "      <th></th>\n",
       "      <th>0</th>\n",
       "      <th>1</th>\n",
       "      <th>2</th>\n",
       "    </tr>\n",
       "  </thead>\n",
       "  <tbody>\n",
       "    <tr>\n",
       "      <th>0</th>\n",
       "      <td>名前</td>\n",
       "      <td>日付</td>\n",
       "      <td>スコア</td>\n",
       "    </tr>\n",
       "    <tr>\n",
       "      <th>1</th>\n",
       "      <td>太郎</td>\n",
       "      <td>12/1</td>\n",
       "      <td>90</td>\n",
       "    </tr>\n",
       "    <tr>\n",
       "      <th>2</th>\n",
       "      <td>一郎</td>\n",
       "      <td>6/1</td>\n",
       "      <td>50</td>\n",
       "    </tr>\n",
       "  </tbody>\n",
       "</table>\n",
       "</div>"
      ],
      "text/plain": [
       "    0     1    2\n",
       "0  名前    日付  スコア\n",
       "1  太郎  12/1   90\n",
       "2  一郎   6/1   50"
      ]
     },
     "execution_count": 45,
     "metadata": {},
     "output_type": "execute_result"
    }
   ],
   "source": [
    "df = pd.DataFrame([['名前','日付','スコア'],['太郎','12/1','90'],['一郎','6/1','50']])\n",
    "df"
   ]
  },
  {
   "cell_type": "markdown",
   "metadata": {},
   "source": [
    "一番上の見出しを別にするには"
   ]
  },
  {
   "cell_type": "code",
   "execution_count": 65,
   "metadata": {},
   "outputs": [
    {
     "name": "stdout",
     "output_type": "stream",
     "text": [
      "['Python', 'Python', 'Python', 'Python', 'Python', 'Swift', 'Swift', 'Swift', 'Swift', 'Swift', 'C#', 'C#', 'C#', 'C#', 'C#'] ['データ', 'アプリ', 'グラフ', '画像', '自動化', 'データ', 'アプリ', 'グラフ', '画像', '自動化', 'データ', 'アプリ', 'グラフ', '画像', '自動化'] [52, 80, 20, 51, 89, 48, 83, 60, 78, 45, 79, 56, 46, 11, 77]\n"
     ]
    }
   ],
   "source": [
    "arr1 = ['Python'] * 5 + ['Swift'] * 5 + ['C#'] * 5\n",
    "arr2 = ['データ','アプリ','グラフ','画像','自動化']*3\n",
    "arr3 = [np.random.randint(0,100) for i in range(15)]\n",
    "print(arr1,arr2,arr3)"
   ]
  },
  {
   "cell_type": "code",
   "execution_count": 66,
   "metadata": {},
   "outputs": [
    {
     "data": {
      "text/plain": [
       "[('Python', 'データ', 52),\n",
       " ('Python', 'アプリ', 80),\n",
       " ('Python', 'グラフ', 20),\n",
       " ('Python', '画像', 51),\n",
       " ('Python', '自動化', 89),\n",
       " ('Swift', 'データ', 48),\n",
       " ('Swift', 'アプリ', 83),\n",
       " ('Swift', 'グラフ', 60),\n",
       " ('Swift', '画像', 78),\n",
       " ('Swift', '自動化', 45),\n",
       " ('C#', 'データ', 79),\n",
       " ('C#', 'アプリ', 56),\n",
       " ('C#', 'グラフ', 46),\n",
       " ('C#', '画像', 11),\n",
       " ('C#', '自動化', 77)]"
      ]
     },
     "execution_count": 66,
     "metadata": {},
     "output_type": "execute_result"
    }
   ],
   "source": [
    "data = list(zip(arr1,arr2,arr3))\n",
    "data"
   ]
  },
  {
   "cell_type": "code",
   "execution_count": 85,
   "metadata": {},
   "outputs": [
    {
     "data": {
      "text/html": [
       "<div>\n",
       "<style scoped>\n",
       "    .dataframe tbody tr th:only-of-type {\n",
       "        vertical-align: middle;\n",
       "    }\n",
       "\n",
       "    .dataframe tbody tr th {\n",
       "        vertical-align: top;\n",
       "    }\n",
       "\n",
       "    .dataframe thead th {\n",
       "        text-align: right;\n",
       "    }\n",
       "</style>\n",
       "<table border=\"1\" class=\"dataframe\">\n",
       "  <thead>\n",
       "    <tr style=\"text-align: right;\">\n",
       "      <th></th>\n",
       "      <th>Language</th>\n",
       "      <th>category</th>\n",
       "      <th>Values</th>\n",
       "    </tr>\n",
       "  </thead>\n",
       "  <tbody>\n",
       "    <tr>\n",
       "      <th>0</th>\n",
       "      <td>Python</td>\n",
       "      <td>データ</td>\n",
       "      <td>52</td>\n",
       "    </tr>\n",
       "    <tr>\n",
       "      <th>1</th>\n",
       "      <td>Python</td>\n",
       "      <td>アプリ</td>\n",
       "      <td>80</td>\n",
       "    </tr>\n",
       "    <tr>\n",
       "      <th>2</th>\n",
       "      <td>Python</td>\n",
       "      <td>グラフ</td>\n",
       "      <td>20</td>\n",
       "    </tr>\n",
       "    <tr>\n",
       "      <th>3</th>\n",
       "      <td>Python</td>\n",
       "      <td>画像</td>\n",
       "      <td>51</td>\n",
       "    </tr>\n",
       "    <tr>\n",
       "      <th>4</th>\n",
       "      <td>Python</td>\n",
       "      <td>自動化</td>\n",
       "      <td>89</td>\n",
       "    </tr>\n",
       "  </tbody>\n",
       "</table>\n",
       "</div>"
      ],
      "text/plain": [
       "  Language category  Values\n",
       "0   Python      データ      52\n",
       "1   Python      アプリ      80\n",
       "2   Python      グラフ      20\n",
       "3   Python       画像      51\n",
       "4   Python      自動化      89"
      ]
     },
     "execution_count": 85,
     "metadata": {},
     "output_type": "execute_result"
    }
   ],
   "source": [
    "df = pd.DataFrame(data=data, columns=['Language','category','Values'])\n",
    "#df.info()\n",
    "df[:5]\n",
    "#print(df[:5])"
   ]
  },
  {
   "cell_type": "code",
   "execution_count": 87,
   "metadata": {},
   "outputs": [
    {
     "data": {
      "text/plain": [
       "0    52\n",
       "1    80\n",
       "2    20\n",
       "3    51\n",
       "4    89\n",
       "5    48\n",
       "6    83\n",
       "7    60\n",
       "8    78\n",
       "9    45\n",
       "Name: Values, dtype: int64"
      ]
     },
     "execution_count": 87,
     "metadata": {},
     "output_type": "execute_result"
    }
   ],
   "source": [
    "df['Values'][:10]"
   ]
  },
  {
   "cell_type": "markdown",
   "metadata": {},
   "source": [
    "Zip関数"
   ]
  },
  {
   "cell_type": "code",
   "execution_count": 1,
   "metadata": {},
   "outputs": [
    {
     "output_type": "execute_result",
     "data": {
      "text/plain": [
       "{1: 'Apple', 2: 'Orange', 3: 'Kiwi'}"
      ]
     },
     "metadata": {},
     "execution_count": 1
    }
   ],
   "source": [
    "list1 = [1,2,3]\n",
    "list2 = ['Apple', 'Orange', 'Kiwi']\n",
    "dict(zip(list1,list2))"
   ]
  },
  {
   "cell_type": "code",
   "execution_count": null,
   "metadata": {},
   "outputs": [],
   "source": []
  },
  {
   "cell_type": "markdown",
   "metadata": {},
   "source": [
    "### ファイルのアップロード　ひだりメニューの⬆︎から"
   ]
  },
  {
   "cell_type": "code",
   "execution_count": 19,
   "metadata": {},
   "outputs": [],
   "source": [
    "df1 = pd.read_csv('covid19_y.csv')"
   ]
  },
  {
   "cell_type": "code",
   "execution_count": 20,
   "metadata": {},
   "outputs": [
    {
     "data": {
      "text/html": [
       "<div>\n",
       "<style scoped>\n",
       "    .dataframe tbody tr th:only-of-type {\n",
       "        vertical-align: middle;\n",
       "    }\n",
       "\n",
       "    .dataframe tbody tr th {\n",
       "        vertical-align: top;\n",
       "    }\n",
       "\n",
       "    .dataframe thead th {\n",
       "        text-align: right;\n",
       "    }\n",
       "</style>\n",
       "<table border=\"1\" class=\"dataframe\">\n",
       "  <thead>\n",
       "    <tr style=\"text-align: right;\">\n",
       "      <th></th>\n",
       "      <th>No</th>\n",
       "      <th>全国地方自治体コード</th>\n",
       "      <th>都道府県名</th>\n",
       "      <th>市区町村名</th>\n",
       "      <th>公表日</th>\n",
       "      <th>患者_年代</th>\n",
       "      <th>患者_状態</th>\n",
       "      <th>患者_退院済フラグ</th>\n",
       "    </tr>\n",
       "  </thead>\n",
       "  <tbody>\n",
       "    <tr>\n",
       "      <th>0</th>\n",
       "      <td>1</td>\n",
       "      <td>141003</td>\n",
       "      <td>神奈川県</td>\n",
       "      <td>横浜市</td>\n",
       "      <td>2020-02-18</td>\n",
       "      <td>60代</td>\n",
       "      <td>退院</td>\n",
       "      <td>1.0</td>\n",
       "    </tr>\n",
       "    <tr>\n",
       "      <th>1</th>\n",
       "      <td>2</td>\n",
       "      <td>141003</td>\n",
       "      <td>神奈川県</td>\n",
       "      <td>横浜市</td>\n",
       "      <td>2020-02-20</td>\n",
       "      <td>60代</td>\n",
       "      <td>退院</td>\n",
       "      <td>1.0</td>\n",
       "    </tr>\n",
       "    <tr>\n",
       "      <th>2</th>\n",
       "      <td>3</td>\n",
       "      <td>141003</td>\n",
       "      <td>神奈川県</td>\n",
       "      <td>横浜市</td>\n",
       "      <td>2020-02-21</td>\n",
       "      <td>30代</td>\n",
       "      <td>退院</td>\n",
       "      <td>1.0</td>\n",
       "    </tr>\n",
       "    <tr>\n",
       "      <th>3</th>\n",
       "      <td>4</td>\n",
       "      <td>141003</td>\n",
       "      <td>神奈川県</td>\n",
       "      <td>横浜市</td>\n",
       "      <td>2020-02-28</td>\n",
       "      <td>50代</td>\n",
       "      <td>退院</td>\n",
       "      <td>1.0</td>\n",
       "    </tr>\n",
       "    <tr>\n",
       "      <th>4</th>\n",
       "      <td>5</td>\n",
       "      <td>141003</td>\n",
       "      <td>神奈川県</td>\n",
       "      <td>横浜市</td>\n",
       "      <td>2020-03-03</td>\n",
       "      <td>20代</td>\n",
       "      <td>退院</td>\n",
       "      <td>1.0</td>\n",
       "    </tr>\n",
       "  </tbody>\n",
       "</table>\n",
       "</div>"
      ],
      "text/plain": [
       "   No  全国地方自治体コード 都道府県名 市区町村名         公表日 患者_年代 患者_状態  患者_退院済フラグ\n",
       "0   1      141003  神奈川県   横浜市  2020-02-18   60代    退院        1.0\n",
       "1   2      141003  神奈川県   横浜市  2020-02-20   60代    退院        1.0\n",
       "2   3      141003  神奈川県   横浜市  2020-02-21   30代    退院        1.0\n",
       "3   4      141003  神奈川県   横浜市  2020-02-28   50代    退院        1.0\n",
       "4   5      141003  神奈川県   横浜市  2020-03-03   20代    退院        1.0"
      ]
     },
     "execution_count": 20,
     "metadata": {},
     "output_type": "execute_result"
    }
   ],
   "source": [
    "df1.head()"
   ]
  },
  {
   "cell_type": "code",
   "execution_count": 21,
   "metadata": {},
   "outputs": [
    {
     "data": {
      "text/html": [
       "<div>\n",
       "<style scoped>\n",
       "    .dataframe tbody tr th:only-of-type {\n",
       "        vertical-align: middle;\n",
       "    }\n",
       "\n",
       "    .dataframe tbody tr th {\n",
       "        vertical-align: top;\n",
       "    }\n",
       "\n",
       "    .dataframe thead th {\n",
       "        text-align: right;\n",
       "    }\n",
       "</style>\n",
       "<table border=\"1\" class=\"dataframe\">\n",
       "  <thead>\n",
       "    <tr style=\"text-align: right;\">\n",
       "      <th></th>\n",
       "      <th>No</th>\n",
       "      <th>全国地方自治体コード</th>\n",
       "      <th>都道府県名</th>\n",
       "      <th>市区町村名</th>\n",
       "      <th>公表日</th>\n",
       "      <th>患者_年代</th>\n",
       "      <th>患者_状態</th>\n",
       "      <th>患者_退院済フラグ</th>\n",
       "    </tr>\n",
       "  </thead>\n",
       "  <tbody>\n",
       "    <tr>\n",
       "      <th>5911</th>\n",
       "      <td>5930</td>\n",
       "      <td>141003</td>\n",
       "      <td>神奈川県</td>\n",
       "      <td>横浜市</td>\n",
       "      <td>2020-11-30</td>\n",
       "      <td>50代</td>\n",
       "      <td>軽症</td>\n",
       "      <td>NaN</td>\n",
       "    </tr>\n",
       "    <tr>\n",
       "      <th>5912</th>\n",
       "      <td>5931</td>\n",
       "      <td>141003</td>\n",
       "      <td>神奈川県</td>\n",
       "      <td>横浜市</td>\n",
       "      <td>2020-11-30</td>\n",
       "      <td>40代</td>\n",
       "      <td>軽症</td>\n",
       "      <td>NaN</td>\n",
       "    </tr>\n",
       "    <tr>\n",
       "      <th>5913</th>\n",
       "      <td>5932</td>\n",
       "      <td>141003</td>\n",
       "      <td>神奈川県</td>\n",
       "      <td>横浜市</td>\n",
       "      <td>2020-11-30</td>\n",
       "      <td>40代</td>\n",
       "      <td>軽症</td>\n",
       "      <td>NaN</td>\n",
       "    </tr>\n",
       "    <tr>\n",
       "      <th>5914</th>\n",
       "      <td>5933</td>\n",
       "      <td>141003</td>\n",
       "      <td>神奈川県</td>\n",
       "      <td>横浜市</td>\n",
       "      <td>2020-11-30</td>\n",
       "      <td>20代</td>\n",
       "      <td>無症状</td>\n",
       "      <td>NaN</td>\n",
       "    </tr>\n",
       "    <tr>\n",
       "      <th>5915</th>\n",
       "      <td>5934</td>\n",
       "      <td>141003</td>\n",
       "      <td>神奈川県</td>\n",
       "      <td>横浜市</td>\n",
       "      <td>2020-11-30</td>\n",
       "      <td>20代</td>\n",
       "      <td>無症状</td>\n",
       "      <td>NaN</td>\n",
       "    </tr>\n",
       "  </tbody>\n",
       "</table>\n",
       "</div>"
      ],
      "text/plain": [
       "        No  全国地方自治体コード 都道府県名 市区町村名         公表日 患者_年代 患者_状態  患者_退院済フラグ\n",
       "5911  5930      141003  神奈川県   横浜市  2020-11-30   50代    軽症        NaN\n",
       "5912  5931      141003  神奈川県   横浜市  2020-11-30   40代    軽症        NaN\n",
       "5913  5932      141003  神奈川県   横浜市  2020-11-30   40代    軽症        NaN\n",
       "5914  5933      141003  神奈川県   横浜市  2020-11-30   20代   無症状        NaN\n",
       "5915  5934      141003  神奈川県   横浜市  2020-11-30   20代   無症状        NaN"
      ]
     },
     "execution_count": 21,
     "metadata": {},
     "output_type": "execute_result"
    }
   ],
   "source": [
    "df1.tail()"
   ]
  },
  {
   "cell_type": "code",
   "execution_count": 22,
   "metadata": {},
   "outputs": [
    {
     "data": {
      "text/html": [
       "<div>\n",
       "<style scoped>\n",
       "    .dataframe tbody tr th:only-of-type {\n",
       "        vertical-align: middle;\n",
       "    }\n",
       "\n",
       "    .dataframe tbody tr th {\n",
       "        vertical-align: top;\n",
       "    }\n",
       "\n",
       "    .dataframe thead th {\n",
       "        text-align: right;\n",
       "    }\n",
       "</style>\n",
       "<table border=\"1\" class=\"dataframe\">\n",
       "  <thead>\n",
       "    <tr style=\"text-align: right;\">\n",
       "      <th></th>\n",
       "      <th>No</th>\n",
       "      <th>公表日</th>\n",
       "      <th>患者_年代</th>\n",
       "    </tr>\n",
       "  </thead>\n",
       "  <tbody>\n",
       "    <tr>\n",
       "      <th>0</th>\n",
       "      <td>1</td>\n",
       "      <td>2020-02-18</td>\n",
       "      <td>60代</td>\n",
       "    </tr>\n",
       "    <tr>\n",
       "      <th>1</th>\n",
       "      <td>2</td>\n",
       "      <td>2020-02-20</td>\n",
       "      <td>60代</td>\n",
       "    </tr>\n",
       "    <tr>\n",
       "      <th>2</th>\n",
       "      <td>3</td>\n",
       "      <td>2020-02-21</td>\n",
       "      <td>30代</td>\n",
       "    </tr>\n",
       "    <tr>\n",
       "      <th>3</th>\n",
       "      <td>4</td>\n",
       "      <td>2020-02-28</td>\n",
       "      <td>50代</td>\n",
       "    </tr>\n",
       "    <tr>\n",
       "      <th>4</th>\n",
       "      <td>5</td>\n",
       "      <td>2020-03-03</td>\n",
       "      <td>20代</td>\n",
       "    </tr>\n",
       "  </tbody>\n",
       "</table>\n",
       "</div>"
      ],
      "text/plain": [
       "   No         公表日 患者_年代\n",
       "0   1  2020-02-18   60代\n",
       "1   2  2020-02-20   60代\n",
       "2   3  2020-02-21   30代\n",
       "3   4  2020-02-28   50代\n",
       "4   5  2020-03-03   20代"
      ]
     },
     "execution_count": 22,
     "metadata": {},
     "output_type": "execute_result"
    }
   ],
   "source": [
    "df1[['No','公表日','患者_年代']].head()"
   ]
  },
  {
   "cell_type": "code",
   "execution_count": null,
   "metadata": {},
   "outputs": [],
   "source": [
    "# うまくいかない例"
   ]
  },
  {
   "cell_type": "code",
   "execution_count": 24,
   "metadata": {},
   "outputs": [
    {
     "data": {
      "text/html": [
       "<div>\n",
       "<style scoped>\n",
       "    .dataframe tbody tr th:only-of-type {\n",
       "        vertical-align: middle;\n",
       "    }\n",
       "\n",
       "    .dataframe tbody tr th {\n",
       "        vertical-align: top;\n",
       "    }\n",
       "\n",
       "    .dataframe thead th {\n",
       "        text-align: right;\n",
       "    }\n",
       "</style>\n",
       "<table border=\"1\" class=\"dataframe\">\n",
       "  <thead>\n",
       "    <tr style=\"text-align: right;\">\n",
       "      <th></th>\n",
       "      <th>No</th>\n",
       "      <th>全国地方自治体コード</th>\n",
       "      <th>都道府県名</th>\n",
       "    </tr>\n",
       "  </thead>\n",
       "  <tbody>\n",
       "    <tr>\n",
       "      <th>0</th>\n",
       "      <td>1</td>\n",
       "      <td>141003</td>\n",
       "      <td>神奈川県</td>\n",
       "    </tr>\n",
       "    <tr>\n",
       "      <th>1</th>\n",
       "      <td>2</td>\n",
       "      <td>141003</td>\n",
       "      <td>神奈川県</td>\n",
       "    </tr>\n",
       "    <tr>\n",
       "      <th>2</th>\n",
       "      <td>3</td>\n",
       "      <td>141003</td>\n",
       "      <td>神奈川県</td>\n",
       "    </tr>\n",
       "    <tr>\n",
       "      <th>3</th>\n",
       "      <td>4</td>\n",
       "      <td>141003</td>\n",
       "      <td>神奈川県</td>\n",
       "    </tr>\n",
       "    <tr>\n",
       "      <th>4</th>\n",
       "      <td>5</td>\n",
       "      <td>141003</td>\n",
       "      <td>神奈川県</td>\n",
       "    </tr>\n",
       "  </tbody>\n",
       "</table>\n",
       "</div>"
      ],
      "text/plain": [
       "   No  全国地方自治体コード 都道府県名\n",
       "0   1      141003  神奈川県\n",
       "1   2      141003  神奈川県\n",
       "2   3      141003  神奈川県\n",
       "3   4      141003  神奈川県\n",
       "4   5      141003  神奈川県"
      ]
     },
     "execution_count": 24,
     "metadata": {},
     "output_type": "execute_result"
    }
   ],
   "source": [
    "# df.iloc[行,列]\n",
    "df1.iloc[:,0:3].head()"
   ]
  },
  {
   "cell_type": "code",
   "execution_count": 25,
   "metadata": {},
   "outputs": [],
   "source": [
    "df2 = pd.read_csv('revized_covid19.csv')"
   ]
  },
  {
   "cell_type": "code",
   "execution_count": 30,
   "metadata": {},
   "outputs": [
    {
     "data": {
      "text/html": [
       "<div>\n",
       "<style scoped>\n",
       "    .dataframe tbody tr th:only-of-type {\n",
       "        vertical-align: middle;\n",
       "    }\n",
       "\n",
       "    .dataframe tbody tr th {\n",
       "        vertical-align: top;\n",
       "    }\n",
       "\n",
       "    .dataframe thead th {\n",
       "        text-align: right;\n",
       "    }\n",
       "</style>\n",
       "<table border=\"1\" class=\"dataframe\">\n",
       "  <thead>\n",
       "    <tr style=\"text-align: right;\">\n",
       "      <th></th>\n",
       "      <th>No</th>\n",
       "      <th>全国地方自治体コード</th>\n",
       "      <th>都道府県名</th>\n",
       "      <th>市区町村名</th>\n",
       "      <th>公表日</th>\n",
       "      <th>患者_年代</th>\n",
       "      <th>患者_状態</th>\n",
       "      <th>患者_退院済フラグ</th>\n",
       "    </tr>\n",
       "  </thead>\n",
       "  <tbody>\n",
       "    <tr>\n",
       "      <th>0</th>\n",
       "      <td>1</td>\n",
       "      <td>141003</td>\n",
       "      <td>神奈川県</td>\n",
       "      <td>横浜市</td>\n",
       "      <td>2020/02/18</td>\n",
       "      <td>60.0</td>\n",
       "      <td>退院</td>\n",
       "      <td>1.0</td>\n",
       "    </tr>\n",
       "    <tr>\n",
       "      <th>1</th>\n",
       "      <td>2</td>\n",
       "      <td>141003</td>\n",
       "      <td>神奈川県</td>\n",
       "      <td>横浜市</td>\n",
       "      <td>2020/02/20</td>\n",
       "      <td>60.0</td>\n",
       "      <td>退院</td>\n",
       "      <td>1.0</td>\n",
       "    </tr>\n",
       "    <tr>\n",
       "      <th>5</th>\n",
       "      <td>6</td>\n",
       "      <td>141003</td>\n",
       "      <td>神奈川県</td>\n",
       "      <td>横浜市</td>\n",
       "      <td>2020/03/05</td>\n",
       "      <td>60.0</td>\n",
       "      <td>退院</td>\n",
       "      <td>1.0</td>\n",
       "    </tr>\n",
       "    <tr>\n",
       "      <th>6</th>\n",
       "      <td>7</td>\n",
       "      <td>141003</td>\n",
       "      <td>神奈川県</td>\n",
       "      <td>横浜市</td>\n",
       "      <td>2020/03/05</td>\n",
       "      <td>70.0</td>\n",
       "      <td>退院</td>\n",
       "      <td>1.0</td>\n",
       "    </tr>\n",
       "    <tr>\n",
       "      <th>7</th>\n",
       "      <td>8</td>\n",
       "      <td>141003</td>\n",
       "      <td>神奈川県</td>\n",
       "      <td>横浜市</td>\n",
       "      <td>2020/03/11</td>\n",
       "      <td>70.0</td>\n",
       "      <td>退院</td>\n",
       "      <td>1.0</td>\n",
       "    </tr>\n",
       "    <tr>\n",
       "      <th>9</th>\n",
       "      <td>10</td>\n",
       "      <td>141003</td>\n",
       "      <td>神奈川県</td>\n",
       "      <td>横浜市</td>\n",
       "      <td>2020/03/12</td>\n",
       "      <td>70.0</td>\n",
       "      <td>退院</td>\n",
       "      <td>1.0</td>\n",
       "    </tr>\n",
       "    <tr>\n",
       "      <th>10</th>\n",
       "      <td>11</td>\n",
       "      <td>141003</td>\n",
       "      <td>神奈川県</td>\n",
       "      <td>横浜市</td>\n",
       "      <td>2020/03/17</td>\n",
       "      <td>70.0</td>\n",
       "      <td>退院</td>\n",
       "      <td>1.0</td>\n",
       "    </tr>\n",
       "    <tr>\n",
       "      <th>11</th>\n",
       "      <td>12</td>\n",
       "      <td>141003</td>\n",
       "      <td>神奈川県</td>\n",
       "      <td>横浜市</td>\n",
       "      <td>2020/03/17</td>\n",
       "      <td>70.0</td>\n",
       "      <td>退院</td>\n",
       "      <td>1.0</td>\n",
       "    </tr>\n",
       "    <tr>\n",
       "      <th>12</th>\n",
       "      <td>13</td>\n",
       "      <td>141003</td>\n",
       "      <td>神奈川県</td>\n",
       "      <td>横浜市</td>\n",
       "      <td>2020/03/17</td>\n",
       "      <td>70.0</td>\n",
       "      <td>退院</td>\n",
       "      <td>1.0</td>\n",
       "    </tr>\n",
       "    <tr>\n",
       "      <th>14</th>\n",
       "      <td>15</td>\n",
       "      <td>141003</td>\n",
       "      <td>神奈川県</td>\n",
       "      <td>横浜市</td>\n",
       "      <td>2020/03/21</td>\n",
       "      <td>90.0</td>\n",
       "      <td>死亡</td>\n",
       "      <td>NaN</td>\n",
       "    </tr>\n",
       "  </tbody>\n",
       "</table>\n",
       "</div>"
      ],
      "text/plain": [
       "    No  全国地方自治体コード 都道府県名 市区町村名         公表日  患者_年代 患者_状態  患者_退院済フラグ\n",
       "0    1      141003  神奈川県   横浜市  2020/02/18   60.0    退院        1.0\n",
       "1    2      141003  神奈川県   横浜市  2020/02/20   60.0    退院        1.0\n",
       "5    6      141003  神奈川県   横浜市  2020/03/05   60.0    退院        1.0\n",
       "6    7      141003  神奈川県   横浜市  2020/03/05   70.0    退院        1.0\n",
       "7    8      141003  神奈川県   横浜市  2020/03/11   70.0    退院        1.0\n",
       "9   10      141003  神奈川県   横浜市  2020/03/12   70.0    退院        1.0\n",
       "10  11      141003  神奈川県   横浜市  2020/03/17   70.0    退院        1.0\n",
       "11  12      141003  神奈川県   横浜市  2020/03/17   70.0    退院        1.0\n",
       "12  13      141003  神奈川県   横浜市  2020/03/17   70.0    退院        1.0\n",
       "14  15      141003  神奈川県   横浜市  2020/03/21   90.0    死亡        NaN"
      ]
     },
     "execution_count": 30,
     "metadata": {},
     "output_type": "execute_result"
    }
   ],
   "source": [
    "df[df2['患者_年代']>50].head(10)"
   ]
  },
  {
   "cell_type": "code",
   "execution_count": 33,
   "metadata": {},
   "outputs": [
    {
     "data": {
      "text/html": [
       "<div>\n",
       "<style scoped>\n",
       "    .dataframe tbody tr th:only-of-type {\n",
       "        vertical-align: middle;\n",
       "    }\n",
       "\n",
       "    .dataframe tbody tr th {\n",
       "        vertical-align: top;\n",
       "    }\n",
       "\n",
       "    .dataframe thead th {\n",
       "        text-align: right;\n",
       "    }\n",
       "</style>\n",
       "<table border=\"1\" class=\"dataframe\">\n",
       "  <thead>\n",
       "    <tr style=\"text-align: right;\">\n",
       "      <th></th>\n",
       "      <th>No</th>\n",
       "      <th>全国地方自治体コード</th>\n",
       "      <th>都道府県名</th>\n",
       "      <th>市区町村名</th>\n",
       "      <th>公表日</th>\n",
       "      <th>患者_年代</th>\n",
       "      <th>患者_状態</th>\n",
       "      <th>患者_退院済フラグ</th>\n",
       "    </tr>\n",
       "  </thead>\n",
       "  <tbody>\n",
       "    <tr>\n",
       "      <th>43</th>\n",
       "      <td>44</td>\n",
       "      <td>141003</td>\n",
       "      <td>神奈川県</td>\n",
       "      <td>横浜市</td>\n",
       "      <td>2020/04/03</td>\n",
       "      <td>2.0</td>\n",
       "      <td>退院</td>\n",
       "      <td>1.0</td>\n",
       "    </tr>\n",
       "    <tr>\n",
       "      <th>44</th>\n",
       "      <td>45</td>\n",
       "      <td>141003</td>\n",
       "      <td>神奈川県</td>\n",
       "      <td>横浜市</td>\n",
       "      <td>2020/04/03</td>\n",
       "      <td>2.0</td>\n",
       "      <td>退院</td>\n",
       "      <td>1.0</td>\n",
       "    </tr>\n",
       "    <tr>\n",
       "      <th>2126</th>\n",
       "      <td>2129</td>\n",
       "      <td>141003</td>\n",
       "      <td>神奈川県</td>\n",
       "      <td>横浜市</td>\n",
       "      <td>2020/09/02</td>\n",
       "      <td>5.0</td>\n",
       "      <td>退院</td>\n",
       "      <td>1.0</td>\n",
       "    </tr>\n",
       "    <tr>\n",
       "      <th>2465</th>\n",
       "      <td>2468</td>\n",
       "      <td>141003</td>\n",
       "      <td>神奈川県</td>\n",
       "      <td>横浜市</td>\n",
       "      <td>2020/09/09</td>\n",
       "      <td>5.0</td>\n",
       "      <td>退院</td>\n",
       "      <td>1.0</td>\n",
       "    </tr>\n",
       "    <tr>\n",
       "      <th>2464</th>\n",
       "      <td>2467</td>\n",
       "      <td>141003</td>\n",
       "      <td>神奈川県</td>\n",
       "      <td>横浜市</td>\n",
       "      <td>2020/09/09</td>\n",
       "      <td>5.0</td>\n",
       "      <td>退院</td>\n",
       "      <td>1.0</td>\n",
       "    </tr>\n",
       "    <tr>\n",
       "      <th>...</th>\n",
       "      <td>...</td>\n",
       "      <td>...</td>\n",
       "      <td>...</td>\n",
       "      <td>...</td>\n",
       "      <td>...</td>\n",
       "      <td>...</td>\n",
       "      <td>...</td>\n",
       "      <td>...</td>\n",
       "    </tr>\n",
       "    <tr>\n",
       "      <th>748</th>\n",
       "      <td>749</td>\n",
       "      <td>141003</td>\n",
       "      <td>神奈川県</td>\n",
       "      <td>横浜市</td>\n",
       "      <td>2020/07/16</td>\n",
       "      <td>NaN</td>\n",
       "      <td>退院</td>\n",
       "      <td>1.0</td>\n",
       "    </tr>\n",
       "    <tr>\n",
       "      <th>749</th>\n",
       "      <td>750</td>\n",
       "      <td>141003</td>\n",
       "      <td>神奈川県</td>\n",
       "      <td>横浜市</td>\n",
       "      <td>2020/07/16</td>\n",
       "      <td>NaN</td>\n",
       "      <td>退院</td>\n",
       "      <td>1.0</td>\n",
       "    </tr>\n",
       "    <tr>\n",
       "      <th>795</th>\n",
       "      <td>796</td>\n",
       "      <td>141003</td>\n",
       "      <td>神奈川県</td>\n",
       "      <td>横浜市</td>\n",
       "      <td>2020/07/19</td>\n",
       "      <td>NaN</td>\n",
       "      <td>退院</td>\n",
       "      <td>1.0</td>\n",
       "    </tr>\n",
       "    <tr>\n",
       "      <th>892</th>\n",
       "      <td>893</td>\n",
       "      <td>141003</td>\n",
       "      <td>神奈川県</td>\n",
       "      <td>横浜市</td>\n",
       "      <td>2020/07/26</td>\n",
       "      <td>NaN</td>\n",
       "      <td>退院</td>\n",
       "      <td>1.0</td>\n",
       "    </tr>\n",
       "    <tr>\n",
       "      <th>4295</th>\n",
       "      <td>4308</td>\n",
       "      <td>141003</td>\n",
       "      <td>神奈川県</td>\n",
       "      <td>横浜市</td>\n",
       "      <td>2020/11/09</td>\n",
       "      <td>NaN</td>\n",
       "      <td>退院</td>\n",
       "      <td>1.0</td>\n",
       "    </tr>\n",
       "  </tbody>\n",
       "</table>\n",
       "<p>5916 rows × 8 columns</p>\n",
       "</div>"
      ],
      "text/plain": [
       "        No  全国地方自治体コード 都道府県名 市区町村名         公表日  患者_年代 患者_状態  患者_退院済フラグ\n",
       "43      44      141003  神奈川県   横浜市  2020/04/03    2.0    退院        1.0\n",
       "44      45      141003  神奈川県   横浜市  2020/04/03    2.0    退院        1.0\n",
       "2126  2129      141003  神奈川県   横浜市  2020/09/02    5.0    退院        1.0\n",
       "2465  2468      141003  神奈川県   横浜市  2020/09/09    5.0    退院        1.0\n",
       "2464  2467      141003  神奈川県   横浜市  2020/09/09    5.0    退院        1.0\n",
       "...    ...         ...   ...   ...         ...    ...   ...        ...\n",
       "748    749      141003  神奈川県   横浜市  2020/07/16    NaN    退院        1.0\n",
       "749    750      141003  神奈川県   横浜市  2020/07/16    NaN    退院        1.0\n",
       "795    796      141003  神奈川県   横浜市  2020/07/19    NaN    退院        1.0\n",
       "892    893      141003  神奈川県   横浜市  2020/07/26    NaN    退院        1.0\n",
       "4295  4308      141003  神奈川県   横浜市  2020/11/09    NaN    退院        1.0\n",
       "\n",
       "[5916 rows x 8 columns]"
      ]
     },
     "execution_count": 33,
     "metadata": {},
     "output_type": "execute_result"
    }
   ],
   "source": [
    "df.sort_values(by='患者_年代')"
   ]
  },
  {
   "cell_type": "code",
   "execution_count": null,
   "metadata": {},
   "outputs": [],
   "source": []
  },
  {
   "cell_type": "markdown",
   "metadata": {},
   "source": [
    "### Numpy の基本"
   ]
  },
  {
   "source": [
    "import numpy as np"
   ],
   "cell_type": "markdown",
   "metadata": {}
  },
  {
   "cell_type": "code",
   "execution_count": 35,
   "metadata": {},
   "outputs": [
    {
     "data": {
      "text/plain": [
       "array([1, 2, 3])"
      ]
     },
     "execution_count": 35,
     "metadata": {},
     "output_type": "execute_result"
    }
   ],
   "source": [
    "x = np.array([1,2,3])\n",
    "x"
   ]
  },
  {
   "cell_type": "code",
   "execution_count": 36,
   "metadata": {},
   "outputs": [
    {
     "data": {
      "text/plain": [
       "(3,)"
      ]
     },
     "execution_count": 36,
     "metadata": {},
     "output_type": "execute_result"
    }
   ],
   "source": [
    "x.shape"
   ]
  },
  {
   "cell_type": "code",
   "execution_count": 37,
   "metadata": {},
   "outputs": [
    {
     "data": {
      "text/plain": [
       "1"
      ]
     },
     "execution_count": 37,
     "metadata": {},
     "output_type": "execute_result"
    }
   ],
   "source": [
    "x.ndim"
   ]
  },
  {
   "cell_type": "code",
   "execution_count": 38,
   "metadata": {},
   "outputs": [],
   "source": [
    "y = np.array([\n",
    "    [1,2,3],\n",
    "    [4,5,6],\n",
    "    [7,8,9]\n",
    "])"
   ]
  },
  {
   "cell_type": "code",
   "execution_count": 40,
   "metadata": {},
   "outputs": [
    {
     "data": {
      "text/plain": [
       "2"
      ]
     },
     "execution_count": 40,
     "metadata": {},
     "output_type": "execute_result"
    }
   ],
   "source": [
    "y.ndim"
   ]
  },
  {
   "cell_type": "code",
   "execution_count": 42,
   "metadata": {},
   "outputs": [
    {
     "data": {
      "text/plain": [
       "array([[0., 0., 0.],\n",
       "       [0., 0., 0.],\n",
       "       [0., 0., 0.]])"
      ]
     },
     "execution_count": 42,
     "metadata": {},
     "output_type": "execute_result"
    }
   ],
   "source": [
    "np.zeros([3,3])"
   ]
  },
  {
   "cell_type": "code",
   "execution_count": 43,
   "metadata": {},
   "outputs": [
    {
     "data": {
      "text/plain": [
       "5.0"
      ]
     },
     "execution_count": 43,
     "metadata": {},
     "output_type": "execute_result"
    }
   ],
   "source": [
    "y.mean()"
   ]
  },
  {
   "cell_type": "markdown",
   "metadata": {},
   "source": [
    "リンクの表示１: https://developers.line.biz/ja/ "
   ]
  },
  {
   "cell_type": "markdown",
   "metadata": {},
   "source": [
    "リンクの表示２ [Link](https://developers.line.biz/ja/)"
   ]
  },
  {
   "cell_type": "markdown",
   "metadata": {},
   "source": [
    "[Google][1]/[Line][2]\n",
    "\n",
    "[1]: https://www.google.com/?hl=ja \"Google\"\n",
    "[2]: https://developers.line.biz/ja/ \"Line\""
   ]
  },
  {
   "cell_type": "markdown",
   "metadata": {},
   "source": [
    "![Pythonで始める数学の冒険](124105053_365233551215927_6687424982830452009_n.jpg \"Image\")"
   ]
  },
  {
   "cell_type": "markdown",
   "metadata": {},
   "source": [
    "<img src=\"124105053_365233551215927_6687424982830452009_n.jpg\" width=\"100px\">"
   ]
  },
  {
   "cell_type": "markdown",
   "metadata": {},
   "source": [
    "1. k\n",
    "2. l\n",
    "1. l"
   ]
  },
  {
   "cell_type": "markdown",
   "metadata": {},
   "source": [
    "$$\n",
    "\\int_a^b f(x) dx \\\\\n",
    "\\iiint_D dx \\\\\n",
    "$$"
   ]
  },
  {
   "cell_type": "markdown",
   "metadata": {},
   "source": []
  },
  {
   "cell_type": "code",
   "execution_count": 3,
   "metadata": {},
   "outputs": [],
   "source": [
    "import numpy as np"
   ]
  },
  {
   "cell_type": "code",
   "execution_count": 10,
   "metadata": {},
   "outputs": [
    {
     "name": "stdout",
     "output_type": "stream",
     "text": [
      "[10 20 30]\n"
     ]
    }
   ],
   "source": [
    "arr = np.array([10,20,30])\n",
    "print(arr)"
   ]
  },
  {
   "cell_type": "code",
   "execution_count": 13,
   "metadata": {},
   "outputs": [
    {
     "name": "stdout",
     "output_type": "stream",
     "text": [
      "[ 0 20 40 60 80] [  0.  25.  50.  75. 100.]\n"
     ]
    }
   ],
   "source": [
    "arr1 = np.arange(0,100,20)\n",
    "arr2 = np.linspace(0,100,5)\n",
    "print(arr1,arr2)"
   ]
  },
  {
   "cell_type": "code",
   "execution_count": 52,
   "metadata": {},
   "outputs": [
    {
     "name": "stdout",
     "output_type": "stream",
     "text": [
      "[10 20 30]\n",
      "[20 30 40]\n",
      "[0 0 0]\n"
     ]
    }
   ],
   "source": [
    "print(arr)\n",
    "print(arr + 10)\n",
    "print(arr % 2)"
   ]
  },
  {
   "cell_type": "markdown",
   "metadata": {},
   "source": [
    "## ListとNumpy array(ベクトル)の違い"
   ]
  },
  {
   "cell_type": "code",
   "execution_count": 53,
   "metadata": {},
   "outputs": [
    {
     "name": "stdout",
     "output_type": "stream",
     "text": [
      "[1, 2, 3, 4, 5, 6, 7, 8]\n"
     ]
    }
   ],
   "source": [
    "list1 = [1,2,3,4]\n",
    "list2 = [5,6,7,8]\n",
    "print(list1 + list2)"
   ]
  },
  {
   "cell_type": "code",
   "execution_count": 54,
   "metadata": {},
   "outputs": [
    {
     "name": "stdout",
     "output_type": "stream",
     "text": [
      "[ 6  8 10 12]\n"
     ]
    }
   ],
   "source": [
    "arr1 = np.array([1,2,3,4])\n",
    "arr2 = np.array([5,6,7,8])\n",
    "print(arr1 + arr2)"
   ]
  },
  {
   "cell_type": "markdown",
   "metadata": {},
   "source": [
    "#### 単位行列の作成"
   ]
  },
  {
   "cell_type": "code",
   "execution_count": 56,
   "metadata": {},
   "outputs": [
    {
     "data": {
      "text/plain": [
       "array([[1., 0., 0.],\n",
       "       [0., 1., 0.],\n",
       "       [0., 0., 1.]])"
      ]
     },
     "execution_count": 56,
     "metadata": {},
     "output_type": "execute_result"
    }
   ],
   "source": [
    "arr3 = np.identity(3)\n",
    "arr3"
   ]
  },
  {
   "cell_type": "code",
   "execution_count": 57,
   "metadata": {},
   "outputs": [
    {
     "data": {
      "text/plain": [
       "array([[0., 0., 1., 0., 0., 0., 0.],\n",
       "       [0., 0., 0., 1., 0., 0., 0.],\n",
       "       [0., 0., 0., 0., 1., 0., 0.],\n",
       "       [0., 0., 0., 0., 0., 1., 0.],\n",
       "       [0., 0., 0., 0., 0., 0., 1.]])"
      ]
     },
     "execution_count": 57,
     "metadata": {},
     "output_type": "execute_result"
    }
   ],
   "source": [
    "arr4 = np.eye(5,7,2)\n",
    "arr4"
   ]
  },
  {
   "cell_type": "markdown",
   "metadata": {},
   "source": [
    "ベクトルから行列への変換"
   ]
  },
  {
   "cell_type": "code",
   "execution_count": 58,
   "metadata": {},
   "outputs": [
    {
     "name": "stdout",
     "output_type": "stream",
     "text": [
      "[1 2 3 4 5 6 7 8 9]\n",
      "[[1 2 3]\n",
      " [4 5 6]\n",
      " [7 8 9]]\n"
     ]
    }
   ],
   "source": [
    "arr1 = np.array([1,2,3,4,5,6,7,8,9])\n",
    "arr2 = arr1.reshape((3,3))\n",
    "print(arr1)\n",
    "print(arr2)"
   ]
  },
  {
   "cell_type": "markdown",
   "metadata": {},
   "source": [
    "行列からベクトルへ"
   ]
  },
  {
   "cell_type": "code",
   "execution_count": 5,
   "metadata": {},
   "outputs": [
    {
     "output_type": "stream",
     "name": "stdout",
     "text": [
      "[[1 0 0 0]\n [0 2 0 0]\n [0 0 3 0]\n [0 0 0 5]]\n[1 0 0 0 0 2 0 0 0 0 3 0 0 0 0 5]\n"
     ]
    }
   ],
   "source": [
    "arr1 = np.diag([1,2,3,5])\n",
    "arr2 = np.ravel(arr1)\n",
    "print(arr1)\n",
    "print(arr2)"
   ]
  },
  {
   "source": [
    "転置について"
   ],
   "cell_type": "markdown",
   "metadata": {}
  },
  {
   "cell_type": "code",
   "execution_count": 4,
   "metadata": {},
   "outputs": [
    {
     "output_type": "stream",
     "name": "stdout",
     "text": [
      "[[ 1  2  3]\n [ 5  8 13]\n [21 34 55]]\n[[ 1  5 21]\n [ 2  8 34]\n [ 3 13 55]]\n"
     ]
    }
   ],
   "source": [
    "arr1 = np.array([1,2,3,5,8,13,21,34,55])\n",
    "arr2 = arr1.reshape((3,3))\n",
    "print(arr2)\n",
    "print(arr2.T)"
   ]
  },
  {
   "source": [
    "ベクトルの結合"
   ],
   "cell_type": "markdown",
   "metadata": {}
  },
  {
   "cell_type": "code",
   "execution_count": 9,
   "metadata": {},
   "outputs": [
    {
     "output_type": "stream",
     "name": "stdout",
     "text": [
      "[ 6 10 16]\n[ 1  2  3  5  8 13]\n"
     ]
    }
   ],
   "source": [
    "arr1 = np.array([1,2,3])\n",
    "arr2 = np.array([5,8,13])\n",
    "arr3 = arr1 + arr2\n",
    "print(arr3)\n",
    "arr4 = np.ravel([arr1,arr2])\n",
    "print(arr4)"
   ]
  },
  {
   "cell_type": "code",
   "execution_count": null,
   "metadata": {},
   "outputs": [],
   "source": []
  }
 ],
 "metadata": {
  "kernelspec": {
   "display_name": "Python 3.8.2 64-bit ('3.8.2': pyenv)",
   "language": "python",
   "name": "python38264bit382pyenv1b83e28bdf1d4a0cab3b1a48771bab22"
  },
  "language_info": {
   "codemirror_mode": {
    "name": "ipython",
    "version": 3
   },
   "file_extension": ".py",
   "mimetype": "text/x-python",
   "name": "python",
   "nbconvert_exporter": "python",
   "pygments_lexer": "ipython3",
   "version": "3.8.2-final"
  }
 },
 "nbformat": 4,
 "nbformat_minor": 4
}