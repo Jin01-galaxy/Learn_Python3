{
 "cells": [
  {
   "cell_type": "markdown",
   "metadata": {},
   "source": [
    "# **Jupyter Lab**の使い方"
   ]
  },
  {
   "cell_type": "markdown",
   "metadata": {},
   "source": [
    "### Python 基本 「四則計算」　＋　ー　×　÷"
   ]
  },
  {
   "cell_type": "code",
   "execution_count": 13,
   "metadata": {},
   "outputs": [],
   "source": [
    "a = 1"
   ]
  },
  {
   "cell_type": "code",
   "execution_count": null,
   "metadata": {},
   "outputs": [],
   "source": []
  },
  {
   "cell_type": "markdown",
   "metadata": {},
   "source": [
    "%： 余りを求める"
   ]
  },
  {
   "cell_type": "code",
   "execution_count": 10,
   "metadata": {},
   "outputs": [],
   "source": [
    "a = '10%3 + 3'"
   ]
  },
  {
   "cell_type": "code",
   "execution_count": 11,
   "metadata": {},
   "outputs": [
    {
     "name": "stdout",
     "output_type": "stream",
     "text": [
      "10%3 + 3\n"
     ]
    }
   ],
   "source": [
    "print(a)"
   ]
  },
  {
   "cell_type": "code",
   "execution_count": 12,
   "metadata": {},
   "outputs": [
    {
     "data": {
      "text/plain": [
       "str"
      ]
     },
     "execution_count": 12,
     "metadata": {},
     "output_type": "execute_result"
    }
   ],
   "source": [
    "type(a)"
   ]
  },
  {
   "cell_type": "markdown",
   "metadata": {},
   "source": [
    "### リスト："
   ]
  },
  {
   "cell_type": "code",
   "execution_count": 13,
   "metadata": {},
   "outputs": [
    {
     "data": {
      "text/plain": [
       "[1, 2, 3]"
      ]
     },
     "execution_count": 13,
     "metadata": {},
     "output_type": "execute_result"
    }
   ],
   "source": [
    "c = [1,2,3]\n",
    "c"
   ]
  },
  {
   "cell_type": "code",
   "execution_count": 14,
   "metadata": {},
   "outputs": [
    {
     "data": {
      "text/plain": [
       "list"
      ]
     },
     "execution_count": 14,
     "metadata": {},
     "output_type": "execute_result"
    }
   ],
   "source": [
    "type(c)"
   ]
  },
  {
   "cell_type": "markdown",
   "metadata": {},
   "source": [
    "### 辞書： キーと値をペアする"
   ]
  },
  {
   "cell_type": "code",
   "execution_count": 15,
   "metadata": {},
   "outputs": [
    {
     "data": {
      "text/plain": [
       "{'Python': '3', 'Swift': 'Xcode'}"
      ]
     },
     "execution_count": 15,
     "metadata": {},
     "output_type": "execute_result"
    }
   ],
   "source": [
    "d = {'Python':'3','Swift':'Xcode'}\n",
    "d"
   ]
  },
  {
   "cell_type": "code",
   "execution_count": 20,
   "metadata": {},
   "outputs": [
    {
     "data": {
      "text/plain": [
       "dict"
      ]
     },
     "execution_count": 20,
     "metadata": {},
     "output_type": "execute_result"
    }
   ],
   "source": [
    "type(d)"
   ]
  },
  {
   "cell_type": "code",
   "execution_count": 37,
   "metadata": {},
   "outputs": [
    {
     "name": "stdout",
     "output_type": "stream",
     "text": [
      "Not Found\n"
     ]
    }
   ],
   "source": [
    "dict = {1:'Python',2:'Swift',3:'Dart'}\n",
    "print(dict.get(0, 'Not Found'))"
   ]
  },
  {
   "cell_type": "code",
   "execution_count": 33,
   "metadata": {},
   "outputs": [
    {
     "data": {
      "text/plain": [
       "{1: 'Python', 2: 'Swift', 3: 'Dart', 4: 'C#'}"
      ]
     },
     "execution_count": 33,
     "metadata": {},
     "output_type": "execute_result"
    }
   ],
   "source": [
    "dict[4] = 'C#'\n",
    "dict"
   ]
  },
  {
   "cell_type": "code",
   "execution_count": 34,
   "metadata": {},
   "outputs": [
    {
     "data": {
      "text/plain": [
       "{1: 'Python', 2: 'Swift', 4: 'C#'}"
      ]
     },
     "execution_count": 34,
     "metadata": {},
     "output_type": "execute_result"
    }
   ],
   "source": [
    "del dict[3]\n",
    "dict"
   ]
  },
  {
   "cell_type": "code",
   "execution_count": 36,
   "metadata": {},
   "outputs": [
    {
     "data": {
      "text/plain": [
       "{}"
      ]
     },
     "execution_count": 36,
     "metadata": {},
     "output_type": "execute_result"
    }
   ],
   "source": [
    "dict.clear()\n",
    "dict"
   ]
  },
  {
   "cell_type": "markdown",
   "metadata": {},
   "source": [
    "### キーや値を取り出す keys, values, items"
   ]
  },
  {
   "cell_type": "code",
   "execution_count": 41,
   "metadata": {},
   "outputs": [
    {
     "name": "stdout",
     "output_type": "stream",
     "text": [
      "(1, 'Python')\n",
      "(2, 'Swift')\n",
      "(3, 'Dart')\n"
     ]
    }
   ],
   "source": [
    "for x in dict.items():\n",
    "    print(x)"
   ]
  },
  {
   "cell_type": "code",
   "execution_count": 42,
   "metadata": {},
   "outputs": [
    {
     "data": {
      "text/plain": [
       "[['001', 'Hero', 'Mario', 'Mario.Bros'],\n",
       " ['002', 'Heroine', 'Sams', 'Metroid'],\n",
       " ['003', 'Kight', 'Link', 'Zelda']]"
      ]
     },
     "execution_count": 42,
     "metadata": {},
     "output_type": "execute_result"
    }
   ],
   "source": [
    "data = [\n",
    "    ['001','Hero','Mario','Mario.Bros'],\n",
    "    ['002','Heroine','Sams','Metroid'],\n",
    "    ['003','Kight','Link','Zelda']\n",
    "]\n",
    "data"
   ]
  },
  {
   "cell_type": "code",
   "execution_count": 49,
   "metadata": {},
   "outputs": [],
   "source": [
    "member_information = {}\n",
    "for record in data:\n",
    "    key = record[0]\n",
    "    info = record[1:]\n",
    "    member_information[key] = info"
   ]
  },
  {
   "cell_type": "code",
   "execution_count": 44,
   "metadata": {},
   "outputs": [
    {
     "name": "stdout",
     "output_type": "stream",
     "text": [
      "001 ['Hero', 'Mario', 'Mario.Bros']\n",
      "002 ['Heroine', 'Sams', 'Metroid']\n",
      "003 ['Kight', 'Link', 'Zelda']\n"
     ]
    }
   ],
   "source": [
    "for key,info in member_information.items():\n",
    "    print(key, info)"
   ]
  },
  {
   "cell_type": "code",
   "execution_count": 50,
   "metadata": {},
   "outputs": [
    {
     "data": {
      "text/plain": [
       "{'001': ['Hero', 'Mario', 'Mario.Bros'],\n",
       " '002': ['Heroine', 'Sams', 'Metroid'],\n",
       " '003': ['Kight', 'Link', 'Zelda']}"
      ]
     },
     "execution_count": 50,
     "metadata": {},
     "output_type": "execute_result"
    }
   ],
   "source": [
    "member_information"
   ]
  },
  {
   "cell_type": "markdown",
   "metadata": {},
   "source": [
    "***"
   ]
  },
  {
   "cell_type": "markdown",
   "metadata": {},
   "source": [
    "### **Pandas** のインポート"
   ]
  },
  {
   "cell_type": "code",
   "execution_count": 68,
   "metadata": {},
   "outputs": [],
   "source": [
    "import pandas as pd"
   ]
  },
  {
   "cell_type": "code",
   "execution_count": 2,
   "metadata": {},
   "outputs": [
    {
     "data": {
      "text/plain": [
       "0    1\n",
       "1    2\n",
       "2    3\n",
       "dtype: int64"
      ]
     },
     "execution_count": 2,
     "metadata": {},
     "output_type": "execute_result"
    }
   ],
   "source": [
    "pd.Series([1,2,3])"
   ]
  },
  {
   "cell_type": "code",
   "execution_count": 33,
   "metadata": {},
   "outputs": [
    {
     "data": {
      "text/html": [
       "<div>\n",
       "<style scoped>\n",
       "    .dataframe tbody tr th:only-of-type {\n",
       "        vertical-align: middle;\n",
       "    }\n",
       "\n",
       "    .dataframe tbody tr th {\n",
       "        vertical-align: top;\n",
       "    }\n",
       "\n",
       "    .dataframe thead th {\n",
       "        text-align: right;\n",
       "    }\n",
       "</style>\n",
       "<table border=\"1\" class=\"dataframe\">\n",
       "  <thead>\n",
       "    <tr style=\"text-align: right;\">\n",
       "      <th></th>\n",
       "      <th>0</th>\n",
       "      <th>1</th>\n",
       "      <th>2</th>\n",
       "    </tr>\n",
       "  </thead>\n",
       "  <tbody>\n",
       "    <tr>\n",
       "      <th>0</th>\n",
       "      <td>1</td>\n",
       "      <td>2</td>\n",
       "      <td>3</td>\n",
       "    </tr>\n",
       "    <tr>\n",
       "      <th>1</th>\n",
       "      <td>4</td>\n",
       "      <td>5</td>\n",
       "      <td>6</td>\n",
       "    </tr>\n",
       "    <tr>\n",
       "      <th>2</th>\n",
       "      <td>7</td>\n",
       "      <td>8</td>\n",
       "      <td>9</td>\n",
       "    </tr>\n",
       "  </tbody>\n",
       "</table>\n",
       "</div>"
      ],
      "text/plain": [
       "   0  1  2\n",
       "0  1  2  3\n",
       "1  4  5  6\n",
       "2  7  8  9"
      ]
     },
     "execution_count": 33,
     "metadata": {},
     "output_type": "execute_result"
    }
   ],
   "source": [
    "df = pd.DataFrame([[1,2,3],[4,5,6],[7,8,9]])\n",
    "df"
   ]
  },
  {
   "cell_type": "code",
   "execution_count": 38,
   "metadata": {},
   "outputs": [
    {
     "name": "stdout",
     "output_type": "stream",
     "text": [
      "{'Python': '3', 'Swift': 'Xcode'}\n"
     ]
    }
   ],
   "source": [
    "print(d)"
   ]
  },
  {
   "cell_type": "markdown",
   "metadata": {},
   "source": [
    ">引用されたテキスト"
   ]
  },
  {
   "cell_type": "markdown",
   "metadata": {},
   "source": [
    "ソースコードの記述\n",
    "```Python\n",
    "def main():\n",
    "    pass\n",
    "```"
   ]
  },
  {
   "cell_type": "code",
   "execution_count": 45,
   "metadata": {},
   "outputs": [
    {
     "data": {
      "text/html": [
       "<div>\n",
       "<style scoped>\n",
       "    .dataframe tbody tr th:only-of-type {\n",
       "        vertical-align: middle;\n",
       "    }\n",
       "\n",
       "    .dataframe tbody tr th {\n",
       "        vertical-align: top;\n",
       "    }\n",
       "\n",
       "    .dataframe thead th {\n",
       "        text-align: right;\n",
       "    }\n",
       "</style>\n",
       "<table border=\"1\" class=\"dataframe\">\n",
       "  <thead>\n",
       "    <tr style=\"text-align: right;\">\n",
       "      <th></th>\n",
       "      <th>0</th>\n",
       "      <th>1</th>\n",
       "      <th>2</th>\n",
       "    </tr>\n",
       "  </thead>\n",
       "  <tbody>\n",
       "    <tr>\n",
       "      <th>0</th>\n",
       "      <td>名前</td>\n",
       "      <td>日付</td>\n",
       "      <td>スコア</td>\n",
       "    </tr>\n",
       "    <tr>\n",
       "      <th>1</th>\n",
       "      <td>太郎</td>\n",
       "      <td>12/1</td>\n",
       "      <td>90</td>\n",
       "    </tr>\n",
       "    <tr>\n",
       "      <th>2</th>\n",
       "      <td>一郎</td>\n",
       "      <td>6/1</td>\n",
       "      <td>50</td>\n",
       "    </tr>\n",
       "  </tbody>\n",
       "</table>\n",
       "</div>"
      ],
      "text/plain": [
       "    0     1    2\n",
       "0  名前    日付  スコア\n",
       "1  太郎  12/1   90\n",
       "2  一郎   6/1   50"
      ]
     },
     "execution_count": 45,
     "metadata": {},
     "output_type": "execute_result"
    }
   ],
   "source": [
    "df = pd.DataFrame([['名前','日付','スコア'],['太郎','12/1','90'],['一郎','6/1','50']])\n",
    "df"
   ]
  },
  {
   "cell_type": "markdown",
   "metadata": {},
   "source": [
    "一番上の見出しを別にするには"
   ]
  },
  {
   "cell_type": "code",
   "execution_count": 65,
   "metadata": {},
   "outputs": [
    {
     "name": "stdout",
     "output_type": "stream",
     "text": [
      "['Python', 'Python', 'Python', 'Python', 'Python', 'Swift', 'Swift', 'Swift', 'Swift', 'Swift', 'C#', 'C#', 'C#', 'C#', 'C#'] ['データ', 'アプリ', 'グラフ', '画像', '自動化', 'データ', 'アプリ', 'グラフ', '画像', '自動化', 'データ', 'アプリ', 'グラフ', '画像', '自動化'] [52, 80, 20, 51, 89, 48, 83, 60, 78, 45, 79, 56, 46, 11, 77]\n"
     ]
    }
   ],
   "source": [
    "arr1 = ['Python'] * 5 + ['Swift'] * 5 + ['C#'] * 5\n",
    "arr2 = ['データ','アプリ','グラフ','画像','自動化']*3\n",
    "arr3 = [np.random.randint(0,100) for i in range(15)]\n",
    "print(arr1,arr2,arr3)"
   ]
  },
  {
   "cell_type": "code",
   "execution_count": 66,
   "metadata": {},
   "outputs": [
    {
     "data": {
      "text/plain": [
       "[('Python', 'データ', 52),\n",
       " ('Python', 'アプリ', 80),\n",
       " ('Python', 'グラフ', 20),\n",
       " ('Python', '画像', 51),\n",
       " ('Python', '自動化', 89),\n",
       " ('Swift', 'データ', 48),\n",
       " ('Swift', 'アプリ', 83),\n",
       " ('Swift', 'グラフ', 60),\n",
       " ('Swift', '画像', 78),\n",
       " ('Swift', '自動化', 45),\n",
       " ('C#', 'データ', 79),\n",
       " ('C#', 'アプリ', 56),\n",
       " ('C#', 'グラフ', 46),\n",
       " ('C#', '画像', 11),\n",
       " ('C#', '自動化', 77)]"
      ]
     },
     "execution_count": 66,
     "metadata": {},
     "output_type": "execute_result"
    }
   ],
   "source": [
    "data = list(zip(arr1,arr2,arr3))\n",
    "data"
   ]
  },
  {
   "cell_type": "code",
   "execution_count": 85,
   "metadata": {},
   "outputs": [
    {
     "data": {
      "text/html": [
       "<div>\n",
       "<style scoped>\n",
       "    .dataframe tbody tr th:only-of-type {\n",
       "        vertical-align: middle;\n",
       "    }\n",
       "\n",
       "    .dataframe tbody tr th {\n",
       "        vertical-align: top;\n",
       "    }\n",
       "\n",
       "    .dataframe thead th {\n",
       "        text-align: right;\n",
       "    }\n",
       "</style>\n",
       "<table border=\"1\" class=\"dataframe\">\n",
       "  <thead>\n",
       "    <tr style=\"text-align: right;\">\n",
       "      <th></th>\n",
       "      <th>Language</th>\n",
       "      <th>category</th>\n",
       "      <th>Values</th>\n",
       "    </tr>\n",
       "  </thead>\n",
       "  <tbody>\n",
       "    <tr>\n",
       "      <th>0</th>\n",
       "      <td>Python</td>\n",
       "      <td>データ</td>\n",
       "      <td>52</td>\n",
       "    </tr>\n",
       "    <tr>\n",
       "      <th>1</th>\n",
       "      <td>Python</td>\n",
       "      <td>アプリ</td>\n",
       "      <td>80</td>\n",
       "    </tr>\n",
       "    <tr>\n",
       "      <th>2</th>\n",
       "      <td>Python</td>\n",
       "      <td>グラフ</td>\n",
       "      <td>20</td>\n",
       "    </tr>\n",
       "    <tr>\n",
       "      <th>3</th>\n",
       "      <td>Python</td>\n",
       "      <td>画像</td>\n",
       "      <td>51</td>\n",
       "    </tr>\n",
       "    <tr>\n",
       "      <th>4</th>\n",
       "      <td>Python</td>\n",
       "      <td>自動化</td>\n",
       "      <td>89</td>\n",
       "    </tr>\n",
       "  </tbody>\n",
       "</table>\n",
       "</div>"
      ],
      "text/plain": [
       "  Language category  Values\n",
       "0   Python      データ      52\n",
       "1   Python      アプリ      80\n",
       "2   Python      グラフ      20\n",
       "3   Python       画像      51\n",
       "4   Python      自動化      89"
      ]
     },
     "execution_count": 85,
     "metadata": {},
     "output_type": "execute_result"
    }
   ],
   "source": [
    "df = pd.DataFrame(data=data, columns=['Language','category','Values'])\n",
    "#df.info()\n",
    "df[:5]\n",
    "#print(df[:5])"
   ]
  },
  {
   "cell_type": "code",
   "execution_count": 87,
   "metadata": {},
   "outputs": [
    {
     "data": {
      "text/plain": [
       "0    52\n",
       "1    80\n",
       "2    20\n",
       "3    51\n",
       "4    89\n",
       "5    48\n",
       "6    83\n",
       "7    60\n",
       "8    78\n",
       "9    45\n",
       "Name: Values, dtype: int64"
      ]
     },
     "execution_count": 87,
     "metadata": {},
     "output_type": "execute_result"
    }
   ],
   "source": [
    "df['Values'][:10]"
   ]
  },
  {
   "cell_type": "markdown",
   "metadata": {},
   "source": [
    "Zip関数"
   ]
  },
  {
   "cell_type": "code",
   "execution_count": 1,
   "metadata": {},
   "outputs": [
    {
     "output_type": "execute_result",
     "data": {
      "text/plain": [
       "{1: 'Apple', 2: 'Orange', 3: 'Kiwi'}"
      ]
     },
     "metadata": {},
     "execution_count": 1
    }
   ],
   "source": [
    "list1 = [1,2,3]\n",
    "list2 = ['Apple', 'Orange', 'Kiwi']\n",
    "dict(zip(list1,list2))"
   ]
  },
  {
   "cell_type": "code",
   "execution_count": null,
   "metadata": {},
   "outputs": [],
   "source": []
  },
  {
   "cell_type": "markdown",
   "metadata": {},
   "source": [
    "### ファイルのアップロード　ひだりメニューの⬆︎から"
   ]
  },
  {
   "cell_type": "code",
   "execution_count": 19,
   "metadata": {},
   "outputs": [],
   "source": [
    "df1 = pd.read_csv('covid19_y.csv')"
   ]
  },
  {
   "cell_type": "code",
   "execution_count": 20,
   "metadata": {},
   "outputs": [
    {
     "data": {
      "text/html": [
       "<div>\n",
       "<style scoped>\n",
       "    .dataframe tbody tr th:only-of-type {\n",
       "        vertical-align: middle;\n",
       "    }\n",
       "\n",
       "    .dataframe tbody tr th {\n",
       "        vertical-align: top;\n",
       "    }\n",
       "\n",
       "    .dataframe thead th {\n",
       "        text-align: right;\n",
       "    }\n",
       "</style>\n",
       "<table border=\"1\" class=\"dataframe\">\n",
       "  <thead>\n",
       "    <tr style=\"text-align: right;\">\n",
       "      <th></th>\n",
       "      <th>No</th>\n",
       "      <th>全国地方自治体コード</th>\n",
       "      <th>都道府県名</th>\n",
       "      <th>市区町村名</th>\n",
       "      <th>公表日</th>\n",
       "      <th>患者_年代</th>\n",
       "      <th>患者_状態</th>\n",
       "      <th>患者_退院済フラグ</th>\n",
       "    </tr>\n",
       "  </thead>\n",
       "  <tbody>\n",
       "    <tr>\n",
       "      <th>0</th>\n",
       "      <td>1</td>\n",
       "      <td>141003</td>\n",
       "      <td>神奈川県</td>\n",
       "      <td>横浜市</td>\n",
       "      <td>2020-02-18</td>\n",
       "      <td>60代</td>\n",
       "      <td>退院</td>\n",
       "      <td>1.0</td>\n",
       "    </tr>\n",
       "    <tr>\n",
       "      <th>1</th>\n",
       "      <td>2</td>\n",
       "      <td>141003</td>\n",
       "      <td>神奈川県</td>\n",
       "      <td>横浜市</td>\n",
       "      <td>2020-02-20</td>\n",
       "      <td>60代</td>\n",
       "      <td>退院</td>\n",
       "      <td>1.0</td>\n",
       "    </tr>\n",
       "    <tr>\n",
       "      <th>2</th>\n",
       "      <td>3</td>\n",
       "      <td>141003</td>\n",
       "      <td>神奈川県</td>\n",
       "      <td>横浜市</td>\n",
       "      <td>2020-02-21</td>\n",
       "      <td>30代</td>\n",
       "      <td>退院</td>\n",
       "      <td>1.0</td>\n",
       "    </tr>\n",
       "    <tr>\n",
       "      <th>3</th>\n",
       "      <td>4</td>\n",
       "      <td>141003</td>\n",
       "      <td>神奈川県</td>\n",
       "      <td>横浜市</td>\n",
       "      <td>2020-02-28</td>\n",
       "      <td>50代</td>\n",
       "      <td>退院</td>\n",
       "      <td>1.0</td>\n",
       "    </tr>\n",
       "    <tr>\n",
       "      <th>4</th>\n",
       "      <td>5</td>\n",
       "      <td>141003</td>\n",
       "      <td>神奈川県</td>\n",
       "      <td>横浜市</td>\n",
       "      <td>2020-03-03</td>\n",
       "      <td>20代</td>\n",
       "      <td>退院</td>\n",
       "      <td>1.0</td>\n",
       "    </tr>\n",
       "  </tbody>\n",
       "</table>\n",
       "</div>"
      ],
      "text/plain": [
       "   No  全国地方自治体コード 都道府県名 市区町村名         公表日 患者_年代 患者_状態  患者_退院済フラグ\n",
       "0   1      141003  神奈川県   横浜市  2020-02-18   60代    退院        1.0\n",
       "1   2      141003  神奈川県   横浜市  2020-02-20   60代    退院        1.0\n",
       "2   3      141003  神奈川県   横浜市  2020-02-21   30代    退院        1.0\n",
       "3   4      141003  神奈川県   横浜市  2020-02-28   50代    退院        1.0\n",
       "4   5      141003  神奈川県   横浜市  2020-03-03   20代    退院        1.0"
      ]
     },
     "execution_count": 20,
     "metadata": {},
     "output_type": "execute_result"
    }
   ],
   "source": [
    "df1.head()"
   ]
  },
  {
   "cell_type": "code",
   "execution_count": 21,
   "metadata": {},
   "outputs": [
    {
     "data": {
      "text/html": [
       "<div>\n",
       "<style scoped>\n",
       "    .dataframe tbody tr th:only-of-type {\n",
       "        vertical-align: middle;\n",
       "    }\n",
       "\n",
       "    .dataframe tbody tr th {\n",
       "        vertical-align: top;\n",
       "    }\n",
       "\n",
       "    .dataframe thead th {\n",
       "        text-align: right;\n",
       "    }\n",
       "</style>\n",
       "<table border=\"1\" class=\"dataframe\">\n",
       "  <thead>\n",
       "    <tr style=\"text-align: right;\">\n",
       "      <th></th>\n",
       "      <th>No</th>\n",
       "      <th>全国地方自治体コード</th>\n",
       "      <th>都道府県名</th>\n",
       "      <th>市区町村名</th>\n",
       "      <th>公表日</th>\n",
       "      <th>患者_年代</th>\n",
       "      <th>患者_状態</th>\n",
       "      <th>患者_退院済フラグ</th>\n",
       "    </tr>\n",
       "  </thead>\n",
       "  <tbody>\n",
       "    <tr>\n",
       "      <th>5911</th>\n",
       "      <td>5930</td>\n",
       "      <td>141003</td>\n",
       "      <td>神奈川県</td>\n",
       "      <td>横浜市</td>\n",
       "      <td>2020-11-30</td>\n",
       "      <td>50代</td>\n",
       "      <td>軽症</td>\n",
       "      <td>NaN</td>\n",
       "    </tr>\n",
       "    <tr>\n",
       "      <th>5912</th>\n",
       "      <td>5931</td>\n",
       "      <td>141003</td>\n",
       "      <td>神奈川県</td>\n",
       "      <td>横浜市</td>\n",
       "      <td>2020-11-30</td>\n",
       "      <td>40代</td>\n",
       "      <td>軽症</td>\n",
       "      <td>NaN</td>\n",
       "    </tr>\n",
       "    <tr>\n",
       "      <th>5913</th>\n",
       "      <td>5932</td>\n",
       "      <td>141003</td>\n",
       "      <td>神奈川県</td>\n",
       "      <td>横浜市</td>\n",
       "      <td>2020-11-30</td>\n",
       "      <td>40代</td>\n",
       "      <td>軽症</td>\n",
       "      <td>NaN</td>\n",
       "    </tr>\n",
       "    <tr>\n",
       "      <th>5914</th>\n",
       "      <td>5933</td>\n",
       "      <td>141003</td>\n",
       "      <td>神奈川県</td>\n",
       "      <td>横浜市</td>\n",
       "      <td>2020-11-30</td>\n",
       "      <td>20代</td>\n",
       "      <td>無症状</td>\n",
       "      <td>NaN</td>\n",
       "    </tr>\n",
       "    <tr>\n",
       "      <th>5915</th>\n",
       "      <td>5934</td>\n",
       "      <td>141003</td>\n",
       "      <td>神奈川県</td>\n",
       "      <td>横浜市</td>\n",
       "      <td>2020-11-30</td>\n",
       "      <td>20代</td>\n",
       "      <td>無症状</td>\n",
       "      <td>NaN</td>\n",
       "    </tr>\n",
       "  </tbody>\n",
       "</table>\n",
       "</div>"
      ],
      "text/plain": [
       "        No  全国地方自治体コード 都道府県名 市区町村名         公表日 患者_年代 患者_状態  患者_退院済フラグ\n",
       "5911  5930      141003  神奈川県   横浜市  2020-11-30   50代    軽症        NaN\n",
       "5912  5931      141003  神奈川県   横浜市  2020-11-30   40代    軽症        NaN\n",
       "5913  5932      141003  神奈川県   横浜市  2020-11-30   40代    軽症        NaN\n",
       "5914  5933      141003  神奈川県   横浜市  2020-11-30   20代   無症状        NaN\n",
       "5915  5934      141003  神奈川県   横浜市  2020-11-30   20代   無症状        NaN"
      ]
     },
     "execution_count": 21,
     "metadata": {},
     "output_type": "execute_result"
    }
   ],
   "source": [
    "df1.tail()"
   ]
  },
  {
   "cell_type": "code",
   "execution_count": 22,
   "metadata": {},
   "outputs": [
    {
     "data": {
      "text/html": [
       "<div>\n",
       "<style scoped>\n",
       "    .dataframe tbody tr th:only-of-type {\n",
       "        vertical-align: middle;\n",
       "    }\n",
       "\n",
       "    .dataframe tbody tr th {\n",
       "        vertical-align: top;\n",
       "    }\n",
       "\n",
       "    .dataframe thead th {\n",
       "        text-align: right;\n",
       "    }\n",
       "</style>\n",
       "<table border=\"1\" class=\"dataframe\">\n",
       "  <thead>\n",
       "    <tr style=\"text-align: right;\">\n",
       "      <th></th>\n",
       "      <th>No</th>\n",
       "      <th>公表日</th>\n",
       "      <th>患者_年代</th>\n",
       "    </tr>\n",
       "  </thead>\n",
       "  <tbody>\n",
       "    <tr>\n",
       "      <th>0</th>\n",
       "      <td>1</td>\n",
       "      <td>2020-02-18</td>\n",
       "      <td>60代</td>\n",
       "    </tr>\n",
       "    <tr>\n",
       "      <th>1</th>\n",
       "      <td>2</td>\n",
       "      <td>2020-02-20</td>\n",
       "      <td>60代</td>\n",
       "    </tr>\n",
       "    <tr>\n",
       "      <th>2</th>\n",
       "      <td>3</td>\n",
       "      <td>2020-02-21</td>\n",
       "      <td>30代</td>\n",
       "    </tr>\n",
       "    <tr>\n",
       "      <th>3</th>\n",
       "      <td>4</td>\n",
       "      <td>2020-02-28</td>\n",
       "      <td>50代</td>\n",
       "    </tr>\n",
       "    <tr>\n",
       "      <th>4</th>\n",
       "      <td>5</td>\n",
       "      <td>2020-03-03</td>\n",
       "      <td>20代</td>\n",
       "    </tr>\n",
       "  </tbody>\n",
       "</table>\n",
       "</div>"
      ],
      "text/plain": [
       "   No         公表日 患者_年代\n",
       "0   1  2020-02-18   60代\n",
       "1   2  2020-02-20   60代\n",
       "2   3  2020-02-21   30代\n",
       "3   4  2020-02-28   50代\n",
       "4   5  2020-03-03   20代"
      ]
     },
     "execution_count": 22,
     "metadata": {},
     "output_type": "execute_result"
    }
   ],
   "source": [
    "df1[['No','公表日','患者_年代']].head()"
   ]
  },
  {
   "cell_type": "code",
   "execution_count": null,
   "metadata": {},
   "outputs": [],
   "source": [
    "# うまくいかない例"
   ]
  },
  {
   "cell_type": "code",
   "execution_count": 24,
   "metadata": {},
   "outputs": [
    {
     "data": {
      "text/html": [
       "<div>\n",
       "<style scoped>\n",
       "    .dataframe tbody tr th:only-of-type {\n",
       "        vertical-align: middle;\n",
       "    }\n",
       "\n",
       "    .dataframe tbody tr th {\n",
       "        vertical-align: top;\n",
       "    }\n",
       "\n",
       "    .dataframe thead th {\n",
       "        text-align: right;\n",
       "    }\n",
       "</style>\n",
       "<table border=\"1\" class=\"dataframe\">\n",
       "  <thead>\n",
       "    <tr style=\"text-align: right;\">\n",
       "      <th></th>\n",
       "      <th>No</th>\n",
       "      <th>全国地方自治体コード</th>\n",
       "      <th>都道府県名</th>\n",
       "    </tr>\n",
       "  </thead>\n",
       "  <tbody>\n",
       "    <tr>\n",
       "      <th>0</th>\n",
       "      <td>1</td>\n",
       "      <td>141003</td>\n",
       "      <td>神奈川県</td>\n",
       "    </tr>\n",
       "    <tr>\n",
       "      <th>1</th>\n",
       "      <td>2</td>\n",
       "      <td>141003</td>\n",
       "      <td>神奈川県</td>\n",
       "    </tr>\n",
       "    <tr>\n",
       "      <th>2</th>\n",
       "      <td>3</td>\n",
       "      <td>141003</td>\n",
       "      <td>神奈川県</td>\n",
       "    </tr>\n",
       "    <tr>\n",
       "      <th>3</th>\n",
       "      <td>4</td>\n",
       "      <td>141003</td>\n",
       "      <td>神奈川県</td>\n",
       "    </tr>\n",
       "    <tr>\n",
       "      <th>4</th>\n",
       "      <td>5</td>\n",
       "      <td>141003</td>\n",
       "      <td>神奈川県</td>\n",
       "    </tr>\n",
       "  </tbody>\n",
       "</table>\n",
       "</div>"
      ],
      "text/plain": [
       "   No  全国地方自治体コード 都道府県名\n",
       "0   1      141003  神奈川県\n",
       "1   2      141003  神奈川県\n",
       "2   3      141003  神奈川県\n",
       "3   4      141003  神奈川県\n",
       "4   5      141003  神奈川県"
      ]
     },
     "execution_count": 24,
     "metadata": {},
     "output_type": "execute_result"
    }
   ],
   "source": [
    "# df.iloc[行,列]\n",
    "df1.iloc[:,0:3].head()"
   ]
  },
  {
   "cell_type": "code",
   "execution_count": 25,
   "metadata": {},
   "outputs": [],
   "source": [
    "df2 = pd.read_csv('revized_covid19.csv')"
   ]
  },
  {
   "cell_type": "code",
   "execution_count": 30,
   "metadata": {},
   "outputs": [
    {
     "data": {
      "text/html": [
       "<div>\n",
       "<style scoped>\n",
       "    .dataframe tbody tr th:only-of-type {\n",
       "        vertical-align: middle;\n",
       "    }\n",
       "\n",
       "    .dataframe tbody tr th {\n",
       "        vertical-align: top;\n",
       "    }\n",
       "\n",
       "    .dataframe thead th {\n",
       "        text-align: right;\n",
       "    }\n",
       "</style>\n",
       "<table border=\"1\" class=\"dataframe\">\n",
       "  <thead>\n",
       "    <tr style=\"text-align: right;\">\n",
       "      <th></th>\n",
       "      <th>No</th>\n",
       "      <th>全国地方自治体コード</th>\n",
       "      <th>都道府県名</th>\n",
       "      <th>市区町村名</th>\n",
       "      <th>公表日</th>\n",
       "      <th>患者_年代</th>\n",
       "      <th>患者_状態</th>\n",
       "      <th>患者_退院済フラグ</th>\n",
       "    </tr>\n",
       "  </thead>\n",
       "  <tbody>\n",
       "    <tr>\n",
       "      <th>0</th>\n",
       "      <td>1</td>\n",
       "      <td>141003</td>\n",
       "      <td>神奈川県</td>\n",
       "      <td>横浜市</td>\n",
       "      <td>2020/02/18</td>\n",
       "      <td>60.0</td>\n",
       "      <td>退院</td>\n",
       "      <td>1.0</td>\n",
       "    </tr>\n",
       "    <tr>\n",
       "      <th>1</th>\n",
       "      <td>2</td>\n",
       "      <td>141003</td>\n",
       "      <td>神奈川県</td>\n",
       "      <td>横浜市</td>\n",
       "      <td>2020/02/20</td>\n",
       "      <td>60.0</td>\n",
       "      <td>退院</td>\n",
       "      <td>1.0</td>\n",
       "    </tr>\n",
       "    <tr>\n",
       "      <th>5</th>\n",
       "      <td>6</td>\n",
       "      <td>141003</td>\n",
       "      <td>神奈川県</td>\n",
       "      <td>横浜市</td>\n",
       "      <td>2020/03/05</td>\n",
       "      <td>60.0</td>\n",
       "      <td>退院</td>\n",
       "      <td>1.0</td>\n",
       "    </tr>\n",
       "    <tr>\n",
       "      <th>6</th>\n",
       "      <td>7</td>\n",
       "      <td>141003</td>\n",
       "      <td>神奈川県</td>\n",
       "      <td>横浜市</td>\n",
       "      <td>2020/03/05</td>\n",
       "      <td>70.0</td>\n",
       "      <td>退院</td>\n",
       "      <td>1.0</td>\n",
       "    </tr>\n",
       "    <tr>\n",
       "      <th>7</th>\n",
       "      <td>8</td>\n",
       "      <td>141003</td>\n",
       "      <td>神奈川県</td>\n",
       "      <td>横浜市</td>\n",
       "      <td>2020/03/11</td>\n",
       "      <td>70.0</td>\n",
       "      <td>退院</td>\n",
       "      <td>1.0</td>\n",
       "    </tr>\n",
       "    <tr>\n",
       "      <th>9</th>\n",
       "      <td>10</td>\n",
       "      <td>141003</td>\n",
       "      <td>神奈川県</td>\n",
       "      <td>横浜市</td>\n",
       "      <td>2020/03/12</td>\n",
       "      <td>70.0</td>\n",
       "      <td>退院</td>\n",
       "      <td>1.0</td>\n",
       "    </tr>\n",
       "    <tr>\n",
       "      <th>10</th>\n",
       "      <td>11</td>\n",
       "      <td>141003</td>\n",
       "      <td>神奈川県</td>\n",
       "      <td>横浜市</td>\n",
       "      <td>2020/03/17</td>\n",
       "      <td>70.0</td>\n",
       "      <td>退院</td>\n",
       "      <td>1.0</td>\n",
       "    </tr>\n",
       "    <tr>\n",
       "      <th>11</th>\n",
       "      <td>12</td>\n",
       "      <td>141003</td>\n",
       "      <td>神奈川県</td>\n",
       "      <td>横浜市</td>\n",
       "      <td>2020/03/17</td>\n",
       "      <td>70.0</td>\n",
       "      <td>退院</td>\n",
       "      <td>1.0</td>\n",
       "    </tr>\n",
       "    <tr>\n",
       "      <th>12</th>\n",
       "      <td>13</td>\n",
       "      <td>141003</td>\n",
       "      <td>神奈川県</td>\n",
       "      <td>横浜市</td>\n",
       "      <td>2020/03/17</td>\n",
       "      <td>70.0</td>\n",
       "      <td>退院</td>\n",
       "      <td>1.0</td>\n",
       "    </tr>\n",
       "    <tr>\n",
       "      <th>14</th>\n",
       "      <td>15</td>\n",
       "      <td>141003</td>\n",
       "      <td>神奈川県</td>\n",
       "      <td>横浜市</td>\n",
       "      <td>2020/03/21</td>\n",
       "      <td>90.0</td>\n",
       "      <td>死亡</td>\n",
       "      <td>NaN</td>\n",
       "    </tr>\n",
       "  </tbody>\n",
       "</table>\n",
       "</div>"
      ],
      "text/plain": [
       "    No  全国地方自治体コード 都道府県名 市区町村名         公表日  患者_年代 患者_状態  患者_退院済フラグ\n",
       "0    1      141003  神奈川県   横浜市  2020/02/18   60.0    退院        1.0\n",
       "1    2      141003  神奈川県   横浜市  2020/02/20   60.0    退院        1.0\n",
       "5    6      141003  神奈川県   横浜市  2020/03/05   60.0    退院        1.0\n",
       "6    7      141003  神奈川県   横浜市  2020/03/05   70.0    退院        1.0\n",
       "7    8      141003  神奈川県   横浜市  2020/03/11   70.0    退院        1.0\n",
       "9   10      141003  神奈川県   横浜市  2020/03/12   70.0    退院        1.0\n",
       "10  11      141003  神奈川県   横浜市  2020/03/17   70.0    退院        1.0\n",
       "11  12      141003  神奈川県   横浜市  2020/03/17   70.0    退院        1.0\n",
       "12  13      141003  神奈川県   横浜市  2020/03/17   70.0    退院        1.0\n",
       "14  15      141003  神奈川県   横浜市  2020/03/21   90.0    死亡        NaN"
      ]
     },
     "execution_count": 30,
     "metadata": {},
     "output_type": "execute_result"
    }
   ],
   "source": [
    "df[df2['患者_年代']>50].head(10)"
   ]
  },
  {
   "cell_type": "code",
   "execution_count": 33,
   "metadata": {},
   "outputs": [
    {
     "data": {
      "text/html": [
       "<div>\n",
       "<style scoped>\n",
       "    .dataframe tbody tr th:only-of-type {\n",
       "        vertical-align: middle;\n",
       "    }\n",
       "\n",
       "    .dataframe tbody tr th {\n",
       "        vertical-align: top;\n",
       "    }\n",
       "\n",
       "    .dataframe thead th {\n",
       "        text-align: right;\n",
       "    }\n",
       "</style>\n",
       "<table border=\"1\" class=\"dataframe\">\n",
       "  <thead>\n",
       "    <tr style=\"text-align: right;\">\n",
       "      <th></th>\n",
       "      <th>No</th>\n",
       "      <th>全国地方自治体コード</th>\n",
       "      <th>都道府県名</th>\n",
       "      <th>市区町村名</th>\n",
       "      <th>公表日</th>\n",
       "      <th>患者_年代</th>\n",
       "      <th>患者_状態</th>\n",
       "      <th>患者_退院済フラグ</th>\n",
       "    </tr>\n",
       "  </thead>\n",
       "  <tbody>\n",
       "    <tr>\n",
       "      <th>43</th>\n",
       "      <td>44</td>\n",
       "      <td>141003</td>\n",
       "      <td>神奈川県</td>\n",
       "      <td>横浜市</td>\n",
       "      <td>2020/04/03</td>\n",
       "      <td>2.0</td>\n",
       "      <td>退院</td>\n",
       "      <td>1.0</td>\n",
       "    </tr>\n",
       "    <tr>\n",
       "      <th>44</th>\n",
       "      <td>45</td>\n",
       "      <td>141003</td>\n",
       "      <td>神奈川県</td>\n",
       "      <td>横浜市</td>\n",
       "      <td>2020/04/03</td>\n",
       "      <td>2.0</td>\n",
       "      <td>退院</td>\n",
       "      <td>1.0</td>\n",
       "    </tr>\n",
       "    <tr>\n",
       "      <th>2126</th>\n",
       "      <td>2129</td>\n",
       "      <td>141003</td>\n",
       "      <td>神奈川県</td>\n",
       "      <td>横浜市</td>\n",
       "      <td>2020/09/02</td>\n",
       "      <td>5.0</td>\n",
       "      <td>退院</td>\n",
       "      <td>1.0</td>\n",
       "    </tr>\n",
       "    <tr>\n",
       "      <th>2465</th>\n",
       "      <td>2468</td>\n",
       "      <td>141003</td>\n",
       "      <td>神奈川県</td>\n",
       "      <td>横浜市</td>\n",
       "      <td>2020/09/09</td>\n",
       "      <td>5.0</td>\n",
       "      <td>退院</td>\n",
       "      <td>1.0</td>\n",
       "    </tr>\n",
       "    <tr>\n",
       "      <th>2464</th>\n",
       "      <td>2467</td>\n",
       "      <td>141003</td>\n",
       "      <td>神奈川県</td>\n",
       "      <td>横浜市</td>\n",
       "      <td>2020/09/09</td>\n",
       "      <td>5.0</td>\n",
       "      <td>退院</td>\n",
       "      <td>1.0</td>\n",
       "    </tr>\n",
       "    <tr>\n",
       "      <th>...</th>\n",
       "      <td>...</td>\n",
       "      <td>...</td>\n",
       "      <td>...</td>\n",
       "      <td>...</td>\n",
       "      <td>...</td>\n",
       "      <td>...</td>\n",
       "      <td>...</td>\n",
       "      <td>...</td>\n",
       "    </tr>\n",
       "    <tr>\n",
       "      <th>748</th>\n",
       "      <td>749</td>\n",
       "      <td>141003</td>\n",
       "      <td>神奈川県</td>\n",
       "      <td>横浜市</td>\n",
       "      <td>2020/07/16</td>\n",
       "      <td>NaN</td>\n",
       "      <td>退院</td>\n",
       "      <td>1.0</td>\n",
       "    </tr>\n",
       "    <tr>\n",
       "      <th>749</th>\n",
       "      <td>750</td>\n",
       "      <td>141003</td>\n",
       "      <td>神奈川県</td>\n",
       "      <td>横浜市</td>\n",
       "      <td>2020/07/16</td>\n",
       "      <td>NaN</td>\n",
       "      <td>退院</td>\n",
       "      <td>1.0</td>\n",
       "    </tr>\n",
       "    <tr>\n",
       "      <th>795</th>\n",
       "      <td>796</td>\n",
       "      <td>141003</td>\n",
       "      <td>神奈川県</td>\n",
       "      <td>横浜市</td>\n",
       "      <td>2020/07/19</td>\n",
       "      <td>NaN</td>\n",
       "      <td>退院</td>\n",
       "      <td>1.0</td>\n",
       "    </tr>\n",
       "    <tr>\n",
       "      <th>892</th>\n",
       "      <td>893</td>\n",
       "      <td>141003</td>\n",
       "      <td>神奈川県</td>\n",
       "      <td>横浜市</td>\n",
       "      <td>2020/07/26</td>\n",
       "      <td>NaN</td>\n",
       "      <td>退院</td>\n",
       "      <td>1.0</td>\n",
       "    </tr>\n",
       "    <tr>\n",
       "      <th>4295</th>\n",
       "      <td>4308</td>\n",
       "      <td>141003</td>\n",
       "      <td>神奈川県</td>\n",
       "      <td>横浜市</td>\n",
       "      <td>2020/11/09</td>\n",
       "      <td>NaN</td>\n",
       "      <td>退院</td>\n",
       "      <td>1.0</td>\n",
       "    </tr>\n",
       "  </tbody>\n",
       "</table>\n",
       "<p>5916 rows × 8 columns</p>\n",
       "</div>"
      ],
      "text/plain": [
       "        No  全国地方自治体コード 都道府県名 市区町村名         公表日  患者_年代 患者_状態  患者_退院済フラグ\n",
       "43      44      141003  神奈川県   横浜市  2020/04/03    2.0    退院        1.0\n",
       "44      45      141003  神奈川県   横浜市  2020/04/03    2.0    退院        1.0\n",
       "2126  2129      141003  神奈川県   横浜市  2020/09/02    5.0    退院        1.0\n",
       "2465  2468      141003  神奈川県   横浜市  2020/09/09    5.0    退院        1.0\n",
       "2464  2467      141003  神奈川県   横浜市  2020/09/09    5.0    退院        1.0\n",
       "...    ...         ...   ...   ...         ...    ...   ...        ...\n",
       "748    749      141003  神奈川県   横浜市  2020/07/16    NaN    退院        1.0\n",
       "749    750      141003  神奈川県   横浜市  2020/07/16    NaN    退院        1.0\n",
       "795    796      141003  神奈川県   横浜市  2020/07/19    NaN    退院        1.0\n",
       "892    893      141003  神奈川県   横浜市  2020/07/26    NaN    退院        1.0\n",
       "4295  4308      141003  神奈川県   横浜市  2020/11/09    NaN    退院        1.0\n",
       "\n",
       "[5916 rows x 8 columns]"
      ]
     },
     "execution_count": 33,
     "metadata": {},
     "output_type": "execute_result"
    }
   ],
   "source": [
    "df.sort_values(by='患者_年代')"
   ]
  },
  {
   "cell_type": "code",
   "execution_count": null,
   "metadata": {},
   "outputs": [],
   "source": []
  },
  {
   "cell_type": "markdown",
   "metadata": {},
   "source": [
    "### Numpy の基本"
   ]
  },
  {
   "source": [
    "import numpy as np"
   ],
   "cell_type": "markdown",
   "metadata": {}
  },
  {
   "cell_type": "code",
   "execution_count": 35,
   "metadata": {},
   "outputs": [
    {
     "data": {
      "text/plain": [
       "array([1, 2, 3])"
      ]
     },
     "execution_count": 35,
     "metadata": {},
     "output_type": "execute_result"
    }
   ],
   "source": [
    "x = np.array([1,2,3])\n",
    "x"
   ]
  },
  {
   "cell_type": "code",
   "execution_count": 36,
   "metadata": {},
   "outputs": [
    {
     "data": {
      "text/plain": [
       "(3,)"
      ]
     },
     "execution_count": 36,
     "metadata": {},
     "output_type": "execute_result"
    }
   ],
   "source": [
    "x.shape"
   ]
  },
  {
   "cell_type": "code",
   "execution_count": 37,
   "metadata": {},
   "outputs": [
    {
     "data": {
      "text/plain": [
       "1"
      ]
     },
     "execution_count": 37,
     "metadata": {},
     "output_type": "execute_result"
    }
   ],
   "source": [
    "x.ndim"
   ]
  },
  {
   "cell_type": "code",
   "execution_count": 38,
   "metadata": {},
   "outputs": [],
   "source": [
    "y = np.array([\n",
    "    [1,2,3],\n",
    "    [4,5,6],\n",
    "    [7,8,9]\n",
    "])"
   ]
  },
  {
   "cell_type": "code",
   "execution_count": 40,
   "metadata": {},
   "outputs": [
    {
     "data": {
      "text/plain": [
       "2"
      ]
     },
     "execution_count": 40,
     "metadata": {},
     "output_type": "execute_result"
    }
   ],
   "source": [
    "y.ndim"
   ]
  },
  {
   "cell_type": "code",
   "execution_count": 42,
   "metadata": {},
   "outputs": [
    {
     "data": {
      "text/plain": [
       "array([[0., 0., 0.],\n",
       "       [0., 0., 0.],\n",
       "       [0., 0., 0.]])"
      ]
     },
     "execution_count": 42,
     "metadata": {},
     "output_type": "execute_result"
    }
   ],
   "source": [
    "np.zeros([3,3])"
   ]
  },
  {
   "cell_type": "code",
   "execution_count": 43,
   "metadata": {},
   "outputs": [
    {
     "data": {
      "text/plain": [
       "5.0"
      ]
     },
     "execution_count": 43,
     "metadata": {},
     "output_type": "execute_result"
    }
   ],
   "source": [
    "y.mean()"
   ]
  },
  {
   "cell_type": "markdown",
   "metadata": {},
   "source": [
    "リンクの表示１: https://developers.line.biz/ja/ "
   ]
  },
  {
   "cell_type": "markdown",
   "metadata": {},
   "source": [
    "リンクの表示２ [Link](https://developers.line.biz/ja/)"
   ]
  },
  {
   "cell_type": "markdown",
   "metadata": {},
   "source": [
    "[Google][1]/[Line][2]\n",
    "\n",
    "[1]: https://www.google.com/?hl=ja \"Google\"\n",
    "[2]: https://developers.line.biz/ja/ \"Line\""
   ]
  },
  {
   "cell_type": "markdown",
   "metadata": {},
   "source": [
    "![Pythonで始める数学の冒険](124105053_365233551215927_6687424982830452009_n.jpg \"Image\")"
   ]
  },
  {
   "cell_type": "markdown",
   "metadata": {},
   "source": [
    "<img src=\"124105053_365233551215927_6687424982830452009_n.jpg\" width=\"100px\">"
   ]
  },
  {
   "cell_type": "markdown",
   "metadata": {},
   "source": [
    "1. k\n",
    "2. l\n",
    "1. l"
   ]
  },
  {
   "cell_type": "markdown",
   "metadata": {},
   "source": [
    "$$\n",
    "\\int_a^b f(x) dx \\\\\n",
    "\\iiint_D dx \\\\\n",
    "$$"
   ]
  },
  {
   "cell_type": "markdown",
   "metadata": {},
   "source": []
  },
  {
   "cell_type": "code",
   "execution_count": 3,
   "metadata": {},
   "outputs": [],
   "source": [
    "import numpy as np"
   ]
  },
  {
   "cell_type": "code",
   "execution_count": 10,
   "metadata": {},
   "outputs": [
    {
     "name": "stdout",
     "output_type": "stream",
     "text": [
      "[10 20 30]\n"
     ]
    }
   ],
   "source": [
    "arr = np.array([10,20,30])\n",
    "print(arr)"
   ]
  },
  {
   "cell_type": "code",
   "execution_count": 13,
   "metadata": {},
   "outputs": [
    {
     "name": "stdout",
     "output_type": "stream",
     "text": [
      "[ 0 20 40 60 80] [  0.  25.  50.  75. 100.]\n"
     ]
    }
   ],
   "source": [
    "arr1 = np.arange(0,100,20)\n",
    "arr2 = np.linspace(0,100,5)\n",
    "print(arr1,arr2)"
   ]
  },
  {
   "cell_type": "code",
   "execution_count": 52,
   "metadata": {},
   "outputs": [
    {
     "name": "stdout",
     "output_type": "stream",
     "text": [
      "[10 20 30]\n",
      "[20 30 40]\n",
      "[0 0 0]\n"
     ]
    }
   ],
   "source": [
    "print(arr)\n",
    "print(arr + 10)\n",
    "print(arr % 2)"
   ]
  },
  {
   "cell_type": "markdown",
   "metadata": {},
   "source": [
    "## ListとNumpy array(ベクトル)の違い"
   ]
  },
  {
   "cell_type": "code",
   "execution_count": 53,
   "metadata": {},
   "outputs": [
    {
     "name": "stdout",
     "output_type": "stream",
     "text": [
      "[1, 2, 3, 4, 5, 6, 7, 8]\n"
     ]
    }
   ],
   "source": [
    "list1 = [1,2,3,4]\n",
    "list2 = [5,6,7,8]\n",
    "print(list1 + list2)"
   ]
  },
  {
   "cell_type": "code",
   "execution_count": 54,
   "metadata": {},
   "outputs": [
    {
     "name": "stdout",
     "output_type": "stream",
     "text": [
      "[ 6  8 10 12]\n"
     ]
    }
   ],
   "source": [
    "arr1 = np.array([1,2,3,4])\n",
    "arr2 = np.array([5,6,7,8])\n",
    "print(arr1 + arr2)"
   ]
  },
  {
   "cell_type": "markdown",
   "metadata": {},
   "source": [
    "#### 単位行列の作成"
   ]
  },
  {
   "cell_type": "code",
   "execution_count": 56,
   "metadata": {},
   "outputs": [
    {
     "data": {
      "text/plain": [
       "array([[1., 0., 0.],\n",
       "       [0., 1., 0.],\n",
       "       [0., 0., 1.]])"
      ]
     },
     "execution_count": 56,
     "metadata": {},
     "output_type": "execute_result"
    }
   ],
   "source": [
    "arr3 = np.identity(3)\n",
    "arr3"
   ]
  },
  {
   "cell_type": "code",
   "execution_count": 57,
   "metadata": {},
   "outputs": [
    {
     "data": {
      "text/plain": [
       "array([[0., 0., 1., 0., 0., 0., 0.],\n",
       "       [0., 0., 0., 1., 0., 0., 0.],\n",
       "       [0., 0., 0., 0., 1., 0., 0.],\n",
       "       [0., 0., 0., 0., 0., 1., 0.],\n",
       "       [0., 0., 0., 0., 0., 0., 1.]])"
      ]
     },
     "execution_count": 57,
     "metadata": {},
     "output_type": "execute_result"
    }
   ],
   "source": [
    "arr4 = np.eye(5,7,2)\n",
    "arr4"
   ]
  },
  {
   "cell_type": "markdown",
   "metadata": {},
   "source": [
    "ベクトルから行列への変換"
   ]
  },
  {
   "cell_type": "code",
   "execution_count": 58,
   "metadata": {},
   "outputs": [
    {
     "name": "stdout",
     "output_type": "stream",
     "text": [
      "[1 2 3 4 5 6 7 8 9]\n",
      "[[1 2 3]\n",
      " [4 5 6]\n",
      " [7 8 9]]\n"
     ]
    }
   ],
   "source": [
    "arr1 = np.array([1,2,3,4,5,6,7,8,9])\n",
    "arr2 = arr1.reshape((3,3))\n",
    "print(arr1)\n",
    "print(arr2)"
   ]
  },
  {
   "cell_type": "markdown",
   "metadata": {},
   "source": [
    "行列からベクトルへ"
   ]
  },
  {
   "cell_type": "code",
   "execution_count": 5,
   "metadata": {},
   "outputs": [
    {
     "output_type": "stream",
     "name": "stdout",
     "text": [
      "[[1 0 0 0]\n [0 2 0 0]\n [0 0 3 0]\n [0 0 0 5]]\n[1 0 0 0 0 2 0 0 0 0 3 0 0 0 0 5]\n"
     ]
    }
   ],
   "source": [
    "arr1 = np.diag([1,2,3,5])\n",
    "arr2 = np.ravel(arr1)\n",
    "print(arr1)\n",
    "print(arr2)"
   ]
  },
  {
   "source": [
    "転置について"
   ],
   "cell_type": "markdown",
   "metadata": {}
  },
  {
   "cell_type": "code",
   "execution_count": 4,
   "metadata": {},
   "outputs": [
    {
     "output_type": "stream",
     "name": "stdout",
     "text": [
      "[[ 1  2  3]\n [ 5  8 13]\n [21 34 55]]\n[[ 1  5 21]\n [ 2  8 34]\n [ 3 13 55]]\n"
     ]
    }
   ],
   "source": [
    "arr1 = np.array([1,2,3,5,8,13,21,34,55])\n",
    "arr2 = arr1.reshape((3,3))\n",
    "print(arr2)\n",
    "print(arr2.T)"
   ]
  },
  {
   "source": [
    "ベクトルの結合"
   ],
   "cell_type": "markdown",
   "metadata": {}
  },
  {
   "cell_type": "code",
   "execution_count": 9,
   "metadata": {},
   "outputs": [
    {
     "output_type": "stream",
     "name": "stdout",
     "text": [
      "[ 6 10 16]\n[ 1  2  3  5  8 13]\n"
     ]
    }
   ],
   "source": [
    "arr1 = np.array([1,2,3])\n",
    "arr2 = np.array([5,8,13])\n",
    "arr3 = arr1 + arr2\n",
    "print(arr3)\n",
    "arr4 = np.ravel([arr1,arr2])\n",
    "print(arr4)"
   ]
  },
  {
   "source": [
    "# Matplotlib"
   ],
   "cell_type": "markdown",
   "metadata": {}
  },
  {
   "cell_type": "code",
   "execution_count": 7,
   "metadata": {},
   "outputs": [],
   "source": [
    "import numpy as np\n",
    "import matplotlib.pyplot as plt\n",
    "from matplotlib.image import imread"
   ]
  },
  {
   "cell_type": "code",
   "execution_count": 2,
   "metadata": {},
   "outputs": [
    {
     "output_type": "display_data",
     "data": {
      "text/plain": "<Figure size 432x288 with 1 Axes>",
      "image/svg+xml": "<?xml version=\"1.0\" encoding=\"utf-8\" standalone=\"no\"?>\n<!DOCTYPE svg PUBLIC \"-//W3C//DTD SVG 1.1//EN\"\n  \"http://www.w3.org/Graphics/SVG/1.1/DTD/svg11.dtd\">\n<!-- Created with matplotlib (https://matplotlib.org/) -->\n<svg height=\"248.230625pt\" version=\"1.1\" viewBox=\"0 0 384.520312 248.230625\" width=\"384.520312pt\" xmlns=\"http://www.w3.org/2000/svg\" xmlns:xlink=\"http://www.w3.org/1999/xlink\">\n <defs>\n  <style type=\"text/css\">\n*{stroke-linecap:butt;stroke-linejoin:round;}\n  </style>\n </defs>\n <g id=\"figure_1\">\n  <g id=\"patch_1\">\n   <path d=\"M 0 248.230625 \nL 384.520312 248.230625 \nL 384.520312 0 \nL 0 0 \nz\n\" style=\"fill:none;\"/>\n  </g>\n  <g id=\"axes_1\">\n   <g id=\"patch_2\">\n    <path d=\"M 42.520313 224.64 \nL 377.320312 224.64 \nL 377.320312 7.2 \nL 42.520313 7.2 \nz\n\" style=\"fill:#ffffff;\"/>\n   </g>\n   <g id=\"matplotlib.axis_1\">\n    <g id=\"xtick_1\">\n     <g id=\"line2d_1\">\n      <defs>\n       <path d=\"M 0 0 \nL 0 3.5 \n\" id=\"mfaebbac113\" style=\"stroke:#000000;stroke-width:0.8;\"/>\n      </defs>\n      <g>\n       <use style=\"stroke:#000000;stroke-width:0.8;\" x=\"57.738494\" xlink:href=\"#mfaebbac113\" y=\"224.64\"/>\n      </g>\n     </g>\n     <g id=\"text_1\">\n      <!-- 0 -->\n      <defs>\n       <path d=\"M 31.84375 73.828125 \nQ 45.015625 73.828125 52.09375 61.625 \nQ 57.71875 51.953125 57.71875 36.625 \nQ 57.71875 21.4375 52.09375 11.578125 \nQ 45.125 -0.484375 31.5 -0.484375 \nQ 17.921875 -0.484375 10.9375 11.578125 \nQ 5.328125 21.4375 5.328125 36.71875 \nQ 5.328125 58.015625 15.625 67.71875 \nQ 22.171875 73.828125 31.84375 73.828125 \nz\nM 31.5 66.65625 \nQ 23.6875 66.65625 19.1875 58.734375 \nQ 14.59375 50.734375 14.59375 36.625 \nQ 14.59375 22.75 19.09375 14.796875 \nQ 23.640625 6.984375 31.5 6.984375 \nQ 40.921875 6.984375 45.453125 18.015625 \nQ 48.4375 25.34375 48.4375 37.109375 \nQ 48.4375 50.875 43.84375 58.734375 \nQ 39.203125 66.65625 31.5 66.65625 \nz\n\" id=\"IPAexGothic-48\"/>\n      </defs>\n      <g transform=\"translate(54.589276 239.130625)scale(0.1 -0.1)\">\n       <use xlink:href=\"#IPAexGothic-48\"/>\n      </g>\n     </g>\n    </g>\n    <g id=\"xtick_2\">\n     <g id=\"line2d_2\">\n      <g>\n       <use style=\"stroke:#000000;stroke-width:0.8;\" x=\"109.325551\" xlink:href=\"#mfaebbac113\" y=\"224.64\"/>\n      </g>\n     </g>\n     <g id=\"text_2\">\n      <!-- 1 -->\n      <defs>\n       <path d=\"M 38.484375 0.984375 \nL 29.6875 0.984375 \nL 29.6875 64.109375 \nQ 21.4375 61.28125 12.3125 59.328125 \nL 10.6875 66.109375 \nQ 23.734375 69.390625 32.90625 73.921875 \nL 38.484375 73.921875 \nz\n\" id=\"IPAexGothic-49\"/>\n      </defs>\n      <g transform=\"translate(106.176333 239.130625)scale(0.1 -0.1)\">\n       <use xlink:href=\"#IPAexGothic-49\"/>\n      </g>\n     </g>\n    </g>\n    <g id=\"xtick_3\">\n     <g id=\"line2d_3\">\n      <g>\n       <use style=\"stroke:#000000;stroke-width:0.8;\" x=\"160.912608\" xlink:href=\"#mfaebbac113\" y=\"224.64\"/>\n      </g>\n     </g>\n     <g id=\"text_3\">\n      <!-- 2 -->\n      <defs>\n       <path d=\"M 57.171875 0.984375 \nL 6.984375 0.984375 \nL 6.984375 9.28125 \nQ 12.890625 23.046875 29.59375 34.421875 \nL 32.375 36.28125 \nQ 40.921875 42.140625 43.609375 45.40625 \nQ 46.6875 49.265625 46.6875 53.8125 \nQ 46.6875 58.9375 43.0625 62.546875 \nQ 39.0625 66.546875 32.5625 66.546875 \nQ 19.53125 66.546875 15.484375 52 \nL 7.765625 54.78125 \nQ 13.328125 73.828125 33.0625 73.828125 \nQ 43.84375 73.828125 50.25 67.4375 \nQ 55.859375 61.671875 55.859375 53.515625 \nQ 55.859375 47.46875 52.25 42.53125 \nQ 48.921875 37.75 36.96875 30.28125 \nL 34.859375 29 \nQ 19.625 19.578125 15.28125 8.890625 \nL 57.171875 8.890625 \nz\n\" id=\"IPAexGothic-50\"/>\n      </defs>\n      <g transform=\"translate(157.76339 239.130625)scale(0.1 -0.1)\">\n       <use xlink:href=\"#IPAexGothic-50\"/>\n      </g>\n     </g>\n    </g>\n    <g id=\"xtick_4\">\n     <g id=\"line2d_4\">\n      <g>\n       <use style=\"stroke:#000000;stroke-width:0.8;\" x=\"212.499665\" xlink:href=\"#mfaebbac113\" y=\"224.64\"/>\n      </g>\n     </g>\n     <g id=\"text_4\">\n      <!-- 3 -->\n      <defs>\n       <path d=\"M 37.203125 37.796875 \nQ 54.78125 34.625 54.78125 19.96875 \nQ 54.78125 11.1875 48.875 5.5625 \nQ 42.328125 -0.484375 30.375 -0.484375 \nQ 12.453125 -0.484375 4.5 13.765625 \nL 11.8125 17.671875 \nQ 17.328125 6.890625 30.28125 6.890625 \nQ 37.890625 6.890625 42.09375 10.796875 \nQ 46.09375 14.5 46.09375 20.171875 \nQ 46.09375 26.859375 40.09375 30.90625 \nQ 34.625 34.578125 25.6875 34.578125 \nL 21.296875 34.578125 \nL 21.296875 41.703125 \nL 25.875 41.703125 \nQ 34.859375 41.703125 39.59375 45.125 \nQ 44.671875 48.734375 44.671875 54.828125 \nQ 44.671875 61.46875 38.96875 64.65625 \nQ 35.296875 66.84375 30.171875 66.84375 \nQ 19.34375 66.84375 14.109375 55.90625 \nL 6.78125 59.421875 \nQ 14.015625 73.828125 30.28125 73.828125 \nQ 40.578125 73.828125 46.96875 68.65625 \nQ 53.375 63.578125 53.375 55.21875 \nQ 53.375 47.3125 47.171875 42.28125 \nQ 43.171875 39.0625 37.203125 38.1875 \nz\n\" id=\"IPAexGothic-51\"/>\n      </defs>\n      <g transform=\"translate(209.350447 239.130625)scale(0.1 -0.1)\">\n       <use xlink:href=\"#IPAexGothic-51\"/>\n      </g>\n     </g>\n    </g>\n    <g id=\"xtick_5\">\n     <g id=\"line2d_5\">\n      <g>\n       <use style=\"stroke:#000000;stroke-width:0.8;\" x=\"264.086722\" xlink:href=\"#mfaebbac113\" y=\"224.64\"/>\n      </g>\n     </g>\n     <g id=\"text_5\">\n      <!-- 4 -->\n      <defs>\n       <path d=\"M 59.578125 18.109375 \nL 47.796875 18.109375 \nL 47.796875 0.984375 \nL 39.796875 0.984375 \nL 39.796875 18.109375 \nL 3.078125 18.109375 \nL 3.078125 26.125 \nL 38.375 73.09375 \nL 47.796875 73.09375 \nL 47.796875 25.53125 \nL 59.578125 25.53125 \nz\nM 40.28125 64.203125 \nL 39.984375 64.203125 \nQ 35.59375 57.125 31.296875 51.3125 \nL 11.859375 25.53125 \nL 39.796875 25.53125 \nL 39.796875 49.125 \nQ 39.796875 54.390625 40.28125 64.203125 \nz\n\" id=\"IPAexGothic-52\"/>\n      </defs>\n      <g transform=\"translate(260.937504 239.130625)scale(0.1 -0.1)\">\n       <use xlink:href=\"#IPAexGothic-52\"/>\n      </g>\n     </g>\n    </g>\n    <g id=\"xtick_6\">\n     <g id=\"line2d_6\">\n      <g>\n       <use style=\"stroke:#000000;stroke-width:0.8;\" x=\"315.673779\" xlink:href=\"#mfaebbac113\" y=\"224.64\"/>\n      </g>\n     </g>\n     <g id=\"text_6\">\n      <!-- 5 -->\n      <defs>\n       <path d=\"M 18.40625 40.671875 \nQ 25.53125 46.296875 33.9375 46.296875 \nQ 44 46.296875 50.640625 39.5 \nQ 56.84375 33.015625 56.84375 23.390625 \nQ 56.84375 14.65625 51.515625 8.015625 \nQ 44.828125 -0.484375 31.734375 -0.484375 \nQ 14.984375 -0.484375 7.328125 12.25 \nL 14.65625 16.0625 \nQ 20.453125 6.78125 31.453125 6.78125 \nQ 38.53125 6.78125 43.265625 11.1875 \nQ 48.140625 15.828125 48.140625 23.484375 \nQ 48.140625 30.71875 43.84375 35.015625 \nQ 39.359375 39.5 32.125 39.5 \nQ 21.96875 39.5 16.75 31.6875 \nL 9.234375 32.671875 \nL 13.8125 72.40625 \nL 53.21875 72.40625 \nL 53.21875 64.890625 \nL 20.953125 64.890625 \nL 17.71875 40.671875 \nz\n\" id=\"IPAexGothic-53\"/>\n      </defs>\n      <g transform=\"translate(312.524561 239.130625)scale(0.1 -0.1)\">\n       <use xlink:href=\"#IPAexGothic-53\"/>\n      </g>\n     </g>\n    </g>\n    <g id=\"xtick_7\">\n     <g id=\"line2d_7\">\n      <g>\n       <use style=\"stroke:#000000;stroke-width:0.8;\" x=\"367.260836\" xlink:href=\"#mfaebbac113\" y=\"224.64\"/>\n      </g>\n     </g>\n     <g id=\"text_7\">\n      <!-- 6 -->\n      <defs>\n       <path d=\"M 16.5 36.375 \nQ 23.578125 46.578125 34.90625 46.578125 \nQ 45.40625 46.578125 51.8125 39.265625 \nQ 57.421875 32.90625 57.421875 23.78125 \nQ 57.421875 13.8125 51.125 6.78125 \nQ 44.578125 -0.484375 34.03125 -0.484375 \nQ 21.484375 -0.484375 14.40625 9.078125 \nQ 7.515625 18.40625 7.515625 34.8125 \nQ 7.515625 53.515625 15.828125 64.203125 \nQ 23.34375 73.828125 35.5 73.828125 \nQ 49.859375 73.828125 56.390625 62.890625 \nL 49.21875 58.984375 \nQ 45.21875 66.65625 35.9375 66.65625 \nQ 17.484375 66.65625 16.109375 36.375 \nz\nM 33.453125 39.796875 \nQ 26.3125 39.796875 21.625 34.46875 \nQ 17.4375 29.6875 17.4375 24.078125 \nQ 17.4375 18.0625 21.140625 13.1875 \nQ 26.125 6.6875 33.734375 6.6875 \nQ 41.703125 6.6875 45.953125 13.1875 \nQ 48.828125 17.625 48.828125 23.484375 \nQ 48.828125 30.375 45.015625 34.8125 \nQ 40.625 39.796875 33.453125 39.796875 \nz\n\" id=\"IPAexGothic-54\"/>\n      </defs>\n      <g transform=\"translate(364.111618 239.130625)scale(0.1 -0.1)\">\n       <use xlink:href=\"#IPAexGothic-54\"/>\n      </g>\n     </g>\n    </g>\n   </g>\n   <g id=\"matplotlib.axis_2\">\n    <g id=\"ytick_1\">\n     <g id=\"line2d_8\">\n      <defs>\n       <path d=\"M 0 0 \nL -3.5 0 \n\" id=\"m2cf3dde96d\" style=\"stroke:#000000;stroke-width:0.8;\"/>\n      </defs>\n      <g>\n       <use style=\"stroke:#000000;stroke-width:0.8;\" x=\"42.520313\" xlink:href=\"#m2cf3dde96d\" y=\"214.76395\"/>\n      </g>\n     </g>\n     <g id=\"text_8\">\n      <!-- −1.00 -->\n      <defs>\n       <path d=\"M 6.5 34.71875 \nL 61.28125 34.71875 \nL 61.28125 29 \nL 6.5 29 \nz\n\" id=\"IPAexGothic-8722\"/>\n       <path d=\"M 18.5 0.984375 \nL 7.71875 0.984375 \nL 7.71875 11.765625 \nL 18.5 11.765625 \nz\n\" id=\"IPAexGothic-46\"/>\n      </defs>\n      <g transform=\"translate(7.2 218.509263)scale(0.1 -0.1)\">\n       <use xlink:href=\"#IPAexGothic-8722\"/>\n       <use x=\"67.822266\" xlink:href=\"#IPAexGothic-49\"/>\n       <use x=\"130.810547\" xlink:href=\"#IPAexGothic-46\"/>\n       <use x=\"157.226562\" xlink:href=\"#IPAexGothic-48\"/>\n       <use x=\"220.214844\" xlink:href=\"#IPAexGothic-48\"/>\n      </g>\n     </g>\n    </g>\n    <g id=\"ytick_2\">\n     <g id=\"line2d_9\">\n      <g>\n       <use style=\"stroke:#000000;stroke-width:0.8;\" x=\"42.520313\" xlink:href=\"#m2cf3dde96d\" y=\"190.048642\"/>\n      </g>\n     </g>\n     <g id=\"text_9\">\n      <!-- −0.75 -->\n      <defs>\n       <path d=\"M 56.203125 66.609375 \nQ 34.96875 32.90625 27.78125 0.984375 \nL 17.671875 0.984375 \nQ 24.703125 28.65625 46.09375 64.5 \nL 6.6875 64.5 \nL 6.6875 72.40625 \nL 56.203125 72.40625 \nz\n\" id=\"IPAexGothic-55\"/>\n      </defs>\n      <g transform=\"translate(7.2 193.793954)scale(0.1 -0.1)\">\n       <use xlink:href=\"#IPAexGothic-8722\"/>\n       <use x=\"67.822266\" xlink:href=\"#IPAexGothic-48\"/>\n       <use x=\"130.810547\" xlink:href=\"#IPAexGothic-46\"/>\n       <use x=\"157.226562\" xlink:href=\"#IPAexGothic-55\"/>\n       <use x=\"220.214844\" xlink:href=\"#IPAexGothic-53\"/>\n      </g>\n     </g>\n    </g>\n    <g id=\"ytick_3\">\n     <g id=\"line2d_10\">\n      <g>\n       <use style=\"stroke:#000000;stroke-width:0.8;\" x=\"42.520313\" xlink:href=\"#m2cf3dde96d\" y=\"165.333333\"/>\n      </g>\n     </g>\n     <g id=\"text_10\">\n      <!-- −0.50 -->\n      <g transform=\"translate(7.2 169.078646)scale(0.1 -0.1)\">\n       <use xlink:href=\"#IPAexGothic-8722\"/>\n       <use x=\"67.822266\" xlink:href=\"#IPAexGothic-48\"/>\n       <use x=\"130.810547\" xlink:href=\"#IPAexGothic-46\"/>\n       <use x=\"157.226562\" xlink:href=\"#IPAexGothic-53\"/>\n       <use x=\"220.214844\" xlink:href=\"#IPAexGothic-48\"/>\n      </g>\n     </g>\n    </g>\n    <g id=\"ytick_4\">\n     <g id=\"line2d_11\">\n      <g>\n       <use style=\"stroke:#000000;stroke-width:0.8;\" x=\"42.520313\" xlink:href=\"#m2cf3dde96d\" y=\"140.618025\"/>\n      </g>\n     </g>\n     <g id=\"text_11\">\n      <!-- −0.25 -->\n      <g transform=\"translate(7.2 144.363337)scale(0.1 -0.1)\">\n       <use xlink:href=\"#IPAexGothic-8722\"/>\n       <use x=\"67.822266\" xlink:href=\"#IPAexGothic-48\"/>\n       <use x=\"130.810547\" xlink:href=\"#IPAexGothic-46\"/>\n       <use x=\"157.226562\" xlink:href=\"#IPAexGothic-50\"/>\n       <use x=\"220.214844\" xlink:href=\"#IPAexGothic-53\"/>\n      </g>\n     </g>\n    </g>\n    <g id=\"ytick_5\">\n     <g id=\"line2d_12\">\n      <g>\n       <use style=\"stroke:#000000;stroke-width:0.8;\" x=\"42.520313\" xlink:href=\"#m2cf3dde96d\" y=\"115.902716\"/>\n      </g>\n     </g>\n     <g id=\"text_12\">\n      <!-- 0.00 -->\n      <g transform=\"translate(13.982813 119.648029)scale(0.1 -0.1)\">\n       <use xlink:href=\"#IPAexGothic-48\"/>\n       <use x=\"62.988281\" xlink:href=\"#IPAexGothic-46\"/>\n       <use x=\"89.404297\" xlink:href=\"#IPAexGothic-48\"/>\n       <use x=\"152.392578\" xlink:href=\"#IPAexGothic-48\"/>\n      </g>\n     </g>\n    </g>\n    <g id=\"ytick_6\">\n     <g id=\"line2d_13\">\n      <g>\n       <use style=\"stroke:#000000;stroke-width:0.8;\" x=\"42.520313\" xlink:href=\"#m2cf3dde96d\" y=\"91.187408\"/>\n      </g>\n     </g>\n     <g id=\"text_13\">\n      <!-- 0.25 -->\n      <g transform=\"translate(13.982813 94.93272)scale(0.1 -0.1)\">\n       <use xlink:href=\"#IPAexGothic-48\"/>\n       <use x=\"62.988281\" xlink:href=\"#IPAexGothic-46\"/>\n       <use x=\"89.404297\" xlink:href=\"#IPAexGothic-50\"/>\n       <use x=\"152.392578\" xlink:href=\"#IPAexGothic-53\"/>\n      </g>\n     </g>\n    </g>\n    <g id=\"ytick_7\">\n     <g id=\"line2d_14\">\n      <g>\n       <use style=\"stroke:#000000;stroke-width:0.8;\" x=\"42.520313\" xlink:href=\"#m2cf3dde96d\" y=\"66.472099\"/>\n      </g>\n     </g>\n     <g id=\"text_14\">\n      <!-- 0.50 -->\n      <g transform=\"translate(13.982813 70.217412)scale(0.1 -0.1)\">\n       <use xlink:href=\"#IPAexGothic-48\"/>\n       <use x=\"62.988281\" xlink:href=\"#IPAexGothic-46\"/>\n       <use x=\"89.404297\" xlink:href=\"#IPAexGothic-53\"/>\n       <use x=\"152.392578\" xlink:href=\"#IPAexGothic-48\"/>\n      </g>\n     </g>\n    </g>\n    <g id=\"ytick_8\">\n     <g id=\"line2d_15\">\n      <g>\n       <use style=\"stroke:#000000;stroke-width:0.8;\" x=\"42.520313\" xlink:href=\"#m2cf3dde96d\" y=\"41.756791\"/>\n      </g>\n     </g>\n     <g id=\"text_15\">\n      <!-- 0.75 -->\n      <g transform=\"translate(13.982813 45.502103)scale(0.1 -0.1)\">\n       <use xlink:href=\"#IPAexGothic-48\"/>\n       <use x=\"62.988281\" xlink:href=\"#IPAexGothic-46\"/>\n       <use x=\"89.404297\" xlink:href=\"#IPAexGothic-55\"/>\n       <use x=\"152.392578\" xlink:href=\"#IPAexGothic-53\"/>\n      </g>\n     </g>\n    </g>\n    <g id=\"ytick_9\">\n     <g id=\"line2d_16\">\n      <g>\n       <use style=\"stroke:#000000;stroke-width:0.8;\" x=\"42.520313\" xlink:href=\"#m2cf3dde96d\" y=\"17.041482\"/>\n      </g>\n     </g>\n     <g id=\"text_16\">\n      <!-- 1.00 -->\n      <g transform=\"translate(13.982813 20.786795)scale(0.1 -0.1)\">\n       <use xlink:href=\"#IPAexGothic-49\"/>\n       <use x=\"62.988281\" xlink:href=\"#IPAexGothic-46\"/>\n       <use x=\"89.404297\" xlink:href=\"#IPAexGothic-48\"/>\n       <use x=\"152.392578\" xlink:href=\"#IPAexGothic-48\"/>\n      </g>\n     </g>\n    </g>\n   </g>\n   <g id=\"line2d_17\">\n    <path clip-path=\"url(#p631a58f490)\" d=\"M 57.738494 115.902716 \nL 62.8972 106.033062 \nL 68.055906 96.262021 \nL 73.214611 86.687224 \nL 78.373317 77.404338 \nL 83.532023 68.506116 \nL 88.690729 60.081465 \nL 93.849434 52.214561 \nL 99.00814 44.984008 \nL 104.166846 38.462051 \nL 109.325551 32.713856 \nL 114.484257 27.796857 \nL 119.642963 23.760182 \nL 124.801668 20.644165 \nL 129.960374 18.47994 \nL 135.11908 17.289131 \nL 140.277786 17.083636 \nL 145.436491 17.865509 \nL 150.595197 19.626938 \nL 155.753903 22.350322 \nL 160.912608 26.008451 \nL 166.071314 30.564773 \nL 171.23002 35.973764 \nL 176.388725 42.181379 \nL 181.547431 49.125593 \nL 186.706137 56.737022 \nL 191.864843 64.939615 \nL 197.023548 73.651414 \nL 202.182254 82.785374 \nL 207.34096 92.250232 \nL 212.499665 101.951418 \nL 217.658371 111.792001 \nL 222.817077 121.673656 \nL 227.975782 131.49765 \nL 233.134488 141.165825 \nL 238.293194 150.581579 \nL 243.4519 159.650834 \nL 248.610605 168.282971 \nL 253.769311 176.391743 \nL 258.928017 183.896128 \nL 264.086722 190.721145 \nL 269.245428 196.798601 \nL 274.404134 202.067773 \nL 279.562839 206.476012 \nL 284.721545 209.979272 \nL 289.880251 212.54255 \nL 295.038957 214.140235 \nL 300.197662 214.756364 \nL 305.356368 214.384779 \nL 310.515074 213.029194 \nL 315.673779 210.703154 \nL 320.832485 207.429898 \nL 325.991191 203.242134 \nL 331.149896 198.181703 \nL 336.308602 192.299167 \nL 341.467308 185.653304 \nL 346.626014 178.310515 \nL 351.784719 170.344169 \nL 356.943425 161.833861 \nL 362.102131 152.864625 \n\" style=\"fill:none;stroke:#1f77b4;stroke-linecap:square;stroke-width:1.5;\"/>\n   </g>\n   <g id=\"patch_3\">\n    <path d=\"M 42.520313 224.64 \nL 42.520313 7.2 \n\" style=\"fill:none;stroke:#000000;stroke-linecap:square;stroke-linejoin:miter;stroke-width:0.8;\"/>\n   </g>\n   <g id=\"patch_4\">\n    <path d=\"M 377.320312 224.64 \nL 377.320312 7.2 \n\" style=\"fill:none;stroke:#000000;stroke-linecap:square;stroke-linejoin:miter;stroke-width:0.8;\"/>\n   </g>\n   <g id=\"patch_5\">\n    <path d=\"M 42.520313 224.64 \nL 377.320312 224.64 \n\" style=\"fill:none;stroke:#000000;stroke-linecap:square;stroke-linejoin:miter;stroke-width:0.8;\"/>\n   </g>\n   <g id=\"patch_6\">\n    <path d=\"M 42.520313 7.2 \nL 377.320312 7.2 \n\" style=\"fill:none;stroke:#000000;stroke-linecap:square;stroke-linejoin:miter;stroke-width:0.8;\"/>\n   </g>\n  </g>\n </g>\n <defs>\n  <clipPath id=\"p631a58f490\">\n   <rect height=\"217.44\" width=\"334.8\" x=\"42.520313\" y=\"7.2\"/>\n  </clipPath>\n </defs>\n</svg>\n",
      "image/png": "[encoded data removed]"
     },
     "metadata": {
      "needs_background": "light"
     }
    }
   ],
   "source": [
    "x = np.arange(0, 6, 0.1)\n",
    "y = np.sin(x)\n",
    "plt.plot(x, y)\n",
    "plt.show()"
   ]
  },
  {
   "cell_type": "code",
   "execution_count": 10,
   "metadata": {},
   "outputs": [
    {
     "output_type": "display_data",
     "data": {
      "text/plain": "<Figure size 432x288 with 1 Axes>",
      "image/svg+xml": "<?xml version=\"1.0\" encoding=\"utf-8\" standalone=\"no\"?>\n<!DOCTYPE svg PUBLIC \"-//W3C//DTD SVG 1.1//EN\"\n  \"http://www.w3.org/Graphics/SVG/1.1/DTD/svg11.dtd\">\n<!-- Created with matplotlib (https://matplotlib.org/) -->\n<svg height=\"251.899696pt\" version=\"1.1\" viewBox=\"0 0 211.749335 251.899696\" width=\"211.749335pt\" xmlns=\"http://www.w3.org/2000/svg\" xmlns:xlink=\"http://www.w3.org/1999/xlink\">\n <defs>\n  <style type=\"text/css\">\n*{stroke-linecap:butt;stroke-linejoin:round;}\n  </style>\n </defs>\n <g id=\"figure_1\">\n  <g id=\"patch_1\">\n   <path d=\"M 0 251.899696 \nL 211.749335 251.899696 \nL 211.749335 0 \nL 0 0 \nz\n\" style=\"fill:none;\"/>\n  </g>\n  <g id=\"axes_1\">\n   <g id=\"patch_2\">\n    <path d=\"M 39.39375 228.309071 \nL 194.315938 228.309071 \nL 194.315938 10.869071 \nL 39.39375 10.869071 \nz\n\" style=\"fill:#ffffff;\"/>\n   </g>\n   <g clip-path=\"url(#p46cac5d7ad)\">\n    <image height=\"218\" id=\"image10d7316051\" transform=\"scale(1 -1)translate(0 -218)\" width=\"155\" x=\"39.39375\" xlink:href=\"data:image/png;base64,\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\" y=\"-10.309071\"/>\n   </g>\n   <g id=\"matplotlib.axis_1\">\n    <g id=\"xtick_1\">\n     <g id=\"line2d_1\">\n      <defs>\n       <path d=\"M 0 0 \nL 0 3.5 \n\" id=\"meeec3820e3\" style=\"stroke:#000000;stroke-width:0.8;\"/>\n      </defs>\n      <g>\n       <use style=\"stroke:#000000;stroke-width:0.8;\" x=\"39.469991\" xlink:href=\"#meeec3820e3\" y=\"228.309071\"/>\n      </g>\n     </g>\n     <g id=\"text_1\">\n      <!-- 0 -->\n      <defs>\n       <path d=\"M 31.84375 73.828125 \nQ 45.015625 73.828125 52.09375 61.625 \nQ 57.71875 51.953125 57.71875 36.625 \nQ 57.71875 21.4375 52.09375 11.578125 \nQ 45.125 -0.484375 31.5 -0.484375 \nQ 17.921875 -0.484375 10.9375 11.578125 \nQ 5.328125 21.4375 5.328125 36.71875 \nQ 5.328125 58.015625 15.625 67.71875 \nQ 22.171875 73.828125 31.84375 73.828125 \nz\nM 31.5 66.65625 \nQ 23.6875 66.65625 19.1875 58.734375 \nQ 14.59375 50.734375 14.59375 36.625 \nQ 14.59375 22.75 19.09375 14.796875 \nQ 23.640625 6.984375 31.5 6.984375 \nQ 40.921875 6.984375 45.453125 18.015625 \nQ 48.4375 25.34375 48.4375 37.109375 \nQ 48.4375 50.875 43.84375 58.734375 \nQ 39.203125 66.65625 31.5 66.65625 \nz\n\" id=\"IPAexGothic-48\"/>\n      </defs>\n      <g transform=\"translate(36.320772 242.799696)scale(0.1 -0.1)\">\n       <use xlink:href=\"#IPAexGothic-48\"/>\n      </g>\n     </g>\n    </g>\n    <g id=\"xtick_2\">\n     <g id=\"line2d_2\">\n      <g>\n       <use style=\"stroke:#000000;stroke-width:0.8;\" x=\"77.590608\" xlink:href=\"#meeec3820e3\" y=\"228.309071\"/>\n      </g>\n     </g>\n     <g id=\"text_2\">\n      <!-- 250 -->\n      <defs>\n       <path d=\"M 57.171875 0.984375 \nL 6.984375 0.984375 \nL 6.984375 9.28125 \nQ 12.890625 23.046875 29.59375 34.421875 \nL 32.375 36.28125 \nQ 40.921875 42.140625 43.609375 45.40625 \nQ 46.6875 49.265625 46.6875 53.8125 \nQ 46.6875 58.9375 43.0625 62.546875 \nQ 39.0625 66.546875 32.5625 66.546875 \nQ 19.53125 66.546875 15.484375 52 \nL 7.765625 54.78125 \nQ 13.328125 73.828125 33.0625 73.828125 \nQ 43.84375 73.828125 50.25 67.4375 \nQ 55.859375 61.671875 55.859375 53.515625 \nQ 55.859375 47.46875 52.25 42.53125 \nQ 48.921875 37.75 36.96875 30.28125 \nL 34.859375 29 \nQ 19.625 19.578125 15.28125 8.890625 \nL 57.171875 8.890625 \nz\n\" id=\"IPAexGothic-50\"/>\n       <path d=\"M 18.40625 40.671875 \nQ 25.53125 46.296875 33.9375 46.296875 \nQ 44 46.296875 50.640625 39.5 \nQ 56.84375 33.015625 56.84375 23.390625 \nQ 56.84375 14.65625 51.515625 8.015625 \nQ 44.828125 -0.484375 31.734375 -0.484375 \nQ 14.984375 -0.484375 7.328125 12.25 \nL 14.65625 16.0625 \nQ 20.453125 6.78125 31.453125 6.78125 \nQ 38.53125 6.78125 43.265625 11.1875 \nQ 48.140625 15.828125 48.140625 23.484375 \nQ 48.140625 30.71875 43.84375 35.015625 \nQ 39.359375 39.5 32.125 39.5 \nQ 21.96875 39.5 16.75 31.6875 \nL 9.234375 32.671875 \nL 13.8125 72.40625 \nL 53.21875 72.40625 \nL 53.21875 64.890625 \nL 20.953125 64.890625 \nL 17.71875 40.671875 \nz\n\" id=\"IPAexGothic-53\"/>\n      </defs>\n      <g transform=\"translate(68.142952 242.799696)scale(0.1 -0.1)\">\n       <use xlink:href=\"#IPAexGothic-50\"/>\n       <use x=\"62.988281\" xlink:href=\"#IPAexGothic-53\"/>\n       <use x=\"125.976562\" xlink:href=\"#IPAexGothic-48\"/>\n      </g>\n     </g>\n    </g>\n    <g id=\"xtick_3\">\n     <g id=\"line2d_3\">\n      <g>\n       <use style=\"stroke:#000000;stroke-width:0.8;\" x=\"115.711225\" xlink:href=\"#meeec3820e3\" y=\"228.309071\"/>\n      </g>\n     </g>\n     <g id=\"text_3\">\n      <!-- 500 -->\n      <g transform=\"translate(106.263569 242.799696)scale(0.1 -0.1)\">\n       <use xlink:href=\"#IPAexGothic-53\"/>\n       <use x=\"62.988281\" xlink:href=\"#IPAexGothic-48\"/>\n       <use x=\"125.976562\" xlink:href=\"#IPAexGothic-48\"/>\n      </g>\n     </g>\n    </g>\n    <g id=\"xtick_4\">\n     <g id=\"line2d_4\">\n      <g>\n       <use style=\"stroke:#000000;stroke-width:0.8;\" x=\"153.831843\" xlink:href=\"#meeec3820e3\" y=\"228.309071\"/>\n      </g>\n     </g>\n     <g id=\"text_4\">\n      <!-- 750 -->\n      <defs>\n       <path d=\"M 56.203125 66.609375 \nQ 34.96875 32.90625 27.78125 0.984375 \nL 17.671875 0.984375 \nQ 24.703125 28.65625 46.09375 64.5 \nL 6.6875 64.5 \nL 6.6875 72.40625 \nL 56.203125 72.40625 \nz\n\" id=\"IPAexGothic-55\"/>\n      </defs>\n      <g transform=\"translate(144.384186 242.799696)scale(0.1 -0.1)\">\n       <use xlink:href=\"#IPAexGothic-55\"/>\n       <use x=\"62.988281\" xlink:href=\"#IPAexGothic-53\"/>\n       <use x=\"125.976562\" xlink:href=\"#IPAexGothic-48\"/>\n      </g>\n     </g>\n    </g>\n    <g id=\"xtick_5\">\n     <g id=\"line2d_5\">\n      <g>\n       <use style=\"stroke:#000000;stroke-width:0.8;\" x=\"191.95246\" xlink:href=\"#meeec3820e3\" y=\"228.309071\"/>\n      </g>\n     </g>\n     <g id=\"text_5\">\n      <!-- 1000 -->\n      <defs>\n       <path d=\"M 38.484375 0.984375 \nL 29.6875 0.984375 \nL 29.6875 64.109375 \nQ 21.4375 61.28125 12.3125 59.328125 \nL 10.6875 66.109375 \nQ 23.734375 69.390625 32.90625 73.921875 \nL 38.484375 73.921875 \nz\n\" id=\"IPAexGothic-49\"/>\n      </defs>\n      <g transform=\"translate(179.355585 242.799696)scale(0.1 -0.1)\">\n       <use xlink:href=\"#IPAexGothic-49\"/>\n       <use x=\"62.988281\" xlink:href=\"#IPAexGothic-48\"/>\n       <use x=\"125.976562\" xlink:href=\"#IPAexGothic-48\"/>\n       <use x=\"188.964844\" xlink:href=\"#IPAexGothic-48\"/>\n      </g>\n     </g>\n    </g>\n   </g>\n   <g id=\"matplotlib.axis_2\">\n    <g id=\"ytick_1\">\n     <g id=\"line2d_6\">\n      <defs>\n       <path d=\"M 0 0 \nL -3.5 0 \n\" id=\"m00f319602e\" style=\"stroke:#000000;stroke-width:0.8;\"/>\n      </defs>\n      <g>\n       <use style=\"stroke:#000000;stroke-width:0.8;\" x=\"39.39375\" xlink:href=\"#m00f319602e\" y=\"10.945312\"/>\n      </g>\n     </g>\n     <g id=\"text_6\">\n      <!-- 0 -->\n      <g transform=\"translate(26.095313 14.690625)scale(0.1 -0.1)\">\n       <use xlink:href=\"#IPAexGothic-48\"/>\n      </g>\n     </g>\n    </g>\n    <g id=\"ytick_2\">\n     <g id=\"line2d_7\">\n      <g>\n       <use style=\"stroke:#000000;stroke-width:0.8;\" x=\"39.39375\" xlink:href=\"#m00f319602e\" y=\"41.441806\"/>\n      </g>\n     </g>\n     <g id=\"text_7\">\n      <!-- 200 -->\n      <g transform=\"translate(13.498438 45.187119)scale(0.1 -0.1)\">\n       <use xlink:href=\"#IPAexGothic-50\"/>\n       <use x=\"62.988281\" xlink:href=\"#IPAexGothic-48\"/>\n       <use x=\"125.976562\" xlink:href=\"#IPAexGothic-48\"/>\n      </g>\n     </g>\n    </g>\n    <g id=\"ytick_3\">\n     <g id=\"line2d_8\">\n      <g>\n       <use style=\"stroke:#000000;stroke-width:0.8;\" x=\"39.39375\" xlink:href=\"#m00f319602e\" y=\"71.9383\"/>\n      </g>\n     </g>\n     <g id=\"text_8\">\n      <!-- 400 -->\n      <defs>\n       <path d=\"M 59.578125 18.109375 \nL 47.796875 18.109375 \nL 47.796875 0.984375 \nL 39.796875 0.984375 \nL 39.796875 18.109375 \nL 3.078125 18.109375 \nL 3.078125 26.125 \nL 38.375 73.09375 \nL 47.796875 73.09375 \nL 47.796875 25.53125 \nL 59.578125 25.53125 \nz\nM 40.28125 64.203125 \nL 39.984375 64.203125 \nQ 35.59375 57.125 31.296875 51.3125 \nL 11.859375 25.53125 \nL 39.796875 25.53125 \nL 39.796875 49.125 \nQ 39.796875 54.390625 40.28125 64.203125 \nz\n\" id=\"IPAexGothic-52\"/>\n      </defs>\n      <g transform=\"translate(13.498438 75.683612)scale(0.1 -0.1)\">\n       <use xlink:href=\"#IPAexGothic-52\"/>\n       <use x=\"62.988281\" xlink:href=\"#IPAexGothic-48\"/>\n       <use x=\"125.976562\" xlink:href=\"#IPAexGothic-48\"/>\n      </g>\n     </g>\n    </g>\n    <g id=\"ytick_4\">\n     <g id=\"line2d_9\">\n      <g>\n       <use style=\"stroke:#000000;stroke-width:0.8;\" x=\"39.39375\" xlink:href=\"#m00f319602e\" y=\"102.434794\"/>\n      </g>\n     </g>\n     <g id=\"text_9\">\n      <!-- 600 -->\n      <defs>\n       <path d=\"M 16.5 36.375 \nQ 23.578125 46.578125 34.90625 46.578125 \nQ 45.40625 46.578125 51.8125 39.265625 \nQ 57.421875 32.90625 57.421875 23.78125 \nQ 57.421875 13.8125 51.125 6.78125 \nQ 44.578125 -0.484375 34.03125 -0.484375 \nQ 21.484375 -0.484375 14.40625 9.078125 \nQ 7.515625 18.40625 7.515625 34.8125 \nQ 7.515625 53.515625 15.828125 64.203125 \nQ 23.34375 73.828125 35.5 73.828125 \nQ 49.859375 73.828125 56.390625 62.890625 \nL 49.21875 58.984375 \nQ 45.21875 66.65625 35.9375 66.65625 \nQ 17.484375 66.65625 16.109375 36.375 \nz\nM 33.453125 39.796875 \nQ 26.3125 39.796875 21.625 34.46875 \nQ 17.4375 29.6875 17.4375 24.078125 \nQ 17.4375 18.0625 21.140625 13.1875 \nQ 26.125 6.6875 33.734375 6.6875 \nQ 41.703125 6.6875 45.953125 13.1875 \nQ 48.828125 17.625 48.828125 23.484375 \nQ 48.828125 30.375 45.015625 34.8125 \nQ 40.625 39.796875 33.453125 39.796875 \nz\n\" id=\"IPAexGothic-54\"/>\n      </defs>\n      <g transform=\"translate(13.498438 106.180106)scale(0.1 -0.1)\">\n       <use xlink:href=\"#IPAexGothic-54\"/>\n       <use x=\"62.988281\" xlink:href=\"#IPAexGothic-48\"/>\n       <use x=\"125.976562\" xlink:href=\"#IPAexGothic-48\"/>\n      </g>\n     </g>\n    </g>\n    <g id=\"ytick_5\">\n     <g id=\"line2d_10\">\n      <g>\n       <use style=\"stroke:#000000;stroke-width:0.8;\" x=\"39.39375\" xlink:href=\"#m00f319602e\" y=\"132.931287\"/>\n      </g>\n     </g>\n     <g id=\"text_10\">\n      <!-- 800 -->\n      <defs>\n       <path d=\"M 39.703125 37.890625 \nQ 57.8125 31.734375 57.8125 18.703125 \nQ 57.8125 8.453125 48.4375 3.078125 \nQ 41.609375 -0.875 31.5 -0.875 \nQ 21.34375 -0.875 14.5 3.078125 \nQ 5.421875 8.296875 5.421875 18.40625 \nQ 5.421875 31.0625 22.015625 37.203125 \nL 22.015625 37.5 \nQ 7.515625 42.71875 7.515625 54.828125 \nQ 7.515625 64.0625 15.328125 69.625 \nQ 21.96875 74.3125 31.546875 74.3125 \nQ 42.234375 74.3125 48.921875 68.796875 \nQ 55.515625 63.578125 55.515625 55.71875 \nQ 55.515625 42.28125 39.703125 38.1875 \nz\nM 31.59375 41.015625 \nQ 46.828125 44.625 46.828125 55.125 \nQ 46.828125 61.1875 41.796875 64.84375 \nQ 37.703125 67.921875 31.5 67.921875 \nQ 25.09375 67.921875 20.796875 64.5 \nQ 16.40625 60.890625 16.40625 55.03125 \nQ 16.40625 49.21875 21.09375 45.703125 \nQ 23.34375 43.890625 26.90625 42.53125 \nQ 31 40.875 31.59375 41.015625 \nz\nM 30.90625 34.515625 \nQ 14.40625 30.171875 14.40625 19 \nQ 14.40625 12.109375 20.515625 8.6875 \nQ 25.09375 6.109375 31.390625 6.109375 \nQ 40.234375 6.109375 45.015625 10.890625 \nQ 48.53125 14.40625 48.53125 19.53125 \nQ 48.53125 24.90625 43.65625 28.90625 \nQ 40.765625 31.15625 36.71875 32.8125 \nQ 31.984375 34.71875 30.90625 34.515625 \nz\n\" id=\"IPAexGothic-56\"/>\n      </defs>\n      <g transform=\"translate(13.498438 136.6766)scale(0.1 -0.1)\">\n       <use xlink:href=\"#IPAexGothic-56\"/>\n       <use x=\"62.988281\" xlink:href=\"#IPAexGothic-48\"/>\n       <use x=\"125.976562\" xlink:href=\"#IPAexGothic-48\"/>\n      </g>\n     </g>\n    </g>\n    <g id=\"ytick_6\">\n     <g id=\"line2d_11\">\n      <g>\n       <use style=\"stroke:#000000;stroke-width:0.8;\" x=\"39.39375\" xlink:href=\"#m00f319602e\" y=\"163.427781\"/>\n      </g>\n     </g>\n     <g id=\"text_11\">\n      <!-- 1000 -->\n      <g transform=\"translate(7.2 167.173093)scale(0.1 -0.1)\">\n       <use xlink:href=\"#IPAexGothic-49\"/>\n       <use x=\"62.988281\" xlink:href=\"#IPAexGothic-48\"/>\n       <use x=\"125.976562\" xlink:href=\"#IPAexGothic-48\"/>\n       <use x=\"188.964844\" xlink:href=\"#IPAexGothic-48\"/>\n      </g>\n     </g>\n    </g>\n    <g id=\"ytick_7\">\n     <g id=\"line2d_12\">\n      <g>\n       <use style=\"stroke:#000000;stroke-width:0.8;\" x=\"39.39375\" xlink:href=\"#m00f319602e\" y=\"193.924275\"/>\n      </g>\n     </g>\n     <g id=\"text_12\">\n      <!-- 1200 -->\n      <g transform=\"translate(7.2 197.669587)scale(0.1 -0.1)\">\n       <use xlink:href=\"#IPAexGothic-49\"/>\n       <use x=\"62.988281\" xlink:href=\"#IPAexGothic-50\"/>\n       <use x=\"125.976562\" xlink:href=\"#IPAexGothic-48\"/>\n       <use x=\"188.964844\" xlink:href=\"#IPAexGothic-48\"/>\n      </g>\n     </g>\n    </g>\n    <g id=\"ytick_8\">\n     <g id=\"line2d_13\">\n      <g>\n       <use style=\"stroke:#000000;stroke-width:0.8;\" x=\"39.39375\" xlink:href=\"#m00f319602e\" y=\"224.420768\"/>\n      </g>\n     </g>\n     <g id=\"text_13\">\n      <!-- 1400 -->\n      <g transform=\"translate(7.2 228.166081)scale(0.1 -0.1)\">\n       <use xlink:href=\"#IPAexGothic-49\"/>\n       <use x=\"62.988281\" xlink:href=\"#IPAexGothic-52\"/>\n       <use x=\"125.976562\" xlink:href=\"#IPAexGothic-48\"/>\n       <use x=\"188.964844\" xlink:href=\"#IPAexGothic-48\"/>\n      </g>\n     </g>\n    </g>\n   </g>\n   <g id=\"patch_3\">\n    <path d=\"M 39.39375 228.309071 \nL 39.39375 10.869071 \n\" style=\"fill:none;stroke:#000000;stroke-linecap:square;stroke-linejoin:miter;stroke-width:0.8;\"/>\n   </g>\n   <g id=\"patch_4\">\n    <path d=\"M 194.315938 228.309071 \nL 194.315938 10.869071 \n\" style=\"fill:none;stroke:#000000;stroke-linecap:square;stroke-linejoin:miter;stroke-width:0.8;\"/>\n   </g>\n   <g id=\"patch_5\">\n    <path d=\"M 39.39375 228.309071 \nL 194.315938 228.309071 \n\" style=\"fill:none;stroke:#000000;stroke-linecap:square;stroke-linejoin:miter;stroke-width:0.8;\"/>\n   </g>\n   <g id=\"patch_6\">\n    <path d=\"M 39.39375 10.869071 \nL 194.315938 10.869071 \n\" style=\"fill:none;stroke:#000000;stroke-linecap:square;stroke-linejoin:miter;stroke-width:0.8;\"/>\n   </g>\n  </g>\n </g>\n <defs>\n  <clipPath id=\"p46cac5d7ad\">\n   <rect height=\"217.44\" width=\"154.922188\" x=\"39.39375\" y=\"10.869071\"/>\n  </clipPath>\n </defs>\n</svg>\n",
      "image/png": "[encoded data removed]"
     },
     "metadata": {
      "needs_background": "light"
     }
    }
   ],
   "source": [
    "img = imread('Screen Shot 2020-12-13 at 13.04.40.png')\n",
    "plt.imshow(img)\n",
    "plt.show()"
   ]
  },
  {
   "cell_type": "code",
   "execution_count": null,
   "metadata": {},
   "outputs": [],
   "source": []
  }
 ],
 "metadata": {
  "kernelspec": {
   "display_name": "Python 3.8.2 64-bit ('3.8.2': pyenv)",
   "language": "python",
   "name": "python38264bit382pyenv1b83e28bdf1d4a0cab3b1a48771bab22"
  },
  "language_info": {
   "codemirror_mode": {
    "name": "ipython",
    "version": 3
   },
   "file_extension": ".py",
   "mimetype": "text/x-python",
   "name": "python",
   "nbconvert_exporter": "python",
   "pygments_lexer": "ipython3",
   "version": "3.8.2-final"
  }
 },
 "nbformat": 4,
 "nbformat_minor": 4
}