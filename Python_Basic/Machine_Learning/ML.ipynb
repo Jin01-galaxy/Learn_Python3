{
 "metadata": {
  "language_info": {
   "codemirror_mode": {
    "name": "ipython",
    "version": 3
   },
   "file_extension": ".py",
   "mimetype": "text/x-python",
   "name": "python",
   "nbconvert_exporter": "python",
   "pygments_lexer": "ipython3",
   "version": "3.8.2-final"
  },
  "orig_nbformat": 2,
  "kernelspec": {
   "name": "python3",
   "display_name": "Python 3",
   "language": "python"
  }
 },
 "nbformat": 4,
 "nbformat_minor": 2,
 "cells": [
  {
   "cell_type": "code",
   "execution_count": 1,
   "metadata": {},
   "outputs": [],
   "source": [
    "def AND(x1,x2):\n",
    "    w1, w2, theta = 0.5, 0.5, 0.7\n",
    "    tmp = x1*w1 + x2*w2\n",
    "    if tmp <= theta:\n",
    "        return 0\n",
    "    elif tmp > theta:\n",
    "        return 1 "
   ]
  },
  {
   "cell_type": "code",
   "execution_count": 19,
   "metadata": {},
   "outputs": [
    {
     "output_type": "execute_result",
     "data": {
      "text/plain": [
       "0"
      ]
     },
     "metadata": {},
     "execution_count": 19
    }
   ],
   "source": [
    "AND(1,0)"
   ]
  },
  {
   "cell_type": "code",
   "execution_count": 1,
   "metadata": {},
   "outputs": [
    {
     "output_type": "execute_result",
     "data": {
      "text/plain": [
       "0.5"
      ]
     },
     "metadata": {},
     "execution_count": 1
    }
   ],
   "source": [
    "import numpy as np\n",
    "x = np.array([0, 1])\n",
    "w = np.array([0.5, 0.5])\n",
    "b = -0.7\n",
    "w*x\n",
    "np.sum(w*x)"
   ]
  },
  {
   "cell_type": "code",
   "execution_count": 2,
   "metadata": {},
   "outputs": [
    {
     "output_type": "execute_result",
     "data": {
      "text/plain": [
       "1"
      ]
     },
     "metadata": {},
     "execution_count": 2
    }
   ],
   "source": [
    "def AND(x1, x2):\n",
    "    x = np.array([x1, x2])\n",
    "    w = np.array([0.5, 0.5])\n",
    "    b = -0.7\n",
    "    tmp = np.sum(w*x) + b\n",
    "    if tmp <= 0:\n",
    "        return 0\n",
    "    else:\n",
    "        return 1\n",
    "AND(0,1.41)"
   ]
  },
  {
   "cell_type": "code",
   "execution_count": 10,
   "metadata": {},
   "outputs": [
    {
     "output_type": "execute_result",
     "data": {
      "text/plain": [
       "1"
      ]
     },
     "metadata": {},
     "execution_count": 10
    }
   ],
   "source": [
    "def NAND(x1, x2):\n",
    "    x = np.array([x1, x2])\n",
    "    w = np.array([-0.5, -0.5])\n",
    "    b = 0.7\n",
    "    tmp = np.sum(w*x) + b\n",
    "    if tmp <= 0:\n",
    "        return 0\n",
    "    else:\n",
    "        return 1\n",
    "NAND(1,0)"
   ]
  },
  {
   "cell_type": "code",
   "execution_count": 3,
   "metadata": {},
   "outputs": [
    {
     "output_type": "execute_result",
     "data": {
      "text/plain": [
       "0"
      ]
     },
     "metadata": {},
     "execution_count": 3
    }
   ],
   "source": [
    "def OR(x1, x2):\n",
    "    x = np.array([x1, x2])\n",
    "    w  = np.array([0.5, 0.5])\n",
    "    b = -0.3\n",
    "    tmp = np.sum(w*x) + b\n",
    "    if tmp <= 0:\n",
    "        return 0\n",
    "    else:\n",
    "        return 1\n",
    "OR(0,0)"
   ]
  },
  {
   "cell_type": "code",
   "execution_count": 11,
   "metadata": {},
   "outputs": [],
   "source": [
    "def XOR(x1, x2):\n",
    "    s1 = NAND(x1, x2)\n",
    "    s2 = OR(x1, x2)\n",
    "    y = AND(s1, s2)\n",
    "    return y"
   ]
  },
  {
   "cell_type": "code",
   "execution_count": 14,
   "metadata": {},
   "outputs": [
    {
     "output_type": "execute_result",
     "data": {
      "text/plain": [
       "0"
      ]
     },
     "metadata": {},
     "execution_count": 14
    }
   ],
   "source": [
    "XOR(1, 1)"
   ]
  },
  {
   "cell_type": "code",
   "execution_count": 3,
   "metadata": {},
   "outputs": [
    {
     "output_type": "execute_result",
     "data": {
      "text/plain": [
       "array([False,  True,  True])"
      ]
     },
     "metadata": {},
     "execution_count": 3
    }
   ],
   "source": [
    "x = np.array([-1.0, 1.0, 2.0])\n",
    "x\n",
    "y = x > 0\n",
    "y"
   ]
  },
  {
   "cell_type": "code",
   "execution_count": 4,
   "metadata": {},
   "outputs": [
    {
     "output_type": "execute_result",
     "data": {
      "text/plain": [
       "array([0, 1, 1])"
      ]
     },
     "metadata": {},
     "execution_count": 4
    }
   ],
   "source": [
    "y = y.astype(np.int)\n",
    "y"
   ]
  },
  {
   "cell_type": "code",
   "execution_count": 11,
   "metadata": {},
   "outputs": [],
   "source": [
    "def step_function(x):\n",
    "    if x > 0:\n",
    "        return 1\n",
    "    else:\n",
    "        return 0"
   ]
  },
  {
   "source": [
    "import numpy as np\n",
    "import matplotlib.pyplot as plt\n",
    "\n",
    "def step_function(x):\n",
    "    return np.array(x > 0, dtype=np.int)\n",
    "\n",
    "x = np.arange(-5.0, 5.0, 0.1)\n",
    "y = step_function(x)\n",
    "plt.plot(x, y)\n",
    "plt.ylim(-0.1, 1.5)\n",
    "plt.show()"
   ],
   "cell_type": "code",
   "metadata": {},
   "execution_count": 12,
   "outputs": [
    {
     "output_type": "display_data",
     "data": {
      "text/plain": "<Figure size 432x288 with 1 Axes>",
      "image/svg+xml": "<?xml version=\"1.0\" encoding=\"utf-8\" standalone=\"no\"?>\n<!DOCTYPE svg PUBLIC \"-//W3C//DTD SVG 1.1//EN\"\n  \"http://www.w3.org/Graphics/SVG/1.1/DTD/svg11.dtd\">\n<!-- Created with matplotlib (https://matplotlib.org/) -->\n<svg height=\"248.230625pt\" version=\"1.1\" viewBox=\"0 0 371.439062 248.230625\" width=\"371.439062pt\" xmlns=\"http://www.w3.org/2000/svg\" xmlns:xlink=\"http://www.w3.org/1999/xlink\">\n <defs>\n  <style type=\"text/css\">\n*{stroke-linecap:butt;stroke-linejoin:round;}\n  </style>\n </defs>\n <g id=\"figure_1\">\n  <g id=\"patch_1\">\n   <path d=\"M 0 248.230625 \nL 371.439062 248.230625 \nL 371.439062 0 \nL 0 0 \nz\n\" style=\"fill:none;\"/>\n  </g>\n  <g id=\"axes_1\">\n   <g id=\"patch_2\">\n    <path d=\"M 29.439063 224.64 \nL 364.239063 224.64 \nL 364.239063 7.2 \nL 29.439063 7.2 \nz\n\" style=\"fill:#ffffff;\"/>\n   </g>\n   <g id=\"matplotlib.axis_1\">\n    <g id=\"xtick_1\">\n     <g id=\"line2d_1\">\n      <defs>\n       <path d=\"M 0 0 \nL 0 3.5 \n\" id=\"m592836e07d\" style=\"stroke:#000000;stroke-width:0.8;\"/>\n      </defs>\n      <g>\n       <use style=\"stroke:#000000;stroke-width:0.8;\" x=\"75.401046\" xlink:href=\"#m592836e07d\" y=\"224.64\"/>\n      </g>\n     </g>\n     <g id=\"text_1\">\n      <!-- −4 -->\n      <defs>\n       <path d=\"M 6.5 34.71875 \nL 61.28125 34.71875 \nL 61.28125 29 \nL 6.5 29 \nz\n\" id=\"IPAexGothic-8722\"/>\n       <path d=\"M 59.578125 18.109375 \nL 47.796875 18.109375 \nL 47.796875 0.984375 \nL 39.796875 0.984375 \nL 39.796875 18.109375 \nL 3.078125 18.109375 \nL 3.078125 26.125 \nL 38.375 73.09375 \nL 47.796875 73.09375 \nL 47.796875 25.53125 \nL 59.578125 25.53125 \nz\nM 40.28125 64.203125 \nL 39.984375 64.203125 \nQ 35.59375 57.125 31.296875 51.3125 \nL 11.859375 25.53125 \nL 39.796875 25.53125 \nL 39.796875 49.125 \nQ 39.796875 54.390625 40.28125 64.203125 \nz\n\" id=\"IPAexGothic-52\"/>\n      </defs>\n      <g transform=\"translate(68.860421 239.130625)scale(0.1 -0.1)\">\n       <use xlink:href=\"#IPAexGothic-8722\"/>\n       <use x=\"67.822266\" xlink:href=\"#IPAexGothic-52\"/>\n      </g>\n     </g>\n    </g>\n    <g id=\"xtick_2\">\n     <g id=\"line2d_2\">\n      <g>\n       <use style=\"stroke:#000000;stroke-width:0.8;\" x=\"136.888649\" xlink:href=\"#m592836e07d\" y=\"224.64\"/>\n      </g>\n     </g>\n     <g id=\"text_2\">\n      <!-- −2 -->\n      <defs>\n       <path d=\"M 57.171875 0.984375 \nL 6.984375 0.984375 \nL 6.984375 9.28125 \nQ 12.890625 23.046875 29.59375 34.421875 \nL 32.375 36.28125 \nQ 40.921875 42.140625 43.609375 45.40625 \nQ 46.6875 49.265625 46.6875 53.8125 \nQ 46.6875 58.9375 43.0625 62.546875 \nQ 39.0625 66.546875 32.5625 66.546875 \nQ 19.53125 66.546875 15.484375 52 \nL 7.765625 54.78125 \nQ 13.328125 73.828125 33.0625 73.828125 \nQ 43.84375 73.828125 50.25 67.4375 \nQ 55.859375 61.671875 55.859375 53.515625 \nQ 55.859375 47.46875 52.25 42.53125 \nQ 48.921875 37.75 36.96875 30.28125 \nL 34.859375 29 \nQ 19.625 19.578125 15.28125 8.890625 \nL 57.171875 8.890625 \nz\n\" id=\"IPAexGothic-50\"/>\n      </defs>\n      <g transform=\"translate(130.348024 239.130625)scale(0.1 -0.1)\">\n       <use xlink:href=\"#IPAexGothic-8722\"/>\n       <use x=\"67.822266\" xlink:href=\"#IPAexGothic-50\"/>\n      </g>\n     </g>\n    </g>\n    <g id=\"xtick_3\">\n     <g id=\"line2d_3\">\n      <g>\n       <use style=\"stroke:#000000;stroke-width:0.8;\" x=\"198.376253\" xlink:href=\"#m592836e07d\" y=\"224.64\"/>\n      </g>\n     </g>\n     <g id=\"text_3\">\n      <!-- 0 -->\n      <defs>\n       <path d=\"M 31.84375 73.828125 \nQ 45.015625 73.828125 52.09375 61.625 \nQ 57.71875 51.953125 57.71875 36.625 \nQ 57.71875 21.4375 52.09375 11.578125 \nQ 45.125 -0.484375 31.5 -0.484375 \nQ 17.921875 -0.484375 10.9375 11.578125 \nQ 5.328125 21.4375 5.328125 36.71875 \nQ 5.328125 58.015625 15.625 67.71875 \nQ 22.171875 73.828125 31.84375 73.828125 \nz\nM 31.5 66.65625 \nQ 23.6875 66.65625 19.1875 58.734375 \nQ 14.59375 50.734375 14.59375 36.625 \nQ 14.59375 22.75 19.09375 14.796875 \nQ 23.640625 6.984375 31.5 6.984375 \nQ 40.921875 6.984375 45.453125 18.015625 \nQ 48.4375 25.34375 48.4375 37.109375 \nQ 48.4375 50.875 43.84375 58.734375 \nQ 39.203125 66.65625 31.5 66.65625 \nz\n\" id=\"IPAexGothic-48\"/>\n      </defs>\n      <g transform=\"translate(195.227034 239.130625)scale(0.1 -0.1)\">\n       <use xlink:href=\"#IPAexGothic-48\"/>\n      </g>\n     </g>\n    </g>\n    <g id=\"xtick_4\">\n     <g id=\"line2d_4\">\n      <g>\n       <use style=\"stroke:#000000;stroke-width:0.8;\" x=\"259.863856\" xlink:href=\"#m592836e07d\" y=\"224.64\"/>\n      </g>\n     </g>\n     <g id=\"text_4\">\n      <!-- 2 -->\n      <g transform=\"translate(256.714637 239.130625)scale(0.1 -0.1)\">\n       <use xlink:href=\"#IPAexGothic-50\"/>\n      </g>\n     </g>\n    </g>\n    <g id=\"xtick_5\">\n     <g id=\"line2d_5\">\n      <g>\n       <use style=\"stroke:#000000;stroke-width:0.8;\" x=\"321.351459\" xlink:href=\"#m592836e07d\" y=\"224.64\"/>\n      </g>\n     </g>\n     <g id=\"text_5\">\n      <!-- 4 -->\n      <g transform=\"translate(318.20224 239.130625)scale(0.1 -0.1)\">\n       <use xlink:href=\"#IPAexGothic-52\"/>\n      </g>\n     </g>\n    </g>\n   </g>\n   <g id=\"matplotlib.axis_2\">\n    <g id=\"ytick_1\">\n     <g id=\"line2d_6\">\n      <defs>\n       <path d=\"M 0 0 \nL -3.5 0 \n\" id=\"m5c151fc460\" style=\"stroke:#000000;stroke-width:0.8;\"/>\n      </defs>\n      <g>\n       <use style=\"stroke:#000000;stroke-width:0.8;\" x=\"29.439063\" xlink:href=\"#m5c151fc460\" y=\"211.05\"/>\n      </g>\n     </g>\n     <g id=\"text_6\">\n      <!-- 0.0 -->\n      <defs>\n       <path d=\"M 18.5 0.984375 \nL 7.71875 0.984375 \nL 7.71875 11.765625 \nL 18.5 11.765625 \nz\n\" id=\"IPAexGothic-46\"/>\n      </defs>\n      <g transform=\"translate(7.2 214.795312)scale(0.1 -0.1)\">\n       <use xlink:href=\"#IPAexGothic-48\"/>\n       <use x=\"62.988281\" xlink:href=\"#IPAexGothic-46\"/>\n       <use x=\"89.404297\" xlink:href=\"#IPAexGothic-48\"/>\n      </g>\n     </g>\n    </g>\n    <g id=\"ytick_2\">\n     <g id=\"line2d_7\">\n      <g>\n       <use style=\"stroke:#000000;stroke-width:0.8;\" x=\"29.439063\" xlink:href=\"#m5c151fc460\" y=\"183.87\"/>\n      </g>\n     </g>\n     <g id=\"text_7\">\n      <!-- 0.2 -->\n      <g transform=\"translate(7.2 187.615312)scale(0.1 -0.1)\">\n       <use xlink:href=\"#IPAexGothic-48\"/>\n       <use x=\"62.988281\" xlink:href=\"#IPAexGothic-46\"/>\n       <use x=\"89.404297\" xlink:href=\"#IPAexGothic-50\"/>\n      </g>\n     </g>\n    </g>\n    <g id=\"ytick_3\">\n     <g id=\"line2d_8\">\n      <g>\n       <use style=\"stroke:#000000;stroke-width:0.8;\" x=\"29.439063\" xlink:href=\"#m5c151fc460\" y=\"156.69\"/>\n      </g>\n     </g>\n     <g id=\"text_8\">\n      <!-- 0.4 -->\n      <g transform=\"translate(7.2 160.435312)scale(0.1 -0.1)\">\n       <use xlink:href=\"#IPAexGothic-48\"/>\n       <use x=\"62.988281\" xlink:href=\"#IPAexGothic-46\"/>\n       <use x=\"89.404297\" xlink:href=\"#IPAexGothic-52\"/>\n      </g>\n     </g>\n    </g>\n    <g id=\"ytick_4\">\n     <g id=\"line2d_9\">\n      <g>\n       <use style=\"stroke:#000000;stroke-width:0.8;\" x=\"29.439063\" xlink:href=\"#m5c151fc460\" y=\"129.51\"/>\n      </g>\n     </g>\n     <g id=\"text_9\">\n      <!-- 0.6 -->\n      <defs>\n       <path d=\"M 16.5 36.375 \nQ 23.578125 46.578125 34.90625 46.578125 \nQ 45.40625 46.578125 51.8125 39.265625 \nQ 57.421875 32.90625 57.421875 23.78125 \nQ 57.421875 13.8125 51.125 6.78125 \nQ 44.578125 -0.484375 34.03125 -0.484375 \nQ 21.484375 -0.484375 14.40625 9.078125 \nQ 7.515625 18.40625 7.515625 34.8125 \nQ 7.515625 53.515625 15.828125 64.203125 \nQ 23.34375 73.828125 35.5 73.828125 \nQ 49.859375 73.828125 56.390625 62.890625 \nL 49.21875 58.984375 \nQ 45.21875 66.65625 35.9375 66.65625 \nQ 17.484375 66.65625 16.109375 36.375 \nz\nM 33.453125 39.796875 \nQ 26.3125 39.796875 21.625 34.46875 \nQ 17.4375 29.6875 17.4375 24.078125 \nQ 17.4375 18.0625 21.140625 13.1875 \nQ 26.125 6.6875 33.734375 6.6875 \nQ 41.703125 6.6875 45.953125 13.1875 \nQ 48.828125 17.625 48.828125 23.484375 \nQ 48.828125 30.375 45.015625 34.8125 \nQ 40.625 39.796875 33.453125 39.796875 \nz\n\" id=\"IPAexGothic-54\"/>\n      </defs>\n      <g transform=\"translate(7.2 133.255312)scale(0.1 -0.1)\">\n       <use xlink:href=\"#IPAexGothic-48\"/>\n       <use x=\"62.988281\" xlink:href=\"#IPAexGothic-46\"/>\n       <use x=\"89.404297\" xlink:href=\"#IPAexGothic-54\"/>\n      </g>\n     </g>\n    </g>\n    <g id=\"ytick_5\">\n     <g id=\"line2d_10\">\n      <g>\n       <use style=\"stroke:#000000;stroke-width:0.8;\" x=\"29.439063\" xlink:href=\"#m5c151fc460\" y=\"102.33\"/>\n      </g>\n     </g>\n     <g id=\"text_10\">\n      <!-- 0.8 -->\n      <defs>\n       <path d=\"M 39.703125 37.890625 \nQ 57.8125 31.734375 57.8125 18.703125 \nQ 57.8125 8.453125 48.4375 3.078125 \nQ 41.609375 -0.875 31.5 -0.875 \nQ 21.34375 -0.875 14.5 3.078125 \nQ 5.421875 8.296875 5.421875 18.40625 \nQ 5.421875 31.0625 22.015625 37.203125 \nL 22.015625 37.5 \nQ 7.515625 42.71875 7.515625 54.828125 \nQ 7.515625 64.0625 15.328125 69.625 \nQ 21.96875 74.3125 31.546875 74.3125 \nQ 42.234375 74.3125 48.921875 68.796875 \nQ 55.515625 63.578125 55.515625 55.71875 \nQ 55.515625 42.28125 39.703125 38.1875 \nz\nM 31.59375 41.015625 \nQ 46.828125 44.625 46.828125 55.125 \nQ 46.828125 61.1875 41.796875 64.84375 \nQ 37.703125 67.921875 31.5 67.921875 \nQ 25.09375 67.921875 20.796875 64.5 \nQ 16.40625 60.890625 16.40625 55.03125 \nQ 16.40625 49.21875 21.09375 45.703125 \nQ 23.34375 43.890625 26.90625 42.53125 \nQ 31 40.875 31.59375 41.015625 \nz\nM 30.90625 34.515625 \nQ 14.40625 30.171875 14.40625 19 \nQ 14.40625 12.109375 20.515625 8.6875 \nQ 25.09375 6.109375 31.390625 6.109375 \nQ 40.234375 6.109375 45.015625 10.890625 \nQ 48.53125 14.40625 48.53125 19.53125 \nQ 48.53125 24.90625 43.65625 28.90625 \nQ 40.765625 31.15625 36.71875 32.8125 \nQ 31.984375 34.71875 30.90625 34.515625 \nz\n\" id=\"IPAexGothic-56\"/>\n      </defs>\n      <g transform=\"translate(7.2 106.075312)scale(0.1 -0.1)\">\n       <use xlink:href=\"#IPAexGothic-48\"/>\n       <use x=\"62.988281\" xlink:href=\"#IPAexGothic-46\"/>\n       <use x=\"89.404297\" xlink:href=\"#IPAexGothic-56\"/>\n      </g>\n     </g>\n    </g>\n    <g id=\"ytick_6\">\n     <g id=\"line2d_11\">\n      <g>\n       <use style=\"stroke:#000000;stroke-width:0.8;\" x=\"29.439063\" xlink:href=\"#m5c151fc460\" y=\"75.15\"/>\n      </g>\n     </g>\n     <g id=\"text_11\">\n      <!-- 1.0 -->\n      <defs>\n       <path d=\"M 38.484375 0.984375 \nL 29.6875 0.984375 \nL 29.6875 64.109375 \nQ 21.4375 61.28125 12.3125 59.328125 \nL 10.6875 66.109375 \nQ 23.734375 69.390625 32.90625 73.921875 \nL 38.484375 73.921875 \nz\n\" id=\"IPAexGothic-49\"/>\n      </defs>\n      <g transform=\"translate(7.2 78.895312)scale(0.1 -0.1)\">\n       <use xlink:href=\"#IPAexGothic-49\"/>\n       <use x=\"62.988281\" xlink:href=\"#IPAexGothic-46\"/>\n       <use x=\"89.404297\" xlink:href=\"#IPAexGothic-48\"/>\n      </g>\n     </g>\n    </g>\n    <g id=\"ytick_7\">\n     <g id=\"line2d_12\">\n      <g>\n       <use style=\"stroke:#000000;stroke-width:0.8;\" x=\"29.439063\" xlink:href=\"#m5c151fc460\" y=\"47.97\"/>\n      </g>\n     </g>\n     <g id=\"text_12\">\n      <!-- 1.2 -->\n      <g transform=\"translate(7.2 51.715312)scale(0.1 -0.1)\">\n       <use xlink:href=\"#IPAexGothic-49\"/>\n       <use x=\"62.988281\" xlink:href=\"#IPAexGothic-46\"/>\n       <use x=\"89.404297\" xlink:href=\"#IPAexGothic-50\"/>\n      </g>\n     </g>\n    </g>\n    <g id=\"ytick_8\">\n     <g id=\"line2d_13\">\n      <g>\n       <use style=\"stroke:#000000;stroke-width:0.8;\" x=\"29.439063\" xlink:href=\"#m5c151fc460\" y=\"20.79\"/>\n      </g>\n     </g>\n     <g id=\"text_13\">\n      <!-- 1.4 -->\n      <g transform=\"translate(7.2 24.535313)scale(0.1 -0.1)\">\n       <use xlink:href=\"#IPAexGothic-49\"/>\n       <use x=\"62.988281\" xlink:href=\"#IPAexGothic-46\"/>\n       <use x=\"89.404297\" xlink:href=\"#IPAexGothic-52\"/>\n      </g>\n     </g>\n    </g>\n   </g>\n   <g id=\"line2d_14\">\n    <path clip-path=\"url(#p7a490a3ea1)\" d=\"M 44.657244 211.05 \nL 47.731624 211.05 \nL 50.806005 211.05 \nL 53.880385 211.05 \nL 56.954765 211.05 \nL 60.029145 211.05 \nL 63.103525 211.05 \nL 66.177905 211.05 \nL 69.252286 211.05 \nL 72.326666 211.05 \nL 75.401046 211.05 \nL 78.475426 211.05 \nL 81.549806 211.05 \nL 84.624186 211.05 \nL 87.698567 211.05 \nL 90.772947 211.05 \nL 93.847327 211.05 \nL 96.921707 211.05 \nL 99.996087 211.05 \nL 103.070467 211.05 \nL 106.144848 211.05 \nL 109.219228 211.05 \nL 112.293608 211.05 \nL 115.367988 211.05 \nL 118.442368 211.05 \nL 121.516748 211.05 \nL 124.591129 211.05 \nL 127.665509 211.05 \nL 130.739889 211.05 \nL 133.814269 211.05 \nL 136.888649 211.05 \nL 139.963029 211.05 \nL 143.03741 211.05 \nL 146.11179 211.05 \nL 149.18617 211.05 \nL 152.26055 211.05 \nL 155.33493 211.05 \nL 158.40931 211.05 \nL 161.483691 211.05 \nL 164.558071 211.05 \nL 167.632451 211.05 \nL 170.706831 211.05 \nL 173.781211 211.05 \nL 176.855591 211.05 \nL 179.929972 211.05 \nL 183.004352 211.05 \nL 186.078732 211.05 \nL 189.153112 211.05 \nL 192.227492 211.05 \nL 195.301872 211.05 \nL 198.376253 211.05 \nL 201.450633 75.15 \nL 204.525013 75.15 \nL 207.599393 75.15 \nL 210.673773 75.15 \nL 213.748153 75.15 \nL 216.822534 75.15 \nL 219.896914 75.15 \nL 222.971294 75.15 \nL 226.045674 75.15 \nL 229.120054 75.15 \nL 232.194434 75.15 \nL 235.268815 75.15 \nL 238.343195 75.15 \nL 241.417575 75.15 \nL 244.491955 75.15 \nL 247.566335 75.15 \nL 250.640715 75.15 \nL 253.715096 75.15 \nL 256.789476 75.15 \nL 259.863856 75.15 \nL 262.938236 75.15 \nL 266.012616 75.15 \nL 269.086996 75.15 \nL 272.161377 75.15 \nL 275.235757 75.15 \nL 278.310137 75.15 \nL 281.384517 75.15 \nL 284.458897 75.15 \nL 287.533277 75.15 \nL 290.607658 75.15 \nL 293.682038 75.15 \nL 296.756418 75.15 \nL 299.830798 75.15 \nL 302.905178 75.15 \nL 305.979558 75.15 \nL 309.053939 75.15 \nL 312.128319 75.15 \nL 315.202699 75.15 \nL 318.277079 75.15 \nL 321.351459 75.15 \nL 324.425839 75.15 \nL 327.50022 75.15 \nL 330.5746 75.15 \nL 333.64898 75.15 \nL 336.72336 75.15 \nL 339.79774 75.15 \nL 342.87212 75.15 \nL 345.946501 75.15 \nL 349.020881 75.15 \n\" style=\"fill:none;stroke:#1f77b4;stroke-linecap:square;stroke-width:1.5;\"/>\n   </g>\n   <g id=\"patch_3\">\n    <path d=\"M 29.439063 224.64 \nL 29.439063 7.2 \n\" style=\"fill:none;stroke:#000000;stroke-linecap:square;stroke-linejoin:miter;stroke-width:0.8;\"/>\n   </g>\n   <g id=\"patch_4\">\n    <path d=\"M 364.239063 224.64 \nL 364.239063 7.2 \n\" style=\"fill:none;stroke:#000000;stroke-linecap:square;stroke-linejoin:miter;stroke-width:0.8;\"/>\n   </g>\n   <g id=\"patch_5\">\n    <path d=\"M 29.439063 224.64 \nL 364.239063 224.64 \n\" style=\"fill:none;stroke:#000000;stroke-linecap:square;stroke-linejoin:miter;stroke-width:0.8;\"/>\n   </g>\n   <g id=\"patch_6\">\n    <path d=\"M 29.439063 7.2 \nL 364.239063 7.2 \n\" style=\"fill:none;stroke:#000000;stroke-linecap:square;stroke-linejoin:miter;stroke-width:0.8;\"/>\n   </g>\n  </g>\n </g>\n <defs>\n  <clipPath id=\"p7a490a3ea1\">\n   <rect height=\"217.44\" width=\"334.8\" x=\"29.439063\" y=\"7.2\"/>\n  </clipPath>\n </defs>\n</svg>\n",
      "image/png": "[encoded data removed]"
     },
     "metadata": {
      "needs_background": "light"
     }
    }
   ]
  },
  {
   "cell_type": "code",
   "execution_count": 1,
   "metadata": {},
   "outputs": [
    {
     "output_type": "stream",
     "name": "stdout",
     "text": [
      "[1 2 3 4]\n"
     ]
    }
   ],
   "source": [
    "import numpy as np\n",
    "A = np.array([1,2,3,4])\n",
    "print(A)"
   ]
  },
  {
   "cell_type": "code",
   "execution_count": null,
   "metadata": {},
   "outputs": [],
   "source": []
  }
 ]
}