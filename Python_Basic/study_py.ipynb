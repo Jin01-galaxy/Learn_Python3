{
 "metadata": {
  "language_info": {
   "codemirror_mode": {
    "name": "ipython",
    "version": 3
   },
   "file_extension": ".py",
   "mimetype": "text/x-python",
   "name": "python",
   "nbconvert_exporter": "python",
   "pygments_lexer": "ipython3",
   "version": "3.8.2-final"
  },
  "orig_nbformat": 2,
  "kernelspec": {
   "name": "python_defaultSpec_1600738486079",
   "display_name": "Python 3.8.2 64-bit"
  }
 },
 "nbformat": 4,
 "nbformat_minor": 2,
 "cells": [
  {
   "cell_type": "code",
   "execution_count": 2,
   "metadata": {
    "tags": []
   },
   "outputs": [
    {
     "output_type": "execute_result",
     "data": {
      "text/plain": "[121, 169]"
     },
     "metadata": {},
     "execution_count": 2
    }
   ],
   "source": [
    "prime = [2,3,5,7,11,13]\n",
    "prime_square = [x**2 for x in prime if x**2 > 100]\n",
    "prime_square"
   ]
  },
  {
   "cell_type": "code",
   "execution_count": 6,
   "metadata": {
    "tags": []
   },
   "outputs": [
    {
     "output_type": "execute_result",
     "data": {
      "text/plain": "[None, 2, None, 4, None, 6, None, 8, None]"
     },
     "metadata": {},
     "execution_count": 6
    }
   ],
   "source": [
    "list1 = [1,2,3,4,5,6,7,8,9]\n",
    "[x if x%2==0 else None for x in list1]"
   ]
  },
  {
   "cell_type": "code",
   "execution_count": null,
   "metadata": {},
   "outputs": [],
   "source": [
    "[x * y for x in range(3) for y in range(x+1)]"
   ]
  },
  {
   "cell_type": "code",
   "execution_count": 7,
   "metadata": {},
   "outputs": [
    {
     "output_type": "execute_result",
     "data": {
      "text/plain": "(1, 4, 9, 16, 25)"
     },
     "metadata": {},
     "execution_count": 7
    }
   ],
   "source": [
    "turple_square = (1,4,9,16,25)\n",
    "turple_square"
   ]
  },
  {
   "cell_type": "code",
   "execution_count": 9,
   "metadata": {},
   "outputs": [
    {
     "output_type": "execute_result",
     "data": {
      "text/plain": "25"
     },
     "metadata": {},
     "execution_count": 9
    }
   ],
   "source": [
    "turple_square[-1]"
   ]
  },
  {
   "cell_type": "code",
   "execution_count": 13,
   "metadata": {
    "tags": []
   },
   "outputs": [
    {
     "output_type": "execute_result",
     "data": {
      "text/plain": "9"
     },
     "metadata": {},
     "execution_count": 13
    }
   ],
   "source": [
    "a,b,c,d,e = (1,2,3,4,5)\n",
    "d + e\n"
   ]
  },
  {
   "cell_type": "code",
   "execution_count": 14,
   "metadata": {},
   "outputs": [
    {
     "output_type": "execute_result",
     "data": {
      "text/plain": "[2, 4, 6, 8, 10]"
     },
     "metadata": {},
     "execution_count": 14
    }
   ],
   "source": [
    "tp1 = (1,2,3,4,5)\n",
    "tp2 = (1,2,3,4,5)\n",
    "def tpadd(x , y):\n",
    "    return x + y\n",
    "list(map(tpadd, tp1, tp2))"
   ]
  },
  {
   "cell_type": "code",
   "execution_count": 15,
   "metadata": {},
   "outputs": [
    {
     "output_type": "execute_result",
     "data": {
      "text/plain": "(1, 2, 3, 4, 5, 1, 2, 3, 4, 5)"
     },
     "metadata": {},
     "execution_count": 15
    }
   ],
   "source": [
    "tp1 * 2"
   ]
  },
  {
   "cell_type": "code",
   "execution_count": null,
   "metadata": {},
   "outputs": [],
   "source": []
  }
 ]
}