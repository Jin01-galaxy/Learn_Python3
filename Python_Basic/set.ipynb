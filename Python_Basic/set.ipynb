{
 "metadata": {
  "language_info": {
   "codemirror_mode": {
    "name": "ipython",
    "version": 3
   },
   "file_extension": ".py",
   "mimetype": "text/x-python",
   "name": "python",
   "nbconvert_exporter": "python",
   "pygments_lexer": "ipython3",
   "version": "3.8.2-final"
  },
  "orig_nbformat": 2,
  "kernelspec": {
   "name": "Python 3.8.2 64-bit",
   "display_name": "Python 3.8.2 64-bit",
   "metadata": {
    "interpreter": {
     "hash": "8944028f731ed0aab03a1842c97ac2f6f9e7d0b6debf537146740ded1d41f77c"
    }
   }
  }
 },
 "nbformat": 4,
 "nbformat_minor": 2,
 "cells": [
  {
   "cell_type": "code",
   "execution_count": 2,
   "metadata": {},
   "outputs": [
    {
     "output_type": "execute_result",
     "data": {
      "text/plain": "{'fukuoka', 'nagoya', 'sapporo', 'tokyo', 'yokohama'}"
     },
     "metadata": {},
     "execution_count": 2
    }
   ],
   "source": [
    "city_of_japan = {'sapporo','yokohama','nagoya','fukuoka','tokyo','tokyo'}\n",
    "city_of_japan"
   ]
  },
  {
   "cell_type": "code",
   "execution_count": 2,
   "metadata": {},
   "outputs": [],
   "source": [
    "set_1 = set('abcde')"
   ]
  },
  {
   "cell_type": "code",
   "execution_count": 3,
   "metadata": {},
   "outputs": [],
   "source": [
    "set_1.add('f')"
   ]
  },
  {
   "cell_type": "code",
   "execution_count": 4,
   "metadata": {
    "tags": []
   },
   "outputs": [
    {
     "output_type": "stream",
     "name": "stdout",
     "text": "K is not found\n"
    }
   ],
   "source": [
    "x = 'K'\n",
    "set_1.remove(x) if x in set_1 else print(x, 'is not found')"
   ]
  },
  {
   "cell_type": "code",
   "execution_count": 10,
   "metadata": {},
   "outputs": [
    {
     "output_type": "execute_result",
     "data": {
      "text/plain": "{4, 9, 25, 49, 121, 169}"
     },
     "metadata": {},
     "execution_count": 10
    }
   ],
   "source": [
    "prime = {2,3,5,7,11,13}\n",
    "prime_square = {x**2 for x in prime}\n",
    "prime_square"
   ]
  },
  {
   "source": [
    "{frozenset([1,3,5,7,9]):'odd'}"
   ],
   "cell_type": "code",
   "metadata": {},
   "execution_count": 11,
   "outputs": [
    {
     "output_type": "execute_result",
     "data": {
      "text/plain": "{frozenset({1, 3, 5, 7, 9}): 'odd'}"
     },
     "metadata": {},
     "execution_count": 11
    }
   ]
  },
  {
   "cell_type": "code",
   "execution_count": 13,
   "metadata": {
    "tags": []
   },
   "outputs": [
    {
     "output_type": "stream",
     "name": "stdout",
     "text": "{1, 3, 5, 7, 9, 11, 13, 15, 17, 19}\n"
    }
   ],
   "source": [
    "A = {x for x in range(21) if x % 2 != 0}\n",
    "print(A)"
   ]
  },
  {
   "cell_type": "code",
   "execution_count": 15,
   "metadata": {},
   "outputs": [
    {
     "output_type": "execute_result",
     "data": {
      "text/plain": "{'d', 'e', 'f'}"
     },
     "metadata": {},
     "execution_count": 15
    }
   ],
   "source": [
    "A = set('abcdef')\n",
    "B = set('defghi')\n",
    "A&B"
   ]
  },
  {
   "cell_type": "code",
   "execution_count": 40,
   "metadata": {
    "tags": []
   },
   "outputs": [
    {
     "output_type": "stream",
     "name": "stdout",
     "text": "1 Python\n2 Swift\n3 Dart\n"
    }
   ],
   "source": [
    "language = {1: 'Python', 2: 'Swift', 3: 'Dart'}\n",
    "for key,x in language.items():\n",
    "    print(key, x)"
   ]
  },
  {
   "cell_type": "code",
   "execution_count": 42,
   "metadata": {},
   "outputs": [
    {
     "output_type": "execute_result",
     "data": {
      "text/plain": "{1: 'Python', 2: 'Swift', 3: 'Dart'}"
     },
     "metadata": {},
     "execution_count": 42
    }
   ],
   "source": [
    "list1 = [1,2,3]\n",
    "list2 = ['Python','Swift','Dart']\n",
    "dict(zip(list1,list2))"
   ]
  },
  {
   "cell_type": "code",
   "execution_count": 43,
   "metadata": {},
   "outputs": [
    {
     "output_type": "execute_result",
     "data": {
      "text/plain": "[['0001', 'Male', 'Han', 'Solo', '37', 'Hoth'],\n ['0002', 'Male', 'Ruke', 'Skywalker', '21', 'Tatuween'],\n ['0003', 'Female', 'Reia', 'Markis', '21', 'JJDjango']]"
     },
     "metadata": {},
     "execution_count": 43
    }
   ],
   "source": [
    "data = [\n",
    "['0001','Male','Han','Solo','37','Hoth'],\n",
    "['0002','Male','Ruke','Skywalker','21','Tatuween'],\n",
    "['0003','Female','Reia','Markis','21','JJDjango'],\n",
    "]\n",
    "data"
   ]
  },
  {
   "cell_type": "code",
   "execution_count": 1,
   "metadata": {},
   "outputs": [
    {
     "output_type": "execute_result",
     "data": {
      "text/plain": "{0: 0, 1: 1, 2: 4, 3: 9, 4: 16, 5: 25, 6: 36, 7: 49, 8: 64, 9: 81, 10: 100}"
     },
     "metadata": {},
     "execution_count": 1
    }
   ],
   "source": [
    "square_dict = {x: x*x for x in range(11)}\n",
    "square_dict"
   ]
  },
  {
   "cell_type": "code",
   "execution_count": 10,
   "metadata": {},
   "outputs": [
    {
     "output_type": "execute_result",
     "data": {
      "text/plain": "'NoName'"
     },
     "metadata": {},
     "execution_count": 10
    }
   ],
   "source": [
    "class Car:\n",
    "    weight = 4000\n",
    "    num_wheels = 4  #class variable\n",
    "\n",
    "    def __init__(self, car_name='NoName'): #instance variable(constructor)\n",
    "        self.name = car_name\n",
    "\n",
    "    def calc_weight_per_wheel(self): #method\n",
    "        return self.weight / self.num_wheels\n",
    "\n",
    "default_car = Car()\n",
    "default_car.name #access to the instance variable"
   ]
  },
  {
   "cell_type": "code",
   "execution_count": 11,
   "metadata": {},
   "outputs": [
    {
     "output_type": "execute_result",
     "data": {
      "text/plain": "'DeLorean'"
     },
     "metadata": {},
     "execution_count": 11
    }
   ],
   "source": [
    "my_car = Car('DeLorean')\n",
    "my_car.name"
   ]
  },
  {
   "cell_type": "code",
   "execution_count": null,
   "metadata": {},
   "outputs": [],
   "source": []
  }
 ]
}