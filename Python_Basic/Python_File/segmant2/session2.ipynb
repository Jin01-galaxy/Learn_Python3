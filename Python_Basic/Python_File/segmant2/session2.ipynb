{
 "metadata": {
  "language_info": {
   "codemirror_mode": {
    "name": "ipython",
    "version": 3
   },
   "file_extension": ".py",
   "mimetype": "text/x-python",
   "name": "python",
   "nbconvert_exporter": "python",
   "pygments_lexer": "ipython3",
   "version": "3.8.2-final"
  },
  "orig_nbformat": 2,
  "kernelspec": {
   "name": "python38264bit382pyenv1b83e28bdf1d4a0cab3b1a48771bab22",
   "display_name": "Python 3.8.2 64-bit ('3.8.2': pyenv)",
   "language": "python"
  }
 },
 "nbformat": 4,
 "nbformat_minor": 2,
 "cells": [
  {
   "cell_type": "code",
   "execution_count": 14,
   "metadata": {},
   "outputs": [
    {
     "output_type": "stream",
     "name": "stdout",
     "text": [
      "h_e_l_l_o_\n"
     ]
    }
   ],
   "source": [
    "def add_underscores(word):\n",
    "    new_word = ''\n",
    "    for i in range(0,len(word)):\n",
    "        new_word += word[i] + '_'\n",
    "    return new_word\n",
    "phrase = 'hello'\n",
    "print(add_underscores(phrase))"
   ]
  },
  {
   "cell_type": "code",
   "execution_count": null,
   "metadata": {},
   "outputs": [],
   "source": []
  }
 ]
}