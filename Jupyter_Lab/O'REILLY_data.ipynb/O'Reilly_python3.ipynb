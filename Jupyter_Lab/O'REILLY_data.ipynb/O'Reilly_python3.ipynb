{
 "metadata": {
  "language_info": {
   "codemirror_mode": {
    "name": "ipython",
    "version": 3
   },
   "file_extension": ".py",
   "mimetype": "text/x-python",
   "name": "python",
   "nbconvert_exporter": "python",
   "pygments_lexer": "ipython3",
   "version": "3.8.2-final"
  },
  "orig_nbformat": 2,
  "kernelspec": {
   "name": "python38264bit382pyenv1b83e28bdf1d4a0cab3b1a48771bab22",
   "display_name": "Python 3.8.2 64-bit ('3.8.2': pyenv)",
   "language": "python"
  }
 },
 "nbformat": 4,
 "nbformat_minor": 2,
 "cells": [
  {
   "cell_type": "code",
   "execution_count": 3,
   "metadata": {},
   "outputs": [
    {
     "output_type": "stream",
     "name": "stdout",
     "text": [
      "Curly says: Ow!\n"
     ]
    }
   ],
   "source": [
    "quotes = {'Moe':'A wise guy, huh? ', \n",
    "    'Larry':'PPP', \n",
    "    'Curly':'Ow!'\n",
    "    }\n",
    "name = 'Curly'\n",
    "print(name, 'says:', quotes[name])\n"
   ]
  },
  {
   "cell_type": "code",
   "execution_count": 13,
   "metadata": {},
   "outputs": [],
   "source": [
    "poem = '''There was a Norway,\n",
    "Who casually sat in doorway,\n",
    "When I was in the sky.'''"
   ]
  },
  {
   "cell_type": "code",
   "execution_count": 14,
   "metadata": {},
   "outputs": [
    {
     "output_type": "stream",
     "name": "stdout",
     "text": [
      "There was a Norway,\nWho casually sat in doorway,\nWhen I was in the sky.\n"
     ]
    }
   ],
   "source": [
    "print(poem)"
   ]
  },
  {
   "cell_type": "code",
   "execution_count": 4,
   "metadata": {},
   "outputs": [
    {
     "output_type": "stream",
     "name": "stdout",
     "text": [
      "A man,\nA plan, \nA canal:\n"
     ]
    }
   ],
   "source": [
    "palindrome = 'A man,\\nA plan, \\nA canal:'\n",
    "print(palindrome)"
   ]
  },
  {
   "source": [
    "スライス"
   ],
   "cell_type": "markdown",
   "metadata": {}
  },
  {
   "cell_type": "code",
   "execution_count": 6,
   "metadata": {},
   "outputs": [
    {
     "output_type": "execute_result",
     "data": {
      "text/plain": [
       "9"
      ]
     },
     "metadata": {},
     "execution_count": 6
    }
   ],
   "source": [
    "letters = '123456789'\n",
    "len(letters)"
   ]
  },
  {
   "source": [
    "split() を使った分割"
   ],
   "cell_type": "markdown",
   "metadata": {}
  },
  {
   "cell_type": "code",
   "execution_count": 3,
   "metadata": {},
   "outputs": [
    {
     "output_type": "execute_result",
     "data": {
      "text/plain": [
       "['yokohama', 'circular', 'economy', 'plus', 'school']"
      ]
     },
     "metadata": {},
     "execution_count": 3
    }
   ],
   "source": [
    "strings = 'yokohama_circular_economy_plus_school'\n",
    "strings.split('_')"
   ]
  },
  {
   "cell_type": "code",
   "execution_count": 8,
   "metadata": {},
   "outputs": [
    {
     "output_type": "execute_result",
     "data": {
      "text/plain": [
       "True"
      ]
     },
     "metadata": {},
     "execution_count": 8
    }
   ],
   "source": [
    "strings.endswith('ool')"
   ]
  },
  {
   "cell_type": "code",
   "execution_count": 11,
   "metadata": {},
   "outputs": [
    {
     "output_type": "execute_result",
     "data": {
      "text/plain": [
       "9"
      ]
     },
     "metadata": {},
     "execution_count": 11
    }
   ],
   "source": [
    "word = 'circular'\n",
    "strings.find(word)"
   ]
  },
  {
   "cell_type": "code",
   "execution_count": null,
   "metadata": {},
   "outputs": [],
   "source": []
  },
  {
   "source": [
    "replace(書き換えたい部分,書き換え後,回数)"
   ],
   "cell_type": "markdown",
   "metadata": {}
  },
  {
   "cell_type": "code",
   "execution_count": 23,
   "metadata": {},
   "outputs": [],
   "source": [
    "setup = 'a duck goes into a bar...'\n"
   ]
  },
  {
   "cell_type": "code",
   "execution_count": 22,
   "metadata": {},
   "outputs": [
    {
     "output_type": "execute_result",
     "data": {
      "text/plain": [
       "'A duck goes into A bAr...'"
      ]
     },
     "metadata": {},
     "execution_count": 22
    }
   ],
   "source": [
    "setup.replace('a', 'A', 3)"
   ]
  },
  {
   "source": [
    "extend(  ) を使ってリストを結合させることができる"
   ],
   "cell_type": "markdown",
   "metadata": {}
  },
  {
   "cell_type": "code",
   "execution_count": 27,
   "metadata": {},
   "outputs": [],
   "source": [
    "location = ['CN_museum','landmark_tower']\n",
    "loc_plus = ['hammer_head','marina']\n",
    "location.extend(loc_plus)"
   ]
  },
  {
   "cell_type": "code",
   "execution_count": 28,
   "metadata": {},
   "outputs": [
    {
     "output_type": "execute_result",
     "data": {
      "text/plain": [
       "['CN_museum', 'landmark_tower', 'hammer_head', 'marina']"
      ]
     },
     "metadata": {},
     "execution_count": 28
    }
   ],
   "source": [
    "location"
   ]
  },
  {
   "cell_type": "code",
   "execution_count": 29,
   "metadata": {},
   "outputs": [
    {
     "output_type": "execute_result",
     "data": {
      "text/plain": [
       "['CN_museum', 'World_Gate', 'landmark_tower', 'hammer_head', 'marina']"
      ]
     },
     "metadata": {},
     "execution_count": 29
    }
   ],
   "source": [
    "location.insert(1, 'World_Gate')\n",
    "location"
   ]
  },
  {
   "cell_type": "code",
   "execution_count": 30,
   "metadata": {},
   "outputs": [
    {
     "output_type": "execute_result",
     "data": {
      "text/plain": [
       "['CN_museum', 'World_Gate', 'hammer_head', 'marina']"
      ]
     },
     "metadata": {},
     "execution_count": 30
    }
   ],
   "source": [
    "del location[2]\n",
    "location"
   ]
  },
  {
   "cell_type": "code",
   "execution_count": 33,
   "metadata": {},
   "outputs": [
    {
     "output_type": "execute_result",
     "data": {
      "text/plain": [
       "False"
      ]
     },
     "metadata": {},
     "execution_count": 33
    }
   ],
   "source": [
    "'CN' in location"
   ]
  },
  {
   "cell_type": "code",
   "execution_count": 36,
   "metadata": {},
   "outputs": [
    {
     "output_type": "execute_result",
     "data": {
      "text/plain": [
       "3"
      ]
     },
     "metadata": {},
     "execution_count": 36
    }
   ],
   "source": [
    "lists = ['meet','meet','vegetable','meet']\n",
    "lists.count('meet')"
   ]
  },
  {
   "cell_type": "code",
   "execution_count": 37,
   "metadata": {},
   "outputs": [
    {
     "output_type": "execute_result",
     "data": {
      "text/plain": [
       "'Harry * Hermione * Ron'"
      ]
     },
     "metadata": {},
     "execution_count": 37
    }
   ],
   "source": [
    "friends = ['Harry', 'Hermione','Ron']\n",
    "separator = ' * '\n",
    "joined = separator.join(friends)\n",
    "joined"
   ]
  },
  {
   "cell_type": "code",
   "execution_count": 38,
   "metadata": {},
   "outputs": [
    {
     "output_type": "execute_result",
     "data": {
      "text/plain": [
       "['Harry', 'Hermione', 'Ron']"
      ]
     },
     "metadata": {},
     "execution_count": 38
    }
   ],
   "source": [
    "separated = joined.split(separator)\n",
    "separated"
   ]
  },
  {
   "source": [
    "## sort( ) 要素の並べ替え"
   ],
   "cell_type": "markdown",
   "metadata": {}
  },
  {
   "cell_type": "code",
   "execution_count": 40,
   "metadata": {},
   "outputs": [
    {
     "output_type": "execute_result",
     "data": {
      "text/plain": [
       "['lyon', 'manchester_c', 'manchester_u', 'real_madrid']"
      ]
     },
     "metadata": {},
     "execution_count": 40
    }
   ],
   "source": [
    "teams = ['real_madrid','manchester_u','manchester_c','lyon']\n",
    "sorted_teams = sorted(teams)\n",
    "sorted_teams"
   ]
  },
  {
   "cell_type": "code",
   "execution_count": 41,
   "metadata": {},
   "outputs": [
    {
     "output_type": "execute_result",
     "data": {
      "text/plain": [
       "['real_madrid', 'manchester_u', 'manchester_c', 'lyon']"
      ]
     },
     "metadata": {},
     "execution_count": 41
    }
   ],
   "source": [
    "teams"
   ]
  },
  {
   "cell_type": "code",
   "execution_count": 42,
   "metadata": {},
   "outputs": [
    {
     "output_type": "execute_result",
     "data": {
      "text/plain": [
       "['lyon', 'manchester_c', 'manchester_u', 'real_madrid']"
      ]
     },
     "metadata": {},
     "execution_count": 42
    }
   ],
   "source": [
    "teams.sort()\n",
    "teams"
   ]
  },
  {
   "source": [
    "## 3.2.19"
   ],
   "cell_type": "markdown",
   "metadata": {}
  },
  {
   "cell_type": "code",
   "execution_count": 53,
   "metadata": {},
   "outputs": [
    {
     "output_type": "execute_result",
     "data": {
      "text/plain": [
       "[1, 2, 3]"
      ]
     },
     "metadata": {},
     "execution_count": 53
    }
   ],
   "source": [
    "a = [1,2,3]\n",
    "a"
   ]
  },
  {
   "cell_type": "code",
   "execution_count": 54,
   "metadata": {},
   "outputs": [
    {
     "output_type": "execute_result",
     "data": {
      "text/plain": [
       "[1, 2, 3]"
      ]
     },
     "metadata": {},
     "execution_count": 54
    }
   ],
   "source": [
    "b = a\n",
    "b"
   ]
  },
  {
   "cell_type": "code",
   "execution_count": 55,
   "metadata": {},
   "outputs": [
    {
     "output_type": "execute_result",
     "data": {
      "text/plain": [
       "[1, 2, 3]"
      ]
     },
     "metadata": {},
     "execution_count": 55
    }
   ],
   "source": [
    "b = a.copy()\n",
    "b"
   ]
  },
  {
   "cell_type": "code",
   "execution_count": 56,
   "metadata": {},
   "outputs": [
    {
     "output_type": "execute_result",
     "data": {
      "text/plain": [
       "['changed', 2, 3]"
      ]
     },
     "metadata": {},
     "execution_count": 56
    }
   ],
   "source": [
    "a[0] = 'changed'\n",
    "a"
   ]
  },
  {
   "cell_type": "code",
   "execution_count": 57,
   "metadata": {},
   "outputs": [
    {
     "output_type": "execute_result",
     "data": {
      "text/plain": [
       "[1, 2, 3]"
      ]
     },
     "metadata": {},
     "execution_count": 57
    }
   ],
   "source": [
    "b"
   ]
  },
  {
   "source": [
    "## Tuple"
   ],
   "cell_type": "markdown",
   "metadata": {}
  },
  {
   "cell_type": "code",
   "execution_count": 62,
   "metadata": {},
   "outputs": [
    {
     "output_type": "execute_result",
     "data": {
      "text/plain": [
       "('tuple',)"
      ]
     },
     "metadata": {},
     "execution_count": 62
    }
   ],
   "source": [
    "empty_tuple = 'tuple',\n",
    "empty_tuple"
   ]
  },
  {
   "source": [
    "タプルのアンパック"
   ],
   "cell_type": "markdown",
   "metadata": {}
  },
  {
   "cell_type": "code",
   "execution_count": 63,
   "metadata": {},
   "outputs": [],
   "source": [
    "sample_tuple = (1,2,3)\n",
    "a,b,c = sample_tuple"
   ]
  },
  {
   "source": [
    "## Dictionary （key:value のペア）"
   ],
   "cell_type": "markdown",
   "metadata": {}
  },
  {
   "cell_type": "code",
   "execution_count": 67,
   "metadata": {},
   "outputs": [
    {
     "output_type": "execute_result",
     "data": {
      "text/plain": [
       "{'Beckham': 7, 'Neuer': 1, 'Ronaldo': 7}"
      ]
     },
     "metadata": {},
     "execution_count": 67
    }
   ],
   "source": [
    "players = {\n",
    "    'Beckham': 7,\n",
    "    'Neuer': 1,\n",
    "    'Ronaldo': 7,\n",
    "}\n",
    "players"
   ]
  },
  {
   "cell_type": "code",
   "execution_count": 68,
   "metadata": {},
   "outputs": [
    {
     "output_type": "execute_result",
     "data": {
      "text/plain": [
       "{'Beckham': 7, 'Neuer': 1, 'Ronaldo': 3}"
      ]
     },
     "metadata": {},
     "execution_count": 68
    }
   ],
   "source": [
    "players['Ronaldo'] = 3\n",
    "players"
   ]
  },
  {
   "cell_type": "code",
   "execution_count": 71,
   "metadata": {},
   "outputs": [
    {
     "output_type": "execute_result",
     "data": {
      "text/plain": [
       "{'Beckham': 7, 'Neuer': 1, 'Ronaldo': 3, 'Hasebe': 17, 'Rooney': 10}"
      ]
     },
     "metadata": {},
     "execution_count": 71
    }
   ],
   "source": [
    "other_players = {'Hasebe': 17, 'Rooney': 10}\n",
    "players.update(other_players)\n",
    "players"
   ]
  },
  {
   "cell_type": "code",
   "execution_count": 74,
   "metadata": {},
   "outputs": [
    {
     "output_type": "execute_result",
     "data": {
      "text/plain": [
       "'Not in players'"
      ]
     },
     "metadata": {},
     "execution_count": 74
    }
   ],
   "source": [
    "players.get('Xavi', 'Not in players')"
   ]
  },
  {
   "cell_type": "code",
   "execution_count": 3,
   "metadata": {},
   "outputs": [
    {
     "output_type": "execute_result",
     "data": {
      "text/plain": [
       "['go', 'stay', 'stop']"
      ]
     },
     "metadata": {},
     "execution_count": 3
    }
   ],
   "source": [
    "signals = {'green':'go','yellow':'stay', 'red':'stop'}\n",
    "list(signals.values())"
   ]
  },
  {
   "cell_type": "code",
   "execution_count": 4,
   "metadata": {},
   "outputs": [
    {
     "output_type": "execute_result",
     "data": {
      "text/plain": [
       "[('green', 'go'), ('yellow', 'stay'), ('red', 'stop')]"
      ]
     },
     "metadata": {},
     "execution_count": 4
    }
   ],
   "source": [
    "list(signals.items())"
   ]
  },
  {
   "source": [
    "## 集合"
   ],
   "cell_type": "markdown",
   "metadata": {}
  },
  {
   "cell_type": "code",
   "execution_count": 7,
   "metadata": {},
   "outputs": [
    {
     "output_type": "execute_result",
     "data": {
      "text/plain": [
       "set()"
      ]
     },
     "metadata": {},
     "execution_count": 7
    }
   ],
   "source": [
    "empty_set = set()\n",
    "empty_set"
   ]
  },
  {
   "cell_type": "code",
   "execution_count": null,
   "metadata": {},
   "outputs": [],
   "source": []
  }
 ]
}