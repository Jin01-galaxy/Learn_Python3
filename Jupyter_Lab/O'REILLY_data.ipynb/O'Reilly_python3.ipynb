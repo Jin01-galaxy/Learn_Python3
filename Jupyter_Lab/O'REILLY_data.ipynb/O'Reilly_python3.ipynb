{
 "metadata": {
  "language_info": {
   "codemirror_mode": {
    "name": "ipython",
    "version": 3
   },
   "file_extension": ".py",
   "mimetype": "text/x-python",
   "name": "python",
   "nbconvert_exporter": "python",
   "pygments_lexer": "ipython3",
   "version": "3.8.2-final"
  },
  "orig_nbformat": 2,
  "kernelspec": {
   "name": "python38264bit382pyenv1b83e28bdf1d4a0cab3b1a48771bab22",
   "display_name": "Python 3.8.2 64-bit ('3.8.2': pyenv)",
   "language": "python"
  }
 },
 "nbformat": 4,
 "nbformat_minor": 2,
 "cells": [
  {
   "cell_type": "code",
   "execution_count": 3,
   "metadata": {},
   "outputs": [
    {
     "output_type": "stream",
     "name": "stdout",
     "text": [
      "Curly says: Ow!\n"
     ]
    }
   ],
   "source": [
    "quotes = {'Moe':'A wise guy, huh? ', \n",
    "    'Larry':'PPP', \n",
    "    'Curly':'Ow!'\n",
    "    }\n",
    "name = 'Curly'\n",
    "print(name, 'says:', quotes[name])\n"
   ]
  },
  {
   "cell_type": "code",
   "execution_count": 13,
   "metadata": {},
   "outputs": [],
   "source": [
    "poem = '''There was a Norway,\n",
    "Who casually sat in doorway,\n",
    "When I was in the sky.'''"
   ]
  },
  {
   "cell_type": "code",
   "execution_count": 14,
   "metadata": {},
   "outputs": [
    {
     "output_type": "stream",
     "name": "stdout",
     "text": [
      "There was a Norway,\nWho casually sat in doorway,\nWhen I was in the sky.\n"
     ]
    }
   ],
   "source": [
    "print(poem)"
   ]
  },
  {
   "cell_type": "code",
   "execution_count": 4,
   "metadata": {},
   "outputs": [
    {
     "output_type": "stream",
     "name": "stdout",
     "text": [
      "A man,\nA plan, \nA canal:\n"
     ]
    }
   ],
   "source": [
    "palindrome = 'A man,\\nA plan, \\nA canal:'\n",
    "print(palindrome)"
   ]
  },
  {
   "source": [
    "スライス"
   ],
   "cell_type": "markdown",
   "metadata": {}
  },
  {
   "cell_type": "code",
   "execution_count": null,
   "metadata": {},
   "outputs": [],
   "source": []
  }
 ]
}