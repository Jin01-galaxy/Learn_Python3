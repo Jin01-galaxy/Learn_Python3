{
 "cells": [
  {
   "cell_type": "code",
   "execution_count": 1,
   "metadata": {},
   "outputs": [
    {
     "name": "stdout",
     "output_type": "stream",
     "text": [
      "Collecting slackbot\n",
      "  Downloading slackbot-1.0.0-py2.py3-none-any.whl (12 kB)\n",
      "Requirement already satisfied: requests>=2.4.0 in /usr/local/var/pyenv/versions/3.8.2/lib/python3.8/site-packages (from slackbot) (2.24.0)\n",
      "Collecting websocket-client<=0.44.0,>=0.22.0\n",
      "  Downloading websocket_client-0.44.0-py2.py3-none-any.whl (199 kB)\n",
      "\u001b[K     |████████████████████████████████| 199 kB 933 kB/s eta 0:00:01\n",
      "\u001b[?25hRequirement already satisfied: six>=1.10.0 in /usr/local/var/pyenv/versions/3.8.2/lib/python3.8/site-packages (from slackbot) (1.15.0)\n",
      "Collecting slacker>=0.9.50\n",
      "  Downloading slacker-0.14.0.tar.gz (10 kB)\n",
      "Requirement already satisfied: idna<3,>=2.5 in /usr/local/var/pyenv/versions/3.8.2/lib/python3.8/site-packages (from requests>=2.4.0->slackbot) (2.10)\n",
      "Requirement already satisfied: chardet<4,>=3.0.2 in /usr/local/var/pyenv/versions/3.8.2/lib/python3.8/site-packages (from requests>=2.4.0->slackbot) (3.0.4)\n",
      "Requirement already satisfied: urllib3!=1.25.0,!=1.25.1,<1.26,>=1.21.1 in /usr/local/var/pyenv/versions/3.8.2/lib/python3.8/site-packages (from requests>=2.4.0->slackbot) (1.25.9)\n",
      "Requirement already satisfied: certifi>=2017.4.17 in /usr/local/var/pyenv/versions/3.8.2/lib/python3.8/site-packages (from requests>=2.4.0->slackbot) (2020.6.20)\n",
      "Using legacy 'setup.py install' for slacker, since package 'wheel' is not installed.\n",
      "Installing collected packages: websocket-client, slacker, slackbot\n",
      "    Running setup.py install for slacker ... \u001b[?25ldone\n",
      "\u001b[?25hSuccessfully installed slackbot-1.0.0 slacker-0.14.0 websocket-client-0.44.0\n",
      "\u001b[33mWARNING: You are using pip version 20.2.3; however, version 20.2.4 is available.\n",
      "You should consider upgrading via the '/usr/local/var/pyenv/versions/3.8.2/bin/python -m pip install --upgrade pip' command.\u001b[0m\n",
      "Note: you may need to restart the kernel to use updated packages.\n"
     ]
    }
   ],
   "source": [
    "pip install slackbot"
   ]
  },
  {
   "cell_type": "code",
   "execution_count": 14,
   "metadata": {},
   "outputs": [],
   "source": [
    "from slackbot.bot import Bot"
   ]
  },
  {
   "cell_type": "code",
   "execution_count": 15,
   "metadata": {},
   "outputs": [],
   "source": [
    "bot = Bot()"
   ]
  },
  {
   "cell_type": "code",
   "execution_count": 16,
   "metadata": {},
   "outputs": [],
   "source": [
    "from slackbot.bot import respond_to\n",
    "from slackbot.bot import listen_to"
   ]
  },
  {
   "cell_type": "code",
   "execution_count": 17,
   "metadata": {},
   "outputs": [],
   "source": [
    "bot = Bot()"
   ]
  },
  {
   "cell_type": "code",
   "execution_count": 25,
   "metadata": {},
   "outputs": [],
   "source": [
    "@respond_to('Practice')\n",
    "def sample(message):\n",
    "    message.send('This is a practice.')\n",
    "    \n",
    "@listen_to('トライアル')\n",
    "def sample2(message):\n",
    "    message.send('This is trial.')\n",
    "    \n",
    "@listen_to('Mention')\n",
    "def sample3(message):\n",
    "    message.reply('Mention to you.')"
   ]
  },
  {
   "cell_type": "code",
   "execution_count": null,
   "metadata": {},
   "outputs": [],
   "source": [
    "bot.run()"
   ]
  },
  {
   "cell_type": "code",
   "execution_count": 18,
   "metadata": {},
   "outputs": [],
   "source": [
    "from datetime import datetime"
   ]
  },
  {
   "cell_type": "code",
   "execution_count": 19,
   "metadata": {},
   "outputs": [
    {
     "data": {
      "text/plain": [
       "datetime.datetime(2020, 11, 24, 8, 36, 33, 687485)"
      ]
     },
     "execution_count": 19,
     "metadata": {},
     "output_type": "execute_result"
    }
   ],
   "source": [
    "timestamp = datetime.now()\n",
    "timestamp"
   ]
  },
  {
   "cell_type": "code",
   "execution_count": 20,
   "metadata": {},
   "outputs": [
    {
     "data": {
      "text/plain": [
       "'20/11/24'"
      ]
     },
     "execution_count": 20,
     "metadata": {},
     "output_type": "execute_result"
    }
   ],
   "source": [
    "timestamp.strftime('%y/%m/%d')"
   ]
  },
  {
   "cell_type": "code",
   "execution_count": 21,
   "metadata": {},
   "outputs": [
    {
     "data": {
      "text/plain": [
       "'08:36'"
      ]
     },
     "execution_count": 21,
     "metadata": {},
     "output_type": "execute_result"
    }
   ],
   "source": [
    "timestamp.strftime('%H:%M')"
   ]
  },
  {
   "cell_type": "code",
   "execution_count": 48,
   "metadata": {},
   "outputs": [
    {
     "name": "stderr",
     "output_type": "stream",
     "text": [
      "Exception ignored in thread started by: <bound method Bot._keepactive of <slackbot.bot.Bot object at 0x1065104c0>>\n",
      "Traceback (most recent call last):\n",
      "  File \"/usr/local/var/pyenv/versions/3.8.2/lib/python3.8/site-packages/slackbot/bot.py\", line 47, in _keepactive\n",
      "    self._client.ping()\n",
      "  File \"/usr/local/var/pyenv/versions/3.8.2/lib/python3.8/site-packages/slackbot/slackclient.py\", line 88, in ping\n",
      "    return self.send_to_websocket({'type': 'ping'})\n",
      "  File \"/usr/local/var/pyenv/versions/3.8.2/lib/python3.8/site-packages/slackbot/slackclient.py\", line 85, in send_to_websocket\n",
      "    self.websocket.send(data)\n",
      "  File \"/usr/local/var/pyenv/versions/3.8.2/lib/python3.8/site-packages/websocket/_core.py\", line 234, in send\n",
      "    return self.send_frame(frame)\n",
      "  File \"/usr/local/var/pyenv/versions/3.8.2/lib/python3.8/site-packages/websocket/_core.py\", line 259, in send_frame\n",
      "    l = self._send(data)\n",
      "  File \"/usr/local/var/pyenv/versions/3.8.2/lib/python3.8/site-packages/websocket/_core.py\", line 423, in _send\n",
      "    return send(self.sock, data)\n",
      "  File \"/usr/local/var/pyenv/versions/3.8.2/lib/python3.8/site-packages/websocket/_socket.py\", line 116, in send\n",
      "    return sock.send(data)\n",
      "  File \"/usr/local/var/pyenv/versions/3.8.2/lib/python3.8/ssl.py\", line 1173, in send\n",
      "    return self._sslobj.write(data)\n",
      "OSError: [Errno 49] Can't assign requested address\n"
     ]
    }
   ],
   "source": []
  },
  {
   "cell_type": "code",
   "execution_count": 25,
   "metadata": {},
   "outputs": [
    {
     "ename": "KeyboardInterrupt",
     "evalue": "",
     "output_type": "error",
     "traceback": [
      "\u001b[0;31m---------------------------------------------------------------------------\u001b[0m",
      "\u001b[0;31mKeyboardInterrupt\u001b[0m                         Traceback (most recent call last)",
      "\u001b[0;32m<ipython-input-25-9a1bb29968a1>\u001b[0m in \u001b[0;36m<module>\u001b[0;34m\u001b[0m\n\u001b[0;32m----> 1\u001b[0;31m \u001b[0mbot\u001b[0m\u001b[0;34m.\u001b[0m\u001b[0mrun\u001b[0m\u001b[0;34m(\u001b[0m\u001b[0;34m)\u001b[0m\u001b[0;34m\u001b[0m\u001b[0;34m\u001b[0m\u001b[0m\n\u001b[0m",
      "\u001b[0;32m/usr/local/var/pyenv/versions/3.8.2/lib/python3.8/site-packages/slackbot/bot.py\u001b[0m in \u001b[0;36mrun\u001b[0;34m(self)\u001b[0m\n\u001b[1;32m     39\u001b[0m         \u001b[0m_thread\u001b[0m\u001b[0;34m.\u001b[0m\u001b[0mstart_new_thread\u001b[0m\u001b[0;34m(\u001b[0m\u001b[0mself\u001b[0m\u001b[0;34m.\u001b[0m\u001b[0m_keepactive\u001b[0m\u001b[0;34m,\u001b[0m \u001b[0mtuple\u001b[0m\u001b[0;34m(\u001b[0m\u001b[0;34m)\u001b[0m\u001b[0;34m)\u001b[0m\u001b[0;34m\u001b[0m\u001b[0;34m\u001b[0m\u001b[0m\n\u001b[1;32m     40\u001b[0m         \u001b[0mlogger\u001b[0m\u001b[0;34m.\u001b[0m\u001b[0minfo\u001b[0m\u001b[0;34m(\u001b[0m\u001b[0;34m'connected to slack RTM api'\u001b[0m\u001b[0;34m)\u001b[0m\u001b[0;34m\u001b[0m\u001b[0;34m\u001b[0m\u001b[0m\n\u001b[0;32m---> 41\u001b[0;31m         \u001b[0mself\u001b[0m\u001b[0;34m.\u001b[0m\u001b[0m_dispatcher\u001b[0m\u001b[0;34m.\u001b[0m\u001b[0mloop\u001b[0m\u001b[0;34m(\u001b[0m\u001b[0;34m)\u001b[0m\u001b[0;34m\u001b[0m\u001b[0;34m\u001b[0m\u001b[0m\n\u001b[0m\u001b[1;32m     42\u001b[0m \u001b[0;34m\u001b[0m\u001b[0m\n\u001b[1;32m     43\u001b[0m     \u001b[0;32mdef\u001b[0m \u001b[0m_keepactive\u001b[0m\u001b[0;34m(\u001b[0m\u001b[0mself\u001b[0m\u001b[0;34m)\u001b[0m\u001b[0;34m:\u001b[0m\u001b[0;34m\u001b[0m\u001b[0;34m\u001b[0m\u001b[0m\n",
      "\u001b[0;32m/usr/local/var/pyenv/versions/3.8.2/lib/python3.8/site-packages/slackbot/dispatcher.py\u001b[0m in \u001b[0;36mloop\u001b[0;34m(self)\u001b[0m\n\u001b[1;32m    152\u001b[0m                     \u001b[0muser\u001b[0m \u001b[0;34m=\u001b[0m \u001b[0;34m[\u001b[0m\u001b[0mevent\u001b[0m\u001b[0;34m[\u001b[0m\u001b[0;34m'user'\u001b[0m\u001b[0;34m]\u001b[0m\u001b[0;34m]\u001b[0m\u001b[0;34m\u001b[0m\u001b[0;34m\u001b[0m\u001b[0m\n\u001b[1;32m    153\u001b[0m                     \u001b[0mself\u001b[0m\u001b[0;34m.\u001b[0m\u001b[0m_client\u001b[0m\u001b[0;34m.\u001b[0m\u001b[0mparse_user_data\u001b[0m\u001b[0;34m(\u001b[0m\u001b[0muser\u001b[0m\u001b[0;34m)\u001b[0m\u001b[0;34m\u001b[0m\u001b[0;34m\u001b[0m\u001b[0m\n\u001b[0;32m--> 154\u001b[0;31m             \u001b[0mtime\u001b[0m\u001b[0;34m.\u001b[0m\u001b[0msleep\u001b[0m\u001b[0;34m(\u001b[0m\u001b[0;36m1\u001b[0m\u001b[0;34m)\u001b[0m\u001b[0;34m\u001b[0m\u001b[0;34m\u001b[0m\u001b[0m\n\u001b[0m\u001b[1;32m    155\u001b[0m \u001b[0;34m\u001b[0m\u001b[0m\n\u001b[1;32m    156\u001b[0m     \u001b[0;32mdef\u001b[0m \u001b[0m_default_reply\u001b[0m\u001b[0;34m(\u001b[0m\u001b[0mself\u001b[0m\u001b[0;34m,\u001b[0m \u001b[0mmsg\u001b[0m\u001b[0;34m)\u001b[0m\u001b[0;34m:\u001b[0m\u001b[0;34m\u001b[0m\u001b[0;34m\u001b[0m\u001b[0m\n",
      "\u001b[0;31mKeyboardInterrupt\u001b[0m: "
     ]
    }
   ],
   "source": [
    "bot.run()"
   ]
  },
  {
   "cell_type": "code",
   "execution_count": 26,
   "metadata": {},
   "outputs": [
    {
     "name": "stdout",
     "output_type": "stream",
     "text": [
      "Collecting openpyxl\n",
      "  Downloading openpyxl-3.0.5-py2.py3-none-any.whl (242 kB)\n",
      "\u001b[K     |████████████████████████████████| 242 kB 976 kB/s eta 0:00:01\n",
      "\u001b[?25hCollecting jdcal\n",
      "  Downloading jdcal-1.4.1-py2.py3-none-any.whl (9.5 kB)\n",
      "Collecting et-xmlfile\n",
      "  Downloading et_xmlfile-1.0.1.tar.gz (8.4 kB)\n",
      "Using legacy 'setup.py install' for et-xmlfile, since package 'wheel' is not installed.\n",
      "Installing collected packages: jdcal, et-xmlfile, openpyxl\n",
      "    Running setup.py install for et-xmlfile ... \u001b[?25ldone\n",
      "\u001b[?25hSuccessfully installed et-xmlfile-1.0.1 jdcal-1.4.1 openpyxl-3.0.5\n",
      "\u001b[33mWARNING: You are using pip version 20.2.3; however, version 20.2.4 is available.\n",
      "You should consider upgrading via the '/usr/local/var/pyenv/versions/3.8.2/bin/python -m pip install --upgrade pip' command.\u001b[0m\n",
      "Note: you may need to restart the kernel to use updated packages.\n"
     ]
    }
   ],
   "source": [
    "pip install openpyxl"
   ]
  },
  {
   "cell_type": "code",
   "execution_count": 27,
   "metadata": {},
   "outputs": [],
   "source": [
    "import openpyxl"
   ]
  },
  {
   "cell_type": "code",
   "execution_count": 28,
   "metadata": {},
   "outputs": [],
   "source": [
    "wb = openpyxl.Workbook()"
   ]
  },
  {
   "cell_type": "code",
   "execution_count": 30,
   "metadata": {},
   "outputs": [],
   "source": [
    "ws = wb.worksheets[0]"
   ]
  },
  {
   "cell_type": "code",
   "execution_count": 36,
   "metadata": {},
   "outputs": [
    {
     "data": {
      "text/plain": [
       "(<Cell 'Sheet'.A1>, <Cell 'Sheet'.B1>, <Cell 'Sheet'.C1>)"
      ]
     },
     "execution_count": 36,
     "metadata": {},
     "output_type": "execute_result"
    }
   ],
   "source": [
    "rng = ws[\"A1:C1\"][0]\n",
    "rng"
   ]
  },
  {
   "cell_type": "code",
   "execution_count": 37,
   "metadata": {},
   "outputs": [
    {
     "data": {
      "text/plain": [
       "tuple"
      ]
     },
     "execution_count": 37,
     "metadata": {},
     "output_type": "execute_result"
    }
   ],
   "source": [
    "type(rng)"
   ]
  },
  {
   "cell_type": "code",
   "execution_count": 38,
   "metadata": {},
   "outputs": [],
   "source": [
    "rng[0].value = '日付'\n",
    "rng[1].value = '出勤時刻'\n",
    "rng[2].value = '退勤時刻'"
   ]
  },
  {
   "cell_type": "code",
   "execution_count": 39,
   "metadata": {},
   "outputs": [],
   "source": [
    "wb.save('勤怠管理.xlsx')"
   ]
  },
  {
   "cell_type": "code",
   "execution_count": 40,
   "metadata": {},
   "outputs": [],
   "source": [
    "# wb = openpyxl.load_workbook('勤怠管理.xlsx')"
   ]
  },
  {
   "cell_type": "code",
   "execution_count": 43,
   "metadata": {},
   "outputs": [],
   "source": [
    "max_row = ws.max_row"
   ]
  },
  {
   "cell_type": "code",
   "execution_count": 44,
   "metadata": {},
   "outputs": [],
   "source": [
    "timestamp = datetime.now()\n",
    "ws[max_row + 1][0].value = timestamp.strftime('%y/%m/%d')\n",
    "\n",
    "ws[max_row + 1][1].value = timestamp.strftime('%H:%M')\n",
    "\n",
    "ws[max_row + 1][2].value = timestamp.strftime('%H:%M')"
   ]
  },
  {
   "cell_type": "code",
   "execution_count": 47,
   "metadata": {},
   "outputs": [
    {
     "name": "stderr",
     "output_type": "stream",
     "text": [
      "Exception ignored in thread started by: <bound method Bot._keepactive of <slackbot.bot.Bot object at 0x10640c970>>\n",
      "Traceback (most recent call last):\n",
      "  File \"/usr/local/var/pyenv/versions/3.8.2/lib/python3.8/site-packages/slackbot/bot.py\", line 47, in _keepactive\n",
      "    self._client.ping()\n",
      "  File \"/usr/local/var/pyenv/versions/3.8.2/lib/python3.8/site-packages/slackbot/slackclient.py\", line 88, in ping\n",
      "    return self.send_to_websocket({'type': 'ping'})\n",
      "  File \"/usr/local/var/pyenv/versions/3.8.2/lib/python3.8/site-packages/slackbot/slackclient.py\", line 85, in send_to_websocket\n",
      "    self.websocket.send(data)\n",
      "  File \"/usr/local/var/pyenv/versions/3.8.2/lib/python3.8/site-packages/websocket/_core.py\", line 234, in send\n",
      "    return self.send_frame(frame)\n",
      "  File \"/usr/local/var/pyenv/versions/3.8.2/lib/python3.8/site-packages/websocket/_core.py\", line 259, in send_frame\n",
      "    l = self._send(data)\n",
      "  File \"/usr/local/var/pyenv/versions/3.8.2/lib/python3.8/site-packages/websocket/_core.py\", line 423, in _send\n",
      "    return send(self.sock, data)\n",
      "  File \"/usr/local/var/pyenv/versions/3.8.2/lib/python3.8/site-packages/websocket/_socket.py\", line 116, in send\n",
      "    return sock.send(data)\n",
      "  File \"/usr/local/var/pyenv/versions/3.8.2/lib/python3.8/ssl.py\", line 1173, in send\n",
      "    return self._sslobj.write(data)\n",
      "OSError: [Errno 49] Can't assign requested address\n"
     ]
    }
   ],
   "source": [
    "wb.save('勤怠管理.xlsx')"
   ]
  },
  {
   "cell_type": "code",
   "execution_count": 49,
   "metadata": {},
   "outputs": [],
   "source": [
    "@respond_to('出勤')\n",
    "def punch_in(message):\n",
    "    print('出勤時刻を登録')\n",
    "    timestamp = datetime.now()\n",
    "    message.send('出勤時刻は、{}です。'.format(timestamp.strftime('%H:%M')))\n",
    "    wb = openpyxl.load_workbook('勤怠管理.xlsx')\n",
    "    ws = wb.worksheets[0]\n",
    "    max_row = ws.max_row\n",
    "    ws[max_row + 1][0].value = timestamp.strftime('%y/%m/%d')\n",
    "    ws[max_row + 1][1].value = timestamp.strftime('%H:%M')\n",
    "    wb.save('勤怠管理.xlsx')\n",
    "    print('登録完了しました。')\n",
    "    \n",
    "@respond_to('退勤')\n",
    "def punch_out(message):\n",
    "    print('退勤時刻を登録')\n",
    "    timestamp = datetime.now()\n",
    "    message.send('退勤時刻は、{}です。'.format(timestamp.strftime('%H:%M')))\n",
    "    wb = openpyxl.load_workbook('勤怠管理.xlsx')\n",
    "    ws = wb.worksheets[0]\n",
    "    max_row = ws.max_row\n",
    "    ws[max_row][2].value = timestamp.strftime('%H:%M')\n",
    "    wb.save('勤怠管理.xlsx')\n",
    "    print('登録完了しました。')"
   ]
  },
  {
   "cell_type": "code",
   "execution_count": 50,
   "metadata": {},
   "outputs": [
    {
     "name": "stdout",
     "output_type": "stream",
     "text": [
      "出勤時刻を登録\n",
      "登録完了しました。\n",
      "退勤時刻を登録\n",
      "登録完了しました。\n"
     ]
    },
    {
     "ename": "KeyboardInterrupt",
     "evalue": "",
     "output_type": "error",
     "traceback": [
      "\u001b[0;31m---------------------------------------------------------------------------\u001b[0m",
      "\u001b[0;31mKeyboardInterrupt\u001b[0m                         Traceback (most recent call last)",
      "\u001b[0;32m<ipython-input-50-9a1bb29968a1>\u001b[0m in \u001b[0;36m<module>\u001b[0;34m\u001b[0m\n\u001b[0;32m----> 1\u001b[0;31m \u001b[0mbot\u001b[0m\u001b[0;34m.\u001b[0m\u001b[0mrun\u001b[0m\u001b[0;34m(\u001b[0m\u001b[0;34m)\u001b[0m\u001b[0;34m\u001b[0m\u001b[0;34m\u001b[0m\u001b[0m\n\u001b[0m",
      "\u001b[0;32m/usr/local/var/pyenv/versions/3.8.2/lib/python3.8/site-packages/slackbot/bot.py\u001b[0m in \u001b[0;36mrun\u001b[0;34m(self)\u001b[0m\n\u001b[1;32m     39\u001b[0m         \u001b[0m_thread\u001b[0m\u001b[0;34m.\u001b[0m\u001b[0mstart_new_thread\u001b[0m\u001b[0;34m(\u001b[0m\u001b[0mself\u001b[0m\u001b[0;34m.\u001b[0m\u001b[0m_keepactive\u001b[0m\u001b[0;34m,\u001b[0m \u001b[0mtuple\u001b[0m\u001b[0;34m(\u001b[0m\u001b[0;34m)\u001b[0m\u001b[0;34m)\u001b[0m\u001b[0;34m\u001b[0m\u001b[0;34m\u001b[0m\u001b[0m\n\u001b[1;32m     40\u001b[0m         \u001b[0mlogger\u001b[0m\u001b[0;34m.\u001b[0m\u001b[0minfo\u001b[0m\u001b[0;34m(\u001b[0m\u001b[0;34m'connected to slack RTM api'\u001b[0m\u001b[0;34m)\u001b[0m\u001b[0;34m\u001b[0m\u001b[0;34m\u001b[0m\u001b[0m\n\u001b[0;32m---> 41\u001b[0;31m         \u001b[0mself\u001b[0m\u001b[0;34m.\u001b[0m\u001b[0m_dispatcher\u001b[0m\u001b[0;34m.\u001b[0m\u001b[0mloop\u001b[0m\u001b[0;34m(\u001b[0m\u001b[0;34m)\u001b[0m\u001b[0;34m\u001b[0m\u001b[0;34m\u001b[0m\u001b[0m\n\u001b[0m\u001b[1;32m     42\u001b[0m \u001b[0;34m\u001b[0m\u001b[0m\n\u001b[1;32m     43\u001b[0m     \u001b[0;32mdef\u001b[0m \u001b[0m_keepactive\u001b[0m\u001b[0;34m(\u001b[0m\u001b[0mself\u001b[0m\u001b[0;34m)\u001b[0m\u001b[0;34m:\u001b[0m\u001b[0;34m\u001b[0m\u001b[0;34m\u001b[0m\u001b[0m\n",
      "\u001b[0;32m/usr/local/var/pyenv/versions/3.8.2/lib/python3.8/site-packages/slackbot/dispatcher.py\u001b[0m in \u001b[0;36mloop\u001b[0;34m(self)\u001b[0m\n\u001b[1;32m    152\u001b[0m                     \u001b[0muser\u001b[0m \u001b[0;34m=\u001b[0m \u001b[0;34m[\u001b[0m\u001b[0mevent\u001b[0m\u001b[0;34m[\u001b[0m\u001b[0;34m'user'\u001b[0m\u001b[0;34m]\u001b[0m\u001b[0;34m]\u001b[0m\u001b[0;34m\u001b[0m\u001b[0;34m\u001b[0m\u001b[0m\n\u001b[1;32m    153\u001b[0m                     \u001b[0mself\u001b[0m\u001b[0;34m.\u001b[0m\u001b[0m_client\u001b[0m\u001b[0;34m.\u001b[0m\u001b[0mparse_user_data\u001b[0m\u001b[0;34m(\u001b[0m\u001b[0muser\u001b[0m\u001b[0;34m)\u001b[0m\u001b[0;34m\u001b[0m\u001b[0;34m\u001b[0m\u001b[0m\n\u001b[0;32m--> 154\u001b[0;31m             \u001b[0mtime\u001b[0m\u001b[0;34m.\u001b[0m\u001b[0msleep\u001b[0m\u001b[0;34m(\u001b[0m\u001b[0;36m1\u001b[0m\u001b[0;34m)\u001b[0m\u001b[0;34m\u001b[0m\u001b[0;34m\u001b[0m\u001b[0m\n\u001b[0m\u001b[1;32m    155\u001b[0m \u001b[0;34m\u001b[0m\u001b[0m\n\u001b[1;32m    156\u001b[0m     \u001b[0;32mdef\u001b[0m \u001b[0m_default_reply\u001b[0m\u001b[0;34m(\u001b[0m\u001b[0mself\u001b[0m\u001b[0;34m,\u001b[0m \u001b[0mmsg\u001b[0m\u001b[0;34m)\u001b[0m\u001b[0;34m:\u001b[0m\u001b[0;34m\u001b[0m\u001b[0;34m\u001b[0m\u001b[0m\n",
      "\u001b[0;31mKeyboardInterrupt\u001b[0m: "
     ]
    }
   ],
   "source": [
    "bot.run()"
   ]
  },
  {
   "cell_type": "code",
   "execution_count": null,
   "metadata": {},
   "outputs": [],
   "source": []
  }
 ],
 "metadata": {
  "kernelspec": {
   "display_name": "Python 3.8.2 64-bit ('3.8.2': pyenv)",
   "language": "python",
   "name": "python38264bit382pyenv1b83e28bdf1d4a0cab3b1a48771bab22"
  },
  "language_info": {
   "codemirror_mode": {
    "name": "ipython",
    "version": 3
   },
   "file_extension": ".py",
   "mimetype": "text/x-python",
   "name": "python",
   "nbconvert_exporter": "python",
   "pygments_lexer": "ipython3",
   "version": "3.8.2"
  }
 },
 "nbformat": 4,
 "nbformat_minor": 4
}
