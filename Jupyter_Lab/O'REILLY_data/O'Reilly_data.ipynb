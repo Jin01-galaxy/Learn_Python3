{
 "cells": [
  {
   "cell_type": "code",
   "execution_count": 30,
   "metadata": {},
   "outputs": [],
   "source": [
    "%matplotlib inline"
   ]
  },
  {
   "cell_type": "code",
   "execution_count": 10,
   "metadata": {},
   "outputs": [
    {
     "output_type": "execute_result",
     "data": {
      "text/plain": [
       "[<matplotlib.lines.Line2D at 0x11b477610>]"
      ]
     },
     "metadata": {},
     "execution_count": 10
    },
    {
     "output_type": "display_data",
     "data": {
      "text/plain": "<Figure size 432x288 with 1 Axes>",
      "image/svg+xml": "<?xml version=\"1.0\" encoding=\"utf-8\" standalone=\"no\"?>\n<!DOCTYPE svg PUBLIC \"-//W3C//DTD SVG 1.1//EN\"\n  \"http://www.w3.org/Graphics/SVG/1.1/DTD/svg11.dtd\">\n<!-- Created with matplotlib (https://matplotlib.org/) -->\n<svg height=\"248.230625pt\" version=\"1.1\" viewBox=\"0 0 369.28125 248.230625\" width=\"369.28125pt\" xmlns=\"http://www.w3.org/2000/svg\" xmlns:xlink=\"http://www.w3.org/1999/xlink\">\n <defs>\n  <style type=\"text/css\">\n*{stroke-linecap:butt;stroke-linejoin:round;}\n  </style>\n </defs>\n <g id=\"figure_1\">\n  <g id=\"patch_1\">\n   <path d=\"M 0 248.230625 \nL 369.28125 248.230625 \nL 369.28125 0 \nL 0 0 \nz\n\" style=\"fill:none;\"/>\n  </g>\n  <g id=\"axes_1\">\n   <g id=\"patch_2\">\n    <path d=\"M 27.28125 224.64 \nL 362.08125 224.64 \nL 362.08125 7.2 \nL 27.28125 7.2 \nz\n\" style=\"fill:#ffffff;\"/>\n   </g>\n   <g id=\"matplotlib.axis_1\">\n    <g id=\"xtick_1\">\n     <g id=\"line2d_1\">\n      <defs>\n       <path d=\"M 0 0 \nL 0 3.5 \n\" id=\"mb0820ca971\" style=\"stroke:#000000;stroke-width:0.8;\"/>\n      </defs>\n      <g>\n       <use style=\"stroke:#000000;stroke-width:0.8;\" x=\"42.499432\" xlink:href=\"#mb0820ca971\" y=\"224.64\"/>\n      </g>\n     </g>\n     <g id=\"text_1\">\n      <!-- 0 -->\n      <defs>\n       <path d=\"M 31.84375 73.828125 \nQ 45.015625 73.828125 52.09375 61.625 \nQ 57.71875 51.953125 57.71875 36.625 \nQ 57.71875 21.4375 52.09375 11.578125 \nQ 45.125 -0.484375 31.5 -0.484375 \nQ 17.921875 -0.484375 10.9375 11.578125 \nQ 5.328125 21.4375 5.328125 36.71875 \nQ 5.328125 58.015625 15.625 67.71875 \nQ 22.171875 73.828125 31.84375 73.828125 \nz\nM 31.5 66.65625 \nQ 23.6875 66.65625 19.1875 58.734375 \nQ 14.59375 50.734375 14.59375 36.625 \nQ 14.59375 22.75 19.09375 14.796875 \nQ 23.640625 6.984375 31.5 6.984375 \nQ 40.921875 6.984375 45.453125 18.015625 \nQ 48.4375 25.34375 48.4375 37.109375 \nQ 48.4375 50.875 43.84375 58.734375 \nQ 39.203125 66.65625 31.5 66.65625 \nz\n\" id=\"IPAexGothic-48\"/>\n      </defs>\n      <g transform=\"translate(39.350213 239.130625)scale(0.1 -0.1)\">\n       <use xlink:href=\"#IPAexGothic-48\"/>\n      </g>\n     </g>\n    </g>\n    <g id=\"xtick_2\">\n     <g id=\"line2d_2\">\n      <g>\n       <use style=\"stroke:#000000;stroke-width:0.8;\" x=\"104.61446\" xlink:href=\"#mb0820ca971\" y=\"224.64\"/>\n      </g>\n     </g>\n     <g id=\"text_2\">\n      <!-- 10 -->\n      <defs>\n       <path d=\"M 38.484375 0.984375 \nL 29.6875 0.984375 \nL 29.6875 64.109375 \nQ 21.4375 61.28125 12.3125 59.328125 \nL 10.6875 66.109375 \nQ 23.734375 69.390625 32.90625 73.921875 \nL 38.484375 73.921875 \nz\n\" id=\"IPAexGothic-49\"/>\n      </defs>\n      <g transform=\"translate(98.316022 239.130625)scale(0.1 -0.1)\">\n       <use xlink:href=\"#IPAexGothic-49\"/>\n       <use x=\"62.988281\" xlink:href=\"#IPAexGothic-48\"/>\n      </g>\n     </g>\n    </g>\n    <g id=\"xtick_3\">\n     <g id=\"line2d_3\">\n      <g>\n       <use style=\"stroke:#000000;stroke-width:0.8;\" x=\"166.729487\" xlink:href=\"#mb0820ca971\" y=\"224.64\"/>\n      </g>\n     </g>\n     <g id=\"text_3\">\n      <!-- 20 -->\n      <defs>\n       <path d=\"M 57.171875 0.984375 \nL 6.984375 0.984375 \nL 6.984375 9.28125 \nQ 12.890625 23.046875 29.59375 34.421875 \nL 32.375 36.28125 \nQ 40.921875 42.140625 43.609375 45.40625 \nQ 46.6875 49.265625 46.6875 53.8125 \nQ 46.6875 58.9375 43.0625 62.546875 \nQ 39.0625 66.546875 32.5625 66.546875 \nQ 19.53125 66.546875 15.484375 52 \nL 7.765625 54.78125 \nQ 13.328125 73.828125 33.0625 73.828125 \nQ 43.84375 73.828125 50.25 67.4375 \nQ 55.859375 61.671875 55.859375 53.515625 \nQ 55.859375 47.46875 52.25 42.53125 \nQ 48.921875 37.75 36.96875 30.28125 \nL 34.859375 29 \nQ 19.625 19.578125 15.28125 8.890625 \nL 57.171875 8.890625 \nz\n\" id=\"IPAexGothic-50\"/>\n      </defs>\n      <g transform=\"translate(160.43105 239.130625)scale(0.1 -0.1)\">\n       <use xlink:href=\"#IPAexGothic-50\"/>\n       <use x=\"62.988281\" xlink:href=\"#IPAexGothic-48\"/>\n      </g>\n     </g>\n    </g>\n    <g id=\"xtick_4\">\n     <g id=\"line2d_4\">\n      <g>\n       <use style=\"stroke:#000000;stroke-width:0.8;\" x=\"228.844515\" xlink:href=\"#mb0820ca971\" y=\"224.64\"/>\n      </g>\n     </g>\n     <g id=\"text_4\">\n      <!-- 30 -->\n      <defs>\n       <path d=\"M 37.203125 37.796875 \nQ 54.78125 34.625 54.78125 19.96875 \nQ 54.78125 11.1875 48.875 5.5625 \nQ 42.328125 -0.484375 30.375 -0.484375 \nQ 12.453125 -0.484375 4.5 13.765625 \nL 11.8125 17.671875 \nQ 17.328125 6.890625 30.28125 6.890625 \nQ 37.890625 6.890625 42.09375 10.796875 \nQ 46.09375 14.5 46.09375 20.171875 \nQ 46.09375 26.859375 40.09375 30.90625 \nQ 34.625 34.578125 25.6875 34.578125 \nL 21.296875 34.578125 \nL 21.296875 41.703125 \nL 25.875 41.703125 \nQ 34.859375 41.703125 39.59375 45.125 \nQ 44.671875 48.734375 44.671875 54.828125 \nQ 44.671875 61.46875 38.96875 64.65625 \nQ 35.296875 66.84375 30.171875 66.84375 \nQ 19.34375 66.84375 14.109375 55.90625 \nL 6.78125 59.421875 \nQ 14.015625 73.828125 30.28125 73.828125 \nQ 40.578125 73.828125 46.96875 68.65625 \nQ 53.375 63.578125 53.375 55.21875 \nQ 53.375 47.3125 47.171875 42.28125 \nQ 43.171875 39.0625 37.203125 38.1875 \nz\n\" id=\"IPAexGothic-51\"/>\n      </defs>\n      <g transform=\"translate(222.546078 239.130625)scale(0.1 -0.1)\">\n       <use xlink:href=\"#IPAexGothic-51\"/>\n       <use x=\"62.988281\" xlink:href=\"#IPAexGothic-48\"/>\n      </g>\n     </g>\n    </g>\n    <g id=\"xtick_5\">\n     <g id=\"line2d_5\">\n      <g>\n       <use style=\"stroke:#000000;stroke-width:0.8;\" x=\"290.959543\" xlink:href=\"#mb0820ca971\" y=\"224.64\"/>\n      </g>\n     </g>\n     <g id=\"text_5\">\n      <!-- 40 -->\n      <defs>\n       <path d=\"M 59.578125 18.109375 \nL 47.796875 18.109375 \nL 47.796875 0.984375 \nL 39.796875 0.984375 \nL 39.796875 18.109375 \nL 3.078125 18.109375 \nL 3.078125 26.125 \nL 38.375 73.09375 \nL 47.796875 73.09375 \nL 47.796875 25.53125 \nL 59.578125 25.53125 \nz\nM 40.28125 64.203125 \nL 39.984375 64.203125 \nQ 35.59375 57.125 31.296875 51.3125 \nL 11.859375 25.53125 \nL 39.796875 25.53125 \nL 39.796875 49.125 \nQ 39.796875 54.390625 40.28125 64.203125 \nz\n\" id=\"IPAexGothic-52\"/>\n      </defs>\n      <g transform=\"translate(284.661106 239.130625)scale(0.1 -0.1)\">\n       <use xlink:href=\"#IPAexGothic-52\"/>\n       <use x=\"62.988281\" xlink:href=\"#IPAexGothic-48\"/>\n      </g>\n     </g>\n    </g>\n    <g id=\"xtick_6\">\n     <g id=\"line2d_6\">\n      <g>\n       <use style=\"stroke:#000000;stroke-width:0.8;\" x=\"353.074571\" xlink:href=\"#mb0820ca971\" y=\"224.64\"/>\n      </g>\n     </g>\n     <g id=\"text_6\">\n      <!-- 50 -->\n      <defs>\n       <path d=\"M 18.40625 40.671875 \nQ 25.53125 46.296875 33.9375 46.296875 \nQ 44 46.296875 50.640625 39.5 \nQ 56.84375 33.015625 56.84375 23.390625 \nQ 56.84375 14.65625 51.515625 8.015625 \nQ 44.828125 -0.484375 31.734375 -0.484375 \nQ 14.984375 -0.484375 7.328125 12.25 \nL 14.65625 16.0625 \nQ 20.453125 6.78125 31.453125 6.78125 \nQ 38.53125 6.78125 43.265625 11.1875 \nQ 48.140625 15.828125 48.140625 23.484375 \nQ 48.140625 30.71875 43.84375 35.015625 \nQ 39.359375 39.5 32.125 39.5 \nQ 21.96875 39.5 16.75 31.6875 \nL 9.234375 32.671875 \nL 13.8125 72.40625 \nL 53.21875 72.40625 \nL 53.21875 64.890625 \nL 20.953125 64.890625 \nL 17.71875 40.671875 \nz\n\" id=\"IPAexGothic-53\"/>\n      </defs>\n      <g transform=\"translate(346.776133 239.130625)scale(0.1 -0.1)\">\n       <use xlink:href=\"#IPAexGothic-53\"/>\n       <use x=\"62.988281\" xlink:href=\"#IPAexGothic-48\"/>\n      </g>\n     </g>\n    </g>\n   </g>\n   <g id=\"matplotlib.axis_2\">\n    <g id=\"ytick_1\">\n     <g id=\"line2d_7\">\n      <defs>\n       <path d=\"M 0 0 \nL -3.5 0 \n\" id=\"m31d3f036be\" style=\"stroke:#000000;stroke-width:0.8;\"/>\n      </defs>\n      <g>\n       <use style=\"stroke:#000000;stroke-width:0.8;\" x=\"27.28125\" xlink:href=\"#m31d3f036be\" y=\"222.897776\"/>\n      </g>\n     </g>\n     <g id=\"text_7\">\n      <!-- −4 -->\n      <defs>\n       <path d=\"M 6.5 34.71875 \nL 61.28125 34.71875 \nL 61.28125 29 \nL 6.5 29 \nz\n\" id=\"IPAexGothic-8722\"/>\n      </defs>\n      <g transform=\"translate(7.2 226.643089)scale(0.1 -0.1)\">\n       <use xlink:href=\"#IPAexGothic-8722\"/>\n       <use x=\"67.822266\" xlink:href=\"#IPAexGothic-52\"/>\n      </g>\n     </g>\n    </g>\n    <g id=\"ytick_2\">\n     <g id=\"line2d_8\">\n      <g>\n       <use style=\"stroke:#000000;stroke-width:0.8;\" x=\"27.28125\" xlink:href=\"#m31d3f036be\" y=\"181.773925\"/>\n      </g>\n     </g>\n     <g id=\"text_8\">\n      <!-- −2 -->\n      <g transform=\"translate(7.2 185.519238)scale(0.1 -0.1)\">\n       <use xlink:href=\"#IPAexGothic-8722\"/>\n       <use x=\"67.822266\" xlink:href=\"#IPAexGothic-50\"/>\n      </g>\n     </g>\n    </g>\n    <g id=\"ytick_3\">\n     <g id=\"line2d_9\">\n      <g>\n       <use style=\"stroke:#000000;stroke-width:0.8;\" x=\"27.28125\" xlink:href=\"#m31d3f036be\" y=\"140.650074\"/>\n      </g>\n     </g>\n     <g id=\"text_9\">\n      <!-- 0 -->\n      <g transform=\"translate(13.982812 144.395387)scale(0.1 -0.1)\">\n       <use xlink:href=\"#IPAexGothic-48\"/>\n      </g>\n     </g>\n    </g>\n    <g id=\"ytick_4\">\n     <g id=\"line2d_10\">\n      <g>\n       <use style=\"stroke:#000000;stroke-width:0.8;\" x=\"27.28125\" xlink:href=\"#m31d3f036be\" y=\"99.526223\"/>\n      </g>\n     </g>\n     <g id=\"text_10\">\n      <!-- 2 -->\n      <g transform=\"translate(13.982812 103.271536)scale(0.1 -0.1)\">\n       <use xlink:href=\"#IPAexGothic-50\"/>\n      </g>\n     </g>\n    </g>\n    <g id=\"ytick_5\">\n     <g id=\"line2d_11\">\n      <g>\n       <use style=\"stroke:#000000;stroke-width:0.8;\" x=\"27.28125\" xlink:href=\"#m31d3f036be\" y=\"58.402372\"/>\n      </g>\n     </g>\n     <g id=\"text_11\">\n      <!-- 4 -->\n      <g transform=\"translate(13.982812 62.147685)scale(0.1 -0.1)\">\n       <use xlink:href=\"#IPAexGothic-52\"/>\n      </g>\n     </g>\n    </g>\n    <g id=\"ytick_6\">\n     <g id=\"line2d_12\">\n      <g>\n       <use style=\"stroke:#000000;stroke-width:0.8;\" x=\"27.28125\" xlink:href=\"#m31d3f036be\" y=\"17.278521\"/>\n      </g>\n     </g>\n     <g id=\"text_12\">\n      <!-- 6 -->\n      <defs>\n       <path d=\"M 16.5 36.375 \nQ 23.578125 46.578125 34.90625 46.578125 \nQ 45.40625 46.578125 51.8125 39.265625 \nQ 57.421875 32.90625 57.421875 23.78125 \nQ 57.421875 13.8125 51.125 6.78125 \nQ 44.578125 -0.484375 34.03125 -0.484375 \nQ 21.484375 -0.484375 14.40625 9.078125 \nQ 7.515625 18.40625 7.515625 34.8125 \nQ 7.515625 53.515625 15.828125 64.203125 \nQ 23.34375 73.828125 35.5 73.828125 \nQ 49.859375 73.828125 56.390625 62.890625 \nL 49.21875 58.984375 \nQ 45.21875 66.65625 35.9375 66.65625 \nQ 17.484375 66.65625 16.109375 36.375 \nz\nM 33.453125 39.796875 \nQ 26.3125 39.796875 21.625 34.46875 \nQ 17.4375 29.6875 17.4375 24.078125 \nQ 17.4375 18.0625 21.140625 13.1875 \nQ 26.125 6.6875 33.734375 6.6875 \nQ 41.703125 6.6875 45.953125 13.1875 \nQ 48.828125 17.625 48.828125 23.484375 \nQ 48.828125 30.375 45.015625 34.8125 \nQ 40.625 39.796875 33.453125 39.796875 \nz\n\" id=\"IPAexGothic-54\"/>\n      </defs>\n      <g transform=\"translate(13.982812 21.023834)scale(0.1 -0.1)\">\n       <use xlink:href=\"#IPAexGothic-54\"/>\n      </g>\n     </g>\n    </g>\n   </g>\n   <g id=\"line2d_13\">\n    <path clip-path=\"url(#pcd54f30394)\" d=\"M 42.499432 158.509339 \nL 48.710935 164.208148 \nL 54.922437 192.742094 \nL 61.13394 193.644802 \nL 67.345443 129.429396 \nL 73.556946 88.008132 \nL 79.768449 86.393154 \nL 85.979951 66.099845 \nL 92.191454 67.301226 \nL 98.402957 46.069102 \nL 104.61446 37.049512 \nL 110.825962 35.912606 \nL 117.037465 17.083636 \nL 123.248968 32.707342 \nL 129.460471 26.905605 \nL 135.671974 48.404546 \nL 141.883476 67.212745 \nL 148.094979 74.350892 \nL 154.306482 78.051723 \nL 160.517985 104.32925 \nL 166.729487 116.005739 \nL 172.94099 153.284618 \nL 179.152493 173.964254 \nL 185.363996 181.01132 \nL 191.575499 185.380237 \nL 197.787001 153.076053 \nL 203.998504 156.205861 \nL 210.210007 171.210487 \nL 216.42151 214.756364 \nL 222.633013 208.839067 \nL 228.844515 204.421371 \nL 235.056018 212.318148 \nL 241.267521 199.807318 \nL 247.479024 205.107712 \nL 253.690526 204.17479 \nL 259.902029 176.651001 \nL 266.113532 190.727367 \nL 272.325035 180.405087 \nL 278.536538 177.310628 \nL 284.74804 171.341192 \nL 290.959543 199.182625 \nL 297.171046 205.069663 \nL 303.382549 188.039954 \nL 309.594051 166.475296 \nL 315.805554 149.794565 \nL 322.017057 135.405301 \nL 328.22856 125.576137 \nL 334.440063 121.475766 \nL 340.651565 138.36602 \nL 346.863068 124.668515 \n\" style=\"fill:none;stroke:#1f77b4;stroke-linecap:square;stroke-width:1.5;\"/>\n   </g>\n   <g id=\"patch_3\">\n    <path d=\"M 27.28125 224.64 \nL 27.28125 7.2 \n\" style=\"fill:none;stroke:#000000;stroke-linecap:square;stroke-linejoin:miter;stroke-width:0.8;\"/>\n   </g>\n   <g id=\"patch_4\">\n    <path d=\"M 362.08125 224.64 \nL 362.08125 7.2 \n\" style=\"fill:none;stroke:#000000;stroke-linecap:square;stroke-linejoin:miter;stroke-width:0.8;\"/>\n   </g>\n   <g id=\"patch_5\">\n    <path d=\"M 27.28125 224.64 \nL 362.08125 224.64 \n\" style=\"fill:none;stroke:#000000;stroke-linecap:square;stroke-linejoin:miter;stroke-width:0.8;\"/>\n   </g>\n   <g id=\"patch_6\">\n    <path d=\"M 27.28125 7.2 \nL 362.08125 7.2 \n\" style=\"fill:none;stroke:#000000;stroke-linecap:square;stroke-linejoin:miter;stroke-width:0.8;\"/>\n   </g>\n  </g>\n </g>\n <defs>\n  <clipPath id=\"pcd54f30394\">\n   <rect height=\"217.44\" width=\"334.8\" x=\"27.28125\" y=\"7.2\"/>\n  </clipPath>\n </defs>\n</svg>\n",
      "image/png": "[encoded data removed]"
     },
     "metadata": {
      "needs_background": "light"
     }
    }
   ],
   "source": [
    "import numpy as np\n",
    "import pandas as pd\n",
    "import matplotlib.pyplot as plt\n",
    "plt.plot(np.random.randn(50).cumsum())"
   ]
  },
  {
   "cell_type": "code",
   "execution_count": 15,
   "metadata": {},
   "outputs": [],
   "source": [
    "a = [1,2,3]\n",
    "b = a"
   ]
  },
  {
   "cell_type": "code",
   "execution_count": 16,
   "metadata": {},
   "outputs": [
    {
     "output_type": "execute_result",
     "data": {
      "text/plain": [
       "[1, 2, 3, 4]"
      ]
     },
     "metadata": {},
     "execution_count": 16
    }
   ],
   "source": [
    "a.append(4)\n",
    "b"
   ]
  },
  {
   "cell_type": "code",
   "execution_count": 17,
   "metadata": {},
   "outputs": [],
   "source": [
    "def append_element(some_list, element):\n",
    "    some_list.append(element)"
   ]
  },
  {
   "cell_type": "code",
   "execution_count": 18,
   "metadata": {},
   "outputs": [
    {
     "output_type": "execute_result",
     "data": {
      "text/plain": [
       "[1, 2, 3, 4]"
      ]
     },
     "metadata": {},
     "execution_count": 18
    }
   ],
   "source": [
    "data = [1,2,3]\n",
    "append_element(data, 4)\n",
    "data"
   ]
  },
  {
   "cell_type": "code",
   "execution_count": 19,
   "metadata": {},
   "outputs": [
    {
     "output_type": "execute_result",
     "data": {
      "text/plain": [
       "<function str.split(sep=None, maxsplit=-1)>"
      ]
     },
     "metadata": {},
     "execution_count": 19
    }
   ],
   "source": [
    "a = 'Python'\n",
    "getattr(a, 'split')"
   ]
  },
  {
   "cell_type": "code",
   "execution_count": 20,
   "metadata": {},
   "outputs": [],
   "source": [
    "def isiterable(obj):\n",
    "    try:\n",
    "        iter(obj)\n",
    "        return True\n",
    "    except TypeError:\n",
    "        return False"
   ]
  },
  {
   "cell_type": "code",
   "execution_count": 21,
   "metadata": {},
   "outputs": [
    {
     "output_type": "execute_result",
     "data": {
      "text/plain": [
       "True"
      ]
     },
     "metadata": {},
     "execution_count": 21
    }
   ],
   "source": [
    "isiterable('a string')"
   ]
  },
  {
   "cell_type": "code",
   "execution_count": 22,
   "metadata": {},
   "outputs": [
    {
     "output_type": "execute_result",
     "data": {
      "text/plain": [
       "False"
      ]
     },
     "metadata": {},
     "execution_count": 22
    }
   ],
   "source": [
    "isiterable(4)"
   ]
  },
  {
   "cell_type": "code",
   "execution_count": 23,
   "metadata": {},
   "outputs": [],
   "source": [
    "import some_module"
   ]
  },
  {
   "cell_type": "code",
   "execution_count": 26,
   "metadata": {},
   "outputs": [
    {
     "output_type": "execute_result",
     "data": {
      "text/plain": [
       "7"
      ]
     },
     "metadata": {},
     "execution_count": 26
    }
   ],
   "source": [
    "result = some_module.f(5)\n",
    "pi = some_module.PI\n",
    "result"
   ]
  },
  {
   "cell_type": "code",
   "execution_count": 28,
   "metadata": {},
   "outputs": [
    {
     "output_type": "execute_result",
     "data": {
      "text/plain": [
       "9"
      ]
     },
     "metadata": {},
     "execution_count": 28
    }
   ],
   "source": [
    "g_test = some_module.g(1,8)\n",
    "g_test"
   ]
  },
  {
   "cell_type": "code",
   "execution_count": 29,
   "metadata": {},
   "outputs": [
    {
     "output_type": "execute_result",
     "data": {
      "text/plain": [
       "['Python3', (3, 4), [4, 5]]"
      ]
     },
     "metadata": {},
     "execution_count": 29
    }
   ],
   "source": [
    "a_list = ['Python3',2,[4, 5]]\n",
    "a_list[1] = (3,4)\n",
    "a_list"
   ]
  },
  {
   "cell_type": "code",
   "execution_count": 48,
   "metadata": {},
   "outputs": [],
   "source": [
    "template = '{0:.2f}ｎ\u001e{1:s} are worth US${2:d}'"
   ]
  },
  {
   "cell_type": "code",
   "execution_count": 49,
   "metadata": {},
   "outputs": [
    {
     "output_type": "execute_result",
     "data": {
      "text/plain": [
       "'4.56 Argent loll are worth US$1'"
      ]
     },
     "metadata": {},
     "execution_count": 49
    }
   ],
   "source": [
    "template.format(4.5560, 'Argent loll', 1ﾝｎ"
   ]
  },
  {
   "cell_type": "code",
   "execution_count": 56,
   "metadata": {},
   "outputs": [],
   "source": [
    "s = '3.141519'"
   ]
  },
  {
   "cell_type": "code",
   "execution_count": 58,
   "metadata": {},
   "outputs": [
    {
     "output_type": "execute_result",
     "data": {
      "text/plain": [
       "float"
      ]
     },
     "metadata": {},
     "execution_count": 58
    }
   ],
   "source": [
    "fval = float(s)\n",
    "type(fval)"
   ]
  },
  {
   "cell_type": "code",
   "execution_count": 64,
   "metadata": {},
   "outputs": [],
   "source": [
    "def add_and_maybe_multiply(a,b,c=None):\n",
    "    result = a + b\n",
    "    if c is not None:\n",
    "        result = result * c\n",
    "    return result"
   ]
  },
  {
   "cell_type": "code",
   "execution_count": 67,
   "metadata": {},
   "outputs": [
    {
     "output_type": "execute_result",
     "data": {
      "text/plain": [
       "30"
      ]
     },
     "metadata": {},
     "execution_count": 67
    }
   ],
   "source": [
    "add_and_maybe_multiply(1,2,10)"
   ]
  },
  {
   "cell_type": "code",
   "execution_count": 68,
   "metadata": {},
   "outputs": [],
   "source": [
    "from datetime import datetime, date, time"
   ]
  },
  {
   "cell_type": "code",
   "execution_count": 69,
   "metadata": {},
   "outputs": [],
   "source": [
    "dt = datetime(2020,12,25,18,20,30)"
   ]
  },
  {
   "cell_type": "code",
   "execution_count": 72,
   "metadata": {},
   "outputs": [
    {
     "output_type": "execute_result",
     "data": {
      "text/plain": [
       "30"
      ]
     },
     "metadata": {},
     "execution_count": 72
    }
   ],
   "source": [
    "dt.second"
   ]
  },
  {
   "cell_type": "code",
   "execution_count": 77,
   "metadata": {},
   "outputs": [
    {
     "output_type": "execute_result",
     "data": {
      "text/plain": [
       "'12/25_2020 18:20'"
      ]
     },
     "metadata": {},
     "execution_count": 77
    }
   ],
   "source": [
    "dt.strftime('%m/%d_%Y %H:%M')"
   ]
  },
  {
   "cell_type": "code",
   "execution_count": 78,
   "metadata": {},
   "outputs": [
    {
     "output_type": "execute_result",
     "data": {
      "text/plain": [
       "datetime.datetime(2020, 12, 31, 0, 0)"
      ]
     },
     "metadata": {},
     "execution_count": 78
    }
   ],
   "source": [
    "datetime.strptime('20201231','%Y%m%d')"
   ]
  },
  {
   "cell_type": "code",
   "execution_count": 79,
   "metadata": {},
   "outputs": [
    {
     "output_type": "execute_result",
     "data": {
      "text/plain": [
       "datetime.datetime(2020, 12, 25, 18, 0)"
      ]
     },
     "metadata": {},
     "execution_count": 79
    }
   ],
   "source": [
    "dt.replace(minute=0,second=0)"
   ]
  },
  {
   "cell_type": "code",
   "execution_count": 80,
   "metadata": {},
   "outputs": [],
   "source": [
    "dt2 = datetime(2011,11,15,22,30)"
   ]
  },
  {
   "cell_type": "code",
   "execution_count": 84,
   "metadata": {},
   "outputs": [
    {
     "output_type": "execute_result",
     "data": {
      "text/plain": [
       "datetime.timedelta(days=-3328, seconds=14970)"
      ]
     },
     "metadata": {},
     "execution_count": 84
    }
   ],
   "source": [
    "delta = dt2 - dt\n",
    "delta"
   ]
  },
  {
   "cell_type": "code",
   "execution_count": 86,
   "metadata": {},
   "outputs": [
    {
     "output_type": "stream",
     "name": "stdout",
     "text": [
      "It's negative\n"
     ]
    }
   ],
   "source": [
    "x = -2\n",
    "if x < 0:\n",
    "    print('It\\'s negative')"
   ]
  },
  {
   "cell_type": "code",
   "execution_count": 2,
   "metadata": {},
   "outputs": [
    {
     "output_type": "stream",
     "name": "stdout",
     "text": [
      "Made it\n"
     ]
    }
   ],
   "source": [
    "a = 5\n",
    "b = 7\n",
    "c = 8\n",
    "d = 4\n",
    "if a < b or c < d:\n",
    "    print('Made it')"
   ]
  },
  {
   "cell_type": "code",
   "execution_count": 9,
   "metadata": {},
   "outputs": [
    {
     "output_type": "stream",
     "name": "stdout",
     "text": [
      "7\n"
     ]
    }
   ],
   "source": [
    "sequence = [1,2,None, 4, None]\n",
    "total = 0\n",
    "for value in sequence:\n",
    "    if value is None:\n",
    "        continue\n",
    "    total += value\n",
    "print(total)"
   ]
  },
  {
   "cell_type": "code",
   "execution_count": 10,
   "metadata": {},
   "outputs": [
    {
     "output_type": "stream",
     "name": "stdout",
     "text": [
      "13\n"
     ]
    }
   ],
   "source": [
    "sequence = [1,2,0,4,6,5,7,2,1]\n",
    "total_until_5 = 0\n",
    "for value in sequence:\n",
    "    if value == 5:\n",
    "        break\n",
    "    total_until_5 += value\n",
    "print(total_until_5)"
   ]
  },
  {
   "cell_type": "code",
   "execution_count": 11,
   "metadata": {},
   "outputs": [
    {
     "output_type": "stream",
     "name": "stdout",
     "text": [
      "0 0\n1 0\n1 1\n2 0\n2 1\n2 2\n3 0\n3 1\n3 2\n3 3\n"
     ]
    }
   ],
   "source": [
    "for i in range(4):\n",
    "    for j in range(4):\n",
    "        # if j > i:\n",
    "        #     break\n",
    "        print(i, j)"
   ]
  },
  {
   "cell_type": "code",
   "execution_count": 5,
   "metadata": {},
   "outputs": [
    {
     "output_type": "execute_result",
     "data": {
      "text/plain": [
       "[20, 18, 16, 14, 12]"
      ]
     },
     "metadata": {},
     "execution_count": 5
    }
   ],
   "source": [
    "list(range(20,10,-2))"
   ]
  },
  {
   "cell_type": "code",
   "execution_count": 17,
   "metadata": {},
   "outputs": [
    {
     "output_type": "stream",
     "name": "stdout",
     "text": [
      "15\n"
     ]
    }
   ],
   "source": [
    "sum = 0\n",
    "for i in range(16):\n",
    "    if i % 3 == 0 and i % 5 == 0:\n",
    "        sum += i \n",
    "print(sum)"
   ]
  },
  {
   "cell_type": "code",
   "execution_count": 19,
   "metadata": {},
   "outputs": [
    {
     "output_type": "execute_result",
     "data": {
      "text/plain": [
       "'Negative'"
      ]
     },
     "metadata": {},
     "execution_count": 19
    }
   ],
   "source": [
    "x = -5\n",
    "'Non-negative' if x >= 0 else 'Negative' "
   ]
  },
  {
   "cell_type": "code",
   "execution_count": 22,
   "metadata": {},
   "outputs": [
    {
     "output_type": "execute_result",
     "data": {
      "text/plain": [
       "((4, 5, 6), (7, 8))"
      ]
     },
     "metadata": {},
     "execution_count": 22
    }
   ],
   "source": [
    "nested_tup = (4,5,6),(7,8)\n",
    "nested_tup"
   ]
  },
  {
   "cell_type": "code",
   "execution_count": 10,
   "metadata": {},
   "outputs": [
    {
     "output_type": "stream",
     "name": "stdout",
     "text": [
      "('tp', [1, 2], True)\n"
     ]
    }
   ],
   "source": [
    "tup =tuple(['tp', [1,2],True])\n",
    "print(tup)"
   ]
  },
  {
   "cell_type": "code",
   "execution_count": 14,
   "metadata": {},
   "outputs": [
    {
     "output_type": "execute_result",
     "data": {
      "text/plain": [
       "5"
      ]
     },
     "metadata": {},
     "execution_count": 14
    }
   ],
   "source": [
    "tup = (4,5,6)\n",
    "a, b, c = tup\n",
    "b"
   ]
  },
  {
   "cell_type": "code",
   "execution_count": 17,
   "metadata": {},
   "outputs": [
    {
     "output_type": "stream",
     "name": "stdout",
     "text": [
      "a=1, b=2, c=3\na=4, b=5, c=6\na=7, b=8, c=9\n"
     ]
    }
   ],
   "source": [
    "seq = [(1,2,3), (4,5,6), (7,8,9)]\n",
    "for a, b, c in seq:\n",
    "    print('a={0}, b={1}, c={2}'.format(a,b,c))"
   ]
  },
  {
   "cell_type": "code",
   "execution_count": 19,
   "metadata": {},
   "outputs": [
    {
     "output_type": "execute_result",
     "data": {
      "text/plain": [
       "4"
      ]
     },
     "metadata": {},
     "execution_count": 19
    }
   ],
   "source": [
    "a = (1,2,2,2,3,4,2)\n",
    "a.count(2)"
   ]
  },
  {
   "source": [
    "# List"
   ],
   "cell_type": "markdown",
   "metadata": {}
  },
  {
   "cell_type": "code",
   "execution_count": 12,
   "metadata": {},
   "outputs": [],
   "source": [
    "a_list = [2,3,7,None]\n",
    "tup = ('Nor','Bar','Pes')\n",
    "b_list = list(tup)"
   ]
  },
  {
   "cell_type": "code",
   "execution_count": 13,
   "metadata": {},
   "outputs": [
    {
     "output_type": "execute_result",
     "data": {
      "text/plain": [
       "['Nor', 'WiiU', 'Pes']"
      ]
     },
     "metadata": {},
     "execution_count": 13
    }
   ],
   "source": [
    "b_list[1] = 'WiiU'\n",
    "b_list"
   ]
  },
  {
   "cell_type": "code",
   "execution_count": 14,
   "metadata": {},
   "outputs": [
    {
     "output_type": "execute_result",
     "data": {
      "text/plain": [
       "['Nor', 'WiiU', 'Pes', 'dwarf']"
      ]
     },
     "metadata": {},
     "execution_count": 14
    }
   ],
   "source": [
    "b_list.append('dwarf')\n",
    "b_list"
   ]
  },
  {
   "cell_type": "code",
   "execution_count": 15,
   "metadata": {},
   "outputs": [
    {
     "output_type": "execute_result",
     "data": {
      "text/plain": [
       "['Nor', 'Zelda', 'WiiU', 'Pes', 'dwarf']"
      ]
     },
     "metadata": {},
     "execution_count": 15
    }
   ],
   "source": [
    "b_list.insert(1, 'Zelda')\n",
    "b_list"
   ]
  },
  {
   "cell_type": "code",
   "execution_count": 16,
   "metadata": {},
   "outputs": [
    {
     "output_type": "execute_result",
     "data": {
      "text/plain": [
       "['Nor', 'Zelda', 'Pes', 'dwarf']"
      ]
     },
     "metadata": {},
     "execution_count": 16
    }
   ],
   "source": [
    "b_list.pop(2)\n",
    "b_list"
   ]
  },
  {
   "cell_type": "code",
   "execution_count": 17,
   "metadata": {},
   "outputs": [
    {
     "output_type": "execute_result",
     "data": {
      "text/plain": [
       "['Nor', 'Zelda', 'dwarf']"
      ]
     },
     "metadata": {},
     "execution_count": 17
    }
   ],
   "source": [
    "b_list.remove('Pes')\n",
    "b_list"
   ]
  },
  {
   "cell_type": "code",
   "execution_count": 18,
   "metadata": {},
   "outputs": [
    {
     "output_type": "execute_result",
     "data": {
      "text/plain": [
       "True"
      ]
     },
     "metadata": {},
     "execution_count": 18
    }
   ],
   "source": [
    "'Zelda' in b_list"
   ]
  },
  {
   "cell_type": "code",
   "execution_count": 19,
   "metadata": {},
   "outputs": [
    {
     "output_type": "execute_result",
     "data": {
      "text/plain": [
       "[4, None, 'KKK', 7, 8, (2, 3)]"
      ]
     },
     "metadata": {},
     "execution_count": 19
    }
   ],
   "source": [
    "x = [4,None, 'KKK']\n",
    "x.extend([7,8,(2,3)])\n",
    "x"
   ]
  },
  {
   "cell_type": "code",
   "execution_count": 20,
   "metadata": {},
   "outputs": [
    {
     "output_type": "execute_result",
     "data": {
      "text/plain": [
       "[1, 2, 3, 5, 7]"
      ]
     },
     "metadata": {},
     "execution_count": 20
    }
   ],
   "source": [
    "a = [7,2,5,1,3]\n",
    "a.sort()\n",
    "a"
   ]
  },
  {
   "cell_type": "code",
   "execution_count": 22,
   "metadata": {},
   "outputs": [
    {
     "output_type": "execute_result",
     "data": {
      "text/plain": [
       "['He', 'saw', 'small', 'foxes', 'galaxy']"
      ]
     },
     "metadata": {},
     "execution_count": 22
    }
   ],
   "source": [
    "b = ['saw','small', 'He', 'foxes', 'galaxy']\n",
    "b.sort(key=len)\n",
    "b"
   ]
  },
  {
   "cell_type": "code",
   "execution_count": 15,
   "metadata": {},
   "outputs": [],
   "source": [
    "seq = [1,2,3,4,5,6,7,8,9]"
   ]
  },
  {
   "cell_type": "code",
   "execution_count": 8,
   "metadata": {},
   "outputs": [
    {
     "output_type": "execute_result",
     "data": {
      "text/plain": [
       "[2, 3, 4, 5]"
      ]
     },
     "metadata": {},
     "execution_count": 8
    }
   ],
   "source": [
    "seq[1:5]"
   ]
  },
  {
   "cell_type": "code",
   "execution_count": 9,
   "metadata": {},
   "outputs": [
    {
     "output_type": "execute_result",
     "data": {
      "text/plain": [
       "[1, 2, 3, 0, 0, 5, 6, 7, 8, 9]"
      ]
     },
     "metadata": {},
     "execution_count": 9
    }
   ],
   "source": [
    "seq[3:4] = [0, 0]\n",
    "seq"
   ]
  },
  {
   "cell_type": "code",
   "execution_count": 16,
   "metadata": {},
   "outputs": [
    {
     "output_type": "execute_result",
     "data": {
      "text/plain": [
       "[9, 8, 7, 6, 5, 4, 3, 2, 1]"
      ]
     },
     "metadata": {},
     "execution_count": 16
    }
   ],
   "source": [
    "seq[::-1]"
   ]
  },
  {
   "source": [
    "### ディクショナリとenumerate関数を使ってインデックス値のマップをつくる"
   ],
   "cell_type": "markdown",
   "metadata": {}
  },
  {
   "cell_type": "code",
   "execution_count": 6,
   "metadata": {},
   "outputs": [
    {
     "output_type": "execute_result",
     "data": {
      "text/plain": [
       "{0: 'A', 1: 'B', 2: 'C'}"
      ]
     },
     "metadata": {},
     "execution_count": 6
    }
   ],
   "source": [
    "some_list = ['A', 'B', 'C']\n",
    "mapping = {}\n",
    "for i,v in enumerate(some_list):\n",
    "    mapping[i] = v\n",
    "mapping\n"
   ]
  },
  {
   "cell_type": "code",
   "execution_count": 2,
   "metadata": {},
   "outputs": [
    {
     "output_type": "execute_result",
     "data": {
      "text/plain": [
       "['3', 'P', 'h', 'n', 'o', 't', 'y']"
      ]
     },
     "metadata": {},
     "execution_count": 2
    }
   ],
   "source": [
    "sorted('Python3')"
   ]
  },
  {
   "source": [
    "### Zip関数"
   ],
   "cell_type": "markdown",
   "metadata": {}
  },
  {
   "cell_type": "code",
   "execution_count": 4,
   "metadata": {},
   "outputs": [
    {
     "output_type": "execute_result",
     "data": {
      "text/plain": [
       "[(1, 'Ball'), (2, 'Goal'), (3, 'Ground')]"
      ]
     },
     "metadata": {},
     "execution_count": 4
    }
   ],
   "source": [
    "seq1 = [1,2,3]\n",
    "seq2 = ['Ball', 'Goal', 'Ground']\n",
    "zipped = zip(seq1, seq2)\n",
    "list(zipped)"
   ]
  },
  {
   "cell_type": "code",
   "execution_count": 5,
   "metadata": {},
   "outputs": [
    {
     "output_type": "stream",
     "name": "stdout",
     "text": [
      "0: 1, Ball\n1: 2, Goal\n2: 3, Ground\n"
     ]
    }
   ],
   "source": [
    "for i, (a, b) in enumerate(zip(seq1,seq2)):\n",
    "    print('{0}: {1}, {2}'.format(i, a, b))"
   ]
  },
  {
   "cell_type": "code",
   "execution_count": 7,
   "metadata": {},
   "outputs": [
    {
     "output_type": "execute_result",
     "data": {
      "text/plain": [
       "('Christiano', 'Manuel', 'Wein')"
      ]
     },
     "metadata": {},
     "execution_count": 7
    }
   ],
   "source": [
    "players = [('Christiano', 'Ronaldo'), ('Manuel', 'Neuer'), ('Wein', 'Rooney')]\n",
    "first_names, last_names = zip(*players)\n",
    "first_names"
   ]
  },
  {
   "source": [
    "## ディクショナリ"
   ],
   "cell_type": "markdown",
   "metadata": {}
  },
  {
   "cell_type": "code",
   "execution_count": 1,
   "metadata": {},
   "outputs": [
    {
     "output_type": "execute_result",
     "data": {
      "text/plain": [
       "{'a': 'Shuttle', 'b': [1, 2, 3, 4]}"
      ]
     },
     "metadata": {},
     "execution_count": 1
    }
   ],
   "source": [
    "empty_dict = {}\n",
    "d1 = {'a' : 'Shuttle', 'b' : [1,2,3,4]}\n",
    "d1"
   ]
  },
  {
   "cell_type": "code",
   "execution_count": 2,
   "metadata": {},
   "outputs": [
    {
     "output_type": "execute_result",
     "data": {
      "text/plain": [
       "{'a': 'Shuttle', 'b': [1, 2, 3, 4], 'c': 1, 'd': 'Altemis'}"
      ]
     },
     "metadata": {},
     "execution_count": 2
    }
   ],
   "source": [
    "d1.update({'c' : 1, 'd' : 'Altemis'})\n",
    "d1"
   ]
  },
  {
   "cell_type": "code",
   "execution_count": 4,
   "metadata": {},
   "outputs": [
    {
     "output_type": "execute_result",
     "data": {
      "text/plain": [
       "{0: 4, 1: 3, 2: 2, 3: 1, 4: 0}"
      ]
     },
     "metadata": {},
     "execution_count": 4
    }
   ],
   "source": [
    "mapping = dict(zip(range(5), reversed(range(5))))\n",
    "mapping"
   ]
  },
  {
   "cell_type": "code",
   "execution_count": 10,
   "metadata": {},
   "outputs": [],
   "source": [
    "words = ['madrid', 'manchester', 'barcellona','london']\n",
    "by_letter = {}"
   ]
  },
  {
   "cell_type": "code",
   "execution_count": 15,
   "metadata": {},
   "outputs": [],
   "source": [
    "for word in words:\n",
    "    letter = word[0]\n",
    "    if letter not in by_letter:\n",
    "        by_letter[letter] = [word]\n",
    "    # else:\n",
    "    #     by_letter[letter].append(word)"
   ]
  },
  {
   "cell_type": "code",
   "execution_count": 16,
   "metadata": {},
   "outputs": [
    {
     "output_type": "execute_result",
     "data": {
      "text/plain": [
       "{'m': ['madrid'], 'b': ['barcellona'], 'l': ['london']}"
      ]
     },
     "metadata": {},
     "execution_count": 16
    }
   ],
   "source": [
    "by_letter"
   ]
  },
  {
   "cell_type": "code",
   "execution_count": 2,
   "metadata": {},
   "outputs": [
    {
     "output_type": "execute_result",
     "data": {
      "text/plain": [
       "-6820953900257740869"
      ]
     },
     "metadata": {},
     "execution_count": 2
    }
   ],
   "source": [
    "hash('string')"
   ]
  },
  {
   "cell_type": "code",
   "execution_count": 4,
   "metadata": {},
   "outputs": [],
   "source": [
    "a = {1,2,3,4,5,}\n",
    "b = {3,4,5,6,7,8}"
   ]
  },
  {
   "cell_type": "code",
   "execution_count": 5,
   "metadata": {},
   "outputs": [
    {
     "output_type": "execute_result",
     "data": {
      "text/plain": [
       "{1, 2, 3, 4, 5, 6, 7, 8}"
      ]
     },
     "metadata": {},
     "execution_count": 5
    }
   ],
   "source": [
    "a.union(b)"
   ]
  },
  {
   "cell_type": "code",
   "execution_count": 6,
   "metadata": {},
   "outputs": [
    {
     "output_type": "execute_result",
     "data": {
      "text/plain": [
       "{3, 4, 5}"
      ]
     },
     "metadata": {},
     "execution_count": 6
    }
   ],
   "source": [
    "a.intersection(b)"
   ]
  },
  {
   "cell_type": "code",
   "execution_count": 8,
   "metadata": {},
   "outputs": [],
   "source": [
    "a_set = {1,2,3,4,5}"
   ]
  },
  {
   "cell_type": "code",
   "execution_count": 9,
   "metadata": {},
   "outputs": [
    {
     "output_type": "execute_result",
     "data": {
      "text/plain": [
       "True"
      ]
     },
     "metadata": {},
     "execution_count": 9
    }
   ],
   "source": [
    "{1,2,3}.issubset(a_set)"
   ]
  },
  {
   "source": [
    "## リスト内包表記"
   ],
   "cell_type": "markdown",
   "metadata": {}
  },
  {
   "cell_type": "code",
   "execution_count": 4,
   "metadata": {},
   "outputs": [
    {
     "output_type": "execute_result",
     "data": {
      "text/plain": [
       "['BAR', 'PYTHON', 'ALTEMIS']"
      ]
     },
     "metadata": {},
     "execution_count": 4
    }
   ],
   "source": [
    "strings = ['a', 'UI', 'bar', 'python', 'altemis']\n",
    "[x.upper() for x in strings if len(x) > 2]"
   ]
  },
  {
   "cell_type": "code",
   "execution_count": 14,
   "metadata": {},
   "outputs": [
    {
     "output_type": "execute_result",
     "data": {
      "text/plain": [
       "20"
      ]
     },
     "metadata": {},
     "execution_count": 14
    }
   ],
   "source": [
    "def double(x):\n",
    "    return x * 2\n",
    "double(10)"
   ]
  },
  {
   "cell_type": "code",
   "execution_count": 15,
   "metadata": {},
   "outputs": [
    {
     "output_type": "error",
     "ename": "TypeError",
     "evalue": "unsupported operand type(s) for *: 'range' and 'int'",
     "traceback": [
      "\u001b[0;31m---------------------------------------------------------------------------\u001b[0m",
      "\u001b[0;31mTypeError\u001b[0m                                 Traceback (most recent call last)",
      "\u001b[0;32m<ipython-input-15-632d37110b16>\u001b[0m in \u001b[0;36m<module>\u001b[0;34m\u001b[0m\n\u001b[1;32m      1\u001b[0m \u001b[0mnumbers\u001b[0m \u001b[0;34m=\u001b[0m \u001b[0mrange\u001b[0m\u001b[0;34m(\u001b[0m\u001b[0;36m1\u001b[0m\u001b[0;34m,\u001b[0m\u001b[0;36m10\u001b[0m\u001b[0;34m)\u001b[0m\u001b[0;34m\u001b[0m\u001b[0;34m\u001b[0m\u001b[0m\n\u001b[0;32m----> 2\u001b[0;31m \u001b[0mdouble\u001b[0m\u001b[0;34m(\u001b[0m\u001b[0mnumbers\u001b[0m\u001b[0;34m)\u001b[0m\u001b[0;34m\u001b[0m\u001b[0;34m\u001b[0m\u001b[0m\n\u001b[0m",
      "\u001b[0;32m<ipython-input-14-53a39ea03ddd>\u001b[0m in \u001b[0;36mdouble\u001b[0;34m(x)\u001b[0m\n\u001b[1;32m      1\u001b[0m \u001b[0;32mdef\u001b[0m \u001b[0mdouble\u001b[0m\u001b[0;34m(\u001b[0m\u001b[0mx\u001b[0m\u001b[0;34m)\u001b[0m\u001b[0;34m:\u001b[0m\u001b[0;34m\u001b[0m\u001b[0;34m\u001b[0m\u001b[0m\n\u001b[0;32m----> 2\u001b[0;31m     \u001b[0;32mreturn\u001b[0m \u001b[0mx\u001b[0m \u001b[0;34m*\u001b[0m \u001b[0;36m2\u001b[0m\u001b[0;34m\u001b[0m\u001b[0;34m\u001b[0m\u001b[0m\n\u001b[0m\u001b[1;32m      3\u001b[0m \u001b[0mdouble\u001b[0m\u001b[0;34m(\u001b[0m\u001b[0;36m10\u001b[0m\u001b[0;34m)\u001b[0m\u001b[0;34m\u001b[0m\u001b[0;34m\u001b[0m\u001b[0m\n",
      "\u001b[0;31mTypeError\u001b[0m: unsupported operand type(s) for *: 'range' and 'int'"
     ]
    }
   ],
   "source": [
    "numbers = range(1,10)\n",
    "double(numbers)"
   ]
  },
  {
   "cell_type": "code",
   "execution_count": 17,
   "metadata": {},
   "outputs": [
    {
     "output_type": "execute_result",
     "data": {
      "text/plain": [
       "[2, 4, 6, 8, 10, 12, 14, 16, 18]"
      ]
     },
     "metadata": {},
     "execution_count": 17
    }
   ],
   "source": [
    "double_numbers = list(double_numbers)\n",
    "double_numbers"
   ]
  },
  {
   "source": [
    "### Python の算術演算にはシーケンス（複数要素）を渡せない"
   ],
   "cell_type": "markdown",
   "metadata": {}
  },
  {
   "cell_type": "code",
   "execution_count": 10,
   "metadata": {},
   "outputs": [],
   "source": [
    "double_numbers = map(double, numbers)"
   ]
  },
  {
   "cell_type": "code",
   "execution_count": 11,
   "metadata": {},
   "outputs": [
    {
     "output_type": "execute_result",
     "data": {
      "text/plain": [
       "<map at 0x104955fd0>"
      ]
     },
     "metadata": {},
     "execution_count": 11
    }
   ],
   "source": [
    "double_numbers"
   ]
  },
  {
   "cell_type": "code",
   "execution_count": 13,
   "metadata": {},
   "outputs": [
    {
     "output_type": "execute_result",
     "data": {
      "text/plain": [
       "[2, 4, 6, 8, 10, 12, 14, 16, 18]"
      ]
     },
     "metadata": {},
     "execution_count": 13
    }
   ],
   "source": [
    "double_numbers = list(map(double, numbers))\n",
    "double_numbers"
   ]
  },
  {
   "source": [
    "## 関数\n",
    "関数は位置引数とキーワード引数を持つことができる"
   ],
   "cell_type": "markdown",
   "metadata": {}
  },
  {
   "cell_type": "code",
   "execution_count": 22,
   "metadata": {},
   "outputs": [
    {
     "output_type": "execute_result",
     "data": {
      "text/plain": [
       "150"
      ]
     },
     "metadata": {},
     "execution_count": 22
    }
   ],
   "source": [
    "def my_function(x,y,z=0.5):\n",
    "    if z > 1:\n",
    "        return z * (x + y)\n",
    "    else:\n",
    "        return z / (x + y)\n",
    "my_function(10,20,z=5)\n",
    "        "
   ]
  },
  {
   "cell_type": "code",
   "execution_count": 16,
   "metadata": {},
   "outputs": [],
   "source": [
    "a = []\n",
    "def func():\n",
    "    for i in range(5):\n",
    "        a.append(i)"
   ]
  },
  {
   "cell_type": "code",
   "execution_count": 21,
   "metadata": {},
   "outputs": [],
   "source": [
    "a = None\n",
    "def bind_a_var():\n",
    "    global a\n",
    "    a = []\n",
    "bind_a_var()"
   ]
  },
  {
   "cell_type": "code",
   "execution_count": 22,
   "metadata": {},
   "outputs": [
    {
     "output_type": "stream",
     "name": "stdout",
     "text": [
      "None\n"
     ]
    }
   ],
   "source": [
    "print(a)"
   ]
  },
  {
   "cell_type": "code",
   "execution_count": 1,
   "metadata": {},
   "outputs": [],
   "source": [
    "def f():\n",
    "    a = 5\n",
    "    b = 6\n",
    "    c = 7\n",
    "    return a,b,c\n",
    "a,b,c = f()"
   ]
  },
  {
   "cell_type": "code",
   "execution_count": 5,
   "metadata": {},
   "outputs": [
    {
     "output_type": "execute_result",
     "data": {
      "text/plain": [
       "(5, 6, 7)"
      ]
     },
     "metadata": {},
     "execution_count": 5
    }
   ],
   "source": [
    "f()"
   ]
  },
  {
   "cell_type": "code",
   "execution_count": 6,
   "metadata": {},
   "outputs": [],
   "source": [
    "def f():\n",
    "    a = 5\n",
    "    b = 6\n",
    "    c = 7\n",
    "    return {'a':a,'b':b,'c':c}"
   ]
  },
  {
   "cell_type": "code",
   "execution_count": 7,
   "metadata": {},
   "outputs": [
    {
     "output_type": "execute_result",
     "data": {
      "text/plain": [
       "{'a': 5, 'b': 6, 'c': 7}"
      ]
     },
     "metadata": {},
     "execution_count": 7
    }
   ],
   "source": [
    "f()"
   ]
  },
  {
   "cell_type": "code",
   "execution_count": 8,
   "metadata": {},
   "outputs": [],
   "source": [
    "states = ['     Alabama', 'Georgia!', 'georgia', 'Georgia', 'FlOlIda', 'south carolina##','West virginia?']"
   ]
  },
  {
   "cell_type": "code",
   "execution_count": 18,
   "metadata": {},
   "outputs": [],
   "source": [
    "\n",
    "import re\n",
    "def clean_strings(strings):\n",
    "    result = []\n",
    "    for value in strings:\n",
    "        value = value.strip()\n",
    "        value = re.sub('[!#?]', '', value)\n",
    "        value = value.title()\n",
    "        result.append(value)\n",
    "    return result\n"
   ]
  },
  {
   "cell_type": "code",
   "execution_count": 28,
   "metadata": {},
   "outputs": [],
   "source": [
    "def remove_punctuation(value):\n",
    "    return re.sub('[!#?]','',value)\n",
    "\n"
   ]
  },
  {
   "cell_type": "code",
   "execution_count": 29,
   "metadata": {},
   "outputs": [
    {
     "output_type": "stream",
     "name": "stdout",
     "text": [
      "     Alabama\nGeorgia\ngeorgia\nGeorgia\nFlOlIda\nsouth carolina\nWest virginia\n"
     ]
    }
   ],
   "source": [
    "for x in map(remove_punctuation, states):\n",
    "    print(x)"
   ]
  },
  {
   "cell_type": "code",
   "execution_count": 53,
   "metadata": {},
   "outputs": [
    {
     "output_type": "execute_result",
     "data": {
      "text/plain": [
       "[8, 0, 2, 10, 12]"
      ]
     },
     "metadata": {},
     "execution_count": 53
    }
   ],
   "source": [
    "def apply_to_list(some_list, f):\n",
    "    return [f(x) for x in some_list]\n",
    "ints = [4,0,1,5,6]\n",
    "apply_to_list(ints, lambda x: x * 2)"
   ]
  },
  {
   "cell_type": "code",
   "execution_count": 54,
   "metadata": {},
   "outputs": [
    {
     "output_type": "stream",
     "name": "stdout",
     "text": [
      "a\nb\nc\n"
     ]
    }
   ],
   "source": [
    "some_dict = {'a':1, 'b':2, 'c':3}\n",
    "for key in some_dict:\n",
    "    print(key)"
   ]
  },
  {
   "cell_type": "code",
   "execution_count": 60,
   "metadata": {},
   "outputs": [
    {
     "output_type": "execute_result",
     "data": {
      "text/plain": [
       "<dict_keyiterator at 0x112aae4a0>"
      ]
     },
     "metadata": {},
     "execution_count": 60
    }
   ],
   "source": [
    "dict_iterator = iter(some_dict)\n",
    "dict_iterator"
   ]
  },
  {
   "cell_type": "code",
   "execution_count": 61,
   "metadata": {},
   "outputs": [
    {
     "output_type": "execute_result",
     "data": {
      "text/plain": [
       "['a', 'b', 'c']"
      ]
     },
     "metadata": {},
     "execution_count": 61
    }
   ],
   "source": [
    "list(dict_iterator)"
   ]
  },
  {
   "source": [
    "## ジェネレータ"
   ],
   "cell_type": "markdown",
   "metadata": {}
  },
  {
   "cell_type": "code",
   "execution_count": 72,
   "metadata": {},
   "outputs": [],
   "source": [
    "def squares(n=10):\n",
    "    print('Generating squaresfrom 1 to {0}'.format(n ** 2))\n",
    "    for i in range(1, n + 1):\n",
    "        yield i ** 2"
   ]
  },
  {
   "cell_type": "code",
   "execution_count": 82,
   "metadata": {},
   "outputs": [],
   "source": [
    "generator = squares()"
   ]
  },
  {
   "cell_type": "code",
   "execution_count": 83,
   "metadata": {},
   "outputs": [
    {
     "output_type": "execute_result",
     "data": {
      "text/plain": [
       "<generator object squares at 0x112bd8c10>"
      ]
     },
     "metadata": {},
     "execution_count": 83
    }
   ],
   "source": [
    "generator"
   ]
  },
  {
   "cell_type": "code",
   "execution_count": 84,
   "metadata": {},
   "outputs": [
    {
     "output_type": "stream",
     "name": "stdout",
     "text": [
      "Generating squaresfrom 1 to 100\n1 4 9 16 25 36 49 64 81 100 "
     ]
    }
   ],
   "source": [
    "for x in generator:\n",
    "    print(x, end=' ')"
   ]
  },
  {
   "cell_type": "code",
   "execution_count": 89,
   "metadata": {},
   "outputs": [
    {
     "output_type": "execute_result",
     "data": {
      "text/plain": [
       "328350"
      ]
     },
     "metadata": {},
     "execution_count": 89
    }
   ],
   "source": [
    "sum(x ** 2 for x in range(100))"
   ]
  },
  {
   "cell_type": "code",
   "execution_count": 86,
   "metadata": {},
   "outputs": [
    {
     "output_type": "execute_result",
     "data": {
      "text/plain": [
       "<generator object <genexpr> at 0x111dcf350>"
      ]
     },
     "metadata": {},
     "execution_count": 86
    }
   ],
   "source": [
    "gen"
   ]
  },
  {
   "cell_type": "code",
   "execution_count": 88,
   "metadata": {},
   "outputs": [],
   "source": [
    "def make_gen():\n",
    "    for x in range(100):\n",
    "        yield x ** 2\n",
    "gen = make_gen()"
   ]
  },
  {
   "cell_type": "code",
   "execution_count": null,
   "metadata": {},
   "outputs": [],
   "source": [
    "import itertools\n",
    "first_letter = lambda x: x[0]"
   ]
  },
  {
   "cell_type": "code",
   "execution_count": 104,
   "metadata": {},
   "outputs": [],
   "source": [
    "def attempt_float(x):\n",
    "    try:\n",
    "        return float(x)\n",
    "    except(ValueError,TypeError):\n",
    "        return x"
   ]
  },
  {
   "cell_type": "code",
   "execution_count": 105,
   "metadata": {},
   "outputs": [
    {
     "output_type": "execute_result",
     "data": {
      "text/plain": [
       "(1, 2)"
      ]
     },
     "metadata": {},
     "execution_count": 105
    }
   ],
   "source": [
    "attempt_float((1,2))"
   ]
  },
  {
   "cell_type": "code",
   "execution_count": 16,
   "metadata": {},
   "outputs": [],
   "source": [
    "path = 'sample.txt'"
   ]
  },
  {
   "cell_type": "code",
   "execution_count": 17,
   "metadata": {},
   "outputs": [],
   "source": [
    "f = open(path)"
   ]
  },
  {
   "cell_type": "code",
   "execution_count": 18,
   "metadata": {},
   "outputs": [
    {
     "output_type": "execute_result",
     "data": {
      "text/plain": [
       "'utf-8'"
      ]
     },
     "metadata": {},
     "execution_count": 18
    }
   ],
   "source": [
    "import sys\n",
    "sys.getdefaultencoding()"
   ]
  },
  {
   "source": [
    "# Numpy 4.1.5"
   ],
   "cell_type": "markdown",
   "metadata": {}
  },
  {
   "cell_type": "code",
   "execution_count": 2,
   "metadata": {},
   "outputs": [],
   "source": [
    "import numpy as np\n",
    "names = np.array(['Bob','Will','Bob','Joe','Joe'])\n",
    "data = np.random.randn(5,4)"
   ]
  },
  {
   "cell_type": "code",
   "execution_count": 3,
   "metadata": {},
   "outputs": [
    {
     "output_type": "execute_result",
     "data": {
      "text/plain": [
       "array(['Bob', 'Will', 'Bob', 'Joe', 'Joe'], dtype='<U4')"
      ]
     },
     "metadata": {},
     "execution_count": 3
    }
   ],
   "source": [
    "names"
   ]
  },
  {
   "cell_type": "code",
   "execution_count": 4,
   "metadata": {},
   "outputs": [
    {
     "output_type": "execute_result",
     "data": {
      "text/plain": [
       "array([[-0.40021245, -1.27888879, -0.02598102,  1.83427   ],\n",
       "       [ 0.29957314, -0.58246659, -1.33354778, -0.08834658],\n",
       "       [-0.03081749,  2.06210273,  0.33125378, -0.41593771],\n",
       "       [ 0.09964066, -1.38415806, -0.58579274, -1.30359548],\n",
       "       [ 0.09920855,  0.91072723, -0.27489075,  1.39423177]])"
      ]
     },
     "metadata": {},
     "execution_count": 4
    }
   ],
   "source": [
    "data"
   ]
  },
  {
   "cell_type": "code",
   "execution_count": 8,
   "metadata": {},
   "outputs": [
    {
     "output_type": "execute_result",
     "data": {
      "text/plain": [
       "array([[-1.27888879, -0.02598102,  1.83427   ],\n",
       "       [ 2.06210273,  0.33125378, -0.41593771]])"
      ]
     },
     "metadata": {},
     "execution_count": 8
    }
   ],
   "source": [
    "names == 'Bob'\n",
    "data[names == 'Bob',1:]"
   ]
  },
  {
   "cell_type": "code",
   "execution_count": 9,
   "metadata": {},
   "outputs": [
    {
     "output_type": "execute_result",
     "data": {
      "text/plain": [
       "array([[ 0.29957314, -0.58246659, -1.33354778, -0.08834658],\n",
       "       [ 0.09964066, -1.38415806, -0.58579274, -1.30359548],\n",
       "       [ 0.09920855,  0.91072723, -0.27489075,  1.39423177]])"
      ]
     },
     "metadata": {},
     "execution_count": 9
    }
   ],
   "source": [
    "data[~(names=='Bob')]"
   ]
  },
  {
   "cell_type": "code",
   "execution_count": 11,
   "metadata": {},
   "outputs": [
    {
     "output_type": "execute_result",
     "data": {
      "text/plain": [
       "array([[7.        , 7.        , 7.        , 7.        ],\n",
       "       [0.29957314, 0.        , 0.        , 0.        ],\n",
       "       [7.        , 7.        , 7.        , 7.        ],\n",
       "       [7.        , 7.        , 7.        , 7.        ],\n",
       "       [7.        , 7.        , 7.        , 7.        ]])"
      ]
     },
     "metadata": {},
     "execution_count": 11
    }
   ],
   "source": [
    "data[data < 0] = 0\n",
    "data[names != 'Will'] = 7\n",
    "data"
   ]
  },
  {
   "cell_type": "code",
   "execution_count": 10,
   "metadata": {},
   "outputs": [
    {
     "output_type": "execute_result",
     "data": {
      "text/plain": [
       "array([[0., 0., 0., 0.],\n",
       "       [1., 1., 1., 1.],\n",
       "       [2., 2., 2., 2.],\n",
       "       [3., 3., 3., 3.],\n",
       "       [4., 4., 4., 4.],\n",
       "       [5., 5., 5., 5.],\n",
       "       [6., 6., 6., 6.],\n",
       "       [7., 7., 7., 7.]])"
      ]
     },
     "metadata": {},
     "execution_count": 10
    }
   ],
   "source": [
    "arr = np.empty((8,4))\n",
    "for i in range(8):\n",
    "    arr[i] = i\n",
    "arr"
   ]
  },
  {
   "cell_type": "code",
   "execution_count": 18,
   "metadata": {},
   "outputs": [],
   "source": [
    "arr = np.arange(15).reshape((3,5))"
   ]
  },
  {
   "cell_type": "code",
   "execution_count": 19,
   "metadata": {},
   "outputs": [
    {
     "output_type": "execute_result",
     "data": {
      "text/plain": [
       "array([[ 0,  1,  2,  3,  4],\n",
       "       [ 5,  6,  7,  8,  9],\n",
       "       [10, 11, 12, 13, 14]])"
      ]
     },
     "metadata": {},
     "execution_count": 19
    }
   ],
   "source": [
    "arr"
   ]
  },
  {
   "cell_type": "code",
   "execution_count": 20,
   "metadata": {},
   "outputs": [
    {
     "output_type": "execute_result",
     "data": {
      "text/plain": [
       "array([[ 0,  5, 10],\n",
       "       [ 1,  6, 11],\n",
       "       [ 2,  7, 12],\n",
       "       [ 3,  8, 13],\n",
       "       [ 4,  9, 14]])"
      ]
     },
     "metadata": {},
     "execution_count": 20
    }
   ],
   "source": [
    "arr.T"
   ]
  },
  {
   "cell_type": "code",
   "execution_count": 22,
   "metadata": {},
   "outputs": [
    {
     "output_type": "execute_result",
     "data": {
      "text/plain": [
       "array([0.        , 1.        , 1.41421356, 1.73205081, 2.        ,\n",
       "       2.23606798, 2.44948974, 2.64575131, 2.82842712, 3.        ])"
      ]
     },
     "metadata": {},
     "execution_count": 22
    }
   ],
   "source": [
    "arr = np.arange(10)\n",
    "np.sqrt(arr)"
   ]
  },
  {
   "cell_type": "code",
   "execution_count": 23,
   "metadata": {},
   "outputs": [
    {
     "output_type": "execute_result",
     "data": {
      "text/plain": [
       "array([[-5.  , -5.  , -5.  , ..., -5.  , -5.  , -5.  ],\n",
       "       [-4.99, -4.99, -4.99, ..., -4.99, -4.99, -4.99],\n",
       "       [-4.98, -4.98, -4.98, ..., -4.98, -4.98, -4.98],\n",
       "       ...,\n",
       "       [ 4.97,  4.97,  4.97, ...,  4.97,  4.97,  4.97],\n",
       "       [ 4.98,  4.98,  4.98, ...,  4.98,  4.98,  4.98],\n",
       "       [ 4.99,  4.99,  4.99, ...,  4.99,  4.99,  4.99]])"
      ]
     },
     "metadata": {},
     "execution_count": 23
    }
   ],
   "source": [
    "points = np.arange(-5, 5, 0.01)\n",
    "xs, ys = np.meshgrid(points, points)\n",
    "ys"
   ]
  },
  {
   "cell_type": "code",
   "execution_count": 24,
   "metadata": {},
   "outputs": [
    {
     "output_type": "execute_result",
     "data": {
      "text/plain": [
       "array([[7.07106781, 7.06400028, 7.05693985, ..., 7.04988652, 7.05693985,\n",
       "        7.06400028],\n",
       "       [7.06400028, 7.05692568, 7.04985815, ..., 7.04279774, 7.04985815,\n",
       "        7.05692568],\n",
       "       [7.05693985, 7.04985815, 7.04278354, ..., 7.03571603, 7.04278354,\n",
       "        7.04985815],\n",
       "       ...,\n",
       "       [7.04988652, 7.04279774, 7.03571603, ..., 7.0286414 , 7.03571603,\n",
       "        7.04279774],\n",
       "       [7.05693985, 7.04985815, 7.04278354, ..., 7.03571603, 7.04278354,\n",
       "        7.04985815],\n",
       "       [7.06400028, 7.05692568, 7.04985815, ..., 7.04279774, 7.04985815,\n",
       "        7.05692568]])"
      ]
     },
     "metadata": {},
     "execution_count": 24
    }
   ],
   "source": [
    "z = np.sqrt(xs ** 2 + ys ** 2)\n",
    "z"
   ]
  },
  {
   "cell_type": "code",
   "execution_count": 31,
   "metadata": {},
   "outputs": [],
   "source": [
    "import matplotlib.pyplot as plt"
   ]
  },
  {
   "cell_type": "code",
   "execution_count": 33,
   "metadata": {},
   "outputs": [
    {
     "output_type": "execute_result",
     "data": {
      "text/plain": [
       "<matplotlib.colorbar.Colorbar at 0x11c731c70>"
      ]
     },
     "metadata": {},
     "execution_count": 33
    },
    {
     "output_type": "display_data",
     "data": {
      "text/plain": "<Figure size 432x288 with 2 Axes>",
      "image/svg+xml": "<?xml version=\"1.0\" encoding=\"utf-8\" standalone=\"no\"?>\n<!DOCTYPE svg PUBLIC \"-//W3C//DTD SVG 1.1//EN\"\n  \"http://www.w3.org/Graphics/SVG/1.1/DTD/svg11.dtd\">\n<!-- Created with matplotlib (https://matplotlib.org/) -->\n<svg height=\"251.867217pt\" version=\"1.1\" viewBox=\"0 0 298.64575 251.867217\" width=\"298.64575pt\" xmlns=\"http://www.w3.org/2000/svg\" xmlns:xlink=\"http://www.w3.org/1999/xlink\">\n <defs>\n  <style type=\"text/css\">\n*{stroke-linecap:butt;stroke-linejoin:round;}\n  </style>\n </defs>\n <g id=\"figure_1\">\n  <g id=\"patch_1\">\n   <path d=\"M 0 251.867217 \nL 298.64575 251.867217 \nL 298.64575 0 \nL 0 0 \nz\n\" style=\"fill:none;\"/>\n  </g>\n  <g id=\"axes_1\">\n   <g id=\"patch_2\">\n    <path d=\"M 33.095313 228.276592 \nL 250.535312 228.276592 \nL 250.535312 10.836592 \nL 33.095313 10.836592 \nz\n\" style=\"fill:#ffffff;\"/>\n   </g>\n   <g clip-path=\"url(#pdde2fe4aef)\">\n    <image height=\"218\" id=\"imagecf7fe8cd1c\" transform=\"scale(1 -1)translate(0 -218)\" width=\"218\" x=\"33.095313\" xlink:href=\"data:image/png;base64,\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\" y=\"-10.276592\"/>\n   </g>\n   <g id=\"matplotlib.axis_1\">\n    <g id=\"xtick_1\">\n     <g id=\"line2d_1\">\n      <defs>\n       <path d=\"M 0 0 \nL 0 3.5 \n\" id=\"m6d008e3408\" style=\"stroke:#000000;stroke-width:0.8;\"/>\n      </defs>\n      <g>\n       <use style=\"stroke:#000000;stroke-width:0.8;\" x=\"33.204033\" xlink:href=\"#m6d008e3408\" y=\"228.276592\"/>\n      </g>\n     </g>\n     <g id=\"text_1\">\n      <!-- 0 -->\n      <defs>\n       <path d=\"M 31.84375 73.828125 \nQ 45.015625 73.828125 52.09375 61.625 \nQ 57.71875 51.953125 57.71875 36.625 \nQ 57.71875 21.4375 52.09375 11.578125 \nQ 45.125 -0.484375 31.5 -0.484375 \nQ 17.921875 -0.484375 10.9375 11.578125 \nQ 5.328125 21.4375 5.328125 36.71875 \nQ 5.328125 58.015625 15.625 67.71875 \nQ 22.171875 73.828125 31.84375 73.828125 \nz\nM 31.5 66.65625 \nQ 23.6875 66.65625 19.1875 58.734375 \nQ 14.59375 50.734375 14.59375 36.625 \nQ 14.59375 22.75 19.09375 14.796875 \nQ 23.640625 6.984375 31.5 6.984375 \nQ 40.921875 6.984375 45.453125 18.015625 \nQ 48.4375 25.34375 48.4375 37.109375 \nQ 48.4375 50.875 43.84375 58.734375 \nQ 39.203125 66.65625 31.5 66.65625 \nz\n\" id=\"IPAexGothic-48\"/>\n      </defs>\n      <g transform=\"translate(30.054814 242.767217)scale(0.1 -0.1)\">\n       <use xlink:href=\"#IPAexGothic-48\"/>\n      </g>\n     </g>\n    </g>\n    <g id=\"xtick_2\">\n     <g id=\"line2d_2\">\n      <g>\n       <use style=\"stroke:#000000;stroke-width:0.8;\" x=\"76.692032\" xlink:href=\"#m6d008e3408\" y=\"228.276592\"/>\n      </g>\n     </g>\n     <g id=\"text_2\">\n      <!-- 200 -->\n      <defs>\n       <path d=\"M 57.171875 0.984375 \nL 6.984375 0.984375 \nL 6.984375 9.28125 \nQ 12.890625 23.046875 29.59375 34.421875 \nL 32.375 36.28125 \nQ 40.921875 42.140625 43.609375 45.40625 \nQ 46.6875 49.265625 46.6875 53.8125 \nQ 46.6875 58.9375 43.0625 62.546875 \nQ 39.0625 66.546875 32.5625 66.546875 \nQ 19.53125 66.546875 15.484375 52 \nL 7.765625 54.78125 \nQ 13.328125 73.828125 33.0625 73.828125 \nQ 43.84375 73.828125 50.25 67.4375 \nQ 55.859375 61.671875 55.859375 53.515625 \nQ 55.859375 47.46875 52.25 42.53125 \nQ 48.921875 37.75 36.96875 30.28125 \nL 34.859375 29 \nQ 19.625 19.578125 15.28125 8.890625 \nL 57.171875 8.890625 \nz\n\" id=\"IPAexGothic-50\"/>\n      </defs>\n      <g transform=\"translate(67.244376 242.767217)scale(0.1 -0.1)\">\n       <use xlink:href=\"#IPAexGothic-50\"/>\n       <use x=\"62.988281\" xlink:href=\"#IPAexGothic-48\"/>\n       <use x=\"125.976562\" xlink:href=\"#IPAexGothic-48\"/>\n      </g>\n     </g>\n    </g>\n    <g id=\"xtick_3\">\n     <g id=\"line2d_3\">\n      <g>\n       <use style=\"stroke:#000000;stroke-width:0.8;\" x=\"120.180032\" xlink:href=\"#m6d008e3408\" y=\"228.276592\"/>\n      </g>\n     </g>\n     <g id=\"text_3\">\n      <!-- 400 -->\n      <defs>\n       <path d=\"M 59.578125 18.109375 \nL 47.796875 18.109375 \nL 47.796875 0.984375 \nL 39.796875 0.984375 \nL 39.796875 18.109375 \nL 3.078125 18.109375 \nL 3.078125 26.125 \nL 38.375 73.09375 \nL 47.796875 73.09375 \nL 47.796875 25.53125 \nL 59.578125 25.53125 \nz\nM 40.28125 64.203125 \nL 39.984375 64.203125 \nQ 35.59375 57.125 31.296875 51.3125 \nL 11.859375 25.53125 \nL 39.796875 25.53125 \nL 39.796875 49.125 \nQ 39.796875 54.390625 40.28125 64.203125 \nz\n\" id=\"IPAexGothic-52\"/>\n      </defs>\n      <g transform=\"translate(110.732376 242.767217)scale(0.1 -0.1)\">\n       <use xlink:href=\"#IPAexGothic-52\"/>\n       <use x=\"62.988281\" xlink:href=\"#IPAexGothic-48\"/>\n       <use x=\"125.976562\" xlink:href=\"#IPAexGothic-48\"/>\n      </g>\n     </g>\n    </g>\n    <g id=\"xtick_4\">\n     <g id=\"line2d_4\">\n      <g>\n       <use style=\"stroke:#000000;stroke-width:0.8;\" x=\"163.668032\" xlink:href=\"#m6d008e3408\" y=\"228.276592\"/>\n      </g>\n     </g>\n     <g id=\"text_4\">\n      <!-- 600 -->\n      <defs>\n       <path d=\"M 16.5 36.375 \nQ 23.578125 46.578125 34.90625 46.578125 \nQ 45.40625 46.578125 51.8125 39.265625 \nQ 57.421875 32.90625 57.421875 23.78125 \nQ 57.421875 13.8125 51.125 6.78125 \nQ 44.578125 -0.484375 34.03125 -0.484375 \nQ 21.484375 -0.484375 14.40625 9.078125 \nQ 7.515625 18.40625 7.515625 34.8125 \nQ 7.515625 53.515625 15.828125 64.203125 \nQ 23.34375 73.828125 35.5 73.828125 \nQ 49.859375 73.828125 56.390625 62.890625 \nL 49.21875 58.984375 \nQ 45.21875 66.65625 35.9375 66.65625 \nQ 17.484375 66.65625 16.109375 36.375 \nz\nM 33.453125 39.796875 \nQ 26.3125 39.796875 21.625 34.46875 \nQ 17.4375 29.6875 17.4375 24.078125 \nQ 17.4375 18.0625 21.140625 13.1875 \nQ 26.125 6.6875 33.734375 6.6875 \nQ 41.703125 6.6875 45.953125 13.1875 \nQ 48.828125 17.625 48.828125 23.484375 \nQ 48.828125 30.375 45.015625 34.8125 \nQ 40.625 39.796875 33.453125 39.796875 \nz\n\" id=\"IPAexGothic-54\"/>\n      </defs>\n      <g transform=\"translate(154.220376 242.767217)scale(0.1 -0.1)\">\n       <use xlink:href=\"#IPAexGothic-54\"/>\n       <use x=\"62.988281\" xlink:href=\"#IPAexGothic-48\"/>\n       <use x=\"125.976562\" xlink:href=\"#IPAexGothic-48\"/>\n      </g>\n     </g>\n    </g>\n    <g id=\"xtick_5\">\n     <g id=\"line2d_5\">\n      <g>\n       <use style=\"stroke:#000000;stroke-width:0.8;\" x=\"207.156032\" xlink:href=\"#m6d008e3408\" y=\"228.276592\"/>\n      </g>\n     </g>\n     <g id=\"text_5\">\n      <!-- 800 -->\n      <defs>\n       <path d=\"M 39.703125 37.890625 \nQ 57.8125 31.734375 57.8125 18.703125 \nQ 57.8125 8.453125 48.4375 3.078125 \nQ 41.609375 -0.875 31.5 -0.875 \nQ 21.34375 -0.875 14.5 3.078125 \nQ 5.421875 8.296875 5.421875 18.40625 \nQ 5.421875 31.0625 22.015625 37.203125 \nL 22.015625 37.5 \nQ 7.515625 42.71875 7.515625 54.828125 \nQ 7.515625 64.0625 15.328125 69.625 \nQ 21.96875 74.3125 31.546875 74.3125 \nQ 42.234375 74.3125 48.921875 68.796875 \nQ 55.515625 63.578125 55.515625 55.71875 \nQ 55.515625 42.28125 39.703125 38.1875 \nz\nM 31.59375 41.015625 \nQ 46.828125 44.625 46.828125 55.125 \nQ 46.828125 61.1875 41.796875 64.84375 \nQ 37.703125 67.921875 31.5 67.921875 \nQ 25.09375 67.921875 20.796875 64.5 \nQ 16.40625 60.890625 16.40625 55.03125 \nQ 16.40625 49.21875 21.09375 45.703125 \nQ 23.34375 43.890625 26.90625 42.53125 \nQ 31 40.875 31.59375 41.015625 \nz\nM 30.90625 34.515625 \nQ 14.40625 30.171875 14.40625 19 \nQ 14.40625 12.109375 20.515625 8.6875 \nQ 25.09375 6.109375 31.390625 6.109375 \nQ 40.234375 6.109375 45.015625 10.890625 \nQ 48.53125 14.40625 48.53125 19.53125 \nQ 48.53125 24.90625 43.65625 28.90625 \nQ 40.765625 31.15625 36.71875 32.8125 \nQ 31.984375 34.71875 30.90625 34.515625 \nz\n\" id=\"IPAexGothic-56\"/>\n      </defs>\n      <g transform=\"translate(197.708376 242.767217)scale(0.1 -0.1)\">\n       <use xlink:href=\"#IPAexGothic-56\"/>\n       <use x=\"62.988281\" xlink:href=\"#IPAexGothic-48\"/>\n       <use x=\"125.976562\" xlink:href=\"#IPAexGothic-48\"/>\n      </g>\n     </g>\n    </g>\n   </g>\n   <g id=\"matplotlib.axis_2\">\n    <g id=\"ytick_1\">\n     <g id=\"line2d_6\">\n      <defs>\n       <path d=\"M 0 0 \nL -3.5 0 \n\" id=\"m8aa4889553\" style=\"stroke:#000000;stroke-width:0.8;\"/>\n      </defs>\n      <g>\n       <use style=\"stroke:#000000;stroke-width:0.8;\" x=\"33.095313\" xlink:href=\"#m8aa4889553\" y=\"10.945312\"/>\n      </g>\n     </g>\n     <g id=\"text_6\">\n      <!-- 0 -->\n      <g transform=\"translate(19.796875 14.690625)scale(0.1 -0.1)\">\n       <use xlink:href=\"#IPAexGothic-48\"/>\n      </g>\n     </g>\n    </g>\n    <g id=\"ytick_2\">\n     <g id=\"line2d_7\">\n      <g>\n       <use style=\"stroke:#000000;stroke-width:0.8;\" x=\"33.095313\" xlink:href=\"#m8aa4889553\" y=\"54.433312\"/>\n      </g>\n     </g>\n     <g id=\"text_7\">\n      <!-- 200 -->\n      <g transform=\"translate(7.2 58.178625)scale(0.1 -0.1)\">\n       <use xlink:href=\"#IPAexGothic-50\"/>\n       <use x=\"62.988281\" xlink:href=\"#IPAexGothic-48\"/>\n       <use x=\"125.976562\" xlink:href=\"#IPAexGothic-48\"/>\n      </g>\n     </g>\n    </g>\n    <g id=\"ytick_3\">\n     <g id=\"line2d_8\">\n      <g>\n       <use style=\"stroke:#000000;stroke-width:0.8;\" x=\"33.095313\" xlink:href=\"#m8aa4889553\" y=\"97.921312\"/>\n      </g>\n     </g>\n     <g id=\"text_8\">\n      <!-- 400 -->\n      <g transform=\"translate(7.2 101.666625)scale(0.1 -0.1)\">\n       <use xlink:href=\"#IPAexGothic-52\"/>\n       <use x=\"62.988281\" xlink:href=\"#IPAexGothic-48\"/>\n       <use x=\"125.976562\" xlink:href=\"#IPAexGothic-48\"/>\n      </g>\n     </g>\n    </g>\n    <g id=\"ytick_4\">\n     <g id=\"line2d_9\">\n      <g>\n       <use style=\"stroke:#000000;stroke-width:0.8;\" x=\"33.095313\" xlink:href=\"#m8aa4889553\" y=\"141.409312\"/>\n      </g>\n     </g>\n     <g id=\"text_9\">\n      <!-- 600 -->\n      <g transform=\"translate(7.2 145.154625)scale(0.1 -0.1)\">\n       <use xlink:href=\"#IPAexGothic-54\"/>\n       <use x=\"62.988281\" xlink:href=\"#IPAexGothic-48\"/>\n       <use x=\"125.976562\" xlink:href=\"#IPAexGothic-48\"/>\n      </g>\n     </g>\n    </g>\n    <g id=\"ytick_5\">\n     <g id=\"line2d_10\">\n      <g>\n       <use style=\"stroke:#000000;stroke-width:0.8;\" x=\"33.095313\" xlink:href=\"#m8aa4889553\" y=\"184.897312\"/>\n      </g>\n     </g>\n     <g id=\"text_10\">\n      <!-- 800 -->\n      <g transform=\"translate(7.2 188.642625)scale(0.1 -0.1)\">\n       <use xlink:href=\"#IPAexGothic-56\"/>\n       <use x=\"62.988281\" xlink:href=\"#IPAexGothic-48\"/>\n       <use x=\"125.976562\" xlink:href=\"#IPAexGothic-48\"/>\n      </g>\n     </g>\n    </g>\n   </g>\n   <g id=\"patch_3\">\n    <path d=\"M 33.095313 228.276592 \nL 33.095313 10.836592 \n\" style=\"fill:none;stroke:#000000;stroke-linecap:square;stroke-linejoin:miter;stroke-width:0.8;\"/>\n   </g>\n   <g id=\"patch_4\">\n    <path d=\"M 250.535312 228.276592 \nL 250.535312 10.836592 \n\" style=\"fill:none;stroke:#000000;stroke-linecap:square;stroke-linejoin:miter;stroke-width:0.8;\"/>\n   </g>\n   <g id=\"patch_5\">\n    <path d=\"M 33.095313 228.276592 \nL 250.535312 228.276592 \n\" style=\"fill:none;stroke:#000000;stroke-linecap:square;stroke-linejoin:miter;stroke-width:0.8;\"/>\n   </g>\n   <g id=\"patch_6\">\n    <path d=\"M 33.095313 10.836592 \nL 250.535312 10.836592 \n\" style=\"fill:none;stroke:#000000;stroke-linecap:square;stroke-linejoin:miter;stroke-width:0.8;\"/>\n   </g>\n  </g>\n  <g id=\"axes_2\">\n   <g id=\"patch_7\">\n    <path clip-path=\"url(#pf21f079d10)\" d=\"M 267.275313 228.276592 \nL 267.275313 227.427217 \nL 267.275313 11.685967 \nL 267.275313 10.836592 \nL 278.147312 10.836592 \nL 278.147312 11.685967 \nL 278.147312 227.427217 \nL 278.147312 228.276592 \nz\n\" style=\"fill:#ffffff;stroke:#ffffff;stroke-linejoin:miter;stroke-width:0.01;\"/>\n   </g>\n   <image height=\"217\" id=\"imagea5c4ea254d\" transform=\"scale(1 -1)translate(0 -217)\" width=\"11\" x=\"267\" xlink:href=\"data:image/png;base64,\niVBORw0KGgoAAAANSUhEUgAAAAsAAADZCAYAAAD2WsoCAAAABHNCSVQICAgIfAhkiAAAAIJJREFUaIHt0DEOwDAMw8AoyP+/3K4eU20l6JkwoEuSZ13eSXLbrrP3vo8/ff5jrMaM8Rr4gWrUMV4DP1CNOsZr4AeqMWP8QDXqGK+BH6hGHeM18APVqGO8Bn6gGjPGD1SjjvEa+IFq1DFeAz9QjTrGa+AHqlHHeA38QDVmjB+oRhu/A9QHXu8m7ykAAAAASUVORK5CYII=\" y=\"-10\"/>\n   <g id=\"matplotlib.axis_3\"/>\n   <g id=\"matplotlib.axis_4\">\n    <g id=\"ytick_6\">\n     <g id=\"line2d_11\">\n      <defs>\n       <path d=\"M 0 0 \nL 3.5 0 \n\" id=\"mec01e273dd\" style=\"stroke:#000000;stroke-width:0.8;\"/>\n      </defs>\n      <g>\n       <use style=\"stroke:#000000;stroke-width:0.8;\" x=\"278.147312\" xlink:href=\"#mec01e273dd\" y=\"228.276593\"/>\n      </g>\n     </g>\n     <g id=\"text_11\">\n      <!-- 0 -->\n      <g transform=\"translate(285.147312 232.021905)scale(0.1 -0.1)\">\n       <use xlink:href=\"#IPAexGothic-48\"/>\n      </g>\n     </g>\n    </g>\n    <g id=\"ytick_7\">\n     <g id=\"line2d_12\">\n      <g>\n       <use style=\"stroke:#000000;stroke-width:0.8;\" x=\"278.147312\" xlink:href=\"#mec01e273dd\" y=\"197.525933\"/>\n      </g>\n     </g>\n     <g id=\"text_12\">\n      <!-- 1 -->\n      <defs>\n       <path d=\"M 38.484375 0.984375 \nL 29.6875 0.984375 \nL 29.6875 64.109375 \nQ 21.4375 61.28125 12.3125 59.328125 \nL 10.6875 66.109375 \nQ 23.734375 69.390625 32.90625 73.921875 \nL 38.484375 73.921875 \nz\n\" id=\"IPAexGothic-49\"/>\n      </defs>\n      <g transform=\"translate(285.147312 201.271245)scale(0.1 -0.1)\">\n       <use xlink:href=\"#IPAexGothic-49\"/>\n      </g>\n     </g>\n    </g>\n    <g id=\"ytick_8\">\n     <g id=\"line2d_13\">\n      <g>\n       <use style=\"stroke:#000000;stroke-width:0.8;\" x=\"278.147312\" xlink:href=\"#mec01e273dd\" y=\"166.775273\"/>\n      </g>\n     </g>\n     <g id=\"text_13\">\n      <!-- 2 -->\n      <g transform=\"translate(285.147312 170.520586)scale(0.1 -0.1)\">\n       <use xlink:href=\"#IPAexGothic-50\"/>\n      </g>\n     </g>\n    </g>\n    <g id=\"ytick_9\">\n     <g id=\"line2d_14\">\n      <g>\n       <use style=\"stroke:#000000;stroke-width:0.8;\" x=\"278.147312\" xlink:href=\"#mec01e273dd\" y=\"136.024613\"/>\n      </g>\n     </g>\n     <g id=\"text_14\">\n      <!-- 3 -->\n      <defs>\n       <path d=\"M 37.203125 37.796875 \nQ 54.78125 34.625 54.78125 19.96875 \nQ 54.78125 11.1875 48.875 5.5625 \nQ 42.328125 -0.484375 30.375 -0.484375 \nQ 12.453125 -0.484375 4.5 13.765625 \nL 11.8125 17.671875 \nQ 17.328125 6.890625 30.28125 6.890625 \nQ 37.890625 6.890625 42.09375 10.796875 \nQ 46.09375 14.5 46.09375 20.171875 \nQ 46.09375 26.859375 40.09375 30.90625 \nQ 34.625 34.578125 25.6875 34.578125 \nL 21.296875 34.578125 \nL 21.296875 41.703125 \nL 25.875 41.703125 \nQ 34.859375 41.703125 39.59375 45.125 \nQ 44.671875 48.734375 44.671875 54.828125 \nQ 44.671875 61.46875 38.96875 64.65625 \nQ 35.296875 66.84375 30.171875 66.84375 \nQ 19.34375 66.84375 14.109375 55.90625 \nL 6.78125 59.421875 \nQ 14.015625 73.828125 30.28125 73.828125 \nQ 40.578125 73.828125 46.96875 68.65625 \nQ 53.375 63.578125 53.375 55.21875 \nQ 53.375 47.3125 47.171875 42.28125 \nQ 43.171875 39.0625 37.203125 38.1875 \nz\n\" id=\"IPAexGothic-51\"/>\n      </defs>\n      <g transform=\"translate(285.147312 139.769926)scale(0.1 -0.1)\">\n       <use xlink:href=\"#IPAexGothic-51\"/>\n      </g>\n     </g>\n    </g>\n    <g id=\"ytick_10\">\n     <g id=\"line2d_15\">\n      <g>\n       <use style=\"stroke:#000000;stroke-width:0.8;\" x=\"278.147312\" xlink:href=\"#mec01e273dd\" y=\"105.273954\"/>\n      </g>\n     </g>\n     <g id=\"text_15\">\n      <!-- 4 -->\n      <g transform=\"translate(285.147312 109.019266)scale(0.1 -0.1)\">\n       <use xlink:href=\"#IPAexGothic-52\"/>\n      </g>\n     </g>\n    </g>\n    <g id=\"ytick_11\">\n     <g id=\"line2d_16\">\n      <g>\n       <use style=\"stroke:#000000;stroke-width:0.8;\" x=\"278.147312\" xlink:href=\"#mec01e273dd\" y=\"74.523294\"/>\n      </g>\n     </g>\n     <g id=\"text_16\">\n      <!-- 5 -->\n      <defs>\n       <path d=\"M 18.40625 40.671875 \nQ 25.53125 46.296875 33.9375 46.296875 \nQ 44 46.296875 50.640625 39.5 \nQ 56.84375 33.015625 56.84375 23.390625 \nQ 56.84375 14.65625 51.515625 8.015625 \nQ 44.828125 -0.484375 31.734375 -0.484375 \nQ 14.984375 -0.484375 7.328125 12.25 \nL 14.65625 16.0625 \nQ 20.453125 6.78125 31.453125 6.78125 \nQ 38.53125 6.78125 43.265625 11.1875 \nQ 48.140625 15.828125 48.140625 23.484375 \nQ 48.140625 30.71875 43.84375 35.015625 \nQ 39.359375 39.5 32.125 39.5 \nQ 21.96875 39.5 16.75 31.6875 \nL 9.234375 32.671875 \nL 13.8125 72.40625 \nL 53.21875 72.40625 \nL 53.21875 64.890625 \nL 20.953125 64.890625 \nL 17.71875 40.671875 \nz\n\" id=\"IPAexGothic-53\"/>\n      </defs>\n      <g transform=\"translate(285.147312 78.268606)scale(0.1 -0.1)\">\n       <use xlink:href=\"#IPAexGothic-53\"/>\n      </g>\n     </g>\n    </g>\n    <g id=\"ytick_12\">\n     <g id=\"line2d_17\">\n      <g>\n       <use style=\"stroke:#000000;stroke-width:0.8;\" x=\"278.147312\" xlink:href=\"#mec01e273dd\" y=\"43.772634\"/>\n      </g>\n     </g>\n     <g id=\"text_17\">\n      <!-- 6 -->\n      <g transform=\"translate(285.147312 47.517947)scale(0.1 -0.1)\">\n       <use xlink:href=\"#IPAexGothic-54\"/>\n      </g>\n     </g>\n    </g>\n    <g id=\"ytick_13\">\n     <g id=\"line2d_18\">\n      <g>\n       <use style=\"stroke:#000000;stroke-width:0.8;\" x=\"278.147312\" xlink:href=\"#mec01e273dd\" y=\"13.021975\"/>\n      </g>\n     </g>\n     <g id=\"text_18\">\n      <!-- 7 -->\n      <defs>\n       <path d=\"M 56.203125 66.609375 \nQ 34.96875 32.90625 27.78125 0.984375 \nL 17.671875 0.984375 \nQ 24.703125 28.65625 46.09375 64.5 \nL 6.6875 64.5 \nL 6.6875 72.40625 \nL 56.203125 72.40625 \nz\n\" id=\"IPAexGothic-55\"/>\n      </defs>\n      <g transform=\"translate(285.147312 16.767287)scale(0.1 -0.1)\">\n       <use xlink:href=\"#IPAexGothic-55\"/>\n      </g>\n     </g>\n    </g>\n   </g>\n   <g id=\"patch_8\">\n    <path d=\"M 267.275313 228.276592 \nL 267.275313 227.427217 \nL 267.275313 11.685967 \nL 267.275313 10.836592 \nL 278.147312 10.836592 \nL 278.147312 11.685967 \nL 278.147312 227.427217 \nL 278.147312 228.276592 \nz\n\" style=\"fill:none;stroke:#000000;stroke-linejoin:miter;stroke-width:0.8;\"/>\n   </g>\n  </g>\n </g>\n <defs>\n  <clipPath id=\"pdde2fe4aef\">\n   <rect height=\"217.44\" width=\"217.44\" x=\"33.095313\" y=\"10.836592\"/>\n  </clipPath>\n  <clipPath id=\"pf21f079d10\">\n   <rect height=\"217.44\" width=\"10.872\" x=\"267.275313\" y=\"10.836592\"/>\n  </clipPath>\n </defs>\n</svg>\n",
      "image/png": "[encoded data removed]"
     },
     "metadata": {
      "needs_background": "light"
     }
    }
   ],
   "source": [
    "plt.imshow(z, cmap=plt.cm.gray); plt.colorbar()"
   ]
  },
  {
   "cell_type": "code",
   "execution_count": null,
   "metadata": {},
   "outputs": [],
   "source": []
  }
 ],
 "metadata": {
  "kernelspec": {
   "display_name": "Python 3.8.2 64-bit ('3.8.2': pyenv)",
   "language": "python",
   "name": "python38264bit382pyenv1b83e28bdf1d4a0cab3b1a48771bab22"
  },
  "language_info": {
   "codemirror_mode": {
    "name": "ipython",
    "version": 3
   },
   "file_extension": ".py",
   "mimetype": "text/x-python",
   "name": "python",
   "nbconvert_exporter": "python",
   "pygments_lexer": "ipython3",
   "version": "3.8.2-final"
  }
 },
 "nbformat": 4,
 "nbformat_minor": 4
}